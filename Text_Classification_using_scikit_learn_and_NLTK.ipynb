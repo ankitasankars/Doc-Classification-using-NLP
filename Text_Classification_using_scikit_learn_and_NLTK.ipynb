{
  "nbformat": 4,
  "nbformat_minor": 0,
  "metadata": {
    "colab": {
      "name": "Text Classification using scikit-learn and NLTK.ipynb",
      "provenance": []
    },
    "kernelspec": {
      "name": "python3",
      "display_name": "Python 3"
    },
    "language_info": {
      "name": "python"
    }
  },
  "cells": [
    {
      "cell_type": "code",
      "metadata": {
        "colab": {
          "base_uri": "https://localhost:8080/"
        },
        "id": "HwLiTcRm6KXa",
        "outputId": "281e9026-1d53-4cd4-df55-2d0d55f601ae"
      },
      "source": [
        "!pip install opendatasets"
      ],
      "execution_count": null,
      "outputs": [
        {
          "output_type": "stream",
          "name": "stdout",
          "text": [
            "Collecting opendatasets\n",
            "  Downloading opendatasets-0.1.20-py3-none-any.whl (14 kB)\n",
            "Requirement already satisfied: kaggle in /usr/local/lib/python3.7/dist-packages (from opendatasets) (1.5.12)\n",
            "Requirement already satisfied: tqdm in /usr/local/lib/python3.7/dist-packages (from opendatasets) (4.62.0)\n",
            "Requirement already satisfied: click in /usr/local/lib/python3.7/dist-packages (from opendatasets) (7.1.2)\n",
            "Requirement already satisfied: python-slugify in /usr/local/lib/python3.7/dist-packages (from kaggle->opendatasets) (5.0.2)\n",
            "Requirement already satisfied: certifi in /usr/local/lib/python3.7/dist-packages (from kaggle->opendatasets) (2021.5.30)\n",
            "Requirement already satisfied: urllib3 in /usr/local/lib/python3.7/dist-packages (from kaggle->opendatasets) (1.24.3)\n",
            "Requirement already satisfied: python-dateutil in /usr/local/lib/python3.7/dist-packages (from kaggle->opendatasets) (2.8.2)\n",
            "Requirement already satisfied: requests in /usr/local/lib/python3.7/dist-packages (from kaggle->opendatasets) (2.23.0)\n",
            "Requirement already satisfied: six>=1.10 in /usr/local/lib/python3.7/dist-packages (from kaggle->opendatasets) (1.15.0)\n",
            "Requirement already satisfied: text-unidecode>=1.3 in /usr/local/lib/python3.7/dist-packages (from python-slugify->kaggle->opendatasets) (1.3)\n",
            "Requirement already satisfied: idna<3,>=2.5 in /usr/local/lib/python3.7/dist-packages (from requests->kaggle->opendatasets) (2.10)\n",
            "Requirement already satisfied: chardet<4,>=3.0.2 in /usr/local/lib/python3.7/dist-packages (from requests->kaggle->opendatasets) (3.0.4)\n",
            "Installing collected packages: opendatasets\n",
            "Successfully installed opendatasets-0.1.20\n"
          ]
        }
      ]
    },
    {
      "cell_type": "code",
      "metadata": {
        "id": "v-pqkAA56MRT"
      },
      "source": [
        "import opendatasets as od"
      ],
      "execution_count": null,
      "outputs": []
    },
    {
      "cell_type": "code",
      "metadata": {
        "colab": {
          "base_uri": "https://localhost:8080/"
        },
        "id": "oNN97-qK6Pqn",
        "outputId": "35588434-198b-4153-c8de-c0410ac4b18b"
      },
      "source": [
        "od.download(\"https://www.kaggle.com/ankitakokes/extracted-text\")"
      ],
      "execution_count": null,
      "outputs": [
        {
          "output_type": "stream",
          "name": "stdout",
          "text": [
            "Please provide your Kaggle credentials to download this dataset. Learn more: http://bit.ly/kaggle-creds\n",
            "Your Kaggle username: ankitakokes\n",
            "Your Kaggle Key: ··········\n",
            "Downloading extracted-text.zip to ./extracted-text\n"
          ]
        },
        {
          "output_type": "stream",
          "name": "stderr",
          "text": [
            "100%|██████████| 157k/157k [00:00<00:00, 35.7MB/s]"
          ]
        },
        {
          "output_type": "stream",
          "name": "stdout",
          "text": [
            "\n"
          ]
        },
        {
          "output_type": "stream",
          "name": "stderr",
          "text": [
            "\n"
          ]
        }
      ]
    },
    {
      "cell_type": "code",
      "metadata": {
        "id": "RUptaeEEnBnV"
      },
      "source": [
        "import numpy as np\n",
        "from sklearn.datasets import load_files\n",
        "from sklearn.feature_extraction.text import CountVectorizer\n",
        "from sklearn.feature_extraction.text import TfidfTransformer\n",
        "from sklearn.naive_bayes import MultinomialNB\n",
        "from sklearn.pipeline import Pipeline\n",
        "from sklearn.linear_model import SGDClassifier\n",
        "from sklearn.model_selection import GridSearchCV"
      ],
      "execution_count": null,
      "outputs": []
    },
    {
      "cell_type": "code",
      "metadata": {
        "id": "8uxkVXDG6PnZ"
      },
      "source": [
        "freelancer_data = load_files(r\"/content/extracted-text/Extracted text\")\n",
        "X, y = freelancer_data.data, freelancer_data.target"
      ],
      "execution_count": null,
      "outputs": []
    },
    {
      "cell_type": "code",
      "metadata": {
        "id": "sedZJ3RM6Pkw",
        "colab": {
          "base_uri": "https://localhost:8080/"
        },
        "outputId": "00578c83-a737-4625-d831-fbf7af858ec2"
      },
      "source": [
        "# Feature Extraction\n",
        "count_vect = CountVectorizer()\n",
        "X_train_counts = count_vect.fit_transform(freelancer_data.data)\n",
        "X_train_counts.shape"
      ],
      "execution_count": null,
      "outputs": [
        {
          "output_type": "execute_result",
          "data": {
            "text/plain": [
              "(274, 8261)"
            ]
          },
          "metadata": {},
          "execution_count": 6
        }
      ]
    },
    {
      "cell_type": "code",
      "metadata": {
        "id": "T9hodY5p6Phx",
        "colab": {
          "base_uri": "https://localhost:8080/"
        },
        "outputId": "9c89d4ab-d0b2-4b13-cc98-7a4c91c4f6c2"
      },
      "source": [
        "# TF-IDF\n",
        "tfidf_transformer = TfidfTransformer()\n",
        "X_train_tfidf = tfidf_transformer.fit_transform(X_train_counts)\n",
        "X_train_tfidf.shape"
      ],
      "execution_count": null,
      "outputs": [
        {
          "output_type": "execute_result",
          "data": {
            "text/plain": [
              "(274, 8261)"
            ]
          },
          "metadata": {},
          "execution_count": 7
        }
      ]
    },
    {
      "cell_type": "code",
      "metadata": {
        "id": "cz8_e70e6PfB"
      },
      "source": [
        "# Training Naive Bayes Classifier\n",
        "clf = MultinomialNB().fit(X_train_tfidf, freelancer_data.target)"
      ],
      "execution_count": null,
      "outputs": []
    },
    {
      "cell_type": "code",
      "metadata": {
        "id": "8j600n0Bih2W"
      },
      "source": [
        "# Building the Pipeline\n",
        "text_clf = Pipeline([('vect', CountVectorizer()), \n",
        "                     ('tfidf', TfidfTransformer()), \n",
        "                     ('clf', MultinomialNB())])\n",
        "text_clf = text_clf.fit(freelancer_data.data, freelancer_data.target)"
      ],
      "execution_count": null,
      "outputs": []
    },
    {
      "cell_type": "code",
      "metadata": {
        "id": "NBz6mgCuihzf",
        "colab": {
          "base_uri": "https://localhost:8080/"
        },
        "outputId": "d26b43f5-93f6-4c44-da32-4087c40b8d7e"
      },
      "source": [
        "# NB Classifier Performance\n",
        "predicted = text_clf.predict(freelancer_data.data)\n",
        "np.mean(predicted == freelancer_data.target)"
      ],
      "execution_count": null,
      "outputs": [
        {
          "output_type": "execute_result",
          "data": {
            "text/plain": [
              "0.5437956204379562"
            ]
          },
          "metadata": {},
          "execution_count": 10
        }
      ]
    },
    {
      "cell_type": "code",
      "metadata": {
        "id": "6CHCQ7fpjvug"
      },
      "source": [
        "# Support Vector Machines(SVM) training\n",
        "text_clf_svm = Pipeline([('vect', CountVectorizer()), \n",
        "                         ('tfidf', TfidfTransformer()),\n",
        "                         ('clf-svm', SGDClassifier(loss='hinge', penalty='l2',alpha=1e-3, random_state=42))])"
      ],
      "execution_count": null,
      "outputs": []
    },
    {
      "cell_type": "code",
      "metadata": {
        "colab": {
          "base_uri": "https://localhost:8080/"
        },
        "id": "ZqLZSQtTihwv",
        "outputId": "a0919b37-e7c7-451f-da77-d466a1daf1f1"
      },
      "source": [
        "text_clf_svm = text_clf_svm.fit(freelancer_data.data, freelancer_data.target)\n",
        "predicted_svm = text_clf_svm.predict(freelancer_data.data)\n",
        "np.mean(predicted_svm == freelancer_data.target)"
      ],
      "execution_count": null,
      "outputs": [
        {
          "output_type": "execute_result",
          "data": {
            "text/plain": [
              "0.9890510948905109"
            ]
          },
          "metadata": {},
          "execution_count": 12
        }
      ]
    },
    {
      "cell_type": "code",
      "metadata": {
        "id": "7xZkMC6h6PcB"
      },
      "source": [
        "# Grid Search\n",
        "parameters = {'vect__ngram_range': [(1, 1), (1, 2)], 'tfidf__use_idf': (True, False), 'clf__alpha': (1e-2, 1e-3)}"
      ],
      "execution_count": null,
      "outputs": []
    },
    {
      "cell_type": "code",
      "metadata": {
        "id": "for-TDzo6PZY"
      },
      "source": [
        "gs_clf = GridSearchCV(text_clf, parameters, n_jobs=-1)\n",
        "gs_clf = gs_clf.fit(freelancer_data.data, freelancer_data.target)"
      ],
      "execution_count": null,
      "outputs": []
    },
    {
      "cell_type": "code",
      "metadata": {
        "colab": {
          "base_uri": "https://localhost:8080/"
        },
        "id": "a2b_6IC1kenV",
        "outputId": "90274511-f2a2-4faf-edbe-9ee4b8f1eab7"
      },
      "source": [
        "gs_clf.best_score_\n",
        "gs_clf.best_params_"
      ],
      "execution_count": null,
      "outputs": [
        {
          "output_type": "execute_result",
          "data": {
            "text/plain": [
              "{'clf__alpha': 0.001, 'tfidf__use_idf': True, 'vect__ngram_range': (1, 2)}"
            ]
          },
          "metadata": {},
          "execution_count": 15
        }
      ]
    },
    {
      "cell_type": "code",
      "metadata": {
        "id": "ltryGcHYkekp"
      },
      "source": [
        "# Grid Search for SVM\n",
        "parameters_svm = {'vect__ngram_range': [(1, 1), (1, 2)], 'tfidf__use_idf': (True, False),'clf-svm__alpha': (1e-2, 1e-3)}"
      ],
      "execution_count": null,
      "outputs": []
    },
    {
      "cell_type": "code",
      "metadata": {
        "id": "g4jkRt5fkeh1"
      },
      "source": [
        "gs_clf_svm = GridSearchCV(text_clf_svm, parameters_svm, n_jobs=-1)\n",
        "gs_clf_svm = gs_clf_svm.fit(freelancer_data.data, freelancer_data.target)"
      ],
      "execution_count": null,
      "outputs": []
    },
    {
      "cell_type": "code",
      "metadata": {
        "colab": {
          "base_uri": "https://localhost:8080/"
        },
        "id": "bkhEiDFxlHsH",
        "outputId": "faeaddb5-a39d-424e-de9c-14ecd9fa308e"
      },
      "source": [
        "gs_clf_svm.best_score_\n",
        "gs_clf_svm.best_params_"
      ],
      "execution_count": null,
      "outputs": [
        {
          "output_type": "execute_result",
          "data": {
            "text/plain": [
              "{'clf-svm__alpha': 0.001, 'tfidf__use_idf': True, 'vect__ngram_range': (1, 2)}"
            ]
          },
          "metadata": {},
          "execution_count": 18
        }
      ]
    },
    {
      "cell_type": "code",
      "metadata": {
        "id": "WUWVr6LElSwk"
      },
      "source": [
        "# Removing stop words\n",
        "text_clf = Pipeline([('vect', CountVectorizer(stop_words='english')),\n",
        "                     ('tfidf', TfidfTransformer()), \n",
        "                     ('clf', MultinomialNB())])"
      ],
      "execution_count": null,
      "outputs": []
    },
    {
      "cell_type": "code",
      "metadata": {
        "id": "4IP4yGaMl2R9",
        "colab": {
          "base_uri": "https://localhost:8080/"
        },
        "outputId": "6a80cbbe-2b29-4ea2-ab40-981453bf5e51"
      },
      "source": [
        "import nltk\n",
        "nltk.download('stopwords')"
      ],
      "execution_count": null,
      "outputs": [
        {
          "output_type": "stream",
          "name": "stdout",
          "text": [
            "[nltk_data] Downloading package stopwords to /root/nltk_data...\n",
            "[nltk_data]   Unzipping corpora/stopwords.zip.\n"
          ]
        },
        {
          "output_type": "execute_result",
          "data": {
            "text/plain": [
              "True"
            ]
          },
          "metadata": {},
          "execution_count": 20
        }
      ]
    },
    {
      "cell_type": "code",
      "metadata": {
        "id": "MPn7QNdllHm_"
      },
      "source": [
        "# Stemming Code\n",
        "from nltk.stem.snowball import SnowballStemmer\n",
        "stemmer = SnowballStemmer(\"english\", ignore_stopwords=True)\n",
        "\n",
        "class StemmedCountVectorizer(CountVectorizer):\n",
        "    def build_analyzer(self):\n",
        "        analyzer = super(StemmedCountVectorizer, self).build_analyzer()\n",
        "        return lambda doc: ([stemmer.stem(w) for w in analyzer(doc)])"
      ],
      "execution_count": null,
      "outputs": []
    },
    {
      "cell_type": "code",
      "metadata": {
        "id": "_esnBPjkl4T8"
      },
      "source": [
        "stemmed_count_vect = StemmedCountVectorizer(stop_words='english')\n",
        "text_mnb_stemmed = Pipeline([('vect', stemmed_count_vect), ('tfidf', TfidfTransformer()), \n",
        "                             ('mnb', MultinomialNB(fit_prior=False))])\n",
        "text_mnb_stemmed = text_mnb_stemmed.fit(freelancer_data.data, freelancer_data.target)\n",
        "predicted_mnb_stemmed = text_mnb_stemmed.predict(freelancer_data.data)"
      ],
      "execution_count": null,
      "outputs": []
    },
    {
      "cell_type": "code",
      "metadata": {
        "id": "H_edbvmy6PWg",
        "colab": {
          "base_uri": "https://localhost:8080/"
        },
        "outputId": "22d4e4be-37c2-47d3-fc45-fddac6c24c9c"
      },
      "source": [
        "np.mean(predicted_mnb_stemmed == freelancer_data.target)"
      ],
      "execution_count": null,
      "outputs": [
        {
          "output_type": "execute_result",
          "data": {
            "text/plain": [
              "0.9452554744525548"
            ]
          },
          "metadata": {},
          "execution_count": 23
        }
      ]
    },
    {
      "cell_type": "code",
      "metadata": {
        "id": "_sOba9c_xMkW"
      },
      "source": [
        "import numpy as np\n",
        "import pandas as pd\n",
        "import os\n",
        "import matplotlib\n",
        "import matplotlib.pyplot as plt\n",
        "from sklearn.feature_extraction.text import CountVectorizer\n",
        "from sklearn.model_selection import train_test_split\n",
        "from sklearn.naive_bayes import MultinomialNB\n",
        "from sklearn.metrics import accuracy_score\n",
        "from sklearn.metrics import confusion_matrix\n",
        "from sklearn.feature_extraction.text import ENGLISH_STOP_WORDS as esw\n",
        "from sklearn.feature_extraction.text import TfidfVectorizer\n",
        "from sklearn.cluster import KMeans\n",
        "import numpy as np\n",
        "import pandas as pd"
      ],
      "execution_count": null,
      "outputs": []
    },
    {
      "cell_type": "code",
      "metadata": {
        "id": "GarnbrWWxr2v"
      },
      "source": [
        "dir = r\"/content/extracted-text/Extracted text/Android\"\n",
        "os.chdir(dir)\n",
        "Android_docu = []\n",
        "\n",
        "for file in os.listdir(dir):\n",
        "    with open(file, \"r\", encoding=\"utf-8\", errors='ignore') as input:\n",
        "        for string in input:\n",
        "            Android_docu.append(string)"
      ],
      "execution_count": 71,
      "outputs": []
    },
    {
      "cell_type": "code",
      "metadata": {
        "id": "-jy6vyv6kXtr"
      },
      "source": [
        "vectorizer = TfidfVectorizer(stop_words='english')\n",
        "X = vectorizer.fit_transform(Android_docu)"
      ],
      "execution_count": 72,
      "outputs": []
    },
    {
      "cell_type": "code",
      "metadata": {
        "colab": {
          "base_uri": "https://localhost:8080/"
        },
        "id": "pSCXPcltkbBd",
        "outputId": "be77129f-869b-47f7-cffa-4e8bfa5ce94d"
      },
      "source": [
        "true_k = 2\n",
        "model = KMeans(n_clusters=true_k, init='k-means++', max_iter=100, n_init=1)\n",
        "model.fit(X)"
      ],
      "execution_count": 73,
      "outputs": [
        {
          "output_type": "execute_result",
          "data": {
            "text/plain": [
              "KMeans(algorithm='auto', copy_x=True, init='k-means++', max_iter=100,\n",
              "       n_clusters=2, n_init=1, n_jobs=None, precompute_distances='auto',\n",
              "       random_state=None, tol=0.0001, verbose=0)"
            ]
          },
          "metadata": {},
          "execution_count": 73
        }
      ]
    },
    {
      "cell_type": "code",
      "metadata": {
        "id": "VR92eWWrka0j"
      },
      "source": [
        "order_centroids = model.cluster_centers_.argsort()[:, ::-1]\n",
        "terms = vectorizer.get_feature_names()"
      ],
      "execution_count": 74,
      "outputs": []
    },
    {
      "cell_type": "code",
      "metadata": {
        "colab": {
          "base_uri": "https://localhost:8080/"
        },
        "id": "btyl00vOkopJ",
        "outputId": "e8175f58-e603-4bfa-e2b1-bcc675a4aa29"
      },
      "source": [
        "for i in range(true_k):\n",
        " print(\"Cluster %d:\" % i),\n",
        "for ind in order_centroids[i, :10]:\n",
        " print('%s' % terms[ind])"
      ],
      "execution_count": 75,
      "outputs": [
        {
          "output_type": "stream",
          "name": "stdout",
          "text": [
            "Cluster 0:\n",
            "Cluster 1:\n",
            "recyclewaala\n",
            "zs\n",
            "er\n",
            "eotpecia\n",
            "eon\n",
            "eo\n",
            "enabling\n",
            "en\n",
            "elec\n",
            "el\n"
          ]
        }
      ]
    },
    {
      "cell_type": "code",
      "metadata": {
        "colab": {
          "base_uri": "https://localhost:8080/"
        },
        "id": "FDkfk96ekn5b",
        "outputId": "2ff1597d-7d5c-4c4e-9f17-00193b94dc41"
      },
      "source": [
        "print(\"Prediction\")\n",
        "X = vectorizer.transform([\"recyclewaala\"])\n",
        "predicted = model.predict(X)\n",
        "print(predicted)"
      ],
      "execution_count": 77,
      "outputs": [
        {
          "output_type": "stream",
          "name": "stdout",
          "text": [
            "Prediction\n",
            "[1]\n"
          ]
        }
      ]
    },
    {
      "cell_type": "code",
      "metadata": {
        "id": "B0S_j44kyZqZ",
        "colab": {
          "base_uri": "https://localhost:8080/"
        },
        "outputId": "6d35d22d-2357-4a45-8eca-0d9231944f61"
      },
      "source": [
        "len(Android_docu)"
      ],
      "execution_count": null,
      "outputs": [
        {
          "output_type": "execute_result",
          "data": {
            "text/plain": [
              "522"
            ]
          },
          "metadata": {},
          "execution_count": 26
        }
      ]
    },
    {
      "cell_type": "code",
      "metadata": {
        "id": "oQn08EOgyZn4"
      },
      "source": [
        "dir = r\"/content/extracted-text/Extracted text/Content Writer\"\n",
        "os.chdir(dir)\n",
        "Content_docu = []\n",
        "\n",
        "for file in os.listdir(dir):\n",
        "    with open(file, \"r\", encoding=\"utf-8\", errors='ignore') as input:\n",
        "        for string in input:\n",
        "            Content_docu.append(string)"
      ],
      "execution_count": null,
      "outputs": []
    },
    {
      "cell_type": "code",
      "metadata": {
        "id": "6FQlwzbnm4zS"
      },
      "source": [
        "vectorizer = TfidfVectorizer(stop_words='english')\n",
        "X = vectorizer.fit_transform(Content_docu)"
      ],
      "execution_count": 79,
      "outputs": []
    },
    {
      "cell_type": "code",
      "metadata": {
        "colab": {
          "base_uri": "https://localhost:8080/"
        },
        "id": "CrVnqTL2m4tQ",
        "outputId": "d0ac9d78-3822-48d4-bd64-d46726aa112e"
      },
      "source": [
        "true_k = 2\n",
        "model = KMeans(n_clusters=true_k, init='k-means++', max_iter=100, n_init=1)\n",
        "model.fit(X)"
      ],
      "execution_count": 80,
      "outputs": [
        {
          "output_type": "execute_result",
          "data": {
            "text/plain": [
              "KMeans(algorithm='auto', copy_x=True, init='k-means++', max_iter=100,\n",
              "       n_clusters=2, n_init=1, n_jobs=None, precompute_distances='auto',\n",
              "       random_state=None, tol=0.0001, verbose=0)"
            ]
          },
          "metadata": {},
          "execution_count": 80
        }
      ]
    },
    {
      "cell_type": "code",
      "metadata": {
        "id": "uFRXz5YSm4oK"
      },
      "source": [
        "order_centroids = model.cluster_centers_.argsort()[:, ::-1]\n",
        "terms = vectorizer.get_feature_names()"
      ],
      "execution_count": 81,
      "outputs": []
    },
    {
      "cell_type": "code",
      "metadata": {
        "colab": {
          "base_uri": "https://localhost:8080/"
        },
        "id": "1Q6bKrzwm4j9",
        "outputId": "50739809-7e43-4212-83fc-328412ffee4c"
      },
      "source": [
        "for i in range(true_k):\n",
        " print(\"Cluster %d:\" % i),\n",
        "for ind in order_centroids[i, :10]:\n",
        " print('%s' % terms[ind])"
      ],
      "execution_count": 82,
      "outputs": [
        {
          "output_type": "stream",
          "name": "stdout",
          "text": [
            "Cluster 0:\n",
            "Cluster 1:\n",
            "seo\n",
            "strategy\n",
            "2021\n",
            "angular\n",
            "web\n",
            "way\n",
            "create\n",
            "lotion\n",
            "eee\n",
            "choose\n"
          ]
        }
      ]
    },
    {
      "cell_type": "code",
      "metadata": {
        "colab": {
          "base_uri": "https://localhost:8080/"
        },
        "id": "8JersGsrnXCj",
        "outputId": "af5f2f44-da87-4b42-9321-ee2f368244bd"
      },
      "source": [
        "print(\"Prediction\")\n",
        "X = vectorizer.transform([\"angular\"])\n",
        "predicted = model.predict(X)\n",
        "print(predicted)"
      ],
      "execution_count": 83,
      "outputs": [
        {
          "output_type": "stream",
          "name": "stdout",
          "text": [
            "Prediction\n",
            "[1]\n"
          ]
        }
      ]
    },
    {
      "cell_type": "code",
      "metadata": {
        "colab": {
          "base_uri": "https://localhost:8080/"
        },
        "id": "THnwGO1WyZlK",
        "outputId": "2a094b02-2aca-4e30-dee9-e2fce15e4500"
      },
      "source": [
        "len(Content_docu)"
      ],
      "execution_count": null,
      "outputs": [
        {
          "output_type": "execute_result",
          "data": {
            "text/plain": [
              "244"
            ]
          },
          "metadata": {},
          "execution_count": 28
        }
      ]
    },
    {
      "cell_type": "code",
      "metadata": {
        "id": "Kst3QMQSyZiO"
      },
      "source": [
        "dir = r\"/content/extracted-text/Extracted text/Data Entry\"\n",
        "os.chdir(dir)\n",
        "DataEntry_docu = []\n",
        "\n",
        "for file in os.listdir(dir):\n",
        "    with open(file, \"r\", encoding=\"utf-8\", errors='ignore') as input:\n",
        "        for string in input:\n",
        "            DataEntry_docu.append(string)"
      ],
      "execution_count": 91,
      "outputs": []
    },
    {
      "cell_type": "code",
      "metadata": {
        "id": "CicuGa_8ngXt"
      },
      "source": [
        "vectorizer = TfidfVectorizer(stop_words='english')\n",
        "X = vectorizer.fit_transform(DataEntry_docu)"
      ],
      "execution_count": 92,
      "outputs": []
    },
    {
      "cell_type": "code",
      "metadata": {
        "colab": {
          "base_uri": "https://localhost:8080/"
        },
        "id": "A6f1E0_1ngQK",
        "outputId": "dbaa82ea-f4b2-43c5-c8db-8d214afbd2f1"
      },
      "source": [
        "true_k = 2\n",
        "model = KMeans(n_clusters=true_k, init='k-means++', max_iter=100, n_init=1)\n",
        "model.fit(X)"
      ],
      "execution_count": 93,
      "outputs": [
        {
          "output_type": "execute_result",
          "data": {
            "text/plain": [
              "KMeans(algorithm='auto', copy_x=True, init='k-means++', max_iter=100,\n",
              "       n_clusters=2, n_init=1, n_jobs=None, precompute_distances='auto',\n",
              "       random_state=None, tol=0.0001, verbose=0)"
            ]
          },
          "metadata": {},
          "execution_count": 93
        }
      ]
    },
    {
      "cell_type": "code",
      "metadata": {
        "id": "yqUEW0mrngKT"
      },
      "source": [
        "order_centroids = model.cluster_centers_.argsort()[:, ::-1]\n",
        "terms = vectorizer.get_feature_names()"
      ],
      "execution_count": 94,
      "outputs": []
    },
    {
      "cell_type": "code",
      "metadata": {
        "colab": {
          "base_uri": "https://localhost:8080/"
        },
        "id": "8lm5mpozngEd",
        "outputId": "c4cc4902-590e-4f86-cb69-ae9488295163"
      },
      "source": [
        "for i in range(true_k):\n",
        " print(\"Cluster %d:\" % i),\n",
        "for ind in order_centroids[i, :10]:\n",
        " print('%s' % terms[ind])"
      ],
      "execution_count": 95,
      "outputs": [
        {
          "output_type": "stream",
          "name": "stdout",
          "text": [
            "Cluster 0:\n",
            "Cluster 1:\n",
            "http\n",
            "www\n",
            "com\n",
            "comfin\n",
            "delete\n",
            "phrm\n",
            "choice\n",
            "new\n",
            "add\n",
            "linkedin\n"
          ]
        }
      ]
    },
    {
      "cell_type": "code",
      "metadata": {
        "colab": {
          "base_uri": "https://localhost:8080/"
        },
        "id": "-OIl1X-dnf_y",
        "outputId": "f7e9b77f-1adc-4202-c0c2-8017fbb12402"
      },
      "source": [
        "print(\"Prediction\")\n",
        "X = vectorizer.transform([\"www\"])\n",
        "predicted = model.predict(X)\n",
        "print(predicted)"
      ],
      "execution_count": 96,
      "outputs": [
        {
          "output_type": "stream",
          "name": "stdout",
          "text": [
            "Prediction\n",
            "[1]\n"
          ]
        }
      ]
    },
    {
      "cell_type": "code",
      "metadata": {
        "id": "P_KQEKpLyZgD",
        "colab": {
          "base_uri": "https://localhost:8080/"
        },
        "outputId": "3987b90e-6da2-4194-9394-b58d4b217028"
      },
      "source": [
        "len(DataEntry_docu)"
      ],
      "execution_count": null,
      "outputs": [
        {
          "output_type": "execute_result",
          "data": {
            "text/plain": [
              "288"
            ]
          },
          "metadata": {},
          "execution_count": 30
        }
      ]
    },
    {
      "cell_type": "code",
      "metadata": {
        "id": "jU-bP-ZIyZc1"
      },
      "source": [
        "dir = r\"/content/extracted-text/Extracted text/Graphic Designer\"\n",
        "os.chdir(dir)\n",
        "Graphic_docu = []\n",
        "\n",
        "for file in os.listdir(dir):\n",
        "    with open(file, \"r\", encoding=\"utf-8\", errors='ignore') as input:\n",
        "        for string in input:\n",
        "            Graphic_docu.append(string)"
      ],
      "execution_count": 101,
      "outputs": []
    },
    {
      "cell_type": "code",
      "metadata": {
        "id": "8dkF5bDgoQeN"
      },
      "source": [
        "vectorizer = TfidfVectorizer(stop_words='english')\n",
        "X = vectorizer.fit_transform(Graphic_docu)"
      ],
      "execution_count": 107,
      "outputs": []
    },
    {
      "cell_type": "code",
      "metadata": {
        "colab": {
          "base_uri": "https://localhost:8080/"
        },
        "id": "_V_q9UfZoQXB",
        "outputId": "d9072ada-cfd2-40e6-fa7e-af05dbd0ddd4"
      },
      "source": [
        "true_k = 2\n",
        "model = KMeans(n_clusters=true_k, init='k-means++', max_iter=100, n_init=1)\n",
        "model.fit(X)"
      ],
      "execution_count": 108,
      "outputs": [
        {
          "output_type": "execute_result",
          "data": {
            "text/plain": [
              "KMeans(algorithm='auto', copy_x=True, init='k-means++', max_iter=100,\n",
              "       n_clusters=2, n_init=1, n_jobs=None, precompute_distances='auto',\n",
              "       random_state=None, tol=0.0001, verbose=0)"
            ]
          },
          "metadata": {},
          "execution_count": 108
        }
      ]
    },
    {
      "cell_type": "code",
      "metadata": {
        "colab": {
          "base_uri": "https://localhost:8080/"
        },
        "id": "CCkYY-ANoQNH",
        "outputId": "f0d481ad-495e-4609-f92d-649f2ee1cd6f"
      },
      "source": [
        "order_centroids = model.cluster_centers_.argsort()[:, ::-1]\n",
        "terms = vectorizer.get_feature_names()\n",
        "for i in range(true_k):\n",
        " print(\"Cluster %d:\" % i),\n",
        "for ind in order_centroids[i, :10]:\n",
        " print('%s' % terms[ind])"
      ],
      "execution_count": 109,
      "outputs": [
        {
          "output_type": "stream",
          "name": "stdout",
          "text": [
            "Cluster 0:\n",
            "Cluster 1:\n",
            "ae\n",
            "oe\n",
            "eee\n",
            "se\n",
            "ss\n",
            "es\n",
            "aa\n",
            "ay\n",
            "fe\n",
            "te\n"
          ]
        }
      ]
    },
    {
      "cell_type": "code",
      "metadata": {
        "colab": {
          "base_uri": "https://localhost:8080/"
        },
        "id": "Vtfkw4FZoP-l",
        "outputId": "1c39d491-b399-4011-e46a-93d70f584f20"
      },
      "source": [
        "print(\"Prediction\")\n",
        "X = vectorizer.transform([\"ae\"])\n",
        "predicted = model.predict(X)\n",
        "print(predicted)"
      ],
      "execution_count": 111,
      "outputs": [
        {
          "output_type": "stream",
          "name": "stdout",
          "text": [
            "Prediction\n",
            "[1]\n"
          ]
        }
      ]
    },
    {
      "cell_type": "code",
      "metadata": {
        "id": "TknW7yV6yZar",
        "colab": {
          "base_uri": "https://localhost:8080/"
        },
        "outputId": "107c8269-8a5d-4bff-b66f-eb4a1d55b346"
      },
      "source": [
        "len(Graphic_docu)"
      ],
      "execution_count": null,
      "outputs": [
        {
          "output_type": "execute_result",
          "data": {
            "text/plain": [
              "694"
            ]
          },
          "metadata": {},
          "execution_count": 32
        }
      ]
    },
    {
      "cell_type": "code",
      "metadata": {
        "id": "zQ9gAOH6yZXm"
      },
      "source": [
        "dir = r\"/content/extracted-text/Extracted text/Logo Designer\"\n",
        "os.chdir(dir)\n",
        "Logo_docu = []\n",
        "\n",
        "for file in os.listdir(dir):\n",
        "    with open(file, \"r\", encoding=\"utf-8\", errors='ignore') as input:\n",
        "        for string in input:\n",
        "            Logo_docu.append(string)"
      ],
      "execution_count": 125,
      "outputs": []
    },
    {
      "cell_type": "code",
      "metadata": {
        "id": "PQ5M1lRppHvn"
      },
      "source": [
        "vectorizer = TfidfVectorizer(stop_words='english')\n",
        "X = vectorizer.fit_transform(Logo_docu)"
      ],
      "execution_count": 126,
      "outputs": []
    },
    {
      "cell_type": "code",
      "metadata": {
        "colab": {
          "base_uri": "https://localhost:8080/"
        },
        "id": "A0rh9ZkupHpL",
        "outputId": "9c9fae13-ad43-4e47-93bc-6bb7294b9865"
      },
      "source": [
        "true_k = 2\n",
        "model = KMeans(n_clusters=true_k, init='k-means++', max_iter=100, n_init=1)\n",
        "model.fit(X)"
      ],
      "execution_count": 127,
      "outputs": [
        {
          "output_type": "execute_result",
          "data": {
            "text/plain": [
              "KMeans(algorithm='auto', copy_x=True, init='k-means++', max_iter=100,\n",
              "       n_clusters=2, n_init=1, n_jobs=None, precompute_distances='auto',\n",
              "       random_state=None, tol=0.0001, verbose=0)"
            ]
          },
          "metadata": {},
          "execution_count": 127
        }
      ]
    },
    {
      "cell_type": "code",
      "metadata": {
        "colab": {
          "base_uri": "https://localhost:8080/"
        },
        "id": "Ou7T0p7MpHiO",
        "outputId": "2d7b6173-3c56-4010-a73e-57c068efec52"
      },
      "source": [
        "order_centroids = model.cluster_centers_.argsort()[:, ::-1]\n",
        "terms = vectorizer.get_feature_names()\n",
        "for i in range(true_k):\n",
        " print(\"Cluster %d:\" % i),\n",
        "for ind in order_centroids[i, :10]:\n",
        " print('%s' % terms[ind])"
      ],
      "execution_count": 128,
      "outputs": [
        {
          "output_type": "stream",
          "name": "stdout",
          "text": [
            "Cluster 0:\n",
            "Cluster 1:\n",
            "ee\n",
            "oe\n",
            "se\n",
            "es\n",
            "eee\n",
            "os\n",
            "te\n",
            "oo\n",
            "ae\n",
            "ea\n"
          ]
        }
      ]
    },
    {
      "cell_type": "code",
      "metadata": {
        "colab": {
          "base_uri": "https://localhost:8080/"
        },
        "id": "xXM8x83upHbp",
        "outputId": "8bcf32b3-01c5-41b0-f01e-0214f14ba559"
      },
      "source": [
        "print(\"Prediction\")\n",
        "X = vectorizer.transform([\"os\"])\n",
        "predicted = model.predict(X)\n",
        "print(predicted)"
      ],
      "execution_count": 131,
      "outputs": [
        {
          "output_type": "stream",
          "name": "stdout",
          "text": [
            "Prediction\n",
            "[1]\n"
          ]
        }
      ]
    },
    {
      "cell_type": "code",
      "metadata": {
        "colab": {
          "base_uri": "https://localhost:8080/"
        },
        "id": "QAHLTmiOyZUu",
        "outputId": "01549e6e-fb05-4063-aca1-2c9de3b94a07"
      },
      "source": [
        "len(Logo_docu)"
      ],
      "execution_count": 132,
      "outputs": [
        {
          "output_type": "execute_result",
          "data": {
            "text/plain": [
              "1241"
            ]
          },
          "metadata": {},
          "execution_count": 132
        }
      ]
    },
    {
      "cell_type": "code",
      "metadata": {
        "id": "djrglauYxrz8"
      },
      "source": [
        "dir = r\"/content/extracted-text/Extracted text/Microsoft Excel\"\n",
        "os.chdir(dir)\n",
        "Excel_docu = []\n",
        "\n",
        "for file in os.listdir(dir):\n",
        "    with open(file, \"r\", encoding=\"utf-8\", errors='ignore') as input:\n",
        "        for string in input:\n",
        "            Excel_docu.append(string)"
      ],
      "execution_count": 159,
      "outputs": []
    },
    {
      "cell_type": "code",
      "metadata": {
        "id": "Z3u0YRt4qAbU"
      },
      "source": [
        "vectorizer = TfidfVectorizer(stop_words='english')\n",
        "len(Excel_docu)\n",
        "X = vectorizer.fit_transform(Excel_docu)"
      ],
      "execution_count": 160,
      "outputs": []
    },
    {
      "cell_type": "code",
      "metadata": {
        "colab": {
          "base_uri": "https://localhost:8080/"
        },
        "id": "hn3hlLOmq-xA",
        "outputId": "045c9f33-402e-47e2-ba20-04c77d9895e4"
      },
      "source": [
        "true_k = 2\n",
        "model = KMeans(n_clusters=true_k, init='k-means++', max_iter=100, n_init=1)\n",
        "model.fit(X)"
      ],
      "execution_count": 161,
      "outputs": [
        {
          "output_type": "execute_result",
          "data": {
            "text/plain": [
              "KMeans(algorithm='auto', copy_x=True, init='k-means++', max_iter=100,\n",
              "       n_clusters=2, n_init=1, n_jobs=None, precompute_distances='auto',\n",
              "       random_state=None, tol=0.0001, verbose=0)"
            ]
          },
          "metadata": {},
          "execution_count": 161
        }
      ]
    },
    {
      "cell_type": "code",
      "metadata": {
        "colab": {
          "base_uri": "https://localhost:8080/"
        },
        "id": "IWr6f4pOqAEr",
        "outputId": "d70a17b7-717e-48ee-ab1e-8dd93d6fda89"
      },
      "source": [
        "order_centroids = model.cluster_centers_.argsort()[:, ::-1]\n",
        "terms = vectorizer.get_feature_names()\n",
        "for i in range(true_k):\n",
        " print(\"Cluster %d:\" % i),\n",
        "for ind in order_centroids[i, :10]:\n",
        " print('%s' % terms[ind])"
      ],
      "execution_count": 162,
      "outputs": [
        {
          "output_type": "stream",
          "name": "stdout",
          "text": [
            "Cluster 0:\n",
            "Cluster 1:\n",
            "rance\n",
            "modelling\n",
            "tool\n",
            "data\n",
            "copy\n",
            "clivll\n",
            "werksneets\n",
            "sen\n",
            "cél\n",
            "value\n"
          ]
        }
      ]
    },
    {
      "cell_type": "code",
      "metadata": {
        "colab": {
          "base_uri": "https://localhost:8080/"
        },
        "id": "1nIQ3YRirNq5",
        "outputId": "81172b8c-56e0-4d02-d4e9-d1dba57b33b1"
      },
      "source": [
        "print(\"Prediction\")\n",
        "X = vectorizer.transform([\"modelling\"])\n",
        "predicted = model.predict(X)\n",
        "print(predicted)"
      ],
      "execution_count": 163,
      "outputs": [
        {
          "output_type": "stream",
          "name": "stdout",
          "text": [
            "Prediction\n",
            "[1]\n"
          ]
        }
      ]
    },
    {
      "cell_type": "code",
      "metadata": {
        "colab": {
          "base_uri": "https://localhost:8080/"
        },
        "id": "6GQni6QUyskf",
        "outputId": "773e984b-4a71-4550-b60b-4f5e6b3eef73"
      },
      "source": [
        "len(Excel_docu)"
      ],
      "execution_count": 164,
      "outputs": [
        {
          "output_type": "execute_result",
          "data": {
            "text/plain": [
              "749"
            ]
          },
          "metadata": {},
          "execution_count": 164
        }
      ]
    },
    {
      "cell_type": "code",
      "metadata": {
        "id": "ynKCWmEdyshl"
      },
      "source": [
        "dir = r\"/content/extracted-text/Extracted text/PHP\"\n",
        "os.chdir(dir)\n",
        "PHP_docu = []\n",
        "\n",
        "for file in os.listdir(dir):\n",
        "    with open(file, \"r\", encoding=\"utf-8\", errors='ignore') as input:\n",
        "        for string in input:\n",
        "            PHP_docu.append(string)"
      ],
      "execution_count": 176,
      "outputs": []
    },
    {
      "cell_type": "code",
      "metadata": {
        "id": "_7f9568Jq3n4"
      },
      "source": [
        "vectorizer = TfidfVectorizer(stop_words='english')\n",
        "X = vectorizer.fit_transform(PHP_docu)"
      ],
      "execution_count": 177,
      "outputs": []
    },
    {
      "cell_type": "code",
      "metadata": {
        "colab": {
          "base_uri": "https://localhost:8080/"
        },
        "id": "EMxqttlFq3hS",
        "outputId": "bfe78c12-7bd5-47af-aca9-bd0625471a83"
      },
      "source": [
        "true_k = 2\n",
        "model = KMeans(n_clusters=true_k, init='k-means++', max_iter=100, n_init=1)\n",
        "model.fit(X)"
      ],
      "execution_count": 178,
      "outputs": [
        {
          "output_type": "execute_result",
          "data": {
            "text/plain": [
              "KMeans(algorithm='auto', copy_x=True, init='k-means++', max_iter=100,\n",
              "       n_clusters=2, n_init=1, n_jobs=None, precompute_distances='auto',\n",
              "       random_state=None, tol=0.0001, verbose=0)"
            ]
          },
          "metadata": {},
          "execution_count": 178
        }
      ]
    },
    {
      "cell_type": "code",
      "metadata": {
        "colab": {
          "base_uri": "https://localhost:8080/"
        },
        "id": "ywGq6o6Jq3ah",
        "outputId": "6b367ded-39db-4961-8280-fd34ba01f4b3"
      },
      "source": [
        "order_centroids = model.cluster_centers_.argsort()[:, ::-1]\n",
        "terms = vectorizer.get_feature_names()\n",
        "for i in range(true_k):\n",
        " print(\"Cluster %d:\" % i),\n",
        "for ind in order_centroids[i, :10]:\n",
        " print('%s' % terms[ind])"
      ],
      "execution_count": 179,
      "outputs": [
        {
          "output_type": "stream",
          "name": "stdout",
          "text": [
            "Cluster 0:\n",
            "Cluster 1:\n",
            "doe\n",
            "mo\n",
            "se\n",
            "z18a4\n",
            "eel\n",
            "ej\n",
            "eighteenrestaurant\n",
            "ei\n",
            "eeu\n",
            "ees\n"
          ]
        }
      ]
    },
    {
      "cell_type": "code",
      "metadata": {
        "colab": {
          "base_uri": "https://localhost:8080/"
        },
        "id": "JMy49PuPrKpT",
        "outputId": "d27603d7-e826-4a65-b8a1-daf65deaf54c"
      },
      "source": [
        "print(\"Prediction\")\n",
        "X = vectorizer.transform([\"doe\"])\n",
        "predicted = model.predict(X)\n",
        "print(predicted)"
      ],
      "execution_count": 180,
      "outputs": [
        {
          "output_type": "stream",
          "name": "stdout",
          "text": [
            "Prediction\n",
            "[1]\n"
          ]
        }
      ]
    },
    {
      "cell_type": "code",
      "metadata": {
        "colab": {
          "base_uri": "https://localhost:8080/"
        },
        "id": "AjEV3j3MywGF",
        "outputId": "8061faa6-34e0-42af-bb75-6c998e4ca757"
      },
      "source": [
        "len(PHP_docu)"
      ],
      "execution_count": null,
      "outputs": [
        {
          "output_type": "execute_result",
          "data": {
            "text/plain": [
              "411"
            ]
          },
          "metadata": {},
          "execution_count": 38
        }
      ]
    },
    {
      "cell_type": "code",
      "metadata": {
        "id": "WaxHB-axyse1"
      },
      "source": [
        "dir = r\"/content/extracted-text/Extracted text/SEO\"\n",
        "os.chdir(dir)\n",
        "SEO_docu = []\n",
        "\n",
        "for file in os.listdir(dir):\n",
        "    with open(file, \"r\", encoding=\"utf-8\", errors='ignore') as input:\n",
        "        for string in input:\n",
        "            SEO_docu.append(string)"
      ],
      "execution_count": null,
      "outputs": []
    },
    {
      "cell_type": "code",
      "metadata": {
        "colab": {
          "base_uri": "https://localhost:8080/"
        },
        "id": "qQ19lkQ_yzBj",
        "outputId": "11446d2a-04c2-4ec1-a983-521faa157363"
      },
      "source": [
        "len(SEO_docu)"
      ],
      "execution_count": null,
      "outputs": [
        {
          "output_type": "execute_result",
          "data": {
            "text/plain": [
              "920"
            ]
          },
          "metadata": {},
          "execution_count": 40
        }
      ]
    },
    {
      "cell_type": "code",
      "metadata": {
        "id": "hro7o0m7yy-1"
      },
      "source": [
        "dir = r\"/content/extracted-text/Extracted text/WordPress\"\n",
        "os.chdir(dir)\n",
        "WordPress_docu = []\n",
        "\n",
        "for file in os.listdir(dir):\n",
        "    with open(file, \"r\", encoding=\"utf-8\", errors='ignore') as input:\n",
        "        for string in input:\n",
        "            WordPress_docu.append(string)    "
      ],
      "execution_count": null,
      "outputs": []
    },
    {
      "cell_type": "code",
      "metadata": {
        "colab": {
          "base_uri": "https://localhost:8080/"
        },
        "id": "ZKuOVhVAyy8l",
        "outputId": "7b467ffb-797a-4ddd-af33-f294553748b5"
      },
      "source": [
        "len(WordPress_docu)"
      ],
      "execution_count": null,
      "outputs": [
        {
          "output_type": "execute_result",
          "data": {
            "text/plain": [
              "826"
            ]
          },
          "metadata": {},
          "execution_count": 42
        }
      ]
    },
    {
      "cell_type": "code",
      "metadata": {
        "id": "M8Ui9O0UxrxO"
      },
      "source": [
        "dir = r\"/content/extracted-text/Extracted text/ios Dev\"\n",
        "os.chdir(dir)\n",
        "ios_docu = []\n",
        "\n",
        "for file in os.listdir(dir):\n",
        "    with open(file, \"r\", encoding=\"utf-8\", errors='ignore') as input:\n",
        "        for string in input:\n",
        "            ios_docu.append(string)"
      ],
      "execution_count": null,
      "outputs": []
    },
    {
      "cell_type": "code",
      "metadata": {
        "colab": {
          "base_uri": "https://localhost:8080/"
        },
        "id": "p50j3KF7y5PV",
        "outputId": "30dadd76-c69e-4a03-d43d-21b03b3efd3a"
      },
      "source": [
        "len(ios_docu)"
      ],
      "execution_count": null,
      "outputs": [
        {
          "output_type": "execute_result",
          "data": {
            "text/plain": [
              "336"
            ]
          },
          "metadata": {},
          "execution_count": 44
        }
      ]
    },
    {
      "cell_type": "code",
      "metadata": {
        "id": "1hKvCqZey5M6"
      },
      "source": [
        "corpus = Android_docu + Content_docu + DataEntry_docu + Graphic_docu + Logo_docu + Excel_docu + PHP_docu + SEO_docu + WordPress_docu + ios_docu\n",
        "label = 522* [\"AD\"] + 244 * [\"CW\"] + 288 * [\"DE\"] + 694 * [\"GD\"] + 1241 * [\"LD\"] + 749 * [\"ME\"] + 411 * [\"PHP\"] + 920 * [\"SEO\"] + 826 * [\"WP\"] + 336 * [\"ios\"] "
      ],
      "execution_count": null,
      "outputs": []
    },
    {
      "cell_type": "code",
      "metadata": {
        "id": "j7UZsjzezpyo"
      },
      "source": [
        "corpus_train, corpus_test, label_train, label_test = train_test_split(corpus, label, test_size=0.2)"
      ],
      "execution_count": null,
      "outputs": []
    },
    {
      "cell_type": "code",
      "metadata": {
        "id": "xSgRQbSazpvn"
      },
      "source": [
        "vectorizer = CountVectorizer(tokenizer=str.split, stop_words=esw)\n",
        "corpus_train_mat = vectorizer.fit_transform(corpus_train)\n",
        "corpus_test_mat = vectorizer.transform(corpus_test)"
      ],
      "execution_count": null,
      "outputs": []
    },
    {
      "cell_type": "code",
      "metadata": {
        "id": "s9TjH7Z5zpst"
      },
      "source": [
        "def fit_NBclassifier(trainset, trainlabel):\n",
        "    nbclassifier = MultinomialNB()\n",
        "    nbclassifier.fit(trainset, trainlabel)\n",
        "    \n",
        "    return nbclassifier\n",
        "NB_clf = fit_NBclassifier(corpus_train_mat, label_train)\n",
        "label_predicted = NB_clf.predict(corpus_test_mat)"
      ],
      "execution_count": null,
      "outputs": []
    },
    {
      "cell_type": "code",
      "metadata": {
        "colab": {
          "base_uri": "https://localhost:8080/",
          "height": 295
        },
        "id": "WeRMHNzIy5Hg",
        "outputId": "c21df860-12ef-479a-c5eb-3fe1c065059f"
      },
      "source": [
        "# Visualizing a heat map of confusion matrix to evaluate the quality of the output of the classifier\n",
        "conf_mat = confusion_matrix(label_test, label_predicted)\n",
        "labels = sorted(set(label_predicted))\n",
        "\n",
        "plt.figure()\n",
        "plt.title(\"Heat Map Confusion Matrix\")\n",
        "plt.imshow(conf_mat, interpolation=\"nearest\", cmap=plt.cm.Reds)\n",
        "plt.xticks(np.arange(len(labels)), labels)\n",
        "plt.yticks(np.arange(len(labels)), labels)\n",
        "plt.xlabel(\"Predicted Label\")\n",
        "plt.ylabel(\"True Label\")\n",
        "plt.colorbar()\n",
        "plt.show()"
      ],
      "execution_count": null,
      "outputs": [
        {
          "output_type": "display_data",
          "data": {
            "image/png": "[encoded data removed]",
            "text/plain": [
              "<Figure size 432x288 with 2 Axes>"
            ]
          },
          "metadata": {
            "needs_background": "light"
          }
        }
      ]
    },
    {
      "cell_type": "code",
      "metadata": {
        "id": "JXEkwhVrjgYY"
      },
      "source": [
        ""
      ],
      "execution_count": null,
      "outputs": []
    },
    {
      "cell_type": "code",
      "metadata": {
        "id": "Wqaq6ptvjgJc"
      },
      "source": [
        ""
      ],
      "execution_count": null,
      "outputs": []
    },
    {
      "cell_type": "code",
      "metadata": {
        "id": "aeYTpG0NjgGG"
      },
      "source": [
        ""
      ],
      "execution_count": null,
      "outputs": []
    },
    {
      "cell_type": "code",
      "metadata": {
        "id": "tnotSis4jgCz"
      },
      "source": [
        ""
      ],
      "execution_count": null,
      "outputs": []
    }
  ]
}