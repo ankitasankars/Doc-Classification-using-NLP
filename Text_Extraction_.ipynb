{
  "nbformat": 4,
  "nbformat_minor": 0,
  "metadata": {
    "colab": {
      "name": "Text_Extraction_.ipynb",
      "provenance": [],
      "collapsed_sections": []
    },
    "kernelspec": {
      "name": "python3",
      "display_name": "Python 3"
    },
    "language_info": {
      "name": "python"
    }
  },
  "cells": [
    {
      "cell_type": "code",
      "metadata": {
        "colab": {
          "base_uri": "https://localhost:8080/"
        },
        "id": "T95gyvFdXqfo",
        "outputId": "77be8337-0897-4a35-8f8b-24cd57cad65c"
      },
      "source": [
        "!pip install opendatasets\n",
        "import opendatasets as od"
      ],
      "execution_count": null,
      "outputs": [
        {
          "output_type": "stream",
          "name": "stdout",
          "text": [
            "Collecting opendatasets\n",
            "  Downloading opendatasets-0.1.20-py3-none-any.whl (14 kB)\n",
            "Requirement already satisfied: click in /usr/local/lib/python3.7/dist-packages (from opendatasets) (7.1.2)\n",
            "Requirement already satisfied: kaggle in /usr/local/lib/python3.7/dist-packages (from opendatasets) (1.5.12)\n",
            "Requirement already satisfied: tqdm in /usr/local/lib/python3.7/dist-packages (from opendatasets) (4.62.0)\n",
            "Requirement already satisfied: python-slugify in /usr/local/lib/python3.7/dist-packages (from kaggle->opendatasets) (5.0.2)\n",
            "Requirement already satisfied: requests in /usr/local/lib/python3.7/dist-packages (from kaggle->opendatasets) (2.23.0)\n",
            "Requirement already satisfied: certifi in /usr/local/lib/python3.7/dist-packages (from kaggle->opendatasets) (2021.5.30)\n",
            "Requirement already satisfied: python-dateutil in /usr/local/lib/python3.7/dist-packages (from kaggle->opendatasets) (2.8.2)\n",
            "Requirement already satisfied: six>=1.10 in /usr/local/lib/python3.7/dist-packages (from kaggle->opendatasets) (1.15.0)\n",
            "Requirement already satisfied: urllib3 in /usr/local/lib/python3.7/dist-packages (from kaggle->opendatasets) (1.24.3)\n",
            "Requirement already satisfied: text-unidecode>=1.3 in /usr/local/lib/python3.7/dist-packages (from python-slugify->kaggle->opendatasets) (1.3)\n",
            "Requirement already satisfied: chardet<4,>=3.0.2 in /usr/local/lib/python3.7/dist-packages (from requests->kaggle->opendatasets) (3.0.4)\n",
            "Requirement already satisfied: idna<3,>=2.5 in /usr/local/lib/python3.7/dist-packages (from requests->kaggle->opendatasets) (2.10)\n",
            "Installing collected packages: opendatasets\n",
            "Successfully installed opendatasets-0.1.20\n"
          ]
        }
      ]
    },
    {
      "cell_type": "code",
      "metadata": {
        "colab": {
          "base_uri": "https://localhost:8080/"
        },
        "id": "tIyVVAogYkK6",
        "outputId": "07ae60a9-2625-43dd-94e6-68ef0989d7c1"
      },
      "source": [
        "od.download(\"https://www.kaggle.com/ankitakokes/freelancers-documents\")"
      ],
      "execution_count": null,
      "outputs": [
        {
          "output_type": "stream",
          "name": "stdout",
          "text": [
            "Please provide your Kaggle credentials to download this dataset. Learn more: http://bit.ly/kaggle-creds\n",
            "Your Kaggle username: ankitakokes\n",
            "Your Kaggle Key: ··········\n",
            "Downloading freelancers-documents.zip to ./freelancers-documents\n"
          ]
        },
        {
          "output_type": "stream",
          "name": "stderr",
          "text": [
            "100%|██████████| 112M/112M [00:02<00:00, 45.4MB/s]\n"
          ]
        },
        {
          "output_type": "stream",
          "name": "stdout",
          "text": [
            "\n"
          ]
        }
      ]
    },
    {
      "cell_type": "code",
      "metadata": {
        "colab": {
          "base_uri": "https://localhost:8080/"
        },
        "id": "jahpXE3qYkH-",
        "outputId": "9068c98a-8fe4-4cd2-93d0-4eeeec6395b2"
      },
      "source": [
        "! apt install tesseract-ocr\n",
        "! apt install libtesseract-dev\n",
        "! pip install Pillow\n",
        "! pip install pytesseract\n",
        "import pytesseract"
      ],
      "execution_count": null,
      "outputs": [
        {
          "output_type": "stream",
          "name": "stdout",
          "text": [
            "Reading package lists... Done\n",
            "Building dependency tree       \n",
            "Reading state information... Done\n",
            "The following additional packages will be installed:\n",
            "  tesseract-ocr-eng tesseract-ocr-osd\n",
            "The following NEW packages will be installed:\n",
            "  tesseract-ocr tesseract-ocr-eng tesseract-ocr-osd\n",
            "0 upgraded, 3 newly installed, 0 to remove and 40 not upgraded.\n",
            "Need to get 4,795 kB of archives.\n",
            "After this operation, 15.8 MB of additional disk space will be used.\n",
            "Get:1 http://archive.ubuntu.com/ubuntu bionic/universe amd64 tesseract-ocr-eng all 4.00~git24-0e00fe6-1.2 [1,588 kB]\n",
            "Get:2 http://archive.ubuntu.com/ubuntu bionic/universe amd64 tesseract-ocr-osd all 4.00~git24-0e00fe6-1.2 [2,989 kB]\n",
            "Get:3 http://archive.ubuntu.com/ubuntu bionic/universe amd64 tesseract-ocr amd64 4.00~git2288-10f4998a-2 [218 kB]\n",
            "Fetched 4,795 kB in 2s (2,817 kB/s)\n",
            "Selecting previously unselected package tesseract-ocr-eng.\n",
            "(Reading database ... 148492 files and directories currently installed.)\n",
            "Preparing to unpack .../tesseract-ocr-eng_4.00~git24-0e00fe6-1.2_all.deb ...\n",
            "Unpacking tesseract-ocr-eng (4.00~git24-0e00fe6-1.2) ...\n",
            "Selecting previously unselected package tesseract-ocr-osd.\n",
            "Preparing to unpack .../tesseract-ocr-osd_4.00~git24-0e00fe6-1.2_all.deb ...\n",
            "Unpacking tesseract-ocr-osd (4.00~git24-0e00fe6-1.2) ...\n",
            "Selecting previously unselected package tesseract-ocr.\n",
            "Preparing to unpack .../tesseract-ocr_4.00~git2288-10f4998a-2_amd64.deb ...\n",
            "Unpacking tesseract-ocr (4.00~git2288-10f4998a-2) ...\n",
            "Setting up tesseract-ocr-osd (4.00~git24-0e00fe6-1.2) ...\n",
            "Setting up tesseract-ocr-eng (4.00~git24-0e00fe6-1.2) ...\n",
            "Setting up tesseract-ocr (4.00~git2288-10f4998a-2) ...\n",
            "Processing triggers for man-db (2.8.3-2ubuntu0.1) ...\n",
            "Reading package lists... Done\n",
            "Building dependency tree       \n",
            "Reading state information... Done\n",
            "The following additional packages will be installed:\n",
            "  libleptonica-dev\n",
            "The following NEW packages will be installed:\n",
            "  libleptonica-dev libtesseract-dev\n",
            "0 upgraded, 2 newly installed, 0 to remove and 40 not upgraded.\n",
            "Need to get 2,755 kB of archives.\n",
            "After this operation, 13.8 MB of additional disk space will be used.\n",
            "Get:1 http://archive.ubuntu.com/ubuntu bionic/universe amd64 libleptonica-dev amd64 1.75.3-3 [1,308 kB]\n",
            "Get:2 http://archive.ubuntu.com/ubuntu bionic/universe amd64 libtesseract-dev amd64 4.00~git2288-10f4998a-2 [1,447 kB]\n",
            "Fetched 2,755 kB in 2s (1,803 kB/s)\n",
            "Selecting previously unselected package libleptonica-dev.\n",
            "(Reading database ... 148539 files and directories currently installed.)\n",
            "Preparing to unpack .../libleptonica-dev_1.75.3-3_amd64.deb ...\n",
            "Unpacking libleptonica-dev (1.75.3-3) ...\n",
            "Selecting previously unselected package libtesseract-dev.\n",
            "Preparing to unpack .../libtesseract-dev_4.00~git2288-10f4998a-2_amd64.deb ...\n",
            "Unpacking libtesseract-dev (4.00~git2288-10f4998a-2) ...\n",
            "Setting up libleptonica-dev (1.75.3-3) ...\n",
            "Setting up libtesseract-dev (4.00~git2288-10f4998a-2) ...\n",
            "Requirement already satisfied: Pillow in /usr/local/lib/python3.7/dist-packages (7.1.2)\n",
            "Collecting pytesseract\n",
            "  Downloading pytesseract-0.3.8.tar.gz (14 kB)\n",
            "Requirement already satisfied: Pillow in /usr/local/lib/python3.7/dist-packages (from pytesseract) (7.1.2)\n",
            "Building wheels for collected packages: pytesseract\n",
            "  Building wheel for pytesseract (setup.py) ... \u001b[?25l\u001b[?25hdone\n",
            "  Created wheel for pytesseract: filename=pytesseract-0.3.8-py2.py3-none-any.whl size=14072 sha256=b23ff7652202135c54f2c674f1538462c82513753feecb585c74a3a05c12f368\n",
            "  Stored in directory: /root/.cache/pip/wheels/a4/89/b9/3f11250225d0f90e5454fcc30fd1b7208db226850715aa9ace\n",
            "Successfully built pytesseract\n",
            "Installing collected packages: pytesseract\n",
            "Successfully installed pytesseract-0.3.8\n"
          ]
        }
      ]
    },
    {
      "cell_type": "code",
      "metadata": {
        "id": "-tYVevEkYkE6"
      },
      "source": [
        "import matplotlib.pyplot as plt\n",
        "import numpy as np\n",
        "import cv2\n",
        "import os\n",
        "import random\n",
        "import seaborn as sns\n",
        "import shutil\n",
        "try:\n",
        "    from PIL import Image\n",
        "except ImportError:\n",
        "    import Image"
      ],
      "execution_count": null,
      "outputs": []
    },
    {
      "cell_type": "code",
      "metadata": {
        "colab": {
          "base_uri": "https://localhost:8080/"
        },
        "id": "_vUqQlPAY806",
        "outputId": "eaa74a2c-123d-42eb-e5b3-ec937e8cedd3"
      },
      "source": [
        "%cd /content/freelancers-documents/Freelancers"
      ],
      "execution_count": null,
      "outputs": [
        {
          "output_type": "stream",
          "name": "stdout",
          "text": [
            "/content/freelancers-documents/Freelancers\n"
          ]
        }
      ]
    },
    {
      "cell_type": "code",
      "metadata": {
        "id": "uAmeRnMBY8rR"
      },
      "source": [
        "def show_rand(x,dir_='Freelancers'):\n",
        "    if len(x)==30:\n",
        "        f,ax=plt.subplots(6,5,figsize=(40,40))\n",
        "        for i,file_name in enumerate(x):\n",
        "            img=cv2.imread( os.path.join(dir_,file_name) )\n",
        "            img=cv2.resize(img,(100,100))\n",
        "            img=cv2.cvtColor(img,cv2.COLOR_BGR2RGB)\n",
        "            \n",
        "            ax[i//5][i%5].imshow(img, aspect='auto')\n",
        "            ax[i//5][i%5].set_xticks([]); ax[i//5][i%5].set_yticks([])\n",
        "        plt.show()"
      ],
      "execution_count": null,
      "outputs": []
    },
    {
      "cell_type": "code",
      "metadata": {
        "colab": {
          "base_uri": "https://localhost:8080/"
        },
        "id": "H2BRlXbUYkCS",
        "outputId": "ce4b2369-f647-4786-e6b8-72dc2a1b9f28"
      },
      "source": [
        "!pip install pdf2image\n",
        "!apt-get install poppler-utils"
      ],
      "execution_count": null,
      "outputs": [
        {
          "output_type": "stream",
          "name": "stdout",
          "text": [
            "Collecting pdf2image\n",
            "  Downloading pdf2image-1.16.0-py3-none-any.whl (10 kB)\n",
            "Requirement already satisfied: pillow in /usr/local/lib/python3.7/dist-packages (from pdf2image) (7.1.2)\n",
            "Installing collected packages: pdf2image\n",
            "Successfully installed pdf2image-1.16.0\n",
            "Reading package lists... Done\n",
            "Building dependency tree       \n",
            "Reading state information... Done\n",
            "The following NEW packages will be installed:\n",
            "  poppler-utils\n",
            "0 upgraded, 1 newly installed, 0 to remove and 40 not upgraded.\n",
            "Need to get 154 kB of archives.\n",
            "After this operation, 613 kB of additional disk space will be used.\n",
            "Get:1 http://archive.ubuntu.com/ubuntu bionic-updates/main amd64 poppler-utils amd64 0.62.0-2ubuntu2.12 [154 kB]\n",
            "Fetched 154 kB in 1s (205 kB/s)\n",
            "Selecting previously unselected package poppler-utils.\n",
            "(Reading database ... 148650 files and directories currently installed.)\n",
            "Preparing to unpack .../poppler-utils_0.62.0-2ubuntu2.12_amd64.deb ...\n",
            "Unpacking poppler-utils (0.62.0-2ubuntu2.12) ...\n",
            "Setting up poppler-utils (0.62.0-2ubuntu2.12) ...\n",
            "Processing triggers for man-db (2.8.3-2ubuntu0.1) ...\n"
          ]
        }
      ]
    },
    {
      "cell_type": "code",
      "metadata": {
        "id": "ix3N9zCoYj_j"
      },
      "source": [
        "from pdf2image import convert_from_path\n",
        "\n",
        "pdfs = r\"/content/freelancers-documents/Freelancers/Content Writer/1556688-Social-Media-Marketing.pdf\"\n",
        "pages = convert_from_path(pdfs, 350)\n",
        "\n",
        "i = 1\n",
        "for page in pages:\n",
        "    image_name = \"Page_\" + str(i) + \".jpg\"  \n",
        "    page.save(image_name, \"JPEG\")\n",
        "    i = i+1"
      ],
      "execution_count": null,
      "outputs": []
    },
    {
      "cell_type": "code",
      "metadata": {
        "colab": {
          "base_uri": "https://localhost:8080/"
        },
        "id": "PmdE9FBsYj78",
        "outputId": "5ac0d090-722e-4e30-a72e-2ab03bbabfdf"
      },
      "source": [
        "image = cv2.imread('/content/freelancers-documents/Freelancers/Page_1.jpg')\n",
        "tempPath = r\"/content/freelancers-documents/Freelancers\"\n",
        "ret,thresh1 = cv2.threshold(image,120,255,cv2.THRESH_BINARY)\n",
        "text = str(pytesseract.image_to_string(thresh1, config='--psm 6')) \n",
        "fullTempPath = os.path.join(tempPath, 'ME_' '1' \".txt\")\n",
        "print(text)  \n",
        "file1 = open(fullTempPath, \"w\")\n",
        "file1.write(text)\n",
        "file1.close() "
      ],
      "execution_count": null,
      "outputs": [
        {
          "output_type": "stream",
          "name": "stdout",
          "text": [
            "What is the #1 way a company can be successful\n",
            "with social media marketing?\n",
            "Social Media Marketing (SMM) has gone a long way into all\n",
            "kinds of business wherein the reach has been easier and more\n",
            "commendable.\n",
            "With the entry of SMM, businesses have taken different\n",
            "means to promote their product or service to any nook and\n",
            "corner of the world without any manpower needs and in the\n",
            "most cost-effective way.\n",
            "0 ID\n",
            "5 @ x\n",
            "me i) We\n",
            ". ( ‘ oa f\n",
            "Ro}\n",
            "yy\n",
            "In the earlier days , companies needed to do promotional\n",
            "shows , create banners or ads to reach out to their audience.\n",
            "But with the incoming of SMM, companies began to establish\n",
            "themselves in wider platform.\n",
            "The most successful and #1 approach to any social media\n",
            "marketing could definitely be the Cognizance of the Target\n",
            "\f\n"
          ]
        }
      ]
    },
    {
      "cell_type": "code",
      "metadata": {
        "id": "1sB2SdODZJDb"
      },
      "source": [
        "from pdf2image import convert_from_path\n",
        "\n",
        "pdfs = r\"/content/freelancers-documents/Freelancers/Content Writer/1556689-SKIN-TANNING-converted.pdf\"\n",
        "pages = convert_from_path(pdfs, 350)\n",
        "\n",
        "i = 1\n",
        "for page in pages:\n",
        "    image_name = \"Page_\" + str(i) + \".jpg\"  \n",
        "    page.save(image_name, \"JPEG\")\n",
        "    i = i+1"
      ],
      "execution_count": null,
      "outputs": []
    },
    {
      "cell_type": "code",
      "metadata": {
        "colab": {
          "base_uri": "https://localhost:8080/"
        },
        "id": "pHMQTYwFZJA2",
        "outputId": "db94c23b-277b-4bca-cf11-be2c4fad6438"
      },
      "source": [
        "image = cv2.imread('/content/freelancers-documents/Freelancers/Page_1.jpg')\n",
        "tempPath = r\"/content/freelancers-documents/Freelancers\"\n",
        "ret,thresh1 = cv2.threshold(image,120,255,cv2.THRESH_BINARY)\n",
        "text = str(pytesseract.image_to_string(thresh1, config='--psm 6')) \n",
        "fullTempPath = os.path.join(tempPath, 'me_' '3' \".txt\")\n",
        "print(text)  \n",
        "file1 = open(fullTempPath, \"w\")\n",
        "file1.write(text)\n",
        "file1.close() "
      ],
      "execution_count": null,
      "outputs": [
        {
          "output_type": "stream",
          "name": "stdout",
          "text": [
            "Top 10 Best Indoor Tanning Lotions: 2020 Review And Buying Guide\n",
            "In the last few decades, beauty trends are changing at a much faster pace than expected. According\n",
            "to Forbes, the global beauty business amounts to around $532 billion and expected to grow between\n",
            "5-7 % annually, which was something colossal. The beauty trends-setters are primarily the USA,\n",
            "China, Japan and the other countries to follow.\n",
            "People are in a constant lookout for different means and methods to enhance their beauty and who\n",
            "doesn't want to look stunning, and one such latest beauty trend is self-tanning. The self-tanning has\n",
            "now days created a revolution in the beauty industry with more and more Indoor tanning lotions and\n",
            "creams entering the market.\n",
            "Getting baked by being under the sun for long hours was never a wise decision as the UV rays could\n",
            "be harmful and can lead to other medical complications. To make your tanning splendid and exciting;\n",
            "a Tanning lotion could help you get that aesthetic and attractive look without going into the sun.\n",
            "With so many options to choose, how do I choose the one that is perfect and ideal for skin tone? It's\n",
            "a million-dollar question as nobody likes to play with their skin and wants immediate results.\n",
            "TOP 10 BEST INDOOR TANNING LOTIONS REVIEWS IN 2020\n",
            "Here we discuss the top 10 best indoor tanning lotions which have been reviewed by dermatologists\n",
            "and beauty experts. These reviews would help you choose the right tanning lotion that could suit your\n",
            "skin type and colour\n",
            "1 - Ed Hardy Coconut Kisses Golden Tanning Lotion- -.%azon  (»«{BOO9YKK78C]\n",
            "Ed Hardy Coconut Kisses Golden Tanning Lotion is one the favourite and most recommended tanning\n",
            "lotion among beauty experts. The lotion is a blend of coconut oil and coconut milk with other\n",
            "ingredients such as safflower seed oil, cocoa and Shea butter, banana fruit extract, glycerine,\n",
            "Vitamin E and C and Aloe Vera. All these ingredients put together gives intense and deep skin\n",
            "hydration.\n",
            "The lotion is a bit on the thicker side and gives the skin a smooth feeling by easy absorption. It is not\n",
            "sticky and provides a natural golden tan to your skin. The Coconut kisses give a perfect dark golden\n",
            "skin without the use of bronzers or dye or orange colour. With the natural scent of coconut, the\n",
            "lotion has a body fit for more skin firmness and cellulite reduction. The tanning lotion also contains\n",
            "Melactiva and Nourtain for long-lasting tan effect.\n",
            "Key Features\n",
            "\n",
            "e Tanning Intensifier without Bronzer\n",
            "\n",
            "e Natural ingredients —Coconut Oil and Milk\n",
            "\f\n"
          ]
        }
      ]
    },
    {
      "cell_type": "code",
      "metadata": {
        "id": "Hob3W09Ma8p7"
      },
      "source": [
        "from pdf2image import convert_from_path\n",
        "\n",
        "pdfs = r\"/content/freelancers-documents/Freelancers/Content Writer/1624361886-med.pdf\"\n",
        "pages = convert_from_path(pdfs, 350)\n",
        "\n",
        "i = 1\n",
        "for page in pages:\n",
        "    image_name = \"Page_\" + str(i) + \".jpg\"  \n",
        "    page.save(image_name, \"JPEG\")\n",
        "    i = i+1"
      ],
      "execution_count": null,
      "outputs": []
    },
    {
      "cell_type": "code",
      "metadata": {
        "colab": {
          "base_uri": "https://localhost:8080/"
        },
        "id": "BsqgYw2aa8nQ",
        "outputId": "44cda75f-d231-49b3-8848-ae5c15bb44b5"
      },
      "source": [
        "image = cv2.imread('/content/freelancers-documents/Freelancers/Page_1.jpg')\n",
        "tempPath = r\"/content/freelancers-documents/Freelancers\"\n",
        "ret,thresh1 = cv2.threshold(image,120,255,cv2.THRESH_BINARY)\n",
        "text = str(pytesseract.image_to_string(thresh1, config='--psm 6')) \n",
        "fullTempPath = os.path.join(tempPath, 'me_' '6' \".txt\")\n",
        "print(text)  \n",
        "file1 = open(fullTempPath, \"w\")\n",
        "file1.write(text)\n",
        "file1.close() "
      ],
      "execution_count": null,
      "outputs": [
        {
          "output_type": "stream",
          "name": "stdout",
          "text": [
            "MEDICOLEGAL CASES\n",
            "#7 ON: An MLCis a case of injury/illness where the attending doctor, after eliciting\n",
            "history and examining the patient, thinks that some investigation by law enforcement agencies is\n",
            "essential to establish and fix responsibility for the case in accordance with the law of the land.\n",
            "“* CASES THAT ARE TO BE TREATED MEDICOLEGAL ARE:\n",
            "(1) All cases of injuries and burns - the circumstances of which suggest commission of an\n",
            "offense by somebody (irrespective of suspicion of foul play);\n",
            "(2) all vehicular, factory, or other unnatural accident cases specially when there is a\n",
            "likelihood of patient's death or grievous hurt;\n",
            "(3) cases of suspected or evident sexual assault;\n",
            "(4) cases of suspected or evident criminal abortion;\n",
            "(5) cases of unconsciousness where its cause is not natural or not clear;\n",
            "(6) all cases of suspected or evident poisoning or intoxication;\n",
            "(7) cases referred from court or otherwise for age estimation;\n",
            "(8) cases brought dead with improper history creating suspicion of an offense;\n",
            "(9) cases of suspected self-infliction of injuries or attempted suicide;\n",
            "(10) any other case not falling under the above categories but has legal implications.\n",
            "The Ministry of Health and Family Welfare, Government of India, has issued\n",
            "“guidelines and protocols for medicolegal care for survivors/victims of sexual\n",
            "violence”’.\n",
            "The following steps are followed for the examination of such cases which include:\n",
            "> Initial resuscitation/first aid;\n",
            "> informed consent for examination\n",
            "» detailed history;\n",
            "> medical examination;\n",
            "> age estimation (physical/dental/radiological) - if requested by the investigating agency\n",
            ">» evidence collection\n",
            "> documentation\n",
            "> packing, sealing, and handing over the collected evidence to police;\n",
            "> treatment of injuries\n",
            "> testing/prophylaxis for sexually transmitted infections, human immunodeficiency virus,\n",
            "hepatitis B, and pregnancy;\n",
            "> psychological support and counseling, and referral for further help (shelter, legal support).\n",
            "\f\n"
          ]
        }
      ]
    },
    {
      "cell_type": "code",
      "metadata": {
        "id": "2kwdRVcVa8kW"
      },
      "source": [
        "from pdf2image import convert_from_path\n",
        "\n",
        "pdfs = r\"/content/freelancers-documents/Freelancers/Content Writer/1624362559-Consumer-Protection-Act.pdf\"\n",
        "pages = convert_from_path(pdfs, 350)\n",
        "\n",
        "i = 1\n",
        "for page in pages:\n",
        "    image_name = \"Page_\" + str(i) + \".jpg\"  \n",
        "    page.save(image_name, \"JPEG\")\n",
        "    i = i+1"
      ],
      "execution_count": null,
      "outputs": []
    },
    {
      "cell_type": "code",
      "metadata": {
        "colab": {
          "base_uri": "https://localhost:8080/"
        },
        "id": "aSZv5r8na8hb",
        "outputId": "d58db7a2-1536-4c3e-8e05-dec1fc348ec4"
      },
      "source": [
        "image = cv2.imread('/content/freelancers-documents/Freelancers/Page_1.jpg')\n",
        "tempPath = r\"/content/freelancers-documents/Freelancers\"\n",
        "ret,thresh1 = cv2.threshold(image,120,255,cv2.THRESH_BINARY)\n",
        "text = str(pytesseract.image_to_string(thresh1, config='--psm 6')) \n",
        "fullTempPath = os.path.join(tempPath, 'me_' '7' \".txt\")\n",
        "print(text)  \n",
        "file1 = open(fullTempPath, \"w\")\n",
        "file1.write(text)\n",
        "file1.close() "
      ],
      "execution_count": null,
      "outputs": [
        {
          "output_type": "stream",
          "name": "stdout",
          "text": [
            "CONSUMER PROTECTION ACT\n",
            "In Medical\n",
            "Field\n",
            "\f\n"
          ]
        }
      ]
    },
    {
      "cell_type": "code",
      "metadata": {
        "id": "QWjruWQ4a8eZ"
      },
      "source": [
        "from pdf2image import convert_from_path\n",
        "\n",
        "pdfs = r\"/content/freelancers-documents/Freelancers/Content Writer/1626091578-How-to-Create-a-Powerful-and-Effective-SEO-Strategy-in-2021.pdf\"\n",
        "pages = convert_from_path(pdfs, 350)\n",
        "\n",
        "i = 1\n",
        "for page in pages:\n",
        "    image_name = \"Page_\" + str(i) + \".jpg\"  \n",
        "    page.save(image_name, \"JPEG\")\n",
        "    i = i+1"
      ],
      "execution_count": null,
      "outputs": []
    },
    {
      "cell_type": "code",
      "metadata": {
        "colab": {
          "base_uri": "https://localhost:8080/"
        },
        "id": "n_WqjFK3a8bp",
        "outputId": "b2bd85e2-1c9c-4b16-bb60-6c183e27b54f"
      },
      "source": [
        "image = cv2.imread('/content/freelancers-documents/Freelancers/Page_1.jpg')\n",
        "tempPath = r\"/content/freelancers-documents/Freelancers\"\n",
        "ret,thresh1 = cv2.threshold(image,120,255,cv2.THRESH_BINARY)\n",
        "text = str(pytesseract.image_to_string(thresh1, config='--psm 6')) \n",
        "fullTempPath = os.path.join(tempPath, 'me_' '10' \".txt\")\n",
        "print(text)  \n",
        "file1 = open(fullTempPath, \"w\")\n",
        "file1.write(text)\n",
        "file1.close() "
      ],
      "execution_count": null,
      "outputs": [
        {
          "output_type": "stream",
          "name": "stdout",
          "text": [
            "How to Create a Powerful and Effective\n",
            "SEO Strategy in 2021\n",
            "\n",
            "To achieve your business goals, to rank first on Search Engine Result Page (SERP),\n",
            "Improving Brand-awareness, going SEO Friendly is necessary. You might wonder if it can be\n",
            "tough, but believe me. It’s easier and more Efficient. It’s more important to lay out the plan, you\n",
            "need to create an SEO Strategy first.\n",
            "\n",
            "In this amazing guide. I'll take you through all Important SEO Strategy Step by Step, this\n",
            "Approach will rapidly help you to increase your traffic organically.\n",
            "\n",
            "Let’s Dig in and find out more in details,\n",
            "\n",
            "What is SEO\n",
            "\n",
            "SEO stands for (Search Engine Optimisation), which helps websites to increase quantity and\n",
            "quality of Traffic Through Organic Search Engine Result Page (SERP).\n",
            "\n",
            "In simple terms, It means the process of improving your site's searches to increase its\n",
            "visibility for relevant searches. The better visibility you have in search results, it's more likely\n",
            "to get attention and customers to your business.\n",
            "\n",
            "What is an SEO strategy?\n",
            "\n",
            "An SEO Strategy also known as “Search engine optimise Strategy” or “SEO approach’. SEO\n",
            "is the process of planning, outlining, and Implementing Steps created to improve Search Engine\n",
            "rankings. In Simpler words, if you want to drive more traffic to your website, SEO Strategy is the\n",
            "process that you follow.\n",
            "\n",
            "Here are the 9 Steps guide to create an SEO Strategy in 2021:-\n",
            "\n",
            "#1 Measure your SEO Performance\n",
            "\n",
            "#2 Set your goals and KPIs\n",
            "\n",
            "#3 Analyze your competitor’s SEO Strategy\n",
            "\n",
            "#4 Create a list of primary Keywords\n",
            "\n",
            "#5 Create something unique and out of the box\n",
            "\n",
            "#6 Optimize for On-page SEO\n",
            "\n",
            "#7 Find and fix SEO Technical Issues\n",
            "\n",
            "#8 build link to your Page\n",
            "\n",
            "#9 analyze and refine strategy\n",
            "\f\n"
          ]
        }
      ]
    },
    {
      "cell_type": "code",
      "metadata": {
        "id": "eotHFPbya8Yk"
      },
      "source": [
        "from pdf2image import convert_from_path\n",
        "\n",
        "pdfs = r\"/content/freelancers-documents/Freelancers/Content Writer/1626091686-Angular-and-Reactjs_-which-front-end-to-choose-in-2021.pdf\"\n",
        "pages = convert_from_path(pdfs, 350)\n",
        "\n",
        "i = 1\n",
        "for page in pages:\n",
        "    image_name = \"Page_\" + str(i) + \".jpg\"  \n",
        "    page.save(image_name, \"JPEG\")\n",
        "    i = i+1"
      ],
      "execution_count": null,
      "outputs": []
    },
    {
      "cell_type": "code",
      "metadata": {
        "colab": {
          "base_uri": "https://localhost:8080/"
        },
        "id": "M4Dg1Pasa8VO",
        "outputId": "7dbf09b1-aa17-4790-9681-277a702fb7b8"
      },
      "source": [
        "image = cv2.imread('/content/freelancers-documents/Freelancers/Page_1.jpg')\n",
        "tempPath = r\"/content/freelancers-documents/Freelancers\"\n",
        "ret,thresh1 = cv2.threshold(image,120,255,cv2.THRESH_BINARY)\n",
        "text = str(pytesseract.image_to_string(thresh1, config='--psm 6')) \n",
        "fullTempPath = os.path.join(tempPath, 'me_' '11' \".txt\")\n",
        "print(text)  \n",
        "file1 = open(fullTempPath, \"w\")\n",
        "file1.write(text)\n",
        "file1.close() "
      ],
      "execution_count": null,
      "outputs": [
        {
          "output_type": "stream",
          "name": "stdout",
          "text": [
            "Cx)\n",
            "ANGULAR React JS\n",
            "Hoeuar anc <eact: Which Front-End\n",
            "To Choose in 2021\n",
            "Read M\n",
            "\n",
            "Are you looking to develop Web or Application Development, but you’re confused because you\n",
            "don’t know which one to choose between Angular and React for your Web needs. Don’t you\n",
            "worry. In this amazing guide you'll get a better understanding of the differences and similarities\n",
            "of both, React and Angular.\n",
            "We cannot compare Angular and React, because Angular is a full-stack MVC framework, and\n",
            "React is just a View library.\n",
            "But, we cannot ignore the fact, as they both deliver stunning Applications, and both are perfect\n",
            "technologies to compete in today’s digital demanding business objectives.\n",
            "Let’s dig in.\n",
            "What is Angular\n",
            "Angular is an open-source library, Based on Type-script, created by Google for building effective\n",
            "and appealing Web Application. Angular is a full-fledged MVC framework. It translates Model View\n",
            "\f\n"
          ]
        }
      ]
    },
    {
      "cell_type": "code",
      "metadata": {
        "id": "kxTAvqBHa8SY"
      },
      "source": [
        "from pdf2image import convert_from_path\n",
        "\n",
        "pdfs = r\"/content/freelancers-documents/Freelancers/Content Writer/1626091928-Top-8-Web-Design-Trends-in-2021-and-Beyond.pdf\"\n",
        "pages = convert_from_path(pdfs, 350)\n",
        "\n",
        "i = 1\n",
        "for page in pages:\n",
        "    image_name = \"Page_\" + str(i) + \".jpg\"  \n",
        "    page.save(image_name, \"JPEG\")\n",
        "    i = i+1"
      ],
      "execution_count": null,
      "outputs": []
    },
    {
      "cell_type": "code",
      "metadata": {
        "colab": {
          "base_uri": "https://localhost:8080/"
        },
        "id": "ka_-6Tyha8Pe",
        "outputId": "35dc7089-9f1c-4d24-b914-fd9b9d528469"
      },
      "source": [
        "image = cv2.imread('/content/freelancers-documents/Freelancers/Page_1.jpg')\n",
        "tempPath = r\"/content/freelancers-documents/Freelancers\"\n",
        "ret,thresh1 = cv2.threshold(image,120,255,cv2.THRESH_BINARY)\n",
        "text = str(pytesseract.image_to_string(thresh1, config='--psm 6')) \n",
        "fullTempPath = os.path.join(tempPath, 'me_' '12' \".txt\")\n",
        "print(text)  \n",
        "file1 = open(fullTempPath, \"w\")\n",
        "file1.write(text)\n",
        "file1.close() "
      ],
      "execution_count": null,
      "outputs": [
        {
          "output_type": "stream",
          "name": "stdout",
          "text": [
            "a\n",
            "Al)\n",
            "~\\ si od\n",
            "€ \\ \\\n",
            "“AS\n",
            "> “a\n",
            "“ g\n",
            "\n",
            "Top 8 Web\n",
            "\n",
            "DTS Fea)\n",
            "\n",
            "icscece in\n",
            "\n",
            "2021 And\n",
            "\n",
            "Beyond\n",
            "a\n",
            "The One Thing in Web Design is Constant is that nothing is Constant. Every Year Design taste\n",
            "Changes, Technologies give more opportunities to grow and our Appetites vary Continuously.\n",
            "With a new year this might be the great time to see What will be the Top Web Design Trends in\n",
            "2021?\n",
            "Though, In this Lockdown Period, With Remote Working, Has rapidly increasing Human\n",
            "Exposure towards the Virtual World, especially Custom Software. We’ll Summarize the top 10\n",
            "Dominant Website Design Trends which are breathing life to the Digital world.\n",
            "| hope this list just doesn't acknowledge you but also inspires and approaches the web in a\n",
            "more inclusive way.\n",
            "\n",
            "1. 3D Technology\n",
            "Over a year 3D has come a very long way. It has been growing in numerous spheres. It shows\n",
            "the product vividly and the creativity of the designer team. The evolutions of 3D modeling\n",
            "Programs makes Graphic more and more Complex. It has more Small details and components.\n",
            "\f\n"
          ]
        }
      ]
    }
  ]
}