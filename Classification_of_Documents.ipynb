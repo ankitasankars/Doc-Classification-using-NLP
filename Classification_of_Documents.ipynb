{
  "nbformat": 4,
  "nbformat_minor": 0,
  "metadata": {
    "colab": {
      "name": "Classification of Documents.ipynb",
      "provenance": [],
      "collapsed_sections": []
    },
    "kernelspec": {
      "name": "python3",
      "display_name": "Python 3"
    },
    "language_info": {
      "name": "python"
    }
  },
  "cells": [
    {
      "cell_type": "markdown",
      "metadata": {
        "id": "lDXBTDpCC9kw"
      },
      "source": [
        "## Importing Dataset"
      ]
    },
    {
      "cell_type": "code",
      "metadata": {
        "colab": {
          "base_uri": "https://localhost:8080/"
        },
        "id": "Am7d9AQy3vvT",
        "outputId": "44d1b20e-388e-47da-b42b-85d99e3d7a3a"
      },
      "source": [
        "!pip install opendatasets"
      ],
      "execution_count": 4,
      "outputs": [
        {
          "output_type": "stream",
          "text": [
            "Requirement already satisfied: opendatasets in /usr/local/lib/python3.7/dist-packages (0.1.20)\n",
            "Requirement already satisfied: kaggle in /usr/local/lib/python3.7/dist-packages (from opendatasets) (1.5.12)\n",
            "Requirement already satisfied: tqdm in /usr/local/lib/python3.7/dist-packages (from opendatasets) (4.62.0)\n",
            "Requirement already satisfied: click in /usr/local/lib/python3.7/dist-packages (from opendatasets) (7.1.2)\n",
            "Requirement already satisfied: requests in /usr/local/lib/python3.7/dist-packages (from kaggle->opendatasets) (2.23.0)\n",
            "Requirement already satisfied: python-dateutil in /usr/local/lib/python3.7/dist-packages (from kaggle->opendatasets) (2.8.2)\n",
            "Requirement already satisfied: python-slugify in /usr/local/lib/python3.7/dist-packages (from kaggle->opendatasets) (5.0.2)\n",
            "Requirement already satisfied: urllib3 in /usr/local/lib/python3.7/dist-packages (from kaggle->opendatasets) (1.24.3)\n",
            "Requirement already satisfied: certifi in /usr/local/lib/python3.7/dist-packages (from kaggle->opendatasets) (2021.5.30)\n",
            "Requirement already satisfied: six>=1.10 in /usr/local/lib/python3.7/dist-packages (from kaggle->opendatasets) (1.15.0)\n",
            "Requirement already satisfied: text-unidecode>=1.3 in /usr/local/lib/python3.7/dist-packages (from python-slugify->kaggle->opendatasets) (1.3)\n",
            "Requirement already satisfied: chardet<4,>=3.0.2 in /usr/local/lib/python3.7/dist-packages (from requests->kaggle->opendatasets) (3.0.4)\n",
            "Requirement already satisfied: idna<3,>=2.5 in /usr/local/lib/python3.7/dist-packages (from requests->kaggle->opendatasets) (2.10)\n"
          ],
          "name": "stdout"
        }
      ]
    },
    {
      "cell_type": "code",
      "metadata": {
        "id": "XuIcw147g8HO"
      },
      "source": [
        "import opendatasets as od"
      ],
      "execution_count": 5,
      "outputs": []
    },
    {
      "cell_type": "code",
      "metadata": {
        "colab": {
          "base_uri": "https://localhost:8080/"
        },
        "id": "--H8Uwm8DItj",
        "outputId": "2ad702ce-d571-4d11-faca-022f61628ee0"
      },
      "source": [
        "od.download(\"https://www.kaggle.com/ankitakokes/freelancers-documents\")"
      ],
      "execution_count": 6,
      "outputs": [
        {
          "output_type": "stream",
          "text": [
            "Skipping, found downloaded files in \"./freelancers-documents\" (use force=True to force download)\n"
          ],
          "name": "stdout"
        }
      ]
    },
    {
      "cell_type": "markdown",
      "metadata": {
        "id": "dBDbe-gHDDIN"
      },
      "source": [
        "## Installing Tesseract for OCR"
      ]
    },
    {
      "cell_type": "code",
      "metadata": {
        "id": "FNnONq2adYd0",
        "colab": {
          "base_uri": "https://localhost:8080/"
        },
        "outputId": "b1c29805-accf-4570-b30a-efd331ce1cb9"
      },
      "source": [
        "! apt install tesseract-ocr\n",
        "! apt install libtesseract-dev\n",
        "! pip install Pillow\n",
        "! pip install pytesseract\n",
        "import pytesseract"
      ],
      "execution_count": 7,
      "outputs": [
        {
          "output_type": "stream",
          "text": [
            "Reading package lists... Done\n",
            "Building dependency tree       \n",
            "Reading state information... Done\n",
            "tesseract-ocr is already the newest version (4.00~git2288-10f4998a-2).\n",
            "The following package was automatically installed and is no longer required:\n",
            "  libnvidia-common-460\n",
            "Use 'apt autoremove' to remove it.\n",
            "0 upgraded, 0 newly installed, 0 to remove and 40 not upgraded.\n",
            "Reading package lists... Done\n",
            "Building dependency tree       \n",
            "Reading state information... Done\n",
            "libtesseract-dev is already the newest version (4.00~git2288-10f4998a-2).\n",
            "The following package was automatically installed and is no longer required:\n",
            "  libnvidia-common-460\n",
            "Use 'apt autoremove' to remove it.\n",
            "0 upgraded, 0 newly installed, 0 to remove and 40 not upgraded.\n",
            "Requirement already satisfied: Pillow in /usr/local/lib/python3.7/dist-packages (7.1.2)\n",
            "Requirement already satisfied: pytesseract in /usr/local/lib/python3.7/dist-packages (0.3.8)\n",
            "Requirement already satisfied: Pillow in /usr/local/lib/python3.7/dist-packages (from pytesseract) (7.1.2)\n"
          ],
          "name": "stdout"
        }
      ]
    },
    {
      "cell_type": "markdown",
      "metadata": {
        "id": "5GDpjjG3DOaN"
      },
      "source": [
        "## Importing Libraries"
      ]
    },
    {
      "cell_type": "code",
      "metadata": {
        "id": "tL-5dNbxWUUx"
      },
      "source": [
        "import matplotlib.pyplot as plt\n",
        "import numpy as np\n",
        "import cv2\n",
        "import os\n",
        "import random\n",
        "import seaborn as sns\n",
        "import shutil\n",
        "try:\n",
        "    from PIL import Image\n",
        "except ImportError:\n",
        "    import Image"
      ],
      "execution_count": 8,
      "outputs": []
    },
    {
      "cell_type": "code",
      "metadata": {
        "id": "QGGOWSTJV1d4",
        "colab": {
          "base_uri": "https://localhost:8080/"
        },
        "outputId": "12d5ddb2-82ad-4f76-c69c-47b1b8aaa1b1"
      },
      "source": [
        "%cd /content/freelancers-documents/Freelancers"
      ],
      "execution_count": 9,
      "outputs": [
        {
          "output_type": "stream",
          "text": [
            "/content/freelancers-documents/Freelancers\n"
          ],
          "name": "stdout"
        }
      ]
    },
    {
      "cell_type": "code",
      "metadata": {
        "id": "77U76t9WU2Ug"
      },
      "source": [
        "def show_rand(x,dir_='Freelancers'):\n",
        "    if len(x)==30:\n",
        "        f,ax=plt.subplots(6,5,figsize=(40,40))\n",
        "        for i,file_name in enumerate(x):\n",
        "            img=cv2.imread( os.path.join(dir_,file_name) )\n",
        "            img=cv2.resize(img,(100,100))\n",
        "            img=cv2.cvtColor(img,cv2.COLOR_BGR2RGB)\n",
        "            \n",
        "            ax[i//5][i%5].imshow(img, aspect='auto')\n",
        "            ax[i//5][i%5].set_xticks([]); ax[i//5][i%5].set_yticks([])\n",
        "        plt.show()"
      ],
      "execution_count": 10,
      "outputs": []
    },
    {
      "cell_type": "markdown",
      "metadata": {
        "id": "FjegdjazDVVT"
      },
      "source": [
        "### Listing the documents in the dataset"
      ]
    },
    {
      "cell_type": "code",
      "metadata": {
        "id": "SBTK8BnDYwi4",
        "colab": {
          "base_uri": "https://localhost:8080/"
        },
        "outputId": "88b90499-80b2-4979-ad2c-204e35b5507b"
      },
      "source": [
        "for f in os.listdir(r\"/content/freelancers-documents/Freelancers/Android Developer\"):\n",
        "\tprint(f)"
      ],
      "execution_count": 11,
      "outputs": [
        {
          "output_type": "stream",
          "text": [
            "1519973-Laxmi1963-Android.pdf\n",
            "801080-device-2018-10-25-031308.pdf\n",
            "2148585-1.pdf\n",
            "1402424-Capture.pdf\n",
            "1504688-device-2019-04-13-220813.pdf\n",
            "1198465-Screenshot_2018-09-29-17-58-11-604_com.emulation.onlinefoodappserver.pdf\n",
            "2130612-image_2021_01_18T07_22_10_283Z.pdf\n",
            "1543215-iConfirm-App.pdf\n",
            "1519959-Easy-Kaam-Android.pdf\n",
            "1543223-Insurance-Journal.pdf\n",
            "1198464-Screenshot_2019-02-08-12-00-58-377_com.emulation.onlinefoodappserver.pdf\n",
            "1504690-device-2019-04-13-220826.pdf\n",
            "1504691-device-2019-04-13-220836.pdf\n",
            "1519960-Eat-N-Up-Android.pdf\n",
            "1198463-Screenshot_2019-02-08-12-00-47-979_com.emulation.onlinefoodappserver.pdf\n",
            "2148632-1.pdf\n",
            "1504481-My-Taxi-App-Android.pdf\n",
            "2148602-1.pdf\n",
            "1504494-Food-Adda-Android-and-iOS.pdf\n",
            "1849234-Screenshot2.pdf\n",
            "801082-device-2018-10-25-031324.pdf\n",
            "1543135-The-Buzz-Lite-Social-Networking-Android-App (1).pdf\n",
            "1543236-Message-Talker-App.pdf\n",
            "1543129-ASC-Group-Android-App.pdf\n",
            "801079-device-2018-10-26-225422.pdf\n",
            "1198461-Screenshot_2019-02-08-11-59-29-698_com.emulation.onlinefoodapp.pdf\n",
            "1519961-Hostel-Android.pdf\n",
            "1519944-Society-app-Android.pdf\n",
            "1543135-The-Buzz-Lite-Social-Networking-Android-App.pdf\n",
            "801081-device-2018-10-25-031243.pdf\n",
            "801083-device-2018-10-25-031213.pdf\n",
            "1504689-device-2019-04-13-220720.pdf\n",
            "1543105-Appliance-Troubleshooter-Android-App.pdf\n"
          ],
          "name": "stdout"
        }
      ]
    },
    {
      "cell_type": "code",
      "metadata": {
        "id": "tPhySHo9Ywfy",
        "colab": {
          "base_uri": "https://localhost:8080/"
        },
        "outputId": "3cd7bacb-0499-4913-ee3a-06166dae3ca9"
      },
      "source": [
        "for f in os.listdir(r\"/content/freelancers-documents/Freelancers/Content Writer\"):\n",
        "\tprint(f)"
      ],
      "execution_count": 12,
      "outputs": [
        {
          "output_type": "stream",
          "text": [
            "1770576-About-Us--McDonough (1).docx\n",
            "1919625-Best-HD-Action-Cameras-under-$100-in-2020.docx\n",
            "1919636-8-Digital-Marketing-Trends-And-Innovations-For-2020.docx\n",
            "1621800741-BEST-ADRIONDACK-CHAIRS-2-1.docx\n",
            "1626091686-Angular-and-Reactjs_-which-front-end-to-choose-in-2021.pdf\n",
            "2257591-Mortgaage-Broker-In-Aurora-Colorado.docx\n",
            "1919633-How-much-does-Netflix-cost-in-India_Anurakta.odt\n",
            "1919637-Airtel-Wifi-Calling-Technology-The-Essential-Guide.docx\n",
            "1770580-About-Us (1).docx\n",
            "2257590-INdependent-Mortgage-in-Fort-Collins (1).docx\n",
            "1626091578-How-to-Create-a-Powerful-and-Effective-SEO-Strategy-in-2021.pdf\n",
            "1657975-What-to-consider-before-selling-your-Business.docx\n",
            "1621800762-Kids-Adirondack-Chairs-1.doc\n",
            "1919632-10-best-CPU-cabinets.docx\n",
            "1556689-SKIN-TANNING-converted.pdf\n",
            "1621800731-Top-10-Plastic-Adirondack-Chairs-1.docx\n",
            "2257590-INdependent-Mortgage-in-Fort-Collins.docx\n",
            "1650592-How-To-Get-A-High-Quality-Interpretive-Signage-Singapore.docx\n",
            "1626091928-Top-8-Web-Design-Trends-in-2021-and-Beyond.pdf\n",
            "1919628-Pro-and-cons-of-dropping-a-year-for-NEET-preparation.docx\n",
            "1919626-HOW-BULK-SMS-CAMPAIGN-HELP-FOR--INDUSTRY-OR--BUSINESS.docx\n",
            "1919630-How-Much-Does-Web-Hosting-Cost_.odt\n",
            "1770579-Testimonial-2.docx\n",
            "1624362559-Consumer-Protection-Act.pdf\n",
            "1556688-Social-Media-Marketing.pdf\n",
            "1770577-Why-Choose-Us-McDonough.docx\n",
            "1919638-Tiktok-alternative-applications.docx\n",
            "2257589-Aurora-Mortgage-Company.docx\n",
            "2257592-Mortgagae-In-Fort-Collins.docx\n",
            "1650591-Blue-Signs-Their-Use-And-The-Mistake-Most-Of-The-People-Are-Making.docx\n",
            "2257593-Mortgage-Broker-In-Aurora.docx.76bfaa20405273e7f5d4aac779dd5077.bak.docx\n",
            "1919634-Reseller-bulk-SMS_Anurakta-Prusty.odt\n",
            "1657973-Peritoneal-dialysis.docx\n",
            "1624361886-med.pdf\n",
            "1650593-Lesser-Known-Facts-About-HVLS-Fans.docx\n",
            "1657977-Testimonials.docx\n",
            "1657974-VPS-Hosting-----Should-You-Go-for-Windows-or-Linux.docx\n"
          ],
          "name": "stdout"
        }
      ]
    },
    {
      "cell_type": "code",
      "metadata": {
        "id": "gr5l_BqQYwdI",
        "colab": {
          "base_uri": "https://localhost:8080/"
        },
        "outputId": "aaf1a198-7cb7-4458-d0bf-73aeb4575a34"
      },
      "source": [
        "for f in os.listdir(r\"/content/freelancers-documents/Freelancers/Data Entry\"):\n",
        "\tprint(f)"
      ],
      "execution_count": 13,
      "outputs": [
        {
          "output_type": "stream",
          "text": [
            "198516-policies-and-procedures-02-2015-Completed-by-Sibayan---updated.doc\n",
            "229026-Golf-Societies-in-UK---completed-by-Sibayan.xls\n",
            "358776-Email-Extraction-Project-from-various-activity-centre-in-UK---Completed-by-Sibayan.pdf\n",
            "1244263-1.pdf\n",
            "2038415-Order-booking-main.pdf\n",
            "1608750-2.pdf\n",
            "1608751-1.pdf\n",
            "2038416-Inventory-Management---Main.pdf\n",
            "195644-Data-Compilation-Project.pdf\n",
            "1012458-Michigan-Mutual-Inc.xlsx\n",
            "2038417-Data-Entry-Form.pdf\n",
            "257794-800-Database-of-UK-Piano-Teacher---Completed-by-Sibayan.pdf\n",
            "1561078-Main-Form.pdf\n",
            "1325491-2.pdf\n",
            "1325490-1.pdf\n",
            "1244232-Leads.pdf\n"
          ],
          "name": "stdout"
        }
      ]
    },
    {
      "cell_type": "code",
      "metadata": {
        "id": "xNT28GIcYwah",
        "colab": {
          "base_uri": "https://localhost:8080/"
        },
        "outputId": "379265a2-0779-4e4a-e793-0616ff3b1177"
      },
      "source": [
        "for f in os.listdir(r\"/content/freelancers-documents/Freelancers/Graphic Designers\"):\n",
        "\tprint(f)"
      ],
      "execution_count": 14,
      "outputs": [
        {
          "output_type": "stream",
          "text": [
            "177978-bodingo-business-card-final.pdf\n",
            "1612211-Login-page.pdf\n",
            "1621623613-555.pdf\n",
            "1121265-MT-banner.pdf\n",
            "177972-5674a9334723a_thumb900.pdf\n",
            "1623067793-design-your-logo-and-complete-brand-identity-c845 (1).pdf\n",
            "177975-la-mac8.pdf\n",
            "1621623580-3693.pdf\n",
            "177974-la-mac-24.pdf\n",
            "1623067793-design-a-professional-logo-in-24-hours.pdf\n",
            "1612210-AnagramDesign_iPhone_11_Mockup_02.pdf\n",
            "1623067793-design-your-logo-and-complete-brand-identity-c845-(1).pdf\n",
            "1555027-IMG-20190920-WA0019.pdf\n",
            "177980-K.pdf\n",
            "177977-ANAND-AG-CO.pdf\n",
            "1971210-IMG-20200706-WA0027.pdf\n",
            "1623067793-design-your-logo-and-complete-brand-identity-c845.pdf\n",
            "177982-WEDDING-INVI2.pdf\n",
            "1971208--------------------.png2.pdf\n",
            "1121266-PicsArt_07-04-11.31.46.pdf\n",
            "2261759-2248000-screencapture-yourlastwebdesigner-2021-04-09-03_45_23-1.pdf\n",
            "177981-K2.pdf\n",
            "1555029-Status-Banner02.pdf\n",
            "1121268-meet-the-founder.pdf\n",
            "1555026-IMG-20190920-WA0017.pdf\n",
            "177979-la-mac-22.pdf\n",
            "1612214-Profile-pages.pdf\n",
            "1555025-IMG-20190920-WA0016.pdf\n",
            "177976-ae-card-mockup.pdf\n",
            "1555024-web-banner-template-japanese-restaurant_23-2148203260-1.pdf\n",
            "1121269-MT-FAQs.pdf\n",
            "1971206-Untitled-11.pdf\n",
            "1612212-message-and-emploee-profile.pdf\n",
            "1121264-PicsArt_07-07-10.15.43.pdf\n",
            "1121263-Single-SS-Banner.pdf\n",
            "1555023-IMG-20190920-WA0025.pdf\n",
            "1623067793-design-your-logo-and-complete-brand-identity-c845-(2).pdf\n",
            "1971207-3052921_6979816_b3717196064763.5ea61fbd8fa89.pdf\n",
            "1971209-02.pdf\n",
            "1621623580-508.pdf\n",
            "1555028-DOC-20190728-WA0047.pdf\n"
          ],
          "name": "stdout"
        }
      ]
    },
    {
      "cell_type": "code",
      "metadata": {
        "id": "d4jv7mGyYwX_",
        "colab": {
          "base_uri": "https://localhost:8080/"
        },
        "outputId": "4082b457-2e01-4e50-b349-41147ef7f491"
      },
      "source": [
        "for f in os.listdir(r\"/content/freelancers-documents/Freelancers/Logo Designer\"):\n",
        "\tprint(f)"
      ],
      "execution_count": 15,
      "outputs": [
        {
          "output_type": "stream",
          "text": [
            "1189428-33.pdf\n",
            "177959-TB7.pdf\n",
            "177893-3f3.pdf\n",
            "1192216-Screenshot-8.pdf\n",
            "2118741-Groupline-Architecture.pdf\n",
            "1012004-princess4.pdf\n",
            "177897-BLUE-SKY-DIFF.pdf\n",
            "1841728-LEGAl-logo.pdf\n",
            "1034173-cognac3-01.pdf\n",
            "1888453-SRS-Infomedia-Logo-----1.pdf\n",
            "1192219-Screenshot-11.pdf\n",
            "1826021-dolphin.pdf\n",
            "1841729-Sample-1.pdf\n",
            "1192213-Screenshot-5.pdf\n",
            "177967----------------------------.pdf\n",
            "1189433-38.pdf\n",
            "1189435-40.pdf\n",
            "1189412-18.pdf\n",
            "1827001-The-CMS-Guys-smple-1.pdf\n",
            "1655147-Daakia-Logo12.pdf\n",
            "177961-tsg1.pdf\n",
            "1192215-Screenshot-7.pdf\n",
            "2118746-Satvanna-Foods-Logo.pdf\n",
            "1192211-Screenshot-4.pdf\n",
            "1192218-Screenshot-9.pdf\n",
            "1189429-34.pdf\n",
            "1189409-13.pdf\n",
            "1189416-19.pdf\n",
            "177894-ac.pdf\n",
            "2118743-DropNShop-Logo-Design.pdf\n",
            "177900-BLURSKYDIFF1.pdf\n",
            "1192217-Screenshot-6.pdf\n",
            "1875330-ALIBAGREALESTATE-3-4-1.pdf\n",
            "2118734-Umee-Logo.pdf\n",
            "1189410-15.pdf\n",
            "1189431-36.pdf\n",
            "2002494-Speech-Therapy-Kidz_Logo.pdf\n",
            "1627367194-Quencher-Logo3.pdf\n",
            "177965-tsg2.pdf\n",
            "1188593-cy8.pdf\n",
            "1034174-black.pdf\n",
            "1888455-4.pdf\n",
            "177896-bliri1.pdf\n",
            "177899-BLUE2.pdf\n",
            "1189414-17.pdf\n",
            "2118733-Course-Bricks---Logo-Design.pdf\n",
            "1189413-16.pdf\n",
            "2118745-Dolphin-Ninja-Logo.pdf\n",
            "1268767-italy-mock.pdf\n",
            "2002493-RM-Mechanix-Logo.pdf\n",
            "177964-tss.pdf\n",
            "177892-3f4.pdf\n",
            "1192214-Screenshot-2.pdf\n",
            "1189417-20.pdf\n",
            "2149745-2070997-Time-Travel-Journeys-Logo1.pdf\n",
            "2118742-Quencher-Logo-Design.pdf\n",
            "177902-car-bike.pdf\n",
            "177968-yhy.pdf\n",
            "1192212-Screenshot-3.pdf\n",
            "177963-whiff.pdf\n",
            "1827000-LODGE-sample-2-1.pdf\n",
            "1189411-14.pdf\n",
            "1189434-39.pdf\n",
            "177898-BLUESKY1.pdf\n",
            "1766201-Logo-design-soumen.pdf\n",
            "177962-tb333.pdf\n",
            "177960-TSG-new.pdf\n",
            "1189415-21.pdf\n"
          ],
          "name": "stdout"
        }
      ]
    },
    {
      "cell_type": "code",
      "metadata": {
        "id": "TTEGz3OUYwVH",
        "colab": {
          "base_uri": "https://localhost:8080/"
        },
        "outputId": "e427ade2-d7a2-44f9-bdf1-52009503fe90"
      },
      "source": [
        "for f in os.listdir(r\"/content/freelancers-documents/Freelancers/Microsoft Excel\"):\n",
        "\tprint(f)"
      ],
      "execution_count": 16,
      "outputs": [
        {
          "output_type": "stream",
          "text": [
            "1313338-DynamicVBADashBoard-2.pdf\n",
            "1313350-Stock1.pdf\n",
            "1361334-Emergency-Exit-Evacuation-Path-Plan.pdf\n",
            "1361333-for_portfolio.pdf\n",
            "1313351-Stock2.pdf\n",
            "1313340-DynamicVBADashBoard-4.pdf\n",
            "2135712-2.pdf\n",
            "1313343-InWardsPivot-1.pdf\n",
            "2045083-VBA-code.pdf\n",
            "1560961-Employees-sheet-ver-1.xlsx\n",
            "2089141-Invoice-Generator_VBA.pdf\n",
            "1621864693-work-file-1.pdf\n",
            "1313346-OutWards-Goods.pdf\n",
            "2089142-Invoice-Generator.pdf\n",
            "1313342-DynamicVBADashBoard-5.pdf\n",
            "1313344-InWardsPivot-2.pdf\n",
            "1313341-InWards.pdf\n",
            "1313339-DynamicVBADashBoard-3.pdf\n",
            "1621864693-work-file-2.pdf\n"
          ],
          "name": "stdout"
        }
      ]
    },
    {
      "cell_type": "code",
      "metadata": {
        "id": "YTXp4itzYzFf",
        "colab": {
          "base_uri": "https://localhost:8080/"
        },
        "outputId": "9a4ea25b-579b-41c8-8185-834beb2aae59"
      },
      "source": [
        "for f in os.listdir(r\"/content/freelancers-documents/Freelancers/PHP Dev\"):\n",
        "\tprint(f)"
      ],
      "execution_count": 17,
      "outputs": [
        {
          "output_type": "stream",
          "text": [
            "1405534-Capture5.pdf\n",
            "939396-Screenshot-185.pdf\n",
            "2069697-education_erp1.pdf\n",
            "939398-Screenshot-186.pdf\n",
            "1158526-Screenshot_7.pdf\n",
            "939395-Screenshot-183.pdf\n",
            "939394-Screenshot-182.pdf\n",
            "2006888-Screenshot-446.pdf\n",
            "2069698-education_erp3.pdf\n",
            "1158527-Screenshot_8.pdf\n",
            "1217943-beicbike5.pdf\n",
            "1835560-Screenshot-329.pdf\n",
            "2181332-Screenshot-594.pdf\n",
            "1158525-Screenshot_1.pdf\n",
            "939397-Screenshot-188.pdf\n",
            "1217942-beicbike2.pdf\n",
            "2181333-Screenshot-595.pdf\n",
            "1402505-Capture1.pdf\n",
            "1217941-beicbike3.pdf\n",
            "939393-Screenshot-184.pdf\n",
            "1217940-beicbike1.pdf\n",
            "1217944-beicbike4.pdf\n",
            "2069703-admin_panel.pdf\n",
            "1622547726-AfluencePortfolio.pdf\n",
            "2069702-online_exam.pdf\n",
            "2069699-education_erp2.pdf\n",
            "939399-Screenshot-187.pdf\n"
          ],
          "name": "stdout"
        }
      ]
    },
    {
      "cell_type": "code",
      "metadata": {
        "id": "YIVSrFiKZR2e",
        "colab": {
          "base_uri": "https://localhost:8080/"
        },
        "outputId": "d71591e7-0daa-4fe1-9b0c-15f545b71c50"
      },
      "source": [
        "for f in os.listdir(r\"/content/freelancers-documents/Freelancers/SEO\"):\n",
        "\tprint(f)"
      ],
      "execution_count": 18,
      "outputs": [
        {
          "output_type": "stream",
          "text": [
            "1468308-second-hand-audi-mauritius---Google-Search.pdf\n",
            "1400571-1392595-Steuerstrafrecht-Bad-Homburg---Google-Search-png--1137--587-.pdf\n",
            "1400563-TSC-Portfolio-PPT.pptx\n",
            "1468311-Best-Car-Dealers-in-Mauritius---Reconditioned-Second-Hand-Cars-Mauritius.pdf\n",
            "1400568-1392587-Steuerstrafrecht-Anwalt-Alsfeld---Google-Search-png--1263--689-.pdf\n",
            "1400570-1392594-Kanzlei-Steuerstrafrecht-Bad-Homburg---Google-Search-png--1263--689-.pdf\n",
            "1468306-list-of-best-garages-in-mauritius---Google-Search.pdf\n",
            "1406490-Screenshot-67.pdf\n",
            "2047725-image_2020_11_26T12_15_41_771Z.pdf\n",
            "1468303-best-car-dealers-in-Mauritius---Google-Search.pdf\n",
            "1400567-1392585-Kanzlei-Steuerstrafrecht-Alsfeld---Google-Search-png--1263--689-.pdf\n",
            "1468309-reconditioned-cars-mauritius---Google-Search.pdf\n",
            "1400561-TCS-SEO.pdf\n",
            "1468307-premium-cars-dealers-in-Mauritius---Google-Search.pdf\n",
            "1400569-1392590-Steuerstrafrecht-Anwalt-Bad-Homburg---Google-Search-png--898--1054-.pdf\n",
            "1468310-reconditioned-car-dealers-in-mauritius---Google-Search.pdf\n",
            "1400572-1392596-Steuerstrafrecht-Kanzlei-Alsfeld---Google-Search-png--1263--689-.pdf\n",
            "1400566-1392583-Anwalt-Steuerstrafrecht-Alsfeld---Google-Search-png--1263--689-.pdf\n",
            "1468305-Cooper-dealers-in-Mauritius---Google-Search.pdf\n",
            "1666408-image_2020_06_08T08_28_08_937Z.pdf\n",
            "1468304-honda-vezel-mauritius---Google-Search.pdf\n"
          ],
          "name": "stdout"
        }
      ]
    },
    {
      "cell_type": "code",
      "metadata": {
        "id": "Lg3C3tjUZRu5",
        "colab": {
          "base_uri": "https://localhost:8080/"
        },
        "outputId": "a8a5b42a-4619-48d6-e7e3-c80fc66ec9dc"
      },
      "source": [
        "for f in os.listdir(r\"/content/freelancers-documents/Freelancers/WordPress\"):\n",
        "\tprint(f)"
      ],
      "execution_count": 19,
      "outputs": [
        {
          "output_type": "stream",
          "text": [
            "1406490-Screenshot-67 (1).pdf\n",
            "1733871-image_middle2.pdf\n",
            "1733864-image_middle5.pdf\n",
            "1733852-image_middle3.pdf\n",
            "1835529-Screenshot-326.pdf\n",
            "1733873-image_middle3.pdf\n",
            "1406489-Screenshot-68.pdf\n",
            "626700-c79a24.pdf\n",
            "1406492-Screenshot-65.pdf\n",
            "1772727-Screenshot-244.pdf\n",
            "2261590-dragonfish.pdf\n",
            "1733851-image_middle2.pdf\n",
            "1406488-Screenshot-64.pdf\n",
            "1772725-Screenshot-243.pdf\n",
            "1772722-Screenshot-242.pdf\n",
            "1733875-image_middle4.pdf\n",
            "+.pdf\n",
            "1733853-image_middle.pdf\n",
            "1772726-Screenshot-245.pdf\n",
            "626704-a49eea.pdf\n",
            "1406487-Screenshot-66.pdf\n",
            "1772723-Screenshot-240.pdf\n",
            "1835529-Screenshot-326 (1).pdf\n",
            "2261600-beauty-on-duty.pdf\n",
            "626705-3135f0.pdf\n",
            "2261596-fresco-organic.pdf\n",
            "1733870-image_middle1.pdf\n",
            "1772724-Screenshot-241.pdf\n",
            "1733839-image_middle4.pdf\n",
            "2261608-img6.pdf\n",
            "626701-89b53e.pdf\n",
            "2261604-bluebtc.pdf\n",
            "1733863-image_middle4.pdf\n",
            "1406491-Screenshot-69.pdf\n",
            "2020140-kiranaondoor.pdf\n",
            "1835531-Screenshot-328.pdf\n"
          ],
          "name": "stdout"
        }
      ]
    },
    {
      "cell_type": "code",
      "metadata": {
        "id": "J720tNiEZRnv",
        "colab": {
          "base_uri": "https://localhost:8080/"
        },
        "outputId": "e3d7f349-aeba-4ec9-c3a2-aec202bae4e0"
      },
      "source": [
        "for f in os.listdir(r\"/content/freelancers-documents/Freelancers/ios Dev\"):\n",
        "\tprint(f)"
      ],
      "execution_count": 20,
      "outputs": [
        {
          "output_type": "stream",
          "text": [
            "458214-392x696bb.pdf\n",
            "553020-Screen-Shot-2018-03-26-at-12.16.56-AM.pdf\n",
            "458210-392x696bb.pdf\n",
            "458204-392x696bb.pdf\n",
            "1519939-TalUser-iOS.pdf\n",
            "458215-392x696bb.pdf\n",
            "475031-392x696bb.pdf\n",
            "458208-392x696bb.pdf\n",
            "458212-392x696bb.pdf\n",
            "458213-392x696bb.pdf\n",
            "557545-Screen-Shot-2018-02-19-at-11.47.05-PM.pdf\n",
            "458205-392x696bb.pdf\n",
            "458209-392x696bb.pdf\n",
            "458211-392x696bb.pdf\n",
            "475028-392x696bb.pdf\n",
            "557541-Screen-Shot-2018-02-19-at-11.36.58-PM.pdf\n",
            "458203-392x696bb.pdf\n",
            "458206-392x696bb.pdf\n",
            "458207-392x696bb.pdf\n",
            "1010739-KrishivP_TL.pdf\n",
            "475030-392x696bbm.pdf\n",
            "1504498-Nutrigenes-iOS-App.pdf\n"
          ],
          "name": "stdout"
        }
      ]
    },
    {
      "cell_type": "markdown",
      "metadata": {
        "id": "At1pD5MdDnAU"
      },
      "source": [
        "## Installing libraries for extracting text from the documents"
      ]
    },
    {
      "cell_type": "code",
      "metadata": {
        "id": "4s7P7ikdBEEN",
        "colab": {
          "base_uri": "https://localhost:8080/"
        },
        "outputId": "e85fa133-eb71-4d11-f7bd-40c1ed7c8eb5"
      },
      "source": [
        "!pip install pdf2image"
      ],
      "execution_count": 21,
      "outputs": [
        {
          "output_type": "stream",
          "text": [
            "Requirement already satisfied: pdf2image in /usr/local/lib/python3.7/dist-packages (1.16.0)\n",
            "Requirement already satisfied: pillow in /usr/local/lib/python3.7/dist-packages (from pdf2image) (7.1.2)\n"
          ],
          "name": "stdout"
        }
      ]
    },
    {
      "cell_type": "code",
      "metadata": {
        "id": "ms1txXWBoZIF",
        "colab": {
          "base_uri": "https://localhost:8080/"
        },
        "outputId": "5187d08f-4d04-4e55-d030-527bd5e94945"
      },
      "source": [
        "!apt-get install poppler-utils"
      ],
      "execution_count": 22,
      "outputs": [
        {
          "output_type": "stream",
          "text": [
            "Reading package lists... Done\n",
            "Building dependency tree       \n",
            "Reading state information... Done\n",
            "poppler-utils is already the newest version (0.62.0-2ubuntu2.12).\n",
            "The following package was automatically installed and is no longer required:\n",
            "  libnvidia-common-460\n",
            "Use 'apt autoremove' to remove it.\n",
            "0 upgraded, 0 newly installed, 0 to remove and 40 not upgraded.\n"
          ],
          "name": "stdout"
        }
      ]
    },
    {
      "cell_type": "markdown",
      "metadata": {
        "id": "JUoiDPNSD6Hx"
      },
      "source": [
        "#### Extracting text from a document from Content Writer Domain"
      ]
    },
    {
      "cell_type": "code",
      "metadata": {
        "id": "dyWlgpZQnvX3"
      },
      "source": [
        "from pdf2image import convert_from_path\n",
        "\n",
        "pdfs = r\"/content/freelancers-documents/Freelancers/Content Writer/1624362559-Consumer-Protection-Act.pdf\"\n",
        "pages = convert_from_path(pdfs, 350)\n",
        "\n",
        "i = 1\n",
        "for page in pages:\n",
        "    image_name = \"Page_\" + str(i) + \".jpg\"  \n",
        "    page.save(image_name, \"JPEG\")\n",
        "    i = i+1"
      ],
      "execution_count": 23,
      "outputs": []
    },
    {
      "cell_type": "code",
      "metadata": {
        "id": "I3pDcHRfBbkm",
        "colab": {
          "base_uri": "https://localhost:8080/"
        },
        "outputId": "b832d793-34d8-46bf-ef64-8b437e5e938f"
      },
      "source": [
        "image = cv2.imread('/content/freelancers-documents/Freelancers/Page_2.jpg')\n",
        "tempPath = r\"/content/freelancers-documents/Freelancers\"\n",
        "ret,thresh1 = cv2.threshold(image,120,255,cv2.THRESH_BINARY)\n",
        "text = str(pytesseract.image_to_string(thresh1, config='--psm 6')) \n",
        "fullTempPath = os.path.join(tempPath, 'Content_' '1' \".txt\")\n",
        "print(text)  \n",
        "file1 = open(fullTempPath, \"w\")\n",
        "file1.write(text)\n",
        "file1.close() "
      ],
      "execution_count": 24,
      "outputs": [
        {
          "output_type": "stream",
          "text": [
            "CONSUMER PROTECTION ACT\n",
            "eee\n",
            "- The CPA, 1986 is a benevolent social legislation that lays down the rights of the consumers and also\n",
            "provides means for their promotion and protection.\n",
            "- In 1993, the Supreme Court brought the medical profession under the Section 2(1) (0) of CPA.\n",
            "e Who is a Consumer in medical profession\n",
            "- A patient who pays to get services of doctor /hospital,\n",
            "- Any person who pays for the patient, legal heirs /representatives of such patients,\n",
            "- In case of death of patient who is a consumer, legal heirs(representatives) of the deceased will be\n",
            "considered as \"consumer\".\n",
            "- If the payment has been made by any person who Is not a legal heir of the deceased he too will be\n",
            "considered as \"consumer.\n",
            "e Rights of a Consumer\n",
            "As per Consumer Protection Act, a consumer has following six rights being a consumer of a service obtained\n",
            "by him on payment of charges towards or an item bought by him paying its cost:\n",
            "1. Right to safety\n",
            "2. Right to choose\n",
            "3. Right to information\n",
            "4. Right to education\n",
            "5. Right to be heard\n",
            "6. Right to seek redressal\n",
            "When a consumer has Complaint the Medical not satisfied with the\n",
            "any complaint Superintendent of the reply of the concerned not satisfied then he\n",
            "aera seieithe concerned Hospital official then he should can send his complaint\n",
            "oclor/ nospilaveiiner with copy to Chief send his complaint to to the Medical Council\n",
            "eo eel Private Medical Officer of his the State Medical of India.\n",
            "; P . are Council of his area.\n",
            "f can SO=] | Criminal type complaint - |\n",
            "File a case with the Consumer “. yp plain\n",
            "Forum, Civil Court and Criminal = s_ effected consumer can file -\n",
            "Court for seeking compensation for) Complaint with the local Police\n",
            "damages arising out of wrong Station- the expert opinion will\n",
            "treatment or removal of sensitive be required to register any police\n",
            "body parts during operation. complaint.\n",
            "1\n",
            "\f\n"
          ],
          "name": "stdout"
        }
      ]
    },
    {
      "cell_type": "code",
      "metadata": {
        "id": "Dhz73prEBbZA",
        "colab": {
          "base_uri": "https://localhost:8080/"
        },
        "outputId": "4ceb62db-162f-422d-a553-cec1c0bc972e"
      },
      "source": [
        "image = cv2.imread('/content/freelancers-documents/Freelancers/Page_3.jpg')\n",
        "tempPath = r\"/content/freelancers-documents/Freelancers\"\n",
        "ret,thresh1 = cv2.threshold(image,120,255,cv2.THRESH_BINARY)\n",
        "text = str(pytesseract.image_to_string(thresh1, config='--psm 6')) \n",
        "fullTempPath = os.path.join(tempPath, 'Content_' '2' \".txt\")\n",
        "print(text)  \n",
        "file1 = open(fullTempPath, \"w\")\n",
        "file1.write(text)\n",
        "file1.close() "
      ],
      "execution_count": 25,
      "outputs": [
        {
          "output_type": "stream",
          "text": [
            "CONSUMER PROTECTION ACT\n",
            "eee\n",
            "e Where is a Complaint Filed?\n",
            "- 3 tier system of CPA.\n",
            "Po D> SIE ee asic) mi BiNelitciate Retoanentiels\n",
            "*if the value of soe vate one *if the value of the\n",
            "services and services and the\n",
            "; compensation claimed\n",
            "compensation does not exceed more compensation exceeds\n",
            "Claimed IS less more than Rs 1 crore .\n",
            "than Rs. 20 lakh than Rs.1 crore.\n",
            "e Chairperson and Members\n",
            "«Chairman : a person who is *Chairperson: a person who *Chairperson: a person who is\n",
            "qualified to be a District is or has been judge of a or has been a judge of the\n",
            "Judge High Court, appointed by Supreme Court to be\n",
            "«Two or more members who the State Government appointed by the Central\n",
            "have adequate knowledge ‘Two other members with Government.\n",
            "or experience in dealing qualifications and 4 or more other members\n",
            "with problems relating to experience (as for District ,one of whom shall be a\n",
            "various fields, one of whom Forum) within the State woman\n",
            "is awoman\n",
            "e Who is Liable\n",
            "- All medical/dental practitioners doing independent medical/dental practice unless rendering only free\n",
            "service.\n",
            "- All Private hospitals charging patients.\n",
            "- All hospitals having free as well as paying patients and all the paying and free category patients receiving\n",
            "treatment in such hospitals.\n",
            "- Medical/dental practitioners and hospitals paid by an insurance firm for the treatment of a client or an\n",
            "employment for that of an employee.\n",
            "e When is the Doctor Liable\n",
            "- Wrong Judgement\n",
            "- Negligence\n",
            "2\n",
            "\f\n"
          ],
          "name": "stdout"
        }
      ]
    },
    {
      "cell_type": "code",
      "metadata": {
        "id": "edFZ86G4BbPo",
        "colab": {
          "base_uri": "https://localhost:8080/"
        },
        "outputId": "82af8c3c-fca1-4195-e501-60c794b30c63"
      },
      "source": [
        "image = cv2.imread('/content/freelancers-documents/Freelancers/Page_4.jpg')\n",
        "tempPath = r\"/content/freelancers-documents/Freelancers\"\n",
        "ret,thresh1 = cv2.threshold(image,120,255,cv2.THRESH_BINARY)\n",
        "text = str(pytesseract.image_to_string(thresh1, config='--psm 6')) \n",
        "fullTempPath = os.path.join(tempPath, 'Content_' '3' \".txt\")\n",
        "print(text)  \n",
        "file1 = open(fullTempPath, \"w\")\n",
        "file1.write(text)\n",
        "file1.close() "
      ],
      "execution_count": 26,
      "outputs": [
        {
          "output_type": "stream",
          "text": [
            "CONSUMER PROTECTION ACT\n",
            "e How does adjudication of liability take place\n",
            "Proper scrutiny either filing of an affidavit or production\n",
            "of evidence in the form of interrogatories, expert\n",
            "evidence, medical literature, and judicial decisions\n",
            "The Forum/ Commision is satisfied that any of the\n",
            "allegations contained in the complaint about the\n",
            "services are proved\n",
            ": Issue an order to the opposite party directing him\n",
            ", To remove the\n",
            "Bolom Aeris madsen the deficiency in the\n",
            "olAUeles\n",
            "e Provision of appeal\n",
            "._ fag ° An appeal against the decision of the District Forum can be filed before the\n",
            "iii §=State Commission.\n",
            "30 days |\n",
            "vA ° An appeal against the decision of the State Commission to the National\n",
            "Mii §$Commission\n",
            "30 days\n",
            "«An appeal against the decision of the National Commission to the Supreme\n",
            "Within Court\n",
            "ClOKolen ss\n",
            "3\n",
            "\f\n"
          ],
          "name": "stdout"
        }
      ]
    },
    {
      "cell_type": "code",
      "metadata": {
        "id": "VcziBDc_BdTc",
        "colab": {
          "base_uri": "https://localhost:8080/"
        },
        "outputId": "42a5ebfc-5506-4a7a-95ca-7b806aeba808"
      },
      "source": [
        "image = cv2.imread('/content/freelancers-documents/Freelancers/Page_5.jpg')\n",
        "tempPath = r\"/content/freelancers-documents/Freelancers\"\n",
        "ret,thresh1 = cv2.threshold(image,120,255,cv2.THRESH_BINARY)\n",
        "text = str(pytesseract.image_to_string(thresh1, config='--psm 6')) \n",
        "fullTempPath = os.path.join(tempPath, 'Content_' '4' \".txt\")\n",
        "print(text)  \n",
        "file1 = open(fullTempPath, \"w\")\n",
        "file1.write(text)\n",
        "file1.close() "
      ],
      "execution_count": 27,
      "outputs": [
        {
          "output_type": "stream",
          "text": [
            "CONSUMER PROTECTION ACT\n",
            "eee\n",
            "e Time Schedule for Disposal of Complaints/ Apeeals\n",
            "- Every complaint >decided within >90 days from the date of receipt of notice by opposite party, where there\n",
            "is no requirement for testing of sample etc. In the event of such a requirement, the prescribed time is\n",
            "5 months.\n",
            "- Appeals> disposed of within a period of 90 days.\n",
            "- If acomplaint/appeal is disposed of after the specified period, then the Forum/Commission records the\n",
            "reasons for the delay in writing.\n",
            "e Conditions of CPA\n",
            "- Limitation Period : File the complaint within 2 years from the date on which the cause of action has arisen.\n",
            "- Dismissal of frivolous or vexatious complaints : The case found to be frivolous or vexatious, the\n",
            "complaint is dismissed and an order is made that the complainant pays a cost , not exceeding 10,000 rupees,\n",
            "to the opposite part.\n",
            "- Penalties: Where the defendant or the complainant fails to comply, then it may be punishable with\n",
            "imprisonment for a term which is not be less than one month but which may extend to three years, or with\n",
            "fine which is not be less than Rs 2,000 but which may extend to Rs 10,000 or with both.\n",
            "e Doctor - Innocent or guilty ?\n",
            "% In order to achieve success In an action for negligence, the consumer must be able to establish to the\n",
            "satisfaction of the court that :\n",
            "— the doctor (defendant) owed him a duty to conform to a particular standard of professional conduct\n",
            "— the doctor was derelict and breached that duty\n",
            "— the patient suffered actual damage\n",
            "— the doctor’s conduct was the direct or proximate cause of the damage.\n",
            "> Failure to provide substantialize evidence on any one element may result in no compensation.\n",
            "ip li SA\n",
            "4\n",
            "\f\n"
          ],
          "name": "stdout"
        }
      ]
    },
    {
      "cell_type": "markdown",
      "metadata": {
        "id": "_Om9N0smEPx9"
      },
      "source": [
        "#### Extracting text from a document from Logo Designer domain"
      ]
    },
    {
      "cell_type": "code",
      "metadata": {
        "id": "JAA4PaqqB9bs"
      },
      "source": [
        "from pdf2image import convert_from_path\n",
        "\n",
        "pdfs = r\"/content/freelancers-documents/Freelancers/Logo Designer/177892-3f4.pdf\"\n",
        "pages = convert_from_path(pdfs, 350)\n",
        "\n",
        "i = 1\n",
        "for page in pages:\n",
        "    image_name = \"Page_\" + str(i) + \".jpg\"  \n",
        "    page.save(image_name, \"JPEG\")\n",
        "    i = i+1"
      ],
      "execution_count": 28,
      "outputs": []
    },
    {
      "cell_type": "code",
      "metadata": {
        "id": "ZvVSgMFzCYgv",
        "colab": {
          "base_uri": "https://localhost:8080/"
        },
        "outputId": "96b0cf67-83de-4e9d-94ba-6e3d2e7d135e"
      },
      "source": [
        "image = cv2.imread('/content/freelancers-documents/Freelancers/Page_1.jpg')\n",
        "tempPath = r\"/content/freelancers-documents/Freelancers\"\n",
        "ret,thresh1 = cv2.threshold(image,120,255,cv2.THRESH_BINARY)\n",
        "text = str(pytesseract.image_to_string(thresh1, config='--psm 6')) \n",
        "fullTempPath = os.path.join(tempPath, 'Logo_' '1' \".txt\")\n",
        "print(text)  \n",
        "file1 = open(fullTempPath, \"w\")\n",
        "file1.write(text)\n",
        "file1.close() "
      ],
      "execution_count": 29,
      "outputs": [
        {
          "output_type": "stream",
          "text": [
            "Ss 2\n",
            "7 Z\n",
            "3 f worksno R\n",
            "3f workshop\n",
            "3f workshop\n",
            "\f\n"
          ],
          "name": "stdout"
        }
      ]
    },
    {
      "cell_type": "markdown",
      "metadata": {
        "id": "IF19VgiqFd_0"
      },
      "source": [
        "#### Extracting text from a document from Android Developer domain"
      ]
    },
    {
      "cell_type": "code",
      "metadata": {
        "id": "wrIzv6ZAGd3-"
      },
      "source": [
        "from pdf2image import convert_from_path\n",
        "\n",
        "pdfs = r\"/content/freelancers-documents/Freelancers/Android Developer/801079-device-2018-10-26-225422.pdf\"\n",
        "pages = convert_from_path(pdfs, 350)\n",
        "\n",
        "i = 1\n",
        "for page in pages:\n",
        "    image_name = \"Page_\" + str(i) + \".jpg\"  \n",
        "    page.save(image_name, \"JPEG\")\n",
        "    i = i+1"
      ],
      "execution_count": 30,
      "outputs": []
    },
    {
      "cell_type": "code",
      "metadata": {
        "id": "HwXDHNWtGdzf",
        "colab": {
          "base_uri": "https://localhost:8080/"
        },
        "outputId": "67c6efab-6992-412c-b292-185f44ccc200"
      },
      "source": [
        "image = cv2.imread('/content/freelancers-documents/Freelancers/Page_1.jpg')\n",
        "tempPath = r\"/content/freelancers-documents/Freelancers\"\n",
        "ret,thresh1 = cv2.threshold(image,120,255,cv2.THRESH_BINARY)\n",
        "text = str(pytesseract.image_to_string(thresh1, config='--psm 6')) \n",
        "fullTempPath = os.path.join(tempPath, 'Android_Dev_' '1' \".txt\")\n",
        "print(text)  \n",
        "file1 = open(fullTempPath, \"w\")\n",
        "file1.write(text)\n",
        "file1.close() "
      ],
      "execution_count": 31,
      "outputs": [
        {
          "output_type": "stream",
          "text": [
            "=> “ iP\n",
            "oe &\n",
            "Y\n",
            "RECYCLEWAALA\n",
            "This service is available for all in\n",
            "Lucknow only\n",
            "\f\n"
          ],
          "name": "stdout"
        }
      ]
    },
    {
      "cell_type": "markdown",
      "metadata": {
        "id": "KcrD8N51FpdZ"
      },
      "source": [
        "#### Extracting text from a document from Data Entry domain"
      ]
    },
    {
      "cell_type": "code",
      "metadata": {
        "id": "EY9UJ_ueGe0M"
      },
      "source": [
        "from pdf2image import convert_from_path\n",
        "\n",
        "pdfs = r\"/content/freelancers-documents/Freelancers/Data Entry/1244232-Leads.pdf\"\n",
        "pages = convert_from_path(pdfs, 350)\n",
        "\n",
        "i = 1\n",
        "for page in pages:\n",
        "    image_name = \"Page_\" + str(i) + \".jpg\"  \n",
        "    page.save(image_name, \"JPEG\")\n",
        "    i = i+1"
      ],
      "execution_count": 32,
      "outputs": []
    },
    {
      "cell_type": "code",
      "metadata": {
        "id": "zCw_3g3uGexV",
        "colab": {
          "base_uri": "https://localhost:8080/"
        },
        "outputId": "95acf05b-cba9-46a0-bec4-196c6253e920"
      },
      "source": [
        "image = cv2.imread('/content/freelancers-documents/Freelancers/Page_1.jpg')\n",
        "tempPath = r\"/content/freelancers-documents/Freelancers\"\n",
        "ret,thresh1 = cv2.threshold(image,120,255,cv2.THRESH_BINARY)\n",
        "text = str(pytesseract.image_to_string(thresh1, config='--psm 6')) \n",
        "fullTempPath = os.path.join(tempPath, 'Data_Entry_' '1' \".txt\")\n",
        "print(text)  \n",
        "file1 = open(fullTempPath, \"w\")\n",
        "file1.write(text)\n",
        "file1.close()"
      ],
      "execution_count": 33,
      "outputs": [
        {
          "output_type": "stream",
          "text": [
            "lao- investigators leads = Microsoft Excel =\n",
            "Sope Insert Page La out Formulas Data Pevievy wes ao Oo @eé\n",
            "r & “ Calibri .t _A A FE == P. =F virap Test General . Hr oy Neutral Calculation a : os + a Sa. h #\n",
            "Paste Sena paimer 2 4 Uo _* 2 SS 3 £ EB almerge& center: $ - % 1 SE fonating Format 8 ; Followed Hyp... [Hvpertink | Insert Delete Format © ona: non ind &\n",
            "D11 v & lucy@lucymcallisterlicensinglaw.com ¥\n",
            "B C D E F G H | Jo*\n",
            "1\n",
            "2 Jerry Davi Vice President [erry Davis@lamresearch.com [4650 Cushing Parkway FremgUSA [CA [510:572-0200 _ntpss//wwwlanvesearch.com/ —__[https//wwwlnkedin.com/in\n",
            "3 Richard Warer [Vice President” [rchardh@specialp.com [8171 Gazette AvenueChatsw{USA [CA [800-714-3728 [ntipss//specalpicom/ [https www linkedin comin\n",
            "4 “Sesha Neervannan [Senior Vie President. [SeshaNeervannan@alergan.com [5 Giralda FarmsMadison, NJGUSA [NJ [[862) 261-7000 _[ntps./fwwwallergan.conThome [https] www linkedin comin\n",
            "5. Paul Maffud ntts://www linkedin. comfiny\n",
            "6 Cody Farzad ittps://wrwlinkedin.comfin\n",
            "7 Miguel A. Martines [Vice President” [Miguel Martinez@pinkerton.com [101 N. Main Street, Suite 300USA [MI [1.800.724.1616 [ntps./www.pinkertoncom/ ___httos//wwwlnkedin.com/in\n",
            "B \"Mark Nevins Vice President [MarkNevins@apexigen.com [75 Shoreway Road, Suite CSaUSA [CA [650.931.6236 [ntps./www.apexigen.com/ [https] www linkedin comin\n",
            "9. Micheal Cameron [Investigator [MichealCameron@perspectacom [15052 Conference Center DriUSA VA [571.313.6000 [ntpsi/perspecta.com [https ww linkedin com in\n",
            "10 Fritz Conle investigator hts linkedin com in\n",
            "11 Lucy@lucymcallisterlicensinglaw.com {201 Spear Street, Suite 1100 https://www.linkedin.com/iny\n",
            "12 &rin Talo aC eT\n",
            "13 Michael Rape Investigator _[rapem@hhmi.org ____ [4000 Jones Bridge RoadChev{USA[MD_[301.235.8500_—_[ntpsi/fwww.hhmi.org) [https www linkedin com in\n",
            "14 Jorge Huert ittps://www linkedin.comfin\n",
            "15 Scott Sts ntips.//wawlinkedin.comfin\n",
            "16 Kevin Kelley ntips./fwlinkedin.comfin\n",
            "17 Steve Felso itis: linkedn.comfin\n",
            "18 John Roma UR Skok, P ittps://wwwlinkedin.comfin\n",
            "19 GaryLHoving ___[Owner/CE0_____Gary.toving@ghovingcom [P.0. Box 1210, Arroyo Grana{USA [cA |805.441.4936 [https//ghovingcom/ | htts//walinkedin.comfiny\n",
            "20 David Pere ntips./fwwlinkedin.comfin\n",
            "D1 Michael Silo nts: linkedin.comfin\n",
            "22 Jim Will itps://wwwlnkedin.comfin\n",
            "23. Mario Guzman nts. linkedin.comfin\n",
            "D4 Seigo Lopez http://w linkedin.comfin\n",
            "25 ‘Alenus Kwok ntis:/fwnlinkedn.comfin\n",
            "26 Linda Doyle its tinkedin com in\n",
            "27 Ingrid Koo Owner and President |Ingrid@inkstoneconsulting.com San Francisco Bay, California] USA CA 9257086347 |http://www.inkstoneconsulting.com/ |https://www.linkedin.com/in; ¥\n",
            "4 > b Sheetl Sheet2  Sheet3 al ( ’\n",
            "Ready 4 eH] 70%\n",
            "\f\n"
          ],
          "name": "stdout"
        }
      ]
    },
    {
      "cell_type": "markdown",
      "metadata": {
        "id": "MfVtGsu_FpHF"
      },
      "source": [
        "#### Extracting text from a document from Graphic Designers domain"
      ]
    },
    {
      "cell_type": "code",
      "metadata": {
        "id": "A1E-sr2nGfPt"
      },
      "source": [
        "from pdf2image import convert_from_path\n",
        "\n",
        "pdfs = r\"/content/freelancers-documents/Freelancers/Graphic Designers/2261759-2248000-screencapture-yourlastwebdesigner-2021-04-09-03_45_23-1.pdf\"\n",
        "pages = convert_from_path(pdfs, 350)\n",
        "\n",
        "i = 1\n",
        "for page in pages:\n",
        "    image_name = \"Page_\" + str(i) + \".jpg\"  \n",
        "    page.save(image_name, \"JPEG\")\n",
        "    i = i+1"
      ],
      "execution_count": 34,
      "outputs": []
    },
    {
      "cell_type": "code",
      "metadata": {
        "id": "T5fEbDYaGfNG",
        "colab": {
          "base_uri": "https://localhost:8080/"
        },
        "outputId": "21395225-f67c-4fe0-b050-7d9016778440"
      },
      "source": [
        "image = cv2.imread('/content/freelancers-documents/Freelancers/Page_1.jpg')\n",
        "tempPath = r\"/content/freelancers-documents/Freelancers\"\n",
        "ret,thresh1 = cv2.threshold(image,120,255,cv2.THRESH_BINARY)\n",
        "text = str(pytesseract.image_to_string(thresh1, config='--psm 6')) \n",
        "fullTempPath = os.path.join(tempPath, 'Graphic_Designer_' '1' \".txt\")\n",
        "print(text)  \n",
        "file1 = open(fullTempPath, \"w\")\n",
        "file1.write(text)\n",
        "file1.close()"
      ],
      "execution_count": 35,
      "outputs": [
        {
          "output_type": "stream",
          "text": [
            "YourLastWebDes/gner HOME OUR PROCESS ME PORTFO.O\n",
            "e e e@*eee ee\n",
            "\n",
            "Building |\n",
            "\n",
            "e ’\n",
            "Websites\n",
            "That Matter At Startup Speed|\n",
            "\n",
            "| ETB\n",
            "Watch Video >\n",
            "0 TOP RATED : : : : : .\n",
            "Some of the brands weve worked with\n",
            "gigster Panasonic TOYOTA\n",
            "Our Process.\n",
            "\f\n"
          ],
          "name": "stdout"
        }
      ]
    },
    {
      "cell_type": "markdown",
      "metadata": {
        "id": "9_HeIgnwFo8O"
      },
      "source": [
        "#### Extracting text from a document from Microsoft Excel domain"
      ]
    },
    {
      "cell_type": "code",
      "metadata": {
        "id": "omMbXL6NGf46"
      },
      "source": [
        "from pdf2image import convert_from_path\n",
        "\n",
        "pdfs = r\"/content/freelancers-documents/Freelancers/Microsoft Excel/2089141-Invoice-Generator_VBA.pdf\"\n",
        "pages = convert_from_path(pdfs, 350)\n",
        "\n",
        "i = 1\n",
        "for page in pages:\n",
        "    image_name = \"Page_\" + str(i) + \".jpg\"  \n",
        "    page.save(image_name, \"JPEG\")\n",
        "    i = i+1"
      ],
      "execution_count": 36,
      "outputs": []
    },
    {
      "cell_type": "code",
      "metadata": {
        "id": "JfRN3MwZGf2k",
        "colab": {
          "base_uri": "https://localhost:8080/"
        },
        "outputId": "21177728-2ec5-4d81-9b26-ee2be6012c9c"
      },
      "source": [
        "image = cv2.imread('/content/freelancers-documents/Freelancers/Page_1.jpg')\n",
        "tempPath = r\"/content/freelancers-documents/Freelancers\"\n",
        "ret,thresh1 = cv2.threshold(image,120,255,cv2.THRESH_BINARY)\n",
        "text = str(pytesseract.image_to_string(thresh1, config='--psm 6')) \n",
        "fullTempPath = os.path.join(tempPath, 'Microsoft_Excel_' '1' \".txt\")\n",
        "print(text)  \n",
        "file1 = open(fullTempPath, \"w\")\n",
        "file1.write(text)\n",
        "file1.close()"
      ],
      "execution_count": 37,
      "outputs": [
        {
          "output_type": "stream",
          "text": [
            "|, (General) ~ Createlnvoice\n",
            "_ | Sub CreateInvoice ()\n",
            "Y Dim Cell As Range, BaseRange As Range\n",
            "| Dim TemplateSheet As Worksheet\n",
            "lr = InvoiceData.Range (\"bl\") .CurrentRegion. Rows.Count\n",
            "Le = InveiceData.Range (\"Al\") .CurrentRegion.Columns.Count\n",
            "set BaseRange = InveoiceData.Range(\"b2\").Resize(lr - 1)\n",
            "For i =2 To lr +1\n",
            "Set Cell = InvoiceData.Cells(i, 2)\n",
            "If Cell.Value <> Cell.Offset(-1l).Value And Cell.Offset(, 1).Value <> Cell.Ooffset(-l, 1).Value Then\n",
            "If Not TemplateSheet Is Nothing Then\n",
            "TemplateSheet.Ccells.Replace \"[Part Number*\", \"\"\n",
            "TemplateSheet.Ccells.Replace \"“[Description*\", \"\"\n",
            "TemplateSheet.Cells.Replace \"[Qty*\", \"\"\n",
            "TemplateSheet.Cells.Replace \"(Unit Price MYR*\", \"\"\n",
            "TemplateSheet.cells.Replace \"[Net MYR*\", \"\"\n",
            "filepath = ThisWorkbook.path & \"\\\" & TemplateSheet.Range (\"hill\") .Value\n",
            "TemplateSheet.ExportAsFixedFormat xlTypePDF, filepath\n",
            "TemplateSheet.Parent.Close False\n",
            "set TemplateSheet = Nothing\n",
            "End If\n",
            "Tf InveiceData.Cells(ai, \"o\").Value = \"done\" Then GoTo Skip\n",
            "Count = WorksheetFunction.Countlfis(BaseRange, Cell.Value, BaseRange.Offset(, 1), Cell.offset(, 1).\\\n",
            "InvoiceFormat.Copy\n",
            "Set TemplateSheet = ActiveSheet\n",
            "\f\n"
          ],
          "name": "stdout"
        }
      ]
    },
    {
      "cell_type": "markdown",
      "metadata": {
        "id": "DGXZFl4wFof3"
      },
      "source": [
        "#### Extracting text from a document from PHP Dev domain"
      ]
    },
    {
      "cell_type": "code",
      "metadata": {
        "id": "fTAngRWaGg0Q"
      },
      "source": [
        "from pdf2image import convert_from_path\n",
        "\n",
        "pdfs = r\"/content/freelancers-documents/Freelancers/PHP Dev/2069697-education_erp1.pdf\"\n",
        "pages = convert_from_path(pdfs, 350)\n",
        "\n",
        "i = 1\n",
        "for page in pages:\n",
        "    image_name = \"Page_\" + str(i) + \".jpg\"  \n",
        "    page.save(image_name, \"JPEG\")\n",
        "    i = i+1"
      ],
      "execution_count": 38,
      "outputs": []
    },
    {
      "cell_type": "code",
      "metadata": {
        "id": "kD7tEu3jGgxk",
        "colab": {
          "base_uri": "https://localhost:8080/"
        },
        "outputId": "7a287cd1-d91b-4629-a9ca-089a6481fe31"
      },
      "source": [
        "image = cv2.imread('/content/freelancers-documents/Freelancers/Page_1.jpg')\n",
        "tempPath = r\"/content/freelancers-documents/Freelancers\"\n",
        "ret,thresh1 = cv2.threshold(image,120,255,cv2.THRESH_BINARY)\n",
        "text = str(pytesseract.image_to_string(thresh1, config='--psm 6')) \n",
        "fullTempPath = os.path.join(tempPath, 'PHP_Dev_' '1' \".txt\")\n",
        "print(text)  \n",
        "file1 = open(fullTempPath, \"w\")\n",
        "file1.write(text)\n",
        "file1.close()"
      ],
      "execution_count": 39,
      "outputs": [
        {
          "output_type": "stream",
          "text": [
            "TE Select Criteria\n",
            "Pata r Class~ Section ~ Subject Group *\n",
            "\n",
            "CLASS | v 5 v Math v\n",
            "&+ Student Information <\n",
            "Fees Collection c\n",
            "$ Income r4\n",
            "\n",
            "Monday Tuesday Wednesday Thursday Friday Saturday Sunday + Add New\n",
            "\n",
            "E | Expenses a\n",
            "7 Subject Teacher Time From Time To Room No Action\n",
            "Attendance <\n",
            "\n",
            "Select Select © Oo\n",
            "US Cunueltens 4\n",
            "3) Online Examinations <\n",
            "fmt 0 4\n",
            "FM ania ms cre go) <\n",
            "€t Communicate <\n",
            "& Download Center 4\n",
            "& Homework %4\n",
            "& Library <\n",
            "\f\n"
          ],
          "name": "stdout"
        }
      ]
    },
    {
      "cell_type": "markdown",
      "metadata": {
        "id": "_QhVWyVMGI60"
      },
      "source": [
        "#### Extracting text from a document from SEO domain"
      ]
    },
    {
      "cell_type": "code",
      "metadata": {
        "id": "mgwzh8KWGiEg"
      },
      "source": [
        "from pdf2image import convert_from_path\n",
        "\n",
        "pdfs = r\"/content/freelancers-documents/Freelancers/SEO/1666408-image_2020_06_08T08_28_08_937Z.pdf\"\n",
        "pages = convert_from_path(pdfs, 350)\n",
        "\n",
        "i = 1\n",
        "for page in pages:\n",
        "    image_name = \"Page_\" + str(i) + \".jpg\"  \n",
        "    page.save(image_name, \"JPEG\")\n",
        "    i = i+1"
      ],
      "execution_count": 40,
      "outputs": []
    },
    {
      "cell_type": "code",
      "metadata": {
        "id": "9wMY_JSZGiB3",
        "colab": {
          "base_uri": "https://localhost:8080/"
        },
        "outputId": "75cc4d95-0056-4e1f-9e64-1d0a29cc83f0"
      },
      "source": [
        "image = cv2.imread('/content/freelancers-documents/Freelancers/Page_1.jpg')\n",
        "tempPath = r\"/content/freelancers-documents/Freelancers\"\n",
        "ret,thresh1 = cv2.threshold(image,120,255,cv2.THRESH_BINARY)\n",
        "text = str(pytesseract.image_to_string(thresh1, config='--psm 6')) \n",
        "fullTempPath = os.path.join(tempPath, 'SEO_' '1' \".txt\")\n",
        "print(text)  \n",
        "file1 = open(fullTempPath, \"w\")\n",
        "file1.write(text)\n",
        "file1.close()"
      ],
      "execution_count": 41,
      "outputs": [
        {
          "output_type": "stream",
          "text": [
            "Google bike on rent in delhi for ladakh u Q\n",
            "% full regert\n",
            "Ch All No Mawes E Ness “a Images oe Virbens Di Soye Settings “cS\n",
            "ao oe ee ee\n",
            "oe —_ Bike on rent in Delhi/NCR | Expert in Ladakh & Spiti rides\n",
            "Exnst ORY www. stoneheadbikes com’) ¥ fanods 77253\n",
            "Eecermts i Long duratien rental 7o0°> [Jechaniial Vvarranty wih ete\" mechanical supoort\n",
            "Sort this page yoo°, Wech warranty 24x7 Sugmor Cay ater ctelivery- No Advance Free celivery Booking\n",
            "open tor LEA ney Avail college chscounts Flat 12\". Discount 2072 moacels avallabhle Nowy\n",
            "Locale Register Online Accesscries And Gears Bike Cn Rert Deals Cfered View Tours\n",
            "Bike on rent in Delhi : For Ladakh, Leh. Manali. Spiti. etc.\n",
            "Attos “rahulmotoz com »\n",
            "Raplineinz § a motorcycle rental comreany to grovide licensed bikes on rentin Delhi Hire\n",
            "bike on rentin Delhi @ affordable proce VIS cur website for mare\n",
            "Rent a cike in Delh) Moterevcle on Rent in Delni .. Login Trigs\n",
            "O Sets 0 Pages et 0 -.g vier QO Boucce rate 0\n",
            "Get domain authority. visits and engagement data with a free SEMrush account - Connect\n",
            "Ol 12 O.> 223 lpi 46 ©) 55>) 4.40M Go -:< 2019/10/07 ns acire OC Fat 2.84M\n",
            "O sc. Osp sus 27 O Feb Tien -rs 0\n",
            "\f\n"
          ],
          "name": "stdout"
        }
      ]
    },
    {
      "cell_type": "markdown",
      "metadata": {
        "id": "fwTNSD5mGP99"
      },
      "source": [
        "#### Extracting text from a document from WordPress domain"
      ]
    },
    {
      "cell_type": "code",
      "metadata": {
        "id": "iyn37HQKGiei"
      },
      "source": [
        "from pdf2image import convert_from_path\n",
        "\n",
        "pdfs = r\"/content/freelancers-documents/Freelancers/WordPress/2261604-bluebtc.pdf\"\n",
        "pages = convert_from_path(pdfs, 350)\n",
        "\n",
        "i = 1\n",
        "for page in pages:\n",
        "    image_name = \"Page_\" + str(i) + \".jpg\"  \n",
        "    page.save(image_name, \"JPEG\")\n",
        "    i = i+1"
      ],
      "execution_count": 42,
      "outputs": []
    },
    {
      "cell_type": "code",
      "metadata": {
        "colab": {
          "base_uri": "https://localhost:8080/"
        },
        "id": "k5E5124yGib7",
        "outputId": "cdf51a4e-0d2d-431b-caac-72302ec6f05c"
      },
      "source": [
        "image = cv2.imread('/content/freelancers-documents/Freelancers/Page_1.jpg')\n",
        "tempPath = r\"/content/freelancers-documents/Freelancers\"\n",
        "ret,thresh1 = cv2.threshold(image,120,255,cv2.THRESH_BINARY)\n",
        "text = str(pytesseract.image_to_string(thresh1, config='--psm 6')) \n",
        "fullTempPath = os.path.join(tempPath, 'WordPress_Dev_' '1' \".txt\")\n",
        "print(text)  \n",
        "file1 = open(fullTempPath, \"w\")\n",
        "file1.write(text)\n",
        "file1.close()"
      ],
      "execution_count": 43,
      "outputs": [
        {
          "output_type": "stream",
          "text": [
            "BB) 2 oer essbt: | -omersce x + — x\n",
            "€ Cc m bluenessbtecam a) i 2) % em 7:\n",
            "Pio Sees (DD Freeinvcite tule QS Cesar Ezlonen |] 2. @Q tee Tse Ct Sub ta -rsp ise\n",
            "\n",
            "BLUENESSETe\n",
            "BluenessBIC the future of gm.\n",
            "virtual Money .\n",
            "WIN FREE $300 BITCOINS EVERY HOUR! Sing UP Bonus UP to $5 »\n",
            "BlueressBoC 3 one ef the micst elao.e faucet webs tes arcured the &\n",
            "whele world Start to rae your ceyote fortune by camypleting our tas<s F\n",
            "Zar\n",
            "Global silver shortages ~ ar.\n",
            "Buy some silver be“ore it is ice late ie”\n",
            "ry 2 Type here to search O a ie & a | J |) nO aT wt of.0001 RB |\n",
            "\f\n"
          ],
          "name": "stdout"
        }
      ]
    },
    {
      "cell_type": "markdown",
      "metadata": {
        "id": "tmpSkfDBGJeA"
      },
      "source": [
        "#### Extracting text from a document from ios Dev domain"
      ]
    },
    {
      "cell_type": "code",
      "metadata": {
        "id": "MDdEosmPGi-h"
      },
      "source": [
        "from pdf2image import convert_from_path\n",
        "\n",
        "pdfs = r\"/content/freelancers-documents/Freelancers/ios Dev/475030-392x696bbm.pdf\"\n",
        "pages = convert_from_path(pdfs, 350)\n",
        "\n",
        "i = 1\n",
        "for page in pages:\n",
        "    image_name = \"Page_\" + str(i) + \".jpg\"  \n",
        "    page.save(image_name, \"JPEG\")\n",
        "    i = i+1"
      ],
      "execution_count": 44,
      "outputs": []
    },
    {
      "cell_type": "code",
      "metadata": {
        "colab": {
          "base_uri": "https://localhost:8080/"
        },
        "id": "mNN2gZfvGi7k",
        "outputId": "e552fdd5-1126-4a3a-e90f-83ec143682a3"
      },
      "source": [
        "image = cv2.imread('/content/freelancers-documents/Freelancers/Page_1.jpg')\n",
        "tempPath = r\"/content/freelancers-documents/Freelancers\"\n",
        "ret,thresh1 = cv2.threshold(image,120,255,cv2.THRESH_BINARY)\n",
        "text = str(pytesseract.image_to_string(thresh1, config='--psm 6')) \n",
        "fullTempPath = os.path.join(tempPath, 'ios_Dev_' '1' \".txt\")\n",
        "print(text)  \n",
        "file1 = open(fullTempPath, \"w\")\n",
        "file1.write(text)\n",
        "file1.close()"
      ],
      "execution_count": 45,
      "outputs": [
        {
          "output_type": "stream",
          "text": [
            "ee AT&T LTE 5:26 PM TR 52% 0 -\n",
            "© Shu Ate e\n",
            "= *,\n",
            "+\n",
            "Ih\n",
            "SION\n",
            "x Macys ,\n",
            "me\n",
            "Earn 6% Cash Back |\n",
            "a! aa / hoy pe\n",
            "Walmart >.< . ae\n",
            "Earn up to 27% Cash Back\n",
            "hetwire - ae\n",
            "Earn up to 1% Cash Back\n",
            "Hotels.com mG\n",
            "Lam up to 8% Cash Back\n",
            "#PeOOYS ah\n",
            "an\n",
            "\f\n"
          ],
          "name": "stdout"
        }
      ]
    },
    {
      "cell_type": "markdown",
      "metadata": {
        "id": "yYuCReM9rAoB"
      },
      "source": [
        "## Text Normalization using NLTK"
      ]
    },
    {
      "cell_type": "code",
      "metadata": {
        "id": "FKhOCJWRn7HK",
        "colab": {
          "base_uri": "https://localhost:8080/"
        },
        "outputId": "d8edf554-7116-415d-c8ac-524fb335a71d"
      },
      "source": [
        "! pip install -U nltk\n",
        "import nltk"
      ],
      "execution_count": 46,
      "outputs": [
        {
          "output_type": "stream",
          "text": [
            "Requirement already satisfied: nltk in /usr/local/lib/python3.7/dist-packages (3.6.2)\n",
            "Requirement already satisfied: tqdm in /usr/local/lib/python3.7/dist-packages (from nltk) (4.62.0)\n",
            "Requirement already satisfied: joblib in /usr/local/lib/python3.7/dist-packages (from nltk) (1.0.1)\n",
            "Requirement already satisfied: click in /usr/local/lib/python3.7/dist-packages (from nltk) (7.1.2)\n",
            "Requirement already satisfied: regex in /usr/local/lib/python3.7/dist-packages (from nltk) (2019.12.20)\n"
          ],
          "name": "stdout"
        }
      ]
    },
    {
      "cell_type": "code",
      "metadata": {
        "id": "Dt-WpIeipttK",
        "colab": {
          "base_uri": "https://localhost:8080/"
        },
        "outputId": "5cc8bdd7-415b-4677-82f3-123d62dbf474"
      },
      "source": [
        "nltk.download('punkt')\n",
        "nltk.download('stopwords')\n",
        "\n",
        "from nltk import word_tokenize,sent_tokenize"
      ],
      "execution_count": 47,
      "outputs": [
        {
          "output_type": "stream",
          "text": [
            "[nltk_data] Downloading package punkt to /root/nltk_data...\n",
            "[nltk_data]   Package punkt is already up-to-date!\n",
            "[nltk_data] Downloading package stopwords to /root/nltk_data...\n",
            "[nltk_data]   Package stopwords is already up-to-date!\n"
          ],
          "name": "stderr"
        }
      ]
    },
    {
      "cell_type": "code",
      "metadata": {
        "id": "kOrC9wOTTuQQ",
        "colab": {
          "base_uri": "https://localhost:8080/"
        },
        "outputId": "f5fff4fc-f28b-453e-9159-30aa6254d91b"
      },
      "source": [
        "# load data\n",
        "filename = '/content/freelancers-documents/Freelancers/Android_Dev_1.txt'\n",
        "file = open(filename, 'rt')\n",
        "text = file.read()\n",
        "file.close()\n",
        "\n",
        "# split into words\n",
        "from nltk.tokenize import word_tokenize\n",
        "tokens = word_tokenize(text)\n",
        "\n",
        "# convert to lower case\n",
        "tokens = [w.lower() for w in tokens]\n",
        "\n",
        "# remove punctuation from each word\n",
        "import string\n",
        "table = str.maketrans('', '', string.punctuation)\n",
        "stripped = [w.translate(table) for w in tokens]\n",
        "\n",
        "# remove remaining tokens that are not alphabetic\n",
        "words = [word for word in stripped if word.isalpha()]\n",
        "\n",
        "# filter out stop words\n",
        "from nltk.corpus import stopwords\n",
        "stop_words = set(stopwords.words('english'))\n",
        "words = [w for w in words if not w in stop_words]\n",
        "print(words[:100])\n",
        "\n",
        "# stemming of words\n",
        "from nltk.stem.porter import PorterStemmer\n",
        "porter = PorterStemmer()\n",
        "stemmed = [porter.stem(word) for word in tokens]\n",
        "print(stemmed[:100])"
      ],
      "execution_count": 48,
      "outputs": [
        {
          "output_type": "stream",
          "text": [
            "['ip', 'oe', 'recyclewaala', 'service', 'available', 'lucknow']\n",
            "['=', '>', '“', 'ip', 'oe', '&', 'y', 'recyclewaala', 'thi', 'servic', 'is', 'avail', 'for', 'all', 'in', 'lucknow', 'onli']\n"
          ],
          "name": "stdout"
        }
      ]
    },
    {
      "cell_type": "code",
      "metadata": {
        "id": "0Wd_97DZrd2K",
        "colab": {
          "base_uri": "https://localhost:8080/"
        },
        "outputId": "49954e13-57b6-42d5-cba1-cd03c3116d7c"
      },
      "source": [
        "# load data\n",
        "filename = '/content/freelancers-documents/Freelancers/Content_1.txt'\n",
        "file = open(filename, 'rt')\n",
        "text = file.read()\n",
        "file.close()\n",
        "\n",
        "# split into words\n",
        "from nltk.tokenize import word_tokenize\n",
        "tokens = word_tokenize(text)\n",
        "\n",
        "# convert to lower case\n",
        "tokens = [w.lower() for w in tokens]\n",
        "\n",
        "# remove punctuation from each word\n",
        "import string\n",
        "table = str.maketrans('', '', string.punctuation)\n",
        "stripped = [w.translate(table) for w in tokens]\n",
        "\n",
        "# remove remaining tokens that are not alphabetic\n",
        "words = [word for word in stripped if word.isalpha()]\n",
        "\n",
        "# filter out stop words\n",
        "from nltk.corpus import stopwords\n",
        "stop_words = set(stopwords.words('english'))\n",
        "words = [w for w in words if not w in stop_words]\n",
        "print(words[:100])\n",
        "\n",
        "# stemming of words\n",
        "from nltk.stem.porter import PorterStemmer\n",
        "porter = PorterStemmer()\n",
        "stemmed = [porter.stem(word) for word in tokens]\n",
        "print(stemmed[:100])"
      ],
      "execution_count": 49,
      "outputs": [
        {
          "output_type": "stream",
          "text": [
            "['consumer', 'protection', 'act', 'eee', 'cpa', 'benevolent', 'social', 'legislation', 'lays', 'rights', 'consumers', 'also', 'provides', 'means', 'promotion', 'protection', 'supreme', 'court', 'brought', 'medical', 'profession', 'section', 'cpa', 'e', 'consumer', 'medical', 'profession', 'patient', 'pays', 'get', 'services', 'doctor', 'hospital', 'person', 'pays', 'patient', 'legal', 'heirs', 'representatives', 'patients', 'case', 'death', 'patient', 'consumer', 'legal', 'heirs', 'representatives', 'deceased', 'considered', 'consumer', 'payment', 'made', 'person', 'legal', 'heir', 'deceased', 'considered', 'consumer', 'e', 'rights', 'consumer', 'per', 'consumer', 'protection', 'act', 'consumer', 'following', 'six', 'rights', 'consumer', 'service', 'obtained', 'payment', 'charges', 'towards', 'item', 'bought', 'paying', 'cost', 'right', 'safety', 'right', 'choose', 'right', 'information', 'right', 'education', 'right', 'heard', 'right', 'seek', 'redressal', 'consumer', 'complaint', 'medical', 'satisfied', 'complaint', 'superintendent', 'reply', 'concerned']\n",
            "['consum', 'protect', 'act', 'eee', '-', 'the', 'cpa', ',', '1986', 'is', 'a', 'benevol', 'social', 'legisl', 'that', 'lay', 'down', 'the', 'right', 'of', 'the', 'consum', 'and', 'also', 'provid', 'mean', 'for', 'their', 'promot', 'and', 'protect', '.', '-', 'in', '1993', ',', 'the', 'suprem', 'court', 'brought', 'the', 'medic', 'profess', 'under', 'the', 'section', '2', '(', '1', ')', '(', '0', ')', 'of', 'cpa', '.', 'e', 'who', 'is', 'a', 'consum', 'in', 'medic', 'profess', '-', 'a', 'patient', 'who', 'pay', 'to', 'get', 'servic', 'of', 'doctor', '/hospit', ',', '-', 'ani', 'person', 'who', 'pay', 'for', 'the', 'patient', ',', 'legal', 'heir', '/repres', 'of', 'such', 'patient', ',', '-', 'in', 'case', 'of', 'death', 'of', 'patient', 'who']\n"
          ],
          "name": "stdout"
        }
      ]
    },
    {
      "cell_type": "code",
      "metadata": {
        "id": "9KjN6oLjrdPq",
        "colab": {
          "base_uri": "https://localhost:8080/"
        },
        "outputId": "84349e00-0526-49c7-c127-01828e2888dc"
      },
      "source": [
        "# load data\n",
        "filename = '/content/freelancers-documents/Freelancers/Content_2.txt'\n",
        "file = open(filename, 'rt')\n",
        "text = file.read()\n",
        "file.close()\n",
        "\n",
        "# split into words\n",
        "from nltk.tokenize import word_tokenize\n",
        "tokens = word_tokenize(text)\n",
        "\n",
        "# convert to lower case\n",
        "tokens = [w.lower() for w in tokens]\n",
        "\n",
        "# remove punctuation from each word\n",
        "import string\n",
        "table = str.maketrans('', '', string.punctuation)\n",
        "stripped = [w.translate(table) for w in tokens]\n",
        "\n",
        "# remove remaining tokens that are not alphabetic\n",
        "words = [word for word in stripped if word.isalpha()]\n",
        "\n",
        "# filter out stop words\n",
        "from nltk.corpus import stopwords\n",
        "stop_words = set(stopwords.words('english'))\n",
        "words = [w for w in words if not w in stop_words]\n",
        "print(words[:100])\n",
        "\n",
        "# stemming of words\n",
        "from nltk.stem.porter import PorterStemmer\n",
        "porter = PorterStemmer()\n",
        "stemmed = [porter.stem(word) for word in tokens]\n",
        "print(stemmed[:100])"
      ],
      "execution_count": 50,
      "outputs": [
        {
          "output_type": "stream",
          "text": [
            "['consumer', 'protection', 'act', 'eee', 'e', 'complaint', 'filed', 'tier', 'system', 'cpa', 'po', 'sie', 'ee', 'asic', 'mi', 'binelitciate', 'retoanentiels', 'value', 'soe', 'vate', 'one', 'value', 'services', 'services', 'compensation', 'claimed', 'compensation', 'exceed', 'compensation', 'exceeds', 'claimed', 'less', 'rs', 'crore', 'rs', 'lakh', 'crore', 'e', 'chairperson', 'members', 'chairman', 'person', 'chairperson', 'person', 'chairperson', 'person', 'qualified', 'district', 'judge', 'judge', 'judge', 'high', 'court', 'appointed', 'supreme', 'court', 'two', 'members', 'state', 'government', 'appointed', 'central', 'adequate', 'knowledge', 'two', 'members', 'government', 'experience', 'dealing', 'qualifications', 'members', 'problems', 'relating', 'experience', 'district', 'one', 'shall', 'various', 'fields', 'one', 'forum', 'within', 'state', 'woman', 'awoman', 'e', 'liable', 'medicaldental', 'practitioners', 'independent', 'medicaldental', 'practice', 'unless', 'rendering', 'free', 'service', 'private', 'hospitals', 'charging', 'patients']\n",
            "['consum', 'protect', 'act', 'eee', 'e', 'where', 'is', 'a', 'complaint', 'file', '?', '-', '3', 'tier', 'system', 'of', 'cpa', '.', 'po', 'd', '>', 'sie', 'ee', 'asic', ')', 'mi', 'binelitci', 'retoanentiel', '*', 'if', 'the', 'valu', 'of', 'soe', 'vate', 'one', '*', 'if', 'the', 'valu', 'of', 'the', 'servic', 'and', 'servic', 'and', 'the', ';', 'compens', 'claim', 'compens', 'doe', 'not', 'exceed', 'more', 'compens', 'exce', 'claim', 'is', 'less', 'more', 'than', 'rs', '1', 'crore', '.', 'than', 'rs', '.', '20', 'lakh', 'than', 'rs.1', 'crore', '.', 'e', 'chairperson', 'and', 'member', '«', 'chairman', ':', 'a', 'person', 'who', 'is', '*', 'chairperson', ':', 'a', 'person', 'who', '*', 'chairperson', ':', 'a', 'person', 'who', 'is', 'qualifi']\n"
          ],
          "name": "stdout"
        }
      ]
    },
    {
      "cell_type": "code",
      "metadata": {
        "id": "Rqx50Yx1rcdb",
        "colab": {
          "base_uri": "https://localhost:8080/"
        },
        "outputId": "4a2b707b-a7d4-4ceb-a496-b34611a6942f"
      },
      "source": [
        "# load data\n",
        "filename = '/content/freelancers-documents/Freelancers/Content_3.txt'\n",
        "file = open(filename, 'rt')\n",
        "text = file.read()\n",
        "file.close()\n",
        "\n",
        "# split into words\n",
        "from nltk.tokenize import word_tokenize\n",
        "tokens = word_tokenize(text)\n",
        "\n",
        "# convert to lower case\n",
        "tokens = [w.lower() for w in tokens]\n",
        "\n",
        "# remove punctuation from each word\n",
        "import string\n",
        "table = str.maketrans('', '', string.punctuation)\n",
        "stripped = [w.translate(table) for w in tokens]\n",
        "\n",
        "# remove remaining tokens that are not alphabetic\n",
        "words = [word for word in stripped if word.isalpha()]\n",
        "\n",
        "# filter out stop words\n",
        "from nltk.corpus import stopwords\n",
        "stop_words = set(stopwords.words('english'))\n",
        "words = [w for w in words if not w in stop_words]\n",
        "print(words[:100])\n",
        "\n",
        "# stemming of words\n",
        "from nltk.stem.porter import PorterStemmer\n",
        "porter = PorterStemmer()\n",
        "stemmed = [porter.stem(word) for word in tokens]\n",
        "print(stemmed[:100])"
      ],
      "execution_count": 51,
      "outputs": [
        {
          "output_type": "stream",
          "text": [
            "['consumer', 'protection', 'act', 'e', 'adjudication', 'liability', 'take', 'place', 'proper', 'scrutiny', 'either', 'filing', 'affidavit', 'production', 'evidence', 'form', 'interrogatories', 'expert', 'evidence', 'medical', 'literature', 'judicial', 'decisions', 'forum', 'commision', 'satisfied', 'allegations', 'contained', 'complaint', 'services', 'proved', 'issue', 'order', 'opposite', 'party', 'directing', 'remove', 'bolom', 'aeris', 'madsen', 'deficiency', 'olaueles', 'e', 'provision', 'appeal', 'fag', 'appeal', 'decision', 'district', 'forum', 'filed', 'iii', 'commission', 'days', 'va', 'appeal', 'decision', 'state', 'commission', 'national', 'mii', 'commission', 'days', 'appeal', 'decision', 'national', 'commission', 'supreme', 'within', 'court', 'clokolen', 'ss']\n",
            "['consum', 'protect', 'act', 'e', 'how', 'doe', 'adjud', 'of', 'liabil', 'take', 'place', 'proper', 'scrutini', 'either', 'file', 'of', 'an', 'affidavit', 'or', 'product', 'of', 'evid', 'in', 'the', 'form', 'of', 'interrogatori', ',', 'expert', 'evid', ',', 'medic', 'literatur', ',', 'and', 'judici', 'decis', 'the', 'forum/', 'commis', 'is', 'satisfi', 'that', 'ani', 'of', 'the', 'alleg', 'contain', 'in', 'the', 'complaint', 'about', 'the', 'servic', 'are', 'prove', ':', 'issu', 'an', 'order', 'to', 'the', 'opposit', 'parti', 'direct', 'him', ',', 'to', 'remov', 'the', 'bolom', 'aeri', 'madsen', 'the', 'defici', 'in', 'the', 'olauel', 'e', 'provis', 'of', 'appeal', '._', 'fag', '°', 'an', 'appeal', 'against', 'the', 'decis', 'of', 'the', 'district', 'forum', 'can', 'be', 'file', 'befor', 'the', 'iii']\n"
          ],
          "name": "stdout"
        }
      ]
    },
    {
      "cell_type": "code",
      "metadata": {
        "id": "YQceYzMirbnT",
        "colab": {
          "base_uri": "https://localhost:8080/"
        },
        "outputId": "bc253cbd-c716-4569-888e-529cbb453556"
      },
      "source": [
        "# load data\n",
        "filename = '/content/freelancers-documents/Freelancers/Content_4.txt'\n",
        "file = open(filename, 'rt')\n",
        "text = file.read()\n",
        "file.close()\n",
        "\n",
        "# split into words\n",
        "from nltk.tokenize import word_tokenize\n",
        "tokens = word_tokenize(text)\n",
        "\n",
        "# convert to lower case\n",
        "tokens = [w.lower() for w in tokens]\n",
        "\n",
        "# remove punctuation from each word\n",
        "import string\n",
        "table = str.maketrans('', '', string.punctuation)\n",
        "stripped = [w.translate(table) for w in tokens]\n",
        "\n",
        "# remove remaining tokens that are not alphabetic\n",
        "words = [word for word in stripped if word.isalpha()]\n",
        "\n",
        "# filter out stop words\n",
        "from nltk.corpus import stopwords\n",
        "stop_words = set(stopwords.words('english'))\n",
        "words = [w for w in words if not w in stop_words]\n",
        "print(words[:100])\n",
        "\n",
        "# stemming of words\n",
        "from nltk.stem.porter import PorterStemmer\n",
        "porter = PorterStemmer()\n",
        "stemmed = [porter.stem(word) for word in tokens]\n",
        "print(stemmed[:100])"
      ],
      "execution_count": 52,
      "outputs": [
        {
          "output_type": "stream",
          "text": [
            "['consumer', 'protection', 'act', 'eee', 'e', 'time', 'schedule', 'disposal', 'complaints', 'apeeals', 'every', 'complaint', 'decided', 'within', 'days', 'date', 'receipt', 'notice', 'opposite', 'party', 'requirement', 'testing', 'sample', 'etc', 'event', 'requirement', 'prescribed', 'time', 'months', 'appeals', 'disposed', 'within', 'period', 'days', 'acomplaintappeal', 'disposed', 'specified', 'period', 'forumcommission', 'records', 'reasons', 'delay', 'writing', 'e', 'conditions', 'cpa', 'limitation', 'period', 'file', 'complaint', 'within', 'years', 'date', 'cause', 'action', 'arisen', 'dismissal', 'frivolous', 'vexatious', 'complaints', 'case', 'found', 'frivolous', 'vexatious', 'complaint', 'dismissed', 'order', 'made', 'complainant', 'pays', 'cost', 'exceeding', 'rupees', 'opposite', 'part', 'penalties', 'defendant', 'complainant', 'fails', 'comply', 'may', 'punishable', 'imprisonment', 'term', 'less', 'one', 'month', 'may', 'extend', 'three', 'years', 'fine', 'less', 'rs', 'may', 'extend', 'rs', 'e', 'doctor', 'innocent']\n",
            "['consum', 'protect', 'act', 'eee', 'e', 'time', 'schedul', 'for', 'dispos', 'of', 'complaints/', 'apeeal', '-', 'everi', 'complaint', '>', 'decid', 'within', '>', '90', 'day', 'from', 'the', 'date', 'of', 'receipt', 'of', 'notic', 'by', 'opposit', 'parti', ',', 'where', 'there', 'is', 'no', 'requir', 'for', 'test', 'of', 'sampl', 'etc', '.', 'in', 'the', 'event', 'of', 'such', 'a', 'requir', ',', 'the', 'prescrib', 'time', 'is', '5', 'month', '.', '-', 'appeal', '>', 'dispos', 'of', 'within', 'a', 'period', 'of', '90', 'day', '.', '-', 'if', 'acomplaint/app', 'is', 'dispos', 'of', 'after', 'the', 'specifi', 'period', ',', 'then', 'the', 'forum/commiss', 'record', 'the', 'reason', 'for', 'the', 'delay', 'in', 'write', '.', 'e', 'condit', 'of', 'cpa', '-', 'limit', 'period']\n"
          ],
          "name": "stdout"
        }
      ]
    },
    {
      "cell_type": "code",
      "metadata": {
        "id": "oQOpBwbRrSLL",
        "colab": {
          "base_uri": "https://localhost:8080/"
        },
        "outputId": "13ec2534-f1ef-4dad-b663-411ab907df62"
      },
      "source": [
        "# load data\n",
        "filename = '/content/freelancers-documents/Freelancers/Data_Entry_1.txt'\n",
        "file = open(filename, 'rt')\n",
        "text = file.read()\n",
        "file.close()\n",
        "\n",
        "# split into words\n",
        "from nltk.tokenize import word_tokenize\n",
        "tokens = word_tokenize(text)\n",
        "\n",
        "# convert to lower case\n",
        "tokens = [w.lower() for w in tokens]\n",
        "\n",
        "# remove punctuation from each word\n",
        "import string\n",
        "table = str.maketrans('', '', string.punctuation)\n",
        "stripped = [w.translate(table) for w in tokens]\n",
        "\n",
        "# remove remaining tokens that are not alphabetic\n",
        "words = [word for word in stripped if word.isalpha()]\n",
        "\n",
        "# filter out stop words\n",
        "from nltk.corpus import stopwords\n",
        "stop_words = set(stopwords.words('english'))\n",
        "words = [w for w in words if not w in stop_words]\n",
        "print(words[:100])\n",
        "\n",
        "# stemming of words\n",
        "from nltk.stem.porter import PorterStemmer\n",
        "porter = PorterStemmer()\n",
        "stemmed = [porter.stem(word) for word in tokens]\n",
        "print(stemmed[:100])"
      ],
      "execution_count": 53,
      "outputs": [
        {
          "output_type": "stream",
          "text": [
            "['lao', 'investigators', 'leads', 'microsoft', 'excel', 'sope', 'insert', 'page', 'la', 'formulas', 'data', 'pevievy', 'wes', 'ao', 'oo', 'eé', 'r', 'calibri', 'fe', 'p', 'f', 'virap', 'test', 'general', 'hr', 'oy', 'neutral', 'calculation', 'os', 'sa', 'h', 'paste', 'sena', 'paimer', 'uo', 'ss', 'eb', 'almerge', 'center', 'se', 'fonating', 'format', 'followed', 'hyp', 'hvpertink', 'insert', 'delete', 'format', 'ona', 'non', 'ind', 'v', 'lucy', 'lucymcallisterlicensinglawcom', 'b', 'c', 'e', 'f', 'g', 'h', 'jo', 'jerry', 'davi', 'vice', 'president', 'erry', 'davis', 'lamresearchcom', 'cushing', 'parkway', 'fremgusa', 'ca', 'ntpsswwwlanvesearchcom', 'httpswwwlnkedincomin', 'richard', 'warer', 'vice', 'president', 'rchardh', 'specialpcom', 'gazette', 'avenuechatsw', 'usa', 'ca', 'ntipssspecalpicom', 'https', 'www', 'linkedin', 'comin', 'sesha', 'neervannan', 'senior', 'vie', 'president', 'seshaneervannan', 'alergancom', 'giralda', 'farmsmadison', 'njgusa', 'nj']\n",
            "['lao-', 'investig', 'lead', '=', 'microsoft', 'excel', '=', 'sope', 'insert', 'page', 'la', 'out', 'formula', 'data', 'pevievi', 'we', 'ao', 'oo', '@', 'eé', 'r', '&', '“', 'calibri', '.t', '_a', 'a', 'fe', '==', 'p.', '=f', 'virap', 'test', 'gener', '.', 'hr', 'oy', 'neutral', 'calcul', 'a', ':', 'os', '+', 'a', 'sa', '.', 'h', '#', 'past', 'sena', 'paimer', '2', '4', 'uo', '_', '*', '2', 'ss', '3', '£', 'eb', 'almerg', '&', 'center', ':', '$', '-', '%', '1', 'se', 'fonat', 'format', '8', ';', 'follow', 'hyp', '...', '[', 'hvpertink', '|', 'insert', 'delet', 'format', '©', 'ona', ':', 'non', 'ind', '&', 'd11', 'v', '&', 'luci', '@', 'lucymcallisterlicensinglaw.com', '¥', 'b', 'c', 'd', 'e']\n"
          ],
          "name": "stdout"
        }
      ]
    },
    {
      "cell_type": "code",
      "metadata": {
        "id": "8YDT4LMwrR-i",
        "colab": {
          "base_uri": "https://localhost:8080/"
        },
        "outputId": "9ff97c6b-c970-4f84-8f72-06e00cce08e4"
      },
      "source": [
        "# load data\n",
        "filename = '/content/freelancers-documents/Freelancers/Graphic_Designer_1.txt'\n",
        "file = open(filename, 'rt')\n",
        "text = file.read()\n",
        "file.close()\n",
        "\n",
        "# split into words\n",
        "from nltk.tokenize import word_tokenize\n",
        "tokens = word_tokenize(text)\n",
        "\n",
        "# convert to lower case\n",
        "tokens = [w.lower() for w in tokens]\n",
        "\n",
        "# remove punctuation from each word\n",
        "import string\n",
        "table = str.maketrans('', '', string.punctuation)\n",
        "stripped = [w.translate(table) for w in tokens]\n",
        "\n",
        "# remove remaining tokens that are not alphabetic\n",
        "words = [word for word in stripped if word.isalpha()]\n",
        "\n",
        "# filter out stop words\n",
        "from nltk.corpus import stopwords\n",
        "stop_words = set(stopwords.words('english'))\n",
        "words = [w for w in words if not w in stop_words]\n",
        "print(words[:100])\n",
        "\n",
        "# stemming of words\n",
        "from nltk.stem.porter import PorterStemmer\n",
        "porter = PorterStemmer()\n",
        "stemmed = [porter.stem(word) for word in tokens]\n",
        "print(stemmed[:100])"
      ],
      "execution_count": 54,
      "outputs": [
        {
          "output_type": "stream",
          "text": [
            "['yourlastwebdesgner', 'home', 'process', 'portfoo', 'e', 'e', 'e', 'eee', 'ee', 'building', 'e', 'websites', 'matter', 'startup', 'speed', 'etb', 'watch', 'video', 'top', 'rated', 'brands', 'weve', 'worked', 'gigster', 'panasonic', 'toyota', 'process']\n",
            "['yourlastwebdes/gn', 'home', 'our', 'process', 'me', 'portfo.o', 'e', 'e', 'e', '@', '*', 'eee', 'ee', 'build', '|', 'e', '’', 'websit', 'that', 'matter', 'at', 'startup', 'speed|', '|', 'etb', 'watch', 'video', '>', '0', 'top', 'rate', ':', ':', ':', ':', ':', '.', 'some', 'of', 'the', 'brand', 'weve', 'work', 'with', 'gigster', 'panason', 'toyota', 'our', 'process', '.']\n"
          ],
          "name": "stdout"
        }
      ]
    },
    {
      "cell_type": "code",
      "metadata": {
        "id": "xsh93ZyQrRta",
        "colab": {
          "base_uri": "https://localhost:8080/"
        },
        "outputId": "d790faf7-3d38-4717-83e3-1b4fa2484ad1"
      },
      "source": [
        "# load data\n",
        "filename = '/content/freelancers-documents/Freelancers/Logo_1.txt'\n",
        "file = open(filename, 'rt')\n",
        "text = file.read()\n",
        "file.close()\n",
        "\n",
        "# split into words\n",
        "from nltk.tokenize import word_tokenize\n",
        "tokens = word_tokenize(text)\n",
        "\n",
        "# convert to lower case\n",
        "tokens = [w.lower() for w in tokens]\n",
        "\n",
        "# remove punctuation from each word\n",
        "import string\n",
        "table = str.maketrans('', '', string.punctuation)\n",
        "stripped = [w.translate(table) for w in tokens]\n",
        "\n",
        "# remove remaining tokens that are not alphabetic\n",
        "words = [word for word in stripped if word.isalpha()]\n",
        "\n",
        "# filter out stop words\n",
        "from nltk.corpus import stopwords\n",
        "stop_words = set(stopwords.words('english'))\n",
        "words = [w for w in words if not w in stop_words]\n",
        "print(words[:100])\n",
        "\n",
        "# stemming of words\n",
        "from nltk.stem.porter import PorterStemmer\n",
        "porter = PorterStemmer()\n",
        "stemmed = [porter.stem(word) for word in tokens]\n",
        "print(stemmed[:100])"
      ],
      "execution_count": 55,
      "outputs": [
        {
          "output_type": "stream",
          "text": [
            "['ss', 'z', 'f', 'worksno', 'r', 'workshop', 'workshop']\n",
            "['ss', '2', '7', 'z', '3', 'f', 'worksno', 'r', '3f', 'workshop', '3f', 'workshop']\n"
          ],
          "name": "stdout"
        }
      ]
    },
    {
      "cell_type": "code",
      "metadata": {
        "id": "nr0tzfQHrRg6",
        "colab": {
          "base_uri": "https://localhost:8080/"
        },
        "outputId": "b203b69b-3173-48b2-f1c6-8f20fe3400f5"
      },
      "source": [
        "# load data\n",
        "filename = '/content/freelancers-documents/Freelancers/Microsoft_Excel_1.txt'\n",
        "file = open(filename, 'rt')\n",
        "text = file.read()\n",
        "file.close()\n",
        "\n",
        "# split into words\n",
        "from nltk.tokenize import word_tokenize\n",
        "tokens = word_tokenize(text)\n",
        "\n",
        "# convert to lower case\n",
        "tokens = [w.lower() for w in tokens]\n",
        "\n",
        "# remove punctuation from each word\n",
        "import string\n",
        "table = str.maketrans('', '', string.punctuation)\n",
        "stripped = [w.translate(table) for w in tokens]\n",
        "\n",
        "# remove remaining tokens that are not alphabetic\n",
        "words = [word for word in stripped if word.isalpha()]\n",
        "\n",
        "# filter out stop words\n",
        "from nltk.corpus import stopwords\n",
        "stop_words = set(stopwords.words('english'))\n",
        "words = [w for w in words if not w in stop_words]\n",
        "print(words[:100])\n",
        "\n",
        "# stemming of words\n",
        "from nltk.stem.porter import PorterStemmer\n",
        "porter = PorterStemmer()\n",
        "stemmed = [porter.stem(word) for word in tokens]\n",
        "print(stemmed[:100])"
      ],
      "execution_count": 56,
      "outputs": [
        {
          "output_type": "stream",
          "text": [
            "['general', 'createlnvoice', 'sub', 'createinvoice', 'dim', 'cell', 'range', 'baserange', 'range', 'dim', 'templatesheet', 'worksheet', 'lr', 'invoicedatarange', 'bl', 'currentregion', 'rowscount', 'le', 'inveicedatarange', 'al', 'currentregioncolumnscount', 'set', 'baserange', 'inveoicedatarange', 'resize', 'lr', 'lr', 'set', 'cell', 'invoicedatacells', 'cellvalue', 'celloffset', 'value', 'celloffset', 'value', 'cellooffset', 'l', 'value', 'templatesheet', 'nothing', 'templatesheetccellsreplace', 'part', 'number', 'templatesheetccellsreplace', 'description', 'templatesheetcellsreplace', 'qty', 'templatesheetcellsreplace', 'unit', 'price', 'myr', 'templatesheetcellsreplace', 'net', 'myr', 'filepath', 'thisworkbookpath', 'templatesheetrange', 'hill', 'value', 'templatesheetexportasfixedformat', 'xltypepdf', 'filepath', 'templatesheetparentclose', 'false', 'set', 'templatesheet', 'nothing', 'end', 'tf', 'inveicedatacells', 'ai', 'value', 'done', 'goto', 'skip', 'count', 'worksheetfunctioncountlfis', 'baserange', 'cellvalue', 'baserangeoffset', 'celloffset', 'invoiceformatcopy', 'set', 'templatesheet', 'activesheet']\n",
            "['|', ',', '(', 'gener', ')', '~', 'createlnvoic', '_', '|', 'sub', 'createinvoic', '(', ')', 'y', 'dim', 'cell', 'as', 'rang', ',', 'baserang', 'as', 'rang', '|', 'dim', 'templatesheet', 'as', 'worksheet', 'lr', '=', 'invoicedata.rang', '(', '``', 'bl', \"''\", ')', '.currentregion', '.', 'rows.count', 'le', '=', 'inveicedata.rang', '(', '``', 'al', \"''\", ')', '.currentregion.columns.count', 'set', 'baserang', '=', 'inveoicedata.rang', '(', '``', 'b2', \"''\", ')', '.resiz', '(', 'lr', '-', '1', ')', 'for', 'i', '=2', 'to', 'lr', '+1', 'set', 'cell', '=', 'invoicedata.cel', '(', 'i', ',', '2', ')', 'if', 'cell.valu', '<', '>', 'cell.offset', '(', '-1l', ')', '.valu', 'and', 'cell.offset', '(', ',', '1', ')', '.valu', '<', '>', 'cell.ooffset', '(', '-l', ',', '1']\n"
          ],
          "name": "stdout"
        }
      ]
    },
    {
      "cell_type": "code",
      "metadata": {
        "id": "ryg7nXvjrRAS",
        "colab": {
          "base_uri": "https://localhost:8080/"
        },
        "outputId": "b4d94397-eabf-4ae7-beb8-8de7057d7546"
      },
      "source": [
        "# load data\n",
        "filename = '/content/freelancers-documents/Freelancers/PHP_Dev_1.txt'\n",
        "file = open(filename, 'rt')\n",
        "text = file.read()\n",
        "file.close()\n",
        "\n",
        "# split into words\n",
        "from nltk.tokenize import word_tokenize\n",
        "tokens = word_tokenize(text)\n",
        "\n",
        "# convert to lower case\n",
        "tokens = [w.lower() for w in tokens]\n",
        "\n",
        "# remove punctuation from each word\n",
        "import string\n",
        "table = str.maketrans('', '', string.punctuation)\n",
        "stripped = [w.translate(table) for w in tokens]\n",
        "\n",
        "# remove remaining tokens that are not alphabetic\n",
        "words = [word for word in stripped if word.isalpha()]\n",
        "\n",
        "# filter out stop words\n",
        "from nltk.corpus import stopwords\n",
        "stop_words = set(stopwords.words('english'))\n",
        "words = [w for w in words if not w in stop_words]\n",
        "print(words[:100])\n",
        "\n",
        "# stemming of words\n",
        "from nltk.stem.porter import PorterStemmer\n",
        "porter = PorterStemmer()\n",
        "stemmed = [porter.stem(word) for word in tokens]\n",
        "print(stemmed[:100])"
      ],
      "execution_count": 57,
      "outputs": [
        {
          "output_type": "stream",
          "text": [
            "['te', 'select', 'criteria', 'pata', 'r', 'class', 'section', 'subject', 'group', 'class', 'v', 'v', 'math', 'v', 'student', 'information', 'fees', 'collection', 'c', 'income', 'monday', 'tuesday', 'wednesday', 'thursday', 'friday', 'saturday', 'sunday', 'add', 'new', 'e', 'expenses', 'subject', 'teacher', 'time', 'time', 'room', 'action', 'attendance', 'select', 'select', 'oo', 'us', 'cunueltens', 'online', 'examinations', 'fmt', 'fm', 'ania', 'ms', 'cre', 'go', 'communicate', 'download', 'center', 'homework', 'library']\n",
            "['te', 'select', 'criteria', 'pata', 'r', 'class~', 'section', '~', 'subject', 'group', '*', 'class', '|', 'v', '5', 'v', 'math', 'v', '&', '+', 'student', 'inform', '<', 'fee', 'collect', 'c', '$', 'incom', 'r4', 'monday', 'tuesday', 'wednesday', 'thursday', 'friday', 'saturday', 'sunday', '+', 'add', 'new', 'e', '|', 'expens', 'a', '7', 'subject', 'teacher', 'time', 'from', 'time', 'to', 'room', 'no', 'action', 'attend', '<', 'select', 'select', '©', 'oo', 'us', 'cunuelten', '4', '3', ')', 'onlin', 'examin', '<', 'fmt', '0', '4', 'fm', 'ania', 'ms', 'cre', 'go', ')', '<', '€t', 'commun', '<', '&', 'download', 'center', '4', '&', 'homework', '%', '4', '&', 'librari', '<']\n"
          ],
          "name": "stdout"
        }
      ]
    },
    {
      "cell_type": "code",
      "metadata": {
        "id": "WSuJ8-GlqKiJ",
        "colab": {
          "base_uri": "https://localhost:8080/"
        },
        "outputId": "ee0a7091-2931-4b85-d2c2-466fb3b85462"
      },
      "source": [
        "# load data\n",
        "filename = '/content/freelancers-documents/Freelancers/SEO_1.txt'\n",
        "file = open(filename, 'rt')\n",
        "text = file.read()\n",
        "file.close()\n",
        "\n",
        "# split into words\n",
        "from nltk.tokenize import word_tokenize\n",
        "tokens = word_tokenize(text)\n",
        "\n",
        "# convert to lower case\n",
        "tokens = [w.lower() for w in tokens]\n",
        "\n",
        "# remove punctuation from each word\n",
        "import string\n",
        "table = str.maketrans('', '', string.punctuation)\n",
        "stripped = [w.translate(table) for w in tokens]\n",
        "\n",
        "# remove remaining tokens that are not alphabetic\n",
        "words = [word for word in stripped if word.isalpha()]\n",
        "\n",
        "# filter out stop words\n",
        "from nltk.corpus import stopwords\n",
        "stop_words = set(stopwords.words('english'))\n",
        "words = [w for w in words if not w in stop_words]\n",
        "print(words[:100])\n",
        "\n",
        "# stemming of words\n",
        "from nltk.stem.porter import PorterStemmer\n",
        "porter = PorterStemmer()\n",
        "stemmed = [porter.stem(word) for word in tokens]\n",
        "print(stemmed[:100])"
      ],
      "execution_count": 58,
      "outputs": [
        {
          "output_type": "stream",
          "text": [
            "['google', 'bike', 'rent', 'delhi', 'ladakh', 'u', 'q', 'full', 'regert', 'ch', 'mawes', 'e', 'ness', 'images', 'oe', 'virbens', 'di', 'soye', 'settings', 'cs', 'ao', 'oe', 'ee', 'ee', 'oe', 'bike', 'rent', 'delhincr', 'expert', 'ladakh', 'spiti', 'rides', 'exnst', 'ory', 'www', 'stoneheadbikes', 'com', 'fanods', 'eecermts', 'long', 'duratien', 'rental', 'jechaniial', 'vvarranty', 'wih', 'ete', 'mechanical', 'supoort', 'sort', 'page', 'wech', 'warranty', 'sugmor', 'cay', 'ater', 'ctelivery', 'advance', 'free', 'celivery', 'booking', 'open', 'tor', 'lea', 'ney', 'avail', 'college', 'chscounts', 'flat', 'discount', 'moacels', 'avallabhle', 'nowy', 'locale', 'register', 'online', 'accesscries', 'gears', 'bike', 'cn', 'rert', 'deals', 'cfered', 'view', 'tours', 'bike', 'rent', 'delhi', 'ladakh', 'leh', 'manali', 'spiti', 'etc', 'attos', 'rahulmotoz', 'com', 'raplineinz', 'motorcycle', 'rental', 'comreany', 'grovide']\n",
            "['googl', 'bike', 'on', 'rent', 'in', 'delhi', 'for', 'ladakh', 'u', 'q', '%', 'full', 'regert', 'ch', 'all', 'no', 'maw', 'e', 'ness', '“', 'a', 'imag', 'oe', 'virben', 'di', 'soy', 'set', '“', 'cs', 'ao', 'oe', 'ee', 'ee', 'oe', '—_', 'bike', 'on', 'rent', 'in', 'delhi/ncr', '|', 'expert', 'in', 'ladakh', '&', 'spiti', 'ride', 'exnst', 'ori', 'www', '.', 'stoneheadbik', 'com', '’', ')', '¥', 'fanod', '77253', 'eecermt', 'i', 'long', 'duratien', 'rental', '7o0°', '>', '[', 'jechanii', 'vvarranti', 'wih', 'ete', \"''\", 'mechan', 'supoort', 'sort', 'thi', 'page', 'yoo°', ',', 'wech', 'warranti', '24x7', 'sugmor', 'cay', 'ater', 'ctelivery-', 'no', 'advanc', 'free', 'celiveri', 'book', 'open', 'tor', 'lea', 'ney', 'avail', 'colleg', 'chscount', 'flat', '12', \"''\"]\n"
          ],
          "name": "stdout"
        }
      ]
    },
    {
      "cell_type": "code",
      "metadata": {
        "id": "va6zxF8-TuGC",
        "colab": {
          "base_uri": "https://localhost:8080/"
        },
        "outputId": "3ce0e8ce-e314-4f21-bd5d-07c53a90aa28"
      },
      "source": [
        "# load data\n",
        "filename = '/content/freelancers-documents/Freelancers/WordPress_Dev_1.txt'\n",
        "file = open(filename, 'rt')\n",
        "text = file.read()\n",
        "file.close()\n",
        "\n",
        "# split into words\n",
        "from nltk.tokenize import word_tokenize\n",
        "tokens = word_tokenize(text)\n",
        "\n",
        "# convert to lower case\n",
        "tokens = [w.lower() for w in tokens]\n",
        "\n",
        "# remove punctuation from each word\n",
        "import string\n",
        "table = str.maketrans('', '', string.punctuation)\n",
        "stripped = [w.translate(table) for w in tokens]\n",
        "\n",
        "# remove remaining tokens that are not alphabetic\n",
        "words = [word for word in stripped if word.isalpha()]\n",
        "\n",
        "# filter out stop words\n",
        "from nltk.corpus import stopwords\n",
        "stop_words = set(stopwords.words('english'))\n",
        "words = [w for w in words if not w in stop_words]\n",
        "print(words[:100])\n",
        "\n",
        "# stemming of words\n",
        "from nltk.stem.porter import PorterStemmer\n",
        "porter = PorterStemmer()\n",
        "stemmed = [porter.stem(word) for word in tokens]\n",
        "print(stemmed[:100])"
      ],
      "execution_count": 59,
      "outputs": [
        {
          "output_type": "stream",
          "text": [
            "['bb', 'oer', 'essbt', 'omersce', 'x', 'x', 'cc', 'bluenessbtecam', 'em', 'pio', 'sees', 'dd', 'freeinvcite', 'tule', 'qs', 'cesar', 'ezlonen', 'q', 'tee', 'tse', 'ct', 'sub', 'ta', 'rsp', 'ise', 'bluenessete', 'bluenessbic', 'future', 'gm', 'virtual', 'money', 'win', 'free', 'bitcoins', 'every', 'hour', 'sing', 'bonus', 'blueressboc', 'one', 'ef', 'micst', 'elaoe', 'faucet', 'webs', 'tes', 'arcured', 'whele', 'world', 'start', 'rae', 'ceyote', 'fortune', 'camypleting', 'tas', 'f', 'zar', 'global', 'silver', 'shortages', 'ar', 'buy', 'silver', 'ore', 'ice', 'late', 'ie', 'ry', 'type', 'search', 'ie', 'j', 'wt', 'rb']\n",
            "['bb', ')', '2', 'oer', 'essbt', ':', '|', '-omersc', 'x', '+', '—', 'x', '€', 'cc', 'm', 'bluenessbtecam', 'a', ')', 'i', '2', ')', '%', 'em', '7', ':', 'pio', 'see', '(', 'dd', 'freeinvcit', 'tule', 'qs', 'cesar', 'ezlonen', '|', ']', '2', '.', '@', 'q', 'tee', 'tse', 'ct', 'sub', 'ta', '-rsp', 'ise', 'bluenesset', 'bluenessb', 'the', 'futur', 'of', 'gm', '.', 'virtual', 'money', '.', 'win', 'free', '$', '300', 'bitcoin', 'everi', 'hour', '!', 'sing', 'up', 'bonu', 'up', 'to', '$', '5', '»', 'blueressboc', '3', 'one', 'ef', 'the', 'micst', 'elao.', 'faucet', 'web', 'te', 'arcur', 'the', '&', 'whele', 'world', 'start', 'to', 'rae', 'your', 'ceyot', 'fortun', 'by', 'camyplet', 'our', 'ta', '<', 's']\n"
          ],
          "name": "stdout"
        }
      ]
    },
    {
      "cell_type": "code",
      "metadata": {
        "id": "MR-gUCjcr6ya",
        "colab": {
          "base_uri": "https://localhost:8080/"
        },
        "outputId": "84a6ec9f-a1c0-42cb-c056-ce046975c4e0"
      },
      "source": [
        "# load data\n",
        "filename = '/content/freelancers-documents/Freelancers/ios_Dev_1.txt'\n",
        "file = open(filename, 'rt')\n",
        "text = file.read()\n",
        "file.close()\n",
        "\n",
        "# split into words\n",
        "from nltk.tokenize import word_tokenize\n",
        "tokens = word_tokenize(text)\n",
        "\n",
        "# convert to lower case\n",
        "tokens = [w.lower() for w in tokens]\n",
        "\n",
        "# remove punctuation from each word\n",
        "import string\n",
        "table = str.maketrans('', '', string.punctuation)\n",
        "stripped = [w.translate(table) for w in tokens]\n",
        "\n",
        "# remove remaining tokens that are not alphabetic\n",
        "words = [word for word in stripped if word.isalpha()]\n",
        "\n",
        "# filter out stop words\n",
        "from nltk.corpus import stopwords\n",
        "stop_words = set(stopwords.words('english'))\n",
        "words = [w for w in words if not w in stop_words]\n",
        "print(words[:100])\n",
        "\n",
        "# stemming of words\n",
        "from nltk.stem.porter import PorterStemmer\n",
        "porter = PorterStemmer()\n",
        "stemmed = [porter.stem(word) for word in tokens]\n",
        "print(stemmed[:100])"
      ],
      "execution_count": 60,
      "outputs": [
        {
          "output_type": "stream",
          "text": [
            "['ee', 'lte', 'pm', 'tr', 'shu', 'ate', 'e', 'ih', 'sion', 'x', 'macys', 'earn', 'cash', 'back', 'aa', 'hoy', 'pe', 'walmart', 'ae', 'earn', 'cash', 'back', 'hetwire', 'ae', 'earn', 'cash', 'back', 'hotelscom', 'mg', 'lam', 'cash', 'back', 'peooys', 'ah']\n",
            "['ee', 'at', '&', 't', 'lte', '5:26', 'pm', 'tr', '52', '%', '0', '-', '©', 'shu', 'ate', 'e', '=', '*', ',', '+', 'ih', 'sion', 'x', 'maci', ',', 'me', 'earn', '6', '%', 'cash', 'back', '|', 'a', '!', 'aa', '/', 'hoy', 'pe', 'walmart', '>', '.', '<', '.', 'ae', 'earn', 'up', 'to', '27', '%', 'cash', 'back', 'hetwir', '-', 'ae', 'earn', 'up', 'to', '1', '%', 'cash', 'back', 'hotels.com', 'mg', 'lam', 'up', 'to', '8', '%', 'cash', 'back', '#', 'peooy', 'ah', 'an']\n"
          ],
          "name": "stdout"
        }
      ]
    },
    {
      "cell_type": "markdown",
      "metadata": {
        "id": "PwhdfgVD0INa"
      },
      "source": [
        "## Text Vectorizer (Doc2Vec) - for representing documents as a vector"
      ]
    },
    {
      "cell_type": "code",
      "metadata": {
        "id": "Q0SGTTEftPwJ"
      },
      "source": [
        "import gensim.models as g\n",
        "import logging"
      ],
      "execution_count": 61,
      "outputs": []
    },
    {
      "cell_type": "code",
      "metadata": {
        "id": "BQtKFoz7tPpX"
      },
      "source": [
        "#doc2vec parameters\n",
        "vector_size = 300\n",
        "window_size = 15\n",
        "min_count = 1\n",
        "sampling_threshold = 1e-5\n",
        "negative_size = 5\n",
        "train_epoch = 100\n",
        "dm = 0 \n",
        "worker_count = 1 "
      ],
      "execution_count": 62,
      "outputs": []
    },
    {
      "cell_type": "code",
      "metadata": {
        "id": "Pt7v-y7-wTeq",
        "colab": {
          "base_uri": "https://localhost:8080/"
        },
        "outputId": "eba541f0-1b09-4595-d836-c3efbff9205b"
      },
      "source": [
        "#input corpus\n",
        "train_corpus = \"/content/freelancers-documents/Freelancers/Android_Dev_1.txt\"\n",
        "\n",
        "#output model\n",
        "saved_path = \"Freelancers\"\n",
        "\n",
        "#enable logging\n",
        "logging.basicConfig(format='%(asctime)s : %(levelname)s : %(message)s', level=logging.INFO)\n",
        "\n",
        "#train doc2vec model\n",
        "docs = g.doc2vec.TaggedLineDocument(train_corpus)\n",
        "model = g.Doc2Vec(docs, size=vector_size, window=window_size, min_count=min_count, sample=sampling_threshold, workers=worker_count, hs=0, dm=dm, negative=negative_size, dbow_words=1, dm_concat=1, iter=train_epoch)\n",
        "\n",
        "#save model\n",
        "model.save(saved_path)"
      ],
      "execution_count": 63,
      "outputs": [
        {
          "output_type": "stream",
          "text": [
            "/usr/local/lib/python3.7/dist-packages/gensim/models/doc2vec.py:566: UserWarning: The parameter `iter` is deprecated, will be removed in 4.0.0, use `epochs` instead.\n",
            "  warnings.warn(\"The parameter `iter` is deprecated, will be removed in 4.0.0, use `epochs` instead.\")\n",
            "/usr/local/lib/python3.7/dist-packages/gensim/models/doc2vec.py:570: UserWarning: The parameter `size` is deprecated, will be removed in 4.0.0, use `vector_size` instead.\n",
            "  warnings.warn(\"The parameter `size` is deprecated, will be removed in 4.0.0, use `vector_size` instead.\")\n",
            "2021-08-19 14:54:30,414 : INFO : collecting all words and their counts\n",
            "2021-08-19 14:54:30,416 : INFO : PROGRESS: at example #0, processed 0 words (0/s), 0 word types, 0 tags\n",
            "2021-08-19 14:54:30,421 : INFO : collected 16 word types and 7 unique tags from a corpus of 7 examples and 16 words\n",
            "2021-08-19 14:54:30,428 : INFO : Loading a fresh vocabulary\n",
            "2021-08-19 14:54:30,432 : INFO : effective_min_count=1 retains 16 unique words (100% of original 16, drops 0)\n",
            "2021-08-19 14:54:30,434 : INFO : effective_min_count=1 leaves 16 word corpus (100% of original 16, drops 0)\n",
            "2021-08-19 14:54:30,436 : INFO : deleting the raw counts dictionary of 16 items\n",
            "2021-08-19 14:54:30,438 : INFO : sample=1e-05 downsamples 16 most-common words\n",
            "2021-08-19 14:54:30,441 : INFO : downsampling leaves estimated 0 word corpus (1.3% of prior 16)\n",
            "2021-08-19 14:54:30,445 : INFO : estimated required memory for 16 words and 300 dimensions: 54800 bytes\n",
            "2021-08-19 14:54:30,447 : INFO : resetting layer weights\n",
            "2021-08-19 14:54:30,467 : INFO : training model with 1 workers on 17 vocabulary and 300 features, using sg=1 hs=0 sample=1e-05 negative=5 window=15\n",
            "2021-08-19 14:54:30,473 : INFO : worker thread finished; awaiting finish of 0 more threads\n",
            "2021-08-19 14:54:30,475 : INFO : EPOCH - 1 : training on 16 raw words (7 effective words) took 0.0s, 2455 effective words/s\n",
            "2021-08-19 14:54:30,488 : INFO : worker thread finished; awaiting finish of 0 more threads\n",
            "2021-08-19 14:54:30,491 : INFO : EPOCH - 2 : training on 16 raw words (7 effective words) took 0.0s, 1827 effective words/s\n",
            "2021-08-19 14:54:30,500 : INFO : worker thread finished; awaiting finish of 0 more threads\n",
            "2021-08-19 14:54:30,501 : INFO : EPOCH - 3 : training on 16 raw words (8 effective words) took 0.0s, 3732 effective words/s\n",
            "2021-08-19 14:54:30,509 : INFO : worker thread finished; awaiting finish of 0 more threads\n",
            "2021-08-19 14:54:30,510 : INFO : EPOCH - 4 : training on 16 raw words (7 effective words) took 0.0s, 2784 effective words/s\n",
            "2021-08-19 14:54:30,518 : INFO : worker thread finished; awaiting finish of 0 more threads\n",
            "2021-08-19 14:54:30,519 : INFO : EPOCH - 5 : training on 16 raw words (7 effective words) took 0.0s, 2813 effective words/s\n",
            "2021-08-19 14:54:30,525 : INFO : worker thread finished; awaiting finish of 0 more threads\n",
            "2021-08-19 14:54:30,526 : INFO : EPOCH - 6 : training on 16 raw words (7 effective words) took 0.0s, 2669 effective words/s\n",
            "2021-08-19 14:54:30,532 : INFO : worker thread finished; awaiting finish of 0 more threads\n",
            "2021-08-19 14:54:30,533 : INFO : EPOCH - 7 : training on 16 raw words (7 effective words) took 0.0s, 2977 effective words/s\n",
            "2021-08-19 14:54:30,538 : INFO : worker thread finished; awaiting finish of 0 more threads\n",
            "2021-08-19 14:54:30,540 : INFO : EPOCH - 8 : training on 16 raw words (7 effective words) took 0.0s, 3008 effective words/s\n",
            "2021-08-19 14:54:30,545 : INFO : worker thread finished; awaiting finish of 0 more threads\n",
            "2021-08-19 14:54:30,548 : INFO : EPOCH - 9 : training on 16 raw words (7 effective words) took 0.0s, 1613 effective words/s\n",
            "2021-08-19 14:54:30,557 : INFO : worker thread finished; awaiting finish of 0 more threads\n",
            "2021-08-19 14:54:30,560 : INFO : EPOCH - 10 : training on 16 raw words (7 effective words) took 0.0s, 1497 effective words/s\n",
            "2021-08-19 14:54:30,565 : INFO : worker thread finished; awaiting finish of 0 more threads\n",
            "2021-08-19 14:54:30,567 : INFO : EPOCH - 11 : training on 16 raw words (7 effective words) took 0.0s, 2110 effective words/s\n",
            "2021-08-19 14:54:30,577 : INFO : worker thread finished; awaiting finish of 0 more threads\n",
            "2021-08-19 14:54:30,578 : INFO : EPOCH - 12 : training on 16 raw words (7 effective words) took 0.0s, 4722 effective words/s\n",
            "2021-08-19 14:54:30,584 : INFO : worker thread finished; awaiting finish of 0 more threads\n",
            "2021-08-19 14:54:30,586 : INFO : EPOCH - 13 : training on 16 raw words (7 effective words) took 0.0s, 1914 effective words/s\n",
            "2021-08-19 14:54:30,593 : INFO : worker thread finished; awaiting finish of 0 more threads\n",
            "2021-08-19 14:54:30,595 : INFO : EPOCH - 14 : training on 16 raw words (7 effective words) took 0.0s, 2238 effective words/s\n",
            "2021-08-19 14:54:30,600 : INFO : worker thread finished; awaiting finish of 0 more threads\n",
            "2021-08-19 14:54:30,601 : INFO : EPOCH - 15 : training on 16 raw words (7 effective words) took 0.0s, 3037 effective words/s\n",
            "2021-08-19 14:54:30,606 : INFO : worker thread finished; awaiting finish of 0 more threads\n",
            "2021-08-19 14:54:30,608 : INFO : EPOCH - 16 : training on 16 raw words (7 effective words) took 0.0s, 2731 effective words/s\n",
            "2021-08-19 14:54:30,615 : INFO : worker thread finished; awaiting finish of 0 more threads\n",
            "2021-08-19 14:54:30,617 : INFO : EPOCH - 17 : training on 16 raw words (7 effective words) took 0.0s, 2550 effective words/s\n",
            "2021-08-19 14:54:30,623 : INFO : worker thread finished; awaiting finish of 0 more threads\n",
            "2021-08-19 14:54:30,624 : INFO : EPOCH - 18 : training on 16 raw words (7 effective words) took 0.0s, 2362 effective words/s\n",
            "2021-08-19 14:54:30,627 : INFO : worker thread finished; awaiting finish of 0 more threads\n",
            "2021-08-19 14:54:30,629 : INFO : EPOCH - 19 : training on 16 raw words (7 effective words) took 0.0s, 2841 effective words/s\n",
            "2021-08-19 14:54:30,641 : INFO : worker thread finished; awaiting finish of 0 more threads\n",
            "2021-08-19 14:54:30,643 : INFO : EPOCH - 20 : training on 16 raw words (7 effective words) took 0.0s, 2944 effective words/s\n",
            "2021-08-19 14:54:30,651 : INFO : worker thread finished; awaiting finish of 0 more threads\n",
            "2021-08-19 14:54:30,652 : INFO : EPOCH - 21 : training on 16 raw words (8 effective words) took 0.0s, 3290 effective words/s\n",
            "2021-08-19 14:54:30,660 : INFO : worker thread finished; awaiting finish of 0 more threads\n",
            "2021-08-19 14:54:30,661 : INFO : EPOCH - 22 : training on 16 raw words (7 effective words) took 0.0s, 3513 effective words/s\n",
            "2021-08-19 14:54:30,670 : INFO : worker thread finished; awaiting finish of 0 more threads\n",
            "2021-08-19 14:54:30,673 : INFO : EPOCH - 23 : training on 16 raw words (7 effective words) took 0.0s, 2036 effective words/s\n",
            "2021-08-19 14:54:30,680 : INFO : worker thread finished; awaiting finish of 0 more threads\n",
            "2021-08-19 14:54:30,683 : INFO : EPOCH - 24 : training on 16 raw words (8 effective words) took 0.0s, 1658 effective words/s\n",
            "2021-08-19 14:54:30,691 : INFO : worker thread finished; awaiting finish of 0 more threads\n",
            "2021-08-19 14:54:30,694 : INFO : EPOCH - 25 : training on 16 raw words (7 effective words) took 0.0s, 1254 effective words/s\n",
            "2021-08-19 14:54:30,705 : INFO : worker thread finished; awaiting finish of 0 more threads\n",
            "2021-08-19 14:54:30,708 : INFO : EPOCH - 26 : training on 16 raw words (8 effective words) took 0.0s, 2047 effective words/s\n",
            "2021-08-19 14:54:30,717 : INFO : worker thread finished; awaiting finish of 0 more threads\n",
            "2021-08-19 14:54:30,719 : INFO : EPOCH - 27 : training on 16 raw words (7 effective words) took 0.0s, 3868 effective words/s\n",
            "2021-08-19 14:54:30,725 : INFO : worker thread finished; awaiting finish of 0 more threads\n",
            "2021-08-19 14:54:30,727 : INFO : EPOCH - 28 : training on 16 raw words (7 effective words) took 0.0s, 3065 effective words/s\n",
            "2021-08-19 14:54:30,736 : INFO : worker thread finished; awaiting finish of 0 more threads\n",
            "2021-08-19 14:54:30,738 : INFO : EPOCH - 29 : training on 16 raw words (8 effective words) took 0.0s, 2811 effective words/s\n",
            "2021-08-19 14:54:30,745 : INFO : worker thread finished; awaiting finish of 0 more threads\n",
            "2021-08-19 14:54:30,747 : INFO : EPOCH - 30 : training on 16 raw words (8 effective words) took 0.0s, 2434 effective words/s\n",
            "2021-08-19 14:54:30,753 : INFO : worker thread finished; awaiting finish of 0 more threads\n",
            "2021-08-19 14:54:30,754 : INFO : EPOCH - 31 : training on 16 raw words (7 effective words) took 0.0s, 3761 effective words/s\n",
            "2021-08-19 14:54:30,763 : INFO : worker thread finished; awaiting finish of 0 more threads\n",
            "2021-08-19 14:54:30,764 : INFO : EPOCH - 32 : training on 16 raw words (7 effective words) took 0.0s, 2951 effective words/s\n",
            "2021-08-19 14:54:30,774 : INFO : worker thread finished; awaiting finish of 0 more threads\n",
            "2021-08-19 14:54:30,776 : INFO : EPOCH - 33 : training on 16 raw words (7 effective words) took 0.0s, 1507 effective words/s\n",
            "2021-08-19 14:54:30,781 : INFO : worker thread finished; awaiting finish of 0 more threads\n",
            "2021-08-19 14:54:30,783 : INFO : EPOCH - 34 : training on 16 raw words (7 effective words) took 0.0s, 3119 effective words/s\n",
            "2021-08-19 14:54:30,789 : INFO : worker thread finished; awaiting finish of 0 more threads\n",
            "2021-08-19 14:54:30,791 : INFO : EPOCH - 35 : training on 16 raw words (7 effective words) took 0.0s, 1815 effective words/s\n",
            "2021-08-19 14:54:30,797 : INFO : worker thread finished; awaiting finish of 0 more threads\n",
            "2021-08-19 14:54:30,799 : INFO : EPOCH - 36 : training on 16 raw words (7 effective words) took 0.0s, 1940 effective words/s\n",
            "2021-08-19 14:54:30,807 : INFO : worker thread finished; awaiting finish of 0 more threads\n",
            "2021-08-19 14:54:30,808 : INFO : EPOCH - 37 : training on 16 raw words (9 effective words) took 0.0s, 5110 effective words/s\n",
            "2021-08-19 14:54:30,818 : INFO : worker thread finished; awaiting finish of 0 more threads\n",
            "2021-08-19 14:54:30,820 : INFO : EPOCH - 38 : training on 16 raw words (7 effective words) took 0.0s, 2352 effective words/s\n",
            "2021-08-19 14:54:30,830 : INFO : worker thread finished; awaiting finish of 0 more threads\n",
            "2021-08-19 14:54:30,831 : INFO : EPOCH - 39 : training on 16 raw words (7 effective words) took 0.0s, 2335 effective words/s\n",
            "2021-08-19 14:54:30,836 : INFO : worker thread finished; awaiting finish of 0 more threads\n",
            "2021-08-19 14:54:30,837 : INFO : EPOCH - 40 : training on 16 raw words (7 effective words) took 0.0s, 3123 effective words/s\n",
            "2021-08-19 14:54:30,844 : INFO : worker thread finished; awaiting finish of 0 more threads\n",
            "2021-08-19 14:54:30,846 : INFO : EPOCH - 41 : training on 16 raw words (7 effective words) took 0.0s, 1887 effective words/s\n",
            "2021-08-19 14:54:30,853 : INFO : worker thread finished; awaiting finish of 0 more threads\n",
            "2021-08-19 14:54:30,854 : INFO : EPOCH - 42 : training on 16 raw words (7 effective words) took 0.0s, 1404 effective words/s\n",
            "2021-08-19 14:54:30,860 : INFO : worker thread finished; awaiting finish of 0 more threads\n",
            "2021-08-19 14:54:30,862 : INFO : EPOCH - 43 : training on 16 raw words (8 effective words) took 0.0s, 3549 effective words/s\n",
            "2021-08-19 14:54:30,876 : INFO : worker thread finished; awaiting finish of 0 more threads\n",
            "2021-08-19 14:54:30,877 : INFO : EPOCH - 44 : training on 16 raw words (7 effective words) took 0.0s, 5215 effective words/s\n",
            "2021-08-19 14:54:30,888 : INFO : worker thread finished; awaiting finish of 0 more threads\n",
            "2021-08-19 14:54:30,890 : INFO : EPOCH - 45 : training on 16 raw words (7 effective words) took 0.0s, 1986 effective words/s\n",
            "2021-08-19 14:54:30,896 : INFO : worker thread finished; awaiting finish of 0 more threads\n",
            "2021-08-19 14:54:30,898 : INFO : EPOCH - 46 : training on 16 raw words (8 effective words) took 0.0s, 3450 effective words/s\n",
            "2021-08-19 14:54:30,907 : INFO : worker thread finished; awaiting finish of 0 more threads\n",
            "2021-08-19 14:54:30,909 : INFO : EPOCH - 47 : training on 16 raw words (7 effective words) took 0.0s, 2207 effective words/s\n",
            "2021-08-19 14:54:30,914 : INFO : worker thread finished; awaiting finish of 0 more threads\n",
            "2021-08-19 14:54:30,918 : INFO : EPOCH - 48 : training on 16 raw words (7 effective words) took 0.0s, 1480 effective words/s\n",
            "2021-08-19 14:54:30,922 : INFO : worker thread finished; awaiting finish of 0 more threads\n",
            "2021-08-19 14:54:30,924 : INFO : EPOCH - 49 : training on 16 raw words (7 effective words) took 0.0s, 2827 effective words/s\n",
            "2021-08-19 14:54:30,935 : INFO : worker thread finished; awaiting finish of 0 more threads\n",
            "2021-08-19 14:54:30,936 : INFO : EPOCH - 50 : training on 16 raw words (7 effective words) took 0.0s, 3298 effective words/s\n",
            "2021-08-19 14:54:30,945 : INFO : worker thread finished; awaiting finish of 0 more threads\n",
            "2021-08-19 14:54:30,946 : INFO : EPOCH - 51 : training on 16 raw words (7 effective words) took 0.0s, 1249 effective words/s\n",
            "2021-08-19 14:54:30,951 : INFO : worker thread finished; awaiting finish of 0 more threads\n",
            "2021-08-19 14:54:30,953 : INFO : EPOCH - 52 : training on 16 raw words (7 effective words) took 0.0s, 1775 effective words/s\n",
            "2021-08-19 14:54:30,959 : INFO : worker thread finished; awaiting finish of 0 more threads\n",
            "2021-08-19 14:54:30,961 : INFO : EPOCH - 53 : training on 16 raw words (7 effective words) took 0.0s, 2172 effective words/s\n",
            "2021-08-19 14:54:30,968 : INFO : worker thread finished; awaiting finish of 0 more threads\n",
            "2021-08-19 14:54:30,970 : INFO : EPOCH - 54 : training on 16 raw words (7 effective words) took 0.0s, 1783 effective words/s\n",
            "2021-08-19 14:54:30,982 : INFO : worker thread finished; awaiting finish of 0 more threads\n",
            "2021-08-19 14:54:30,984 : INFO : EPOCH - 55 : training on 16 raw words (7 effective words) took 0.0s, 2521 effective words/s\n",
            "2021-08-19 14:54:30,987 : INFO : worker thread finished; awaiting finish of 0 more threads\n",
            "2021-08-19 14:54:30,989 : INFO : EPOCH - 56 : training on 16 raw words (7 effective words) took 0.0s, 2557 effective words/s\n",
            "2021-08-19 14:54:30,998 : INFO : worker thread finished; awaiting finish of 0 more threads\n",
            "2021-08-19 14:54:30,999 : INFO : EPOCH - 57 : training on 16 raw words (8 effective words) took 0.0s, 3463 effective words/s\n",
            "2021-08-19 14:54:31,006 : INFO : worker thread finished; awaiting finish of 0 more threads\n",
            "2021-08-19 14:54:31,008 : INFO : EPOCH - 58 : training on 16 raw words (7 effective words) took 0.0s, 1513 effective words/s\n",
            "2021-08-19 14:54:31,022 : INFO : worker thread finished; awaiting finish of 0 more threads\n",
            "2021-08-19 14:54:31,024 : INFO : EPOCH - 59 : training on 16 raw words (8 effective words) took 0.0s, 1626 effective words/s\n",
            "2021-08-19 14:54:31,036 : INFO : worker thread finished; awaiting finish of 0 more threads\n",
            "2021-08-19 14:54:31,037 : INFO : EPOCH - 60 : training on 16 raw words (7 effective words) took 0.0s, 3248 effective words/s\n",
            "2021-08-19 14:54:31,044 : INFO : worker thread finished; awaiting finish of 0 more threads\n",
            "2021-08-19 14:54:31,046 : INFO : EPOCH - 61 : training on 16 raw words (7 effective words) took 0.0s, 2176 effective words/s\n",
            "2021-08-19 14:54:31,057 : INFO : worker thread finished; awaiting finish of 0 more threads\n",
            "2021-08-19 14:54:31,058 : INFO : EPOCH - 62 : training on 16 raw words (7 effective words) took 0.0s, 4109 effective words/s\n",
            "2021-08-19 14:54:31,067 : INFO : worker thread finished; awaiting finish of 0 more threads\n",
            "2021-08-19 14:54:31,068 : INFO : EPOCH - 63 : training on 16 raw words (7 effective words) took 0.0s, 1794 effective words/s\n",
            "2021-08-19 14:54:31,074 : INFO : worker thread finished; awaiting finish of 0 more threads\n",
            "2021-08-19 14:54:31,077 : INFO : EPOCH - 64 : training on 16 raw words (7 effective words) took 0.0s, 1857 effective words/s\n",
            "2021-08-19 14:54:31,085 : INFO : worker thread finished; awaiting finish of 0 more threads\n",
            "2021-08-19 14:54:31,087 : INFO : EPOCH - 65 : training on 16 raw words (7 effective words) took 0.0s, 2304 effective words/s\n",
            "2021-08-19 14:54:31,094 : INFO : worker thread finished; awaiting finish of 0 more threads\n",
            "2021-08-19 14:54:31,095 : INFO : EPOCH - 66 : training on 16 raw words (7 effective words) took 0.0s, 1930 effective words/s\n",
            "2021-08-19 14:54:31,101 : INFO : worker thread finished; awaiting finish of 0 more threads\n",
            "2021-08-19 14:54:31,103 : INFO : EPOCH - 67 : training on 16 raw words (7 effective words) took 0.0s, 3067 effective words/s\n",
            "2021-08-19 14:54:31,110 : INFO : worker thread finished; awaiting finish of 0 more threads\n",
            "2021-08-19 14:54:31,111 : INFO : EPOCH - 68 : training on 16 raw words (7 effective words) took 0.0s, 3927 effective words/s\n",
            "2021-08-19 14:54:31,116 : INFO : worker thread finished; awaiting finish of 0 more threads\n",
            "2021-08-19 14:54:31,119 : INFO : EPOCH - 69 : training on 16 raw words (7 effective words) took 0.0s, 1769 effective words/s\n",
            "2021-08-19 14:54:31,125 : INFO : worker thread finished; awaiting finish of 0 more threads\n",
            "2021-08-19 14:54:31,127 : INFO : EPOCH - 70 : training on 16 raw words (7 effective words) took 0.0s, 3205 effective words/s\n",
            "2021-08-19 14:54:31,135 : INFO : worker thread finished; awaiting finish of 0 more threads\n",
            "2021-08-19 14:54:31,137 : INFO : EPOCH - 71 : training on 16 raw words (7 effective words) took 0.0s, 3367 effective words/s\n",
            "2021-08-19 14:54:31,143 : INFO : worker thread finished; awaiting finish of 0 more threads\n",
            "2021-08-19 14:54:31,144 : INFO : EPOCH - 72 : training on 16 raw words (7 effective words) took 0.0s, 2129 effective words/s\n",
            "2021-08-19 14:54:31,152 : INFO : worker thread finished; awaiting finish of 0 more threads\n",
            "2021-08-19 14:54:31,153 : INFO : EPOCH - 73 : training on 16 raw words (8 effective words) took 0.0s, 4323 effective words/s\n",
            "2021-08-19 14:54:31,160 : INFO : worker thread finished; awaiting finish of 0 more threads\n",
            "2021-08-19 14:54:31,161 : INFO : EPOCH - 74 : training on 16 raw words (7 effective words) took 0.0s, 2480 effective words/s\n",
            "2021-08-19 14:54:31,167 : INFO : worker thread finished; awaiting finish of 0 more threads\n",
            "2021-08-19 14:54:31,170 : INFO : EPOCH - 75 : training on 16 raw words (7 effective words) took 0.0s, 2436 effective words/s\n",
            "2021-08-19 14:54:31,176 : INFO : worker thread finished; awaiting finish of 0 more threads\n",
            "2021-08-19 14:54:31,177 : INFO : EPOCH - 76 : training on 16 raw words (8 effective words) took 0.0s, 4967 effective words/s\n",
            "2021-08-19 14:54:31,185 : INFO : worker thread finished; awaiting finish of 0 more threads\n",
            "2021-08-19 14:54:31,186 : INFO : EPOCH - 77 : training on 16 raw words (7 effective words) took 0.0s, 3345 effective words/s\n",
            "2021-08-19 14:54:31,191 : INFO : worker thread finished; awaiting finish of 0 more threads\n",
            "2021-08-19 14:54:31,194 : INFO : EPOCH - 78 : training on 16 raw words (7 effective words) took 0.0s, 2111 effective words/s\n",
            "2021-08-19 14:54:31,200 : INFO : worker thread finished; awaiting finish of 0 more threads\n",
            "2021-08-19 14:54:31,202 : INFO : EPOCH - 79 : training on 16 raw words (8 effective words) took 0.0s, 3183 effective words/s\n",
            "2021-08-19 14:54:31,212 : INFO : worker thread finished; awaiting finish of 0 more threads\n",
            "2021-08-19 14:54:31,213 : INFO : EPOCH - 80 : training on 16 raw words (8 effective words) took 0.0s, 4336 effective words/s\n",
            "2021-08-19 14:54:31,223 : INFO : worker thread finished; awaiting finish of 0 more threads\n",
            "2021-08-19 14:54:31,224 : INFO : EPOCH - 81 : training on 16 raw words (7 effective words) took 0.0s, 2975 effective words/s\n",
            "2021-08-19 14:54:31,230 : INFO : worker thread finished; awaiting finish of 0 more threads\n",
            "2021-08-19 14:54:31,232 : INFO : EPOCH - 82 : training on 16 raw words (7 effective words) took 0.0s, 2842 effective words/s\n",
            "2021-08-19 14:54:31,239 : INFO : worker thread finished; awaiting finish of 0 more threads\n",
            "2021-08-19 14:54:31,240 : INFO : EPOCH - 83 : training on 16 raw words (7 effective words) took 0.0s, 3982 effective words/s\n",
            "2021-08-19 14:54:31,246 : INFO : worker thread finished; awaiting finish of 0 more threads\n",
            "2021-08-19 14:54:31,250 : INFO : EPOCH - 84 : training on 16 raw words (7 effective words) took 0.0s, 1383 effective words/s\n",
            "2021-08-19 14:54:31,255 : INFO : worker thread finished; awaiting finish of 0 more threads\n",
            "2021-08-19 14:54:31,256 : INFO : EPOCH - 85 : training on 16 raw words (7 effective words) took 0.0s, 3175 effective words/s\n",
            "2021-08-19 14:54:31,263 : INFO : worker thread finished; awaiting finish of 0 more threads\n",
            "2021-08-19 14:54:31,264 : INFO : EPOCH - 86 : training on 16 raw words (8 effective words) took 0.0s, 4706 effective words/s\n",
            "2021-08-19 14:54:31,272 : INFO : worker thread finished; awaiting finish of 0 more threads\n",
            "2021-08-19 14:54:31,273 : INFO : EPOCH - 87 : training on 16 raw words (7 effective words) took 0.0s, 1465 effective words/s\n",
            "2021-08-19 14:54:31,279 : INFO : worker thread finished; awaiting finish of 0 more threads\n",
            "2021-08-19 14:54:31,280 : INFO : EPOCH - 88 : training on 16 raw words (7 effective words) took 0.0s, 2813 effective words/s\n",
            "2021-08-19 14:54:31,285 : INFO : worker thread finished; awaiting finish of 0 more threads\n",
            "2021-08-19 14:54:31,287 : INFO : EPOCH - 89 : training on 16 raw words (7 effective words) took 0.0s, 1963 effective words/s\n",
            "2021-08-19 14:54:31,294 : INFO : worker thread finished; awaiting finish of 0 more threads\n",
            "2021-08-19 14:54:31,296 : INFO : EPOCH - 90 : training on 16 raw words (7 effective words) took 0.0s, 1863 effective words/s\n",
            "2021-08-19 14:54:31,302 : INFO : worker thread finished; awaiting finish of 0 more threads\n",
            "2021-08-19 14:54:31,304 : INFO : EPOCH - 91 : training on 16 raw words (7 effective words) took 0.0s, 2007 effective words/s\n",
            "2021-08-19 14:54:31,313 : INFO : worker thread finished; awaiting finish of 0 more threads\n",
            "2021-08-19 14:54:31,314 : INFO : EPOCH - 92 : training on 16 raw words (7 effective words) took 0.0s, 2599 effective words/s\n",
            "2021-08-19 14:54:31,319 : INFO : worker thread finished; awaiting finish of 0 more threads\n",
            "2021-08-19 14:54:31,322 : INFO : EPOCH - 93 : training on 16 raw words (7 effective words) took 0.0s, 2097 effective words/s\n",
            "2021-08-19 14:54:31,330 : INFO : worker thread finished; awaiting finish of 0 more threads\n",
            "2021-08-19 14:54:31,333 : INFO : EPOCH - 94 : training on 16 raw words (7 effective words) took 0.0s, 1793 effective words/s\n",
            "2021-08-19 14:54:31,341 : INFO : worker thread finished; awaiting finish of 0 more threads\n",
            "2021-08-19 14:54:31,343 : INFO : EPOCH - 95 : training on 16 raw words (7 effective words) took 0.0s, 1958 effective words/s\n",
            "2021-08-19 14:54:31,347 : INFO : worker thread finished; awaiting finish of 0 more threads\n",
            "2021-08-19 14:54:31,349 : INFO : EPOCH - 96 : training on 16 raw words (7 effective words) took 0.0s, 2538 effective words/s\n",
            "2021-08-19 14:54:31,356 : INFO : worker thread finished; awaiting finish of 0 more threads\n",
            "2021-08-19 14:54:31,358 : INFO : EPOCH - 97 : training on 16 raw words (7 effective words) took 0.0s, 2640 effective words/s\n",
            "2021-08-19 14:54:31,368 : INFO : worker thread finished; awaiting finish of 0 more threads\n",
            "2021-08-19 14:54:31,370 : INFO : EPOCH - 98 : training on 16 raw words (7 effective words) took 0.0s, 2353 effective words/s\n",
            "2021-08-19 14:54:31,375 : INFO : worker thread finished; awaiting finish of 0 more threads\n",
            "2021-08-19 14:54:31,377 : INFO : EPOCH - 99 : training on 16 raw words (7 effective words) took 0.0s, 2838 effective words/s\n",
            "2021-08-19 14:54:31,380 : INFO : worker thread finished; awaiting finish of 0 more threads\n",
            "2021-08-19 14:54:31,382 : INFO : EPOCH - 100 : training on 16 raw words (8 effective words) took 0.0s, 2978 effective words/s\n",
            "2021-08-19 14:54:31,385 : INFO : training on a 1600 raw words (718 effective words) took 0.9s, 783 effective words/s\n",
            "2021-08-19 14:54:31,386 : INFO : saving Doc2Vec object under Freelancers, separately None\n",
            "2021-08-19 14:54:31,394 : INFO : saved Freelancers\n"
          ],
          "name": "stderr"
        }
      ]
    },
    {
      "cell_type": "code",
      "metadata": {
        "id": "2clFhAQKwTbf",
        "colab": {
          "base_uri": "https://localhost:8080/"
        },
        "outputId": "b3545291-17b1-49f6-caca-78b2f54cbe7c"
      },
      "source": [
        "#input corpus\n",
        "train_corpus = \"/content/freelancers-documents/Freelancers/Content_1.txt\"\n",
        "\n",
        "#output model\n",
        "saved_path = \"Freelancers\"\n",
        "\n",
        "#enable logging\n",
        "logging.basicConfig(format='%(asctime)s : %(levelname)s : %(message)s', level=logging.INFO)\n",
        "\n",
        "#train doc2vec model\n",
        "docs = g.doc2vec.TaggedLineDocument(train_corpus)\n",
        "model = g.Doc2Vec(docs, size=vector_size, window=window_size, min_count=min_count, sample=sampling_threshold, workers=worker_count, hs=0, dm=dm, negative=negative_size, dbow_words=1, dm_concat=1, iter=train_epoch)\n",
        "\n",
        "#save model\n",
        "model.save(saved_path)"
      ],
      "execution_count": 64,
      "outputs": [
        {
          "output_type": "stream",
          "text": [
            "/usr/local/lib/python3.7/dist-packages/gensim/models/doc2vec.py:566: UserWarning: The parameter `iter` is deprecated, will be removed in 4.0.0, use `epochs` instead.\n",
            "  warnings.warn(\"The parameter `iter` is deprecated, will be removed in 4.0.0, use `epochs` instead.\")\n",
            "/usr/local/lib/python3.7/dist-packages/gensim/models/doc2vec.py:570: UserWarning: The parameter `size` is deprecated, will be removed in 4.0.0, use `vector_size` instead.\n",
            "  warnings.warn(\"The parameter `size` is deprecated, will be removed in 4.0.0, use `vector_size` instead.\")\n",
            "2021-08-19 14:54:31,415 : INFO : collecting all words and their counts\n",
            "2021-08-19 14:54:31,419 : INFO : PROGRESS: at example #0, processed 0 words (0/s), 0 word types, 0 tags\n",
            "2021-08-19 14:54:31,421 : INFO : collected 193 word types and 36 unique tags from a corpus of 36 examples and 329 words\n",
            "2021-08-19 14:54:31,424 : INFO : Loading a fresh vocabulary\n",
            "2021-08-19 14:54:31,426 : INFO : effective_min_count=1 retains 193 unique words (100% of original 193, drops 0)\n",
            "2021-08-19 14:54:31,433 : INFO : effective_min_count=1 leaves 329 word corpus (100% of original 329, drops 0)\n",
            "2021-08-19 14:54:31,438 : INFO : deleting the raw counts dictionary of 193 items\n",
            "2021-08-19 14:54:31,440 : INFO : sample=1e-05 downsamples 193 most-common words\n",
            "2021-08-19 14:54:31,442 : INFO : downsampling leaves estimated 14 word corpus (4.3% of prior 329)\n",
            "2021-08-19 14:54:31,444 : INFO : estimated required memory for 193 words and 300 dimensions: 602900 bytes\n",
            "2021-08-19 14:54:31,447 : INFO : resetting layer weights\n",
            "2021-08-19 14:54:31,525 : INFO : training model with 1 workers on 194 vocabulary and 300 features, using sg=1 hs=0 sample=1e-05 negative=5 window=15\n",
            "2021-08-19 14:54:31,534 : INFO : worker thread finished; awaiting finish of 0 more threads\n",
            "2021-08-19 14:54:31,535 : INFO : EPOCH - 1 : training on 329 raw words (49 effective words) took 0.0s, 15019 effective words/s\n",
            "2021-08-19 14:54:31,544 : INFO : worker thread finished; awaiting finish of 0 more threads\n",
            "2021-08-19 14:54:31,547 : INFO : EPOCH - 2 : training on 329 raw words (52 effective words) took 0.0s, 13012 effective words/s\n",
            "2021-08-19 14:54:31,567 : INFO : worker thread finished; awaiting finish of 0 more threads\n",
            "2021-08-19 14:54:31,572 : INFO : EPOCH - 3 : training on 329 raw words (50 effective words) took 0.0s, 3351 effective words/s\n",
            "2021-08-19 14:54:31,580 : INFO : worker thread finished; awaiting finish of 0 more threads\n",
            "2021-08-19 14:54:31,582 : INFO : EPOCH - 4 : training on 329 raw words (45 effective words) took 0.0s, 13958 effective words/s\n",
            "2021-08-19 14:54:31,591 : INFO : worker thread finished; awaiting finish of 0 more threads\n",
            "2021-08-19 14:54:31,593 : INFO : EPOCH - 5 : training on 329 raw words (52 effective words) took 0.0s, 17396 effective words/s\n",
            "2021-08-19 14:54:31,602 : INFO : worker thread finished; awaiting finish of 0 more threads\n",
            "2021-08-19 14:54:31,604 : INFO : EPOCH - 6 : training on 329 raw words (50 effective words) took 0.0s, 14804 effective words/s\n",
            "2021-08-19 14:54:31,613 : INFO : worker thread finished; awaiting finish of 0 more threads\n",
            "2021-08-19 14:54:31,615 : INFO : EPOCH - 7 : training on 329 raw words (46 effective words) took 0.0s, 11786 effective words/s\n",
            "2021-08-19 14:54:31,625 : INFO : worker thread finished; awaiting finish of 0 more threads\n",
            "2021-08-19 14:54:31,626 : INFO : EPOCH - 8 : training on 329 raw words (50 effective words) took 0.0s, 7747 effective words/s\n",
            "2021-08-19 14:54:31,637 : INFO : worker thread finished; awaiting finish of 0 more threads\n",
            "2021-08-19 14:54:31,638 : INFO : EPOCH - 9 : training on 329 raw words (52 effective words) took 0.0s, 14561 effective words/s\n",
            "2021-08-19 14:54:31,648 : INFO : worker thread finished; awaiting finish of 0 more threads\n",
            "2021-08-19 14:54:31,649 : INFO : EPOCH - 10 : training on 329 raw words (48 effective words) took 0.0s, 12385 effective words/s\n",
            "2021-08-19 14:54:31,657 : INFO : worker thread finished; awaiting finish of 0 more threads\n",
            "2021-08-19 14:54:31,660 : INFO : EPOCH - 11 : training on 329 raw words (52 effective words) took 0.0s, 9110 effective words/s\n",
            "2021-08-19 14:54:31,667 : INFO : worker thread finished; awaiting finish of 0 more threads\n",
            "2021-08-19 14:54:31,669 : INFO : EPOCH - 12 : training on 329 raw words (50 effective words) took 0.0s, 11666 effective words/s\n",
            "2021-08-19 14:54:31,687 : INFO : worker thread finished; awaiting finish of 0 more threads\n",
            "2021-08-19 14:54:31,688 : INFO : EPOCH - 13 : training on 329 raw words (46 effective words) took 0.0s, 9263 effective words/s\n",
            "2021-08-19 14:54:31,696 : INFO : worker thread finished; awaiting finish of 0 more threads\n",
            "2021-08-19 14:54:31,698 : INFO : EPOCH - 14 : training on 329 raw words (50 effective words) took 0.0s, 11813 effective words/s\n",
            "2021-08-19 14:54:31,705 : INFO : worker thread finished; awaiting finish of 0 more threads\n",
            "2021-08-19 14:54:31,706 : INFO : EPOCH - 15 : training on 329 raw words (47 effective words) took 0.0s, 10437 effective words/s\n",
            "2021-08-19 14:54:31,714 : INFO : worker thread finished; awaiting finish of 0 more threads\n",
            "2021-08-19 14:54:31,715 : INFO : EPOCH - 16 : training on 329 raw words (50 effective words) took 0.0s, 15558 effective words/s\n",
            "2021-08-19 14:54:31,723 : INFO : worker thread finished; awaiting finish of 0 more threads\n",
            "2021-08-19 14:54:31,725 : INFO : EPOCH - 17 : training on 329 raw words (48 effective words) took 0.0s, 16537 effective words/s\n",
            "2021-08-19 14:54:31,733 : INFO : worker thread finished; awaiting finish of 0 more threads\n",
            "2021-08-19 14:54:31,735 : INFO : EPOCH - 18 : training on 329 raw words (55 effective words) took 0.0s, 10070 effective words/s\n",
            "2021-08-19 14:54:31,742 : INFO : worker thread finished; awaiting finish of 0 more threads\n",
            "2021-08-19 14:54:31,744 : INFO : EPOCH - 19 : training on 329 raw words (55 effective words) took 0.0s, 12439 effective words/s\n",
            "2021-08-19 14:54:31,757 : INFO : worker thread finished; awaiting finish of 0 more threads\n",
            "2021-08-19 14:54:31,760 : INFO : EPOCH - 20 : training on 329 raw words (49 effective words) took 0.0s, 6060 effective words/s\n",
            "2021-08-19 14:54:31,767 : INFO : worker thread finished; awaiting finish of 0 more threads\n",
            "2021-08-19 14:54:31,769 : INFO : EPOCH - 21 : training on 329 raw words (55 effective words) took 0.0s, 10218 effective words/s\n",
            "2021-08-19 14:54:31,777 : INFO : worker thread finished; awaiting finish of 0 more threads\n",
            "2021-08-19 14:54:31,779 : INFO : EPOCH - 22 : training on 329 raw words (46 effective words) took 0.0s, 10800 effective words/s\n",
            "2021-08-19 14:54:31,786 : INFO : worker thread finished; awaiting finish of 0 more threads\n",
            "2021-08-19 14:54:31,788 : INFO : EPOCH - 23 : training on 329 raw words (59 effective words) took 0.0s, 15079 effective words/s\n",
            "2021-08-19 14:54:31,795 : INFO : worker thread finished; awaiting finish of 0 more threads\n",
            "2021-08-19 14:54:31,797 : INFO : EPOCH - 24 : training on 329 raw words (54 effective words) took 0.0s, 16076 effective words/s\n",
            "2021-08-19 14:54:31,805 : INFO : worker thread finished; awaiting finish of 0 more threads\n",
            "2021-08-19 14:54:31,807 : INFO : EPOCH - 25 : training on 329 raw words (44 effective words) took 0.0s, 7700 effective words/s\n",
            "2021-08-19 14:54:31,814 : INFO : worker thread finished; awaiting finish of 0 more threads\n",
            "2021-08-19 14:54:31,816 : INFO : EPOCH - 26 : training on 329 raw words (54 effective words) took 0.0s, 14902 effective words/s\n",
            "2021-08-19 14:54:31,823 : INFO : worker thread finished; awaiting finish of 0 more threads\n",
            "2021-08-19 14:54:31,824 : INFO : EPOCH - 27 : training on 329 raw words (49 effective words) took 0.0s, 16194 effective words/s\n",
            "2021-08-19 14:54:31,832 : INFO : worker thread finished; awaiting finish of 0 more threads\n",
            "2021-08-19 14:54:31,833 : INFO : EPOCH - 28 : training on 329 raw words (49 effective words) took 0.0s, 8762 effective words/s\n",
            "2021-08-19 14:54:31,841 : INFO : worker thread finished; awaiting finish of 0 more threads\n",
            "2021-08-19 14:54:31,843 : INFO : EPOCH - 29 : training on 329 raw words (53 effective words) took 0.0s, 10368 effective words/s\n",
            "2021-08-19 14:54:31,851 : INFO : worker thread finished; awaiting finish of 0 more threads\n",
            "2021-08-19 14:54:31,852 : INFO : EPOCH - 30 : training on 329 raw words (47 effective words) took 0.0s, 8204 effective words/s\n",
            "2021-08-19 14:54:31,860 : INFO : worker thread finished; awaiting finish of 0 more threads\n",
            "2021-08-19 14:54:31,861 : INFO : EPOCH - 31 : training on 329 raw words (51 effective words) took 0.0s, 9969 effective words/s\n",
            "2021-08-19 14:54:31,868 : INFO : worker thread finished; awaiting finish of 0 more threads\n",
            "2021-08-19 14:54:31,870 : INFO : EPOCH - 32 : training on 329 raw words (44 effective words) took 0.0s, 7980 effective words/s\n",
            "2021-08-19 14:54:31,879 : INFO : worker thread finished; awaiting finish of 0 more threads\n",
            "2021-08-19 14:54:31,882 : INFO : EPOCH - 33 : training on 329 raw words (42 effective words) took 0.0s, 4758 effective words/s\n",
            "2021-08-19 14:54:31,894 : INFO : worker thread finished; awaiting finish of 0 more threads\n",
            "2021-08-19 14:54:31,896 : INFO : EPOCH - 34 : training on 329 raw words (46 effective words) took 0.0s, 9072 effective words/s\n",
            "2021-08-19 14:54:31,903 : INFO : worker thread finished; awaiting finish of 0 more threads\n",
            "2021-08-19 14:54:31,906 : INFO : EPOCH - 35 : training on 329 raw words (48 effective words) took 0.0s, 7925 effective words/s\n",
            "2021-08-19 14:54:31,913 : INFO : worker thread finished; awaiting finish of 0 more threads\n",
            "2021-08-19 14:54:31,915 : INFO : EPOCH - 36 : training on 329 raw words (57 effective words) took 0.0s, 9944 effective words/s\n",
            "2021-08-19 14:54:31,923 : INFO : worker thread finished; awaiting finish of 0 more threads\n",
            "2021-08-19 14:54:31,925 : INFO : EPOCH - 37 : training on 329 raw words (53 effective words) took 0.0s, 11132 effective words/s\n",
            "2021-08-19 14:54:31,934 : INFO : worker thread finished; awaiting finish of 0 more threads\n",
            "2021-08-19 14:54:31,936 : INFO : EPOCH - 38 : training on 329 raw words (44 effective words) took 0.0s, 10153 effective words/s\n",
            "2021-08-19 14:54:31,944 : INFO : worker thread finished; awaiting finish of 0 more threads\n",
            "2021-08-19 14:54:31,946 : INFO : EPOCH - 39 : training on 329 raw words (48 effective words) took 0.0s, 9122 effective words/s\n",
            "2021-08-19 14:54:31,954 : INFO : worker thread finished; awaiting finish of 0 more threads\n",
            "2021-08-19 14:54:31,955 : INFO : EPOCH - 40 : training on 329 raw words (46 effective words) took 0.0s, 9059 effective words/s\n",
            "2021-08-19 14:54:31,963 : INFO : worker thread finished; awaiting finish of 0 more threads\n",
            "2021-08-19 14:54:31,965 : INFO : EPOCH - 41 : training on 329 raw words (53 effective words) took 0.0s, 9080 effective words/s\n",
            "2021-08-19 14:54:31,972 : INFO : worker thread finished; awaiting finish of 0 more threads\n",
            "2021-08-19 14:54:31,973 : INFO : EPOCH - 42 : training on 329 raw words (50 effective words) took 0.0s, 11464 effective words/s\n",
            "2021-08-19 14:54:31,983 : INFO : worker thread finished; awaiting finish of 0 more threads\n",
            "2021-08-19 14:54:31,984 : INFO : EPOCH - 43 : training on 329 raw words (50 effective words) took 0.0s, 10579 effective words/s\n",
            "2021-08-19 14:54:31,997 : INFO : worker thread finished; awaiting finish of 0 more threads\n",
            "2021-08-19 14:54:31,999 : INFO : EPOCH - 44 : training on 329 raw words (49 effective words) took 0.0s, 6544 effective words/s\n",
            "2021-08-19 14:54:32,010 : INFO : worker thread finished; awaiting finish of 0 more threads\n",
            "2021-08-19 14:54:32,011 : INFO : EPOCH - 45 : training on 329 raw words (49 effective words) took 0.0s, 7985 effective words/s\n",
            "2021-08-19 14:54:32,022 : INFO : worker thread finished; awaiting finish of 0 more threads\n",
            "2021-08-19 14:54:32,024 : INFO : EPOCH - 46 : training on 329 raw words (45 effective words) took 0.0s, 6275 effective words/s\n",
            "2021-08-19 14:54:32,030 : INFO : worker thread finished; awaiting finish of 0 more threads\n",
            "2021-08-19 14:54:32,032 : INFO : EPOCH - 47 : training on 329 raw words (54 effective words) took 0.0s, 10259 effective words/s\n",
            "2021-08-19 14:54:32,051 : INFO : worker thread finished; awaiting finish of 0 more threads\n",
            "2021-08-19 14:54:32,052 : INFO : EPOCH - 48 : training on 329 raw words (49 effective words) took 0.0s, 7635 effective words/s\n",
            "2021-08-19 14:54:32,061 : INFO : worker thread finished; awaiting finish of 0 more threads\n",
            "2021-08-19 14:54:32,063 : INFO : EPOCH - 49 : training on 329 raw words (52 effective words) took 0.0s, 10325 effective words/s\n",
            "2021-08-19 14:54:32,070 : INFO : worker thread finished; awaiting finish of 0 more threads\n",
            "2021-08-19 14:54:32,072 : INFO : EPOCH - 50 : training on 329 raw words (57 effective words) took 0.0s, 14443 effective words/s\n",
            "2021-08-19 14:54:32,078 : INFO : worker thread finished; awaiting finish of 0 more threads\n",
            "2021-08-19 14:54:32,080 : INFO : EPOCH - 51 : training on 329 raw words (51 effective words) took 0.0s, 13787 effective words/s\n",
            "2021-08-19 14:54:32,088 : INFO : worker thread finished; awaiting finish of 0 more threads\n",
            "2021-08-19 14:54:32,090 : INFO : EPOCH - 52 : training on 329 raw words (54 effective words) took 0.0s, 13792 effective words/s\n",
            "2021-08-19 14:54:32,096 : INFO : worker thread finished; awaiting finish of 0 more threads\n",
            "2021-08-19 14:54:32,099 : INFO : EPOCH - 53 : training on 329 raw words (51 effective words) took 0.0s, 9473 effective words/s\n",
            "2021-08-19 14:54:32,108 : INFO : worker thread finished; awaiting finish of 0 more threads\n",
            "2021-08-19 14:54:32,109 : INFO : EPOCH - 54 : training on 329 raw words (52 effective words) took 0.0s, 7530 effective words/s\n",
            "2021-08-19 14:54:32,120 : INFO : worker thread finished; awaiting finish of 0 more threads\n",
            "2021-08-19 14:54:32,121 : INFO : EPOCH - 55 : training on 329 raw words (47 effective words) took 0.0s, 9982 effective words/s\n",
            "2021-08-19 14:54:32,132 : INFO : worker thread finished; awaiting finish of 0 more threads\n",
            "2021-08-19 14:54:32,136 : INFO : EPOCH - 56 : training on 329 raw words (43 effective words) took 0.0s, 6151 effective words/s\n",
            "2021-08-19 14:54:32,142 : INFO : worker thread finished; awaiting finish of 0 more threads\n",
            "2021-08-19 14:54:32,144 : INFO : EPOCH - 57 : training on 329 raw words (43 effective words) took 0.0s, 14182 effective words/s\n",
            "2021-08-19 14:54:32,152 : INFO : worker thread finished; awaiting finish of 0 more threads\n",
            "2021-08-19 14:54:32,153 : INFO : EPOCH - 58 : training on 329 raw words (47 effective words) took 0.0s, 16678 effective words/s\n",
            "2021-08-19 14:54:32,162 : INFO : worker thread finished; awaiting finish of 0 more threads\n",
            "2021-08-19 14:54:32,163 : INFO : EPOCH - 59 : training on 329 raw words (52 effective words) took 0.0s, 12354 effective words/s\n",
            "2021-08-19 14:54:32,176 : INFO : worker thread finished; awaiting finish of 0 more threads\n",
            "2021-08-19 14:54:32,182 : INFO : EPOCH - 60 : training on 329 raw words (45 effective words) took 0.0s, 3969 effective words/s\n",
            "2021-08-19 14:54:32,192 : INFO : worker thread finished; awaiting finish of 0 more threads\n",
            "2021-08-19 14:54:32,193 : INFO : EPOCH - 61 : training on 329 raw words (49 effective words) took 0.0s, 10490 effective words/s\n",
            "2021-08-19 14:54:32,210 : INFO : worker thread finished; awaiting finish of 0 more threads\n",
            "2021-08-19 14:54:32,212 : INFO : EPOCH - 62 : training on 329 raw words (54 effective words) took 0.0s, 11321 effective words/s\n",
            "2021-08-19 14:54:32,220 : INFO : worker thread finished; awaiting finish of 0 more threads\n",
            "2021-08-19 14:54:32,222 : INFO : EPOCH - 63 : training on 329 raw words (47 effective words) took 0.0s, 14883 effective words/s\n",
            "2021-08-19 14:54:32,230 : INFO : worker thread finished; awaiting finish of 0 more threads\n",
            "2021-08-19 14:54:32,232 : INFO : EPOCH - 64 : training on 329 raw words (48 effective words) took 0.0s, 9700 effective words/s\n",
            "2021-08-19 14:54:32,238 : INFO : worker thread finished; awaiting finish of 0 more threads\n",
            "2021-08-19 14:54:32,240 : INFO : EPOCH - 65 : training on 329 raw words (54 effective words) took 0.0s, 9858 effective words/s\n",
            "2021-08-19 14:54:32,249 : INFO : worker thread finished; awaiting finish of 0 more threads\n",
            "2021-08-19 14:54:32,250 : INFO : EPOCH - 66 : training on 329 raw words (53 effective words) took 0.0s, 15392 effective words/s\n",
            "2021-08-19 14:54:32,257 : INFO : worker thread finished; awaiting finish of 0 more threads\n",
            "2021-08-19 14:54:32,259 : INFO : EPOCH - 67 : training on 329 raw words (49 effective words) took 0.0s, 14441 effective words/s\n",
            "2021-08-19 14:54:32,266 : INFO : worker thread finished; awaiting finish of 0 more threads\n",
            "2021-08-19 14:54:32,268 : INFO : EPOCH - 68 : training on 329 raw words (53 effective words) took 0.0s, 10015 effective words/s\n",
            "2021-08-19 14:54:32,285 : INFO : worker thread finished; awaiting finish of 0 more threads\n",
            "2021-08-19 14:54:32,286 : INFO : EPOCH - 69 : training on 329 raw words (52 effective words) took 0.0s, 9218 effective words/s\n",
            "2021-08-19 14:54:32,295 : INFO : worker thread finished; awaiting finish of 0 more threads\n",
            "2021-08-19 14:54:32,298 : INFO : EPOCH - 70 : training on 329 raw words (50 effective words) took 0.0s, 7126 effective words/s\n",
            "2021-08-19 14:54:32,308 : INFO : worker thread finished; awaiting finish of 0 more threads\n",
            "2021-08-19 14:54:32,310 : INFO : EPOCH - 71 : training on 329 raw words (48 effective words) took 0.0s, 11823 effective words/s\n",
            "2021-08-19 14:54:32,318 : INFO : worker thread finished; awaiting finish of 0 more threads\n",
            "2021-08-19 14:54:32,319 : INFO : EPOCH - 72 : training on 329 raw words (52 effective words) took 0.0s, 14471 effective words/s\n",
            "2021-08-19 14:54:32,327 : INFO : worker thread finished; awaiting finish of 0 more threads\n",
            "2021-08-19 14:54:32,328 : INFO : EPOCH - 73 : training on 329 raw words (51 effective words) took 0.0s, 11795 effective words/s\n",
            "2021-08-19 14:54:32,336 : INFO : worker thread finished; awaiting finish of 0 more threads\n",
            "2021-08-19 14:54:32,337 : INFO : EPOCH - 74 : training on 329 raw words (51 effective words) took 0.0s, 11945 effective words/s\n",
            "2021-08-19 14:54:32,346 : INFO : worker thread finished; awaiting finish of 0 more threads\n",
            "2021-08-19 14:54:32,347 : INFO : EPOCH - 75 : training on 329 raw words (48 effective words) took 0.0s, 10176 effective words/s\n",
            "2021-08-19 14:54:32,355 : INFO : worker thread finished; awaiting finish of 0 more threads\n",
            "2021-08-19 14:54:32,357 : INFO : EPOCH - 76 : training on 329 raw words (44 effective words) took 0.0s, 7422 effective words/s\n",
            "2021-08-19 14:54:32,367 : INFO : worker thread finished; awaiting finish of 0 more threads\n",
            "2021-08-19 14:54:32,369 : INFO : EPOCH - 77 : training on 329 raw words (54 effective words) took 0.0s, 6946 effective words/s\n",
            "2021-08-19 14:54:32,378 : INFO : worker thread finished; awaiting finish of 0 more threads\n",
            "2021-08-19 14:54:32,379 : INFO : EPOCH - 78 : training on 329 raw words (48 effective words) took 0.0s, 8102 effective words/s\n",
            "2021-08-19 14:54:32,388 : INFO : worker thread finished; awaiting finish of 0 more threads\n",
            "2021-08-19 14:54:32,389 : INFO : EPOCH - 79 : training on 329 raw words (45 effective words) took 0.0s, 9723 effective words/s\n",
            "2021-08-19 14:54:32,398 : INFO : worker thread finished; awaiting finish of 0 more threads\n",
            "2021-08-19 14:54:32,399 : INFO : EPOCH - 80 : training on 329 raw words (50 effective words) took 0.0s, 8432 effective words/s\n",
            "2021-08-19 14:54:32,408 : INFO : worker thread finished; awaiting finish of 0 more threads\n",
            "2021-08-19 14:54:32,411 : INFO : EPOCH - 81 : training on 329 raw words (50 effective words) took 0.0s, 9311 effective words/s\n",
            "2021-08-19 14:54:32,421 : INFO : worker thread finished; awaiting finish of 0 more threads\n",
            "2021-08-19 14:54:32,422 : INFO : EPOCH - 82 : training on 329 raw words (50 effective words) took 0.0s, 7789 effective words/s\n",
            "2021-08-19 14:54:32,432 : INFO : worker thread finished; awaiting finish of 0 more threads\n",
            "2021-08-19 14:54:32,433 : INFO : EPOCH - 83 : training on 329 raw words (51 effective words) took 0.0s, 14448 effective words/s\n",
            "2021-08-19 14:54:32,443 : INFO : worker thread finished; awaiting finish of 0 more threads\n",
            "2021-08-19 14:54:32,444 : INFO : EPOCH - 84 : training on 329 raw words (50 effective words) took 0.0s, 12848 effective words/s\n",
            "2021-08-19 14:54:32,453 : INFO : worker thread finished; awaiting finish of 0 more threads\n",
            "2021-08-19 14:54:32,455 : INFO : EPOCH - 85 : training on 329 raw words (48 effective words) took 0.0s, 11994 effective words/s\n",
            "2021-08-19 14:54:32,464 : INFO : worker thread finished; awaiting finish of 0 more threads\n",
            "2021-08-19 14:54:32,466 : INFO : EPOCH - 86 : training on 329 raw words (45 effective words) took 0.0s, 7083 effective words/s\n",
            "2021-08-19 14:54:32,475 : INFO : worker thread finished; awaiting finish of 0 more threads\n",
            "2021-08-19 14:54:32,477 : INFO : EPOCH - 87 : training on 329 raw words (53 effective words) took 0.0s, 9707 effective words/s\n",
            "2021-08-19 14:54:32,488 : INFO : worker thread finished; awaiting finish of 0 more threads\n",
            "2021-08-19 14:54:32,489 : INFO : EPOCH - 88 : training on 329 raw words (50 effective words) took 0.0s, 11980 effective words/s\n",
            "2021-08-19 14:54:32,500 : INFO : worker thread finished; awaiting finish of 0 more threads\n",
            "2021-08-19 14:54:32,501 : INFO : EPOCH - 89 : training on 329 raw words (54 effective words) took 0.0s, 15273 effective words/s\n",
            "2021-08-19 14:54:32,511 : INFO : worker thread finished; awaiting finish of 0 more threads\n",
            "2021-08-19 14:54:32,513 : INFO : EPOCH - 90 : training on 329 raw words (56 effective words) took 0.0s, 13692 effective words/s\n",
            "2021-08-19 14:54:32,522 : INFO : worker thread finished; awaiting finish of 0 more threads\n",
            "2021-08-19 14:54:32,523 : INFO : EPOCH - 91 : training on 329 raw words (48 effective words) took 0.0s, 13076 effective words/s\n",
            "2021-08-19 14:54:32,532 : INFO : worker thread finished; awaiting finish of 0 more threads\n",
            "2021-08-19 14:54:32,533 : INFO : EPOCH - 92 : training on 329 raw words (46 effective words) took 0.0s, 11469 effective words/s\n",
            "2021-08-19 14:54:32,542 : INFO : worker thread finished; awaiting finish of 0 more threads\n",
            "2021-08-19 14:54:32,543 : INFO : EPOCH - 93 : training on 329 raw words (47 effective words) took 0.0s, 10142 effective words/s\n",
            "2021-08-19 14:54:32,550 : INFO : worker thread finished; awaiting finish of 0 more threads\n",
            "2021-08-19 14:54:32,551 : INFO : EPOCH - 94 : training on 329 raw words (48 effective words) took 0.0s, 10758 effective words/s\n",
            "2021-08-19 14:54:32,561 : INFO : worker thread finished; awaiting finish of 0 more threads\n",
            "2021-08-19 14:54:32,566 : INFO : EPOCH - 95 : training on 329 raw words (53 effective words) took 0.0s, 6343 effective words/s\n",
            "2021-08-19 14:54:32,578 : INFO : worker thread finished; awaiting finish of 0 more threads\n",
            "2021-08-19 14:54:32,580 : INFO : EPOCH - 96 : training on 329 raw words (54 effective words) took 0.0s, 16111 effective words/s\n",
            "2021-08-19 14:54:32,593 : INFO : worker thread finished; awaiting finish of 0 more threads\n",
            "2021-08-19 14:54:32,595 : INFO : EPOCH - 97 : training on 329 raw words (55 effective words) took 0.0s, 5450 effective words/s\n",
            "2021-08-19 14:54:32,603 : INFO : worker thread finished; awaiting finish of 0 more threads\n",
            "2021-08-19 14:54:32,606 : INFO : EPOCH - 98 : training on 329 raw words (47 effective words) took 0.0s, 7618 effective words/s\n",
            "2021-08-19 14:54:32,614 : INFO : worker thread finished; awaiting finish of 0 more threads\n",
            "2021-08-19 14:54:32,615 : INFO : EPOCH - 99 : training on 329 raw words (50 effective words) took 0.0s, 15559 effective words/s\n",
            "2021-08-19 14:54:32,623 : INFO : worker thread finished; awaiting finish of 0 more threads\n",
            "2021-08-19 14:54:32,625 : INFO : EPOCH - 100 : training on 329 raw words (44 effective words) took 0.0s, 9225 effective words/s\n",
            "2021-08-19 14:54:32,628 : INFO : training on a 32900 raw words (4977 effective words) took 1.1s, 4537 effective words/s\n",
            "2021-08-19 14:54:32,630 : INFO : saving Doc2Vec object under Freelancers, separately None\n",
            "2021-08-19 14:54:32,641 : INFO : saved Freelancers\n"
          ],
          "name": "stderr"
        }
      ]
    },
    {
      "cell_type": "code",
      "metadata": {
        "id": "Nces6_XyzFbh",
        "colab": {
          "base_uri": "https://localhost:8080/"
        },
        "outputId": "4a0788eb-bc99-4cb1-fa4f-9d174353ab2f"
      },
      "source": [
        "#input corpus\n",
        "train_corpus = \"/content/freelancers-documents/Freelancers/Content_2.txt\"\n",
        "\n",
        "#output model\n",
        "saved_path = \"Freelancers\"\n",
        "\n",
        "#enable logging\n",
        "logging.basicConfig(format='%(asctime)s : %(levelname)s : %(message)s', level=logging.INFO)\n",
        "\n",
        "#train doc2vec model\n",
        "docs = g.doc2vec.TaggedLineDocument(train_corpus)\n",
        "model = g.Doc2Vec(docs, size=vector_size, window=window_size, min_count=min_count, sample=sampling_threshold, workers=worker_count, hs=0, dm=dm, negative=negative_size, dbow_words=1, dm_concat=1, iter=train_epoch)\n",
        "\n",
        "#save model\n",
        "model.save(saved_path)"
      ],
      "execution_count": 65,
      "outputs": [
        {
          "output_type": "stream",
          "text": [
            "/usr/local/lib/python3.7/dist-packages/gensim/models/doc2vec.py:566: UserWarning: The parameter `iter` is deprecated, will be removed in 4.0.0, use `epochs` instead.\n",
            "  warnings.warn(\"The parameter `iter` is deprecated, will be removed in 4.0.0, use `epochs` instead.\")\n",
            "/usr/local/lib/python3.7/dist-packages/gensim/models/doc2vec.py:570: UserWarning: The parameter `size` is deprecated, will be removed in 4.0.0, use `vector_size` instead.\n",
            "  warnings.warn(\"The parameter `size` is deprecated, will be removed in 4.0.0, use `vector_size` instead.\")\n",
            "2021-08-19 14:54:32,660 : INFO : collecting all words and their counts\n",
            "2021-08-19 14:54:32,662 : INFO : PROGRESS: at example #0, processed 0 words (0/s), 0 word types, 0 tags\n",
            "2021-08-19 14:54:32,665 : INFO : collected 148 word types and 34 unique tags from a corpus of 34 examples and 253 words\n",
            "2021-08-19 14:54:32,672 : INFO : Loading a fresh vocabulary\n",
            "2021-08-19 14:54:32,674 : INFO : effective_min_count=1 retains 148 unique words (100% of original 148, drops 0)\n",
            "2021-08-19 14:54:32,676 : INFO : effective_min_count=1 leaves 253 word corpus (100% of original 253, drops 0)\n",
            "2021-08-19 14:54:32,680 : INFO : deleting the raw counts dictionary of 148 items\n",
            "2021-08-19 14:54:32,682 : INFO : sample=1e-05 downsamples 148 most-common words\n",
            "2021-08-19 14:54:32,685 : INFO : downsampling leaves estimated 9 word corpus (3.8% of prior 253)\n",
            "2021-08-19 14:54:32,687 : INFO : estimated required memory for 148 words and 300 dimensions: 470000 bytes\n",
            "2021-08-19 14:54:32,689 : INFO : resetting layer weights\n",
            "2021-08-19 14:54:32,752 : INFO : training model with 1 workers on 149 vocabulary and 300 features, using sg=1 hs=0 sample=1e-05 negative=5 window=15\n",
            "2021-08-19 14:54:32,759 : INFO : worker thread finished; awaiting finish of 0 more threads\n",
            "2021-08-19 14:54:32,760 : INFO : EPOCH - 1 : training on 253 raw words (46 effective words) took 0.0s, 9036 effective words/s\n",
            "2021-08-19 14:54:32,768 : INFO : worker thread finished; awaiting finish of 0 more threads\n",
            "2021-08-19 14:54:32,770 : INFO : EPOCH - 2 : training on 253 raw words (48 effective words) took 0.0s, 8419 effective words/s\n",
            "2021-08-19 14:54:32,777 : INFO : worker thread finished; awaiting finish of 0 more threads\n",
            "2021-08-19 14:54:32,778 : INFO : EPOCH - 3 : training on 253 raw words (42 effective words) took 0.0s, 8273 effective words/s\n",
            "2021-08-19 14:54:32,786 : INFO : worker thread finished; awaiting finish of 0 more threads\n",
            "2021-08-19 14:54:32,787 : INFO : EPOCH - 4 : training on 253 raw words (42 effective words) took 0.0s, 8773 effective words/s\n",
            "2021-08-19 14:54:32,795 : INFO : worker thread finished; awaiting finish of 0 more threads\n",
            "2021-08-19 14:54:32,797 : INFO : EPOCH - 5 : training on 253 raw words (42 effective words) took 0.0s, 7970 effective words/s\n",
            "2021-08-19 14:54:32,806 : INFO : worker thread finished; awaiting finish of 0 more threads\n",
            "2021-08-19 14:54:32,807 : INFO : EPOCH - 6 : training on 253 raw words (41 effective words) took 0.0s, 13496 effective words/s\n",
            "2021-08-19 14:54:32,818 : INFO : worker thread finished; awaiting finish of 0 more threads\n",
            "2021-08-19 14:54:32,820 : INFO : EPOCH - 7 : training on 253 raw words (42 effective words) took 0.0s, 12602 effective words/s\n",
            "2021-08-19 14:54:32,831 : INFO : worker thread finished; awaiting finish of 0 more threads\n",
            "2021-08-19 14:54:32,832 : INFO : EPOCH - 8 : training on 253 raw words (49 effective words) took 0.0s, 11527 effective words/s\n",
            "2021-08-19 14:54:32,840 : INFO : worker thread finished; awaiting finish of 0 more threads\n",
            "2021-08-19 14:54:32,842 : INFO : EPOCH - 9 : training on 253 raw words (44 effective words) took 0.0s, 14798 effective words/s\n",
            "2021-08-19 14:54:32,849 : INFO : worker thread finished; awaiting finish of 0 more threads\n",
            "2021-08-19 14:54:32,851 : INFO : EPOCH - 10 : training on 253 raw words (41 effective words) took 0.0s, 11110 effective words/s\n",
            "2021-08-19 14:54:32,857 : INFO : worker thread finished; awaiting finish of 0 more threads\n",
            "2021-08-19 14:54:32,859 : INFO : EPOCH - 11 : training on 253 raw words (41 effective words) took 0.0s, 10357 effective words/s\n",
            "2021-08-19 14:54:32,869 : INFO : worker thread finished; awaiting finish of 0 more threads\n",
            "2021-08-19 14:54:32,870 : INFO : EPOCH - 12 : training on 253 raw words (42 effective words) took 0.0s, 8896 effective words/s\n",
            "2021-08-19 14:54:32,881 : INFO : worker thread finished; awaiting finish of 0 more threads\n",
            "2021-08-19 14:54:32,882 : INFO : EPOCH - 13 : training on 253 raw words (44 effective words) took 0.0s, 10734 effective words/s\n",
            "2021-08-19 14:54:32,900 : INFO : worker thread finished; awaiting finish of 0 more threads\n",
            "2021-08-19 14:54:32,901 : INFO : EPOCH - 14 : training on 253 raw words (39 effective words) took 0.0s, 11027 effective words/s\n",
            "2021-08-19 14:54:32,912 : INFO : worker thread finished; awaiting finish of 0 more threads\n",
            "2021-08-19 14:54:32,914 : INFO : EPOCH - 15 : training on 253 raw words (44 effective words) took 0.0s, 5776 effective words/s\n",
            "2021-08-19 14:54:32,923 : INFO : worker thread finished; awaiting finish of 0 more threads\n",
            "2021-08-19 14:54:32,925 : INFO : EPOCH - 16 : training on 253 raw words (41 effective words) took 0.0s, 7725 effective words/s\n",
            "2021-08-19 14:54:32,932 : INFO : worker thread finished; awaiting finish of 0 more threads\n",
            "2021-08-19 14:54:32,934 : INFO : EPOCH - 17 : training on 253 raw words (42 effective words) took 0.0s, 6416 effective words/s\n",
            "2021-08-19 14:54:32,949 : INFO : worker thread finished; awaiting finish of 0 more threads\n",
            "2021-08-19 14:54:32,952 : INFO : EPOCH - 18 : training on 253 raw words (44 effective words) took 0.0s, 4947 effective words/s\n",
            "2021-08-19 14:54:32,963 : INFO : worker thread finished; awaiting finish of 0 more threads\n",
            "2021-08-19 14:54:32,965 : INFO : EPOCH - 19 : training on 253 raw words (44 effective words) took 0.0s, 8397 effective words/s\n",
            "2021-08-19 14:54:32,975 : INFO : worker thread finished; awaiting finish of 0 more threads\n",
            "2021-08-19 14:54:32,978 : INFO : EPOCH - 20 : training on 253 raw words (46 effective words) took 0.0s, 6100 effective words/s\n",
            "2021-08-19 14:54:32,986 : INFO : worker thread finished; awaiting finish of 0 more threads\n",
            "2021-08-19 14:54:32,989 : INFO : EPOCH - 21 : training on 253 raw words (42 effective words) took 0.0s, 8523 effective words/s\n",
            "2021-08-19 14:54:33,003 : INFO : worker thread finished; awaiting finish of 0 more threads\n",
            "2021-08-19 14:54:33,005 : INFO : EPOCH - 22 : training on 253 raw words (43 effective words) took 0.0s, 3660 effective words/s\n",
            "2021-08-19 14:54:33,016 : INFO : worker thread finished; awaiting finish of 0 more threads\n",
            "2021-08-19 14:54:33,018 : INFO : EPOCH - 23 : training on 253 raw words (42 effective words) took 0.0s, 7431 effective words/s\n",
            "2021-08-19 14:54:33,026 : INFO : worker thread finished; awaiting finish of 0 more threads\n",
            "2021-08-19 14:54:33,027 : INFO : EPOCH - 24 : training on 253 raw words (39 effective words) took 0.0s, 9051 effective words/s\n",
            "2021-08-19 14:54:33,036 : INFO : worker thread finished; awaiting finish of 0 more threads\n",
            "2021-08-19 14:54:33,039 : INFO : EPOCH - 25 : training on 253 raw words (48 effective words) took 0.0s, 6487 effective words/s\n",
            "2021-08-19 14:54:33,047 : INFO : worker thread finished; awaiting finish of 0 more threads\n",
            "2021-08-19 14:54:33,049 : INFO : EPOCH - 26 : training on 253 raw words (47 effective words) took 0.0s, 9376 effective words/s\n",
            "2021-08-19 14:54:33,058 : INFO : worker thread finished; awaiting finish of 0 more threads\n",
            "2021-08-19 14:54:33,066 : INFO : EPOCH - 27 : training on 253 raw words (43 effective words) took 0.0s, 3851 effective words/s\n",
            "2021-08-19 14:54:33,075 : INFO : worker thread finished; awaiting finish of 0 more threads\n",
            "2021-08-19 14:54:33,078 : INFO : EPOCH - 28 : training on 253 raw words (40 effective words) took 0.0s, 7472 effective words/s\n",
            "2021-08-19 14:54:33,086 : INFO : worker thread finished; awaiting finish of 0 more threads\n",
            "2021-08-19 14:54:33,087 : INFO : EPOCH - 29 : training on 253 raw words (43 effective words) took 0.0s, 15013 effective words/s\n",
            "2021-08-19 14:54:33,096 : INFO : worker thread finished; awaiting finish of 0 more threads\n",
            "2021-08-19 14:54:33,097 : INFO : EPOCH - 30 : training on 253 raw words (45 effective words) took 0.0s, 14555 effective words/s\n",
            "2021-08-19 14:54:33,106 : INFO : worker thread finished; awaiting finish of 0 more threads\n",
            "2021-08-19 14:54:33,110 : INFO : EPOCH - 31 : training on 253 raw words (48 effective words) took 0.0s, 9260 effective words/s\n",
            "2021-08-19 14:54:33,118 : INFO : worker thread finished; awaiting finish of 0 more threads\n",
            "2021-08-19 14:54:33,119 : INFO : EPOCH - 32 : training on 253 raw words (44 effective words) took 0.0s, 6490 effective words/s\n",
            "2021-08-19 14:54:33,132 : INFO : worker thread finished; awaiting finish of 0 more threads\n",
            "2021-08-19 14:54:33,136 : INFO : EPOCH - 33 : training on 253 raw words (44 effective words) took 0.0s, 5085 effective words/s\n",
            "2021-08-19 14:54:33,144 : INFO : worker thread finished; awaiting finish of 0 more threads\n",
            "2021-08-19 14:54:33,145 : INFO : EPOCH - 34 : training on 253 raw words (43 effective words) took 0.0s, 9603 effective words/s\n",
            "2021-08-19 14:54:33,153 : INFO : worker thread finished; awaiting finish of 0 more threads\n",
            "2021-08-19 14:54:33,155 : INFO : EPOCH - 35 : training on 253 raw words (42 effective words) took 0.0s, 10620 effective words/s\n",
            "2021-08-19 14:54:33,162 : INFO : worker thread finished; awaiting finish of 0 more threads\n",
            "2021-08-19 14:54:33,164 : INFO : EPOCH - 36 : training on 253 raw words (43 effective words) took 0.0s, 10119 effective words/s\n",
            "2021-08-19 14:54:33,172 : INFO : worker thread finished; awaiting finish of 0 more threads\n",
            "2021-08-19 14:54:33,174 : INFO : EPOCH - 37 : training on 253 raw words (38 effective words) took 0.0s, 7759 effective words/s\n",
            "2021-08-19 14:54:33,180 : INFO : worker thread finished; awaiting finish of 0 more threads\n",
            "2021-08-19 14:54:33,182 : INFO : EPOCH - 38 : training on 253 raw words (40 effective words) took 0.0s, 8067 effective words/s\n",
            "2021-08-19 14:54:33,191 : INFO : worker thread finished; awaiting finish of 0 more threads\n",
            "2021-08-19 14:54:33,193 : INFO : EPOCH - 39 : training on 253 raw words (45 effective words) took 0.0s, 7134 effective words/s\n",
            "2021-08-19 14:54:33,206 : INFO : worker thread finished; awaiting finish of 0 more threads\n",
            "2021-08-19 14:54:33,208 : INFO : EPOCH - 40 : training on 253 raw words (42 effective words) took 0.0s, 5761 effective words/s\n",
            "2021-08-19 14:54:33,219 : INFO : worker thread finished; awaiting finish of 0 more threads\n",
            "2021-08-19 14:54:33,220 : INFO : EPOCH - 41 : training on 253 raw words (48 effective words) took 0.0s, 6135 effective words/s\n",
            "2021-08-19 14:54:33,230 : INFO : worker thread finished; awaiting finish of 0 more threads\n",
            "2021-08-19 14:54:33,232 : INFO : EPOCH - 42 : training on 253 raw words (40 effective words) took 0.0s, 7166 effective words/s\n",
            "2021-08-19 14:54:33,242 : INFO : worker thread finished; awaiting finish of 0 more threads\n",
            "2021-08-19 14:54:33,243 : INFO : EPOCH - 43 : training on 253 raw words (39 effective words) took 0.0s, 12103 effective words/s\n",
            "2021-08-19 14:54:33,252 : INFO : worker thread finished; awaiting finish of 0 more threads\n",
            "2021-08-19 14:54:33,255 : INFO : EPOCH - 44 : training on 253 raw words (44 effective words) took 0.0s, 8668 effective words/s\n",
            "2021-08-19 14:54:33,263 : INFO : worker thread finished; awaiting finish of 0 more threads\n",
            "2021-08-19 14:54:33,265 : INFO : EPOCH - 45 : training on 253 raw words (41 effective words) took 0.0s, 8312 effective words/s\n",
            "2021-08-19 14:54:33,274 : INFO : worker thread finished; awaiting finish of 0 more threads\n",
            "2021-08-19 14:54:33,276 : INFO : EPOCH - 46 : training on 253 raw words (49 effective words) took 0.0s, 13595 effective words/s\n",
            "2021-08-19 14:54:33,284 : INFO : worker thread finished; awaiting finish of 0 more threads\n",
            "2021-08-19 14:54:33,285 : INFO : EPOCH - 47 : training on 253 raw words (43 effective words) took 0.0s, 12166 effective words/s\n",
            "2021-08-19 14:54:33,294 : INFO : worker thread finished; awaiting finish of 0 more threads\n",
            "2021-08-19 14:54:33,295 : INFO : EPOCH - 48 : training on 253 raw words (48 effective words) took 0.0s, 11987 effective words/s\n",
            "2021-08-19 14:54:33,305 : INFO : worker thread finished; awaiting finish of 0 more threads\n",
            "2021-08-19 14:54:33,306 : INFO : EPOCH - 49 : training on 253 raw words (41 effective words) took 0.0s, 12360 effective words/s\n",
            "2021-08-19 14:54:33,314 : INFO : worker thread finished; awaiting finish of 0 more threads\n",
            "2021-08-19 14:54:33,316 : INFO : EPOCH - 50 : training on 253 raw words (43 effective words) took 0.0s, 8397 effective words/s\n",
            "2021-08-19 14:54:33,325 : INFO : worker thread finished; awaiting finish of 0 more threads\n",
            "2021-08-19 14:54:33,326 : INFO : EPOCH - 51 : training on 253 raw words (48 effective words) took 0.0s, 11987 effective words/s\n",
            "2021-08-19 14:54:33,334 : INFO : worker thread finished; awaiting finish of 0 more threads\n",
            "2021-08-19 14:54:33,336 : INFO : EPOCH - 52 : training on 253 raw words (51 effective words) took 0.0s, 12200 effective words/s\n",
            "2021-08-19 14:54:33,344 : INFO : worker thread finished; awaiting finish of 0 more threads\n",
            "2021-08-19 14:54:33,345 : INFO : EPOCH - 53 : training on 253 raw words (45 effective words) took 0.0s, 13970 effective words/s\n",
            "2021-08-19 14:54:33,358 : INFO : worker thread finished; awaiting finish of 0 more threads\n",
            "2021-08-19 14:54:33,359 : INFO : EPOCH - 54 : training on 253 raw words (42 effective words) took 0.0s, 11167 effective words/s\n",
            "2021-08-19 14:54:33,366 : INFO : worker thread finished; awaiting finish of 0 more threads\n",
            "2021-08-19 14:54:33,369 : INFO : EPOCH - 55 : training on 253 raw words (48 effective words) took 0.0s, 8066 effective words/s\n",
            "2021-08-19 14:54:33,379 : INFO : worker thread finished; awaiting finish of 0 more threads\n",
            "2021-08-19 14:54:33,380 : INFO : EPOCH - 56 : training on 253 raw words (45 effective words) took 0.0s, 14963 effective words/s\n",
            "2021-08-19 14:54:33,389 : INFO : worker thread finished; awaiting finish of 0 more threads\n",
            "2021-08-19 14:54:33,390 : INFO : EPOCH - 57 : training on 253 raw words (53 effective words) took 0.0s, 15512 effective words/s\n",
            "2021-08-19 14:54:33,398 : INFO : worker thread finished; awaiting finish of 0 more threads\n",
            "2021-08-19 14:54:33,400 : INFO : EPOCH - 58 : training on 253 raw words (48 effective words) took 0.0s, 9329 effective words/s\n",
            "2021-08-19 14:54:33,409 : INFO : worker thread finished; awaiting finish of 0 more threads\n",
            "2021-08-19 14:54:33,413 : INFO : EPOCH - 59 : training on 253 raw words (44 effective words) took 0.0s, 5435 effective words/s\n",
            "2021-08-19 14:54:33,422 : INFO : worker thread finished; awaiting finish of 0 more threads\n",
            "2021-08-19 14:54:33,423 : INFO : EPOCH - 60 : training on 253 raw words (41 effective words) took 0.0s, 8794 effective words/s\n",
            "2021-08-19 14:54:33,431 : INFO : worker thread finished; awaiting finish of 0 more threads\n",
            "2021-08-19 14:54:33,434 : INFO : EPOCH - 61 : training on 253 raw words (44 effective words) took 0.0s, 6613 effective words/s\n",
            "2021-08-19 14:54:33,442 : INFO : worker thread finished; awaiting finish of 0 more threads\n",
            "2021-08-19 14:54:33,444 : INFO : EPOCH - 62 : training on 253 raw words (42 effective words) took 0.0s, 8181 effective words/s\n",
            "2021-08-19 14:54:33,454 : INFO : worker thread finished; awaiting finish of 0 more threads\n",
            "2021-08-19 14:54:33,456 : INFO : EPOCH - 63 : training on 253 raw words (36 effective words) took 0.0s, 5912 effective words/s\n",
            "2021-08-19 14:54:33,464 : INFO : worker thread finished; awaiting finish of 0 more threads\n",
            "2021-08-19 14:54:33,466 : INFO : EPOCH - 64 : training on 253 raw words (44 effective words) took 0.0s, 5658 effective words/s\n",
            "2021-08-19 14:54:33,477 : INFO : worker thread finished; awaiting finish of 0 more threads\n",
            "2021-08-19 14:54:33,479 : INFO : EPOCH - 65 : training on 253 raw words (39 effective words) took 0.0s, 6043 effective words/s\n",
            "2021-08-19 14:54:33,489 : INFO : worker thread finished; awaiting finish of 0 more threads\n",
            "2021-08-19 14:54:33,490 : INFO : EPOCH - 66 : training on 253 raw words (45 effective words) took 0.0s, 11647 effective words/s\n",
            "2021-08-19 14:54:33,501 : INFO : worker thread finished; awaiting finish of 0 more threads\n",
            "2021-08-19 14:54:33,502 : INFO : EPOCH - 67 : training on 253 raw words (43 effective words) took 0.0s, 4780 effective words/s\n",
            "2021-08-19 14:54:33,513 : INFO : worker thread finished; awaiting finish of 0 more threads\n",
            "2021-08-19 14:54:33,515 : INFO : EPOCH - 68 : training on 253 raw words (43 effective words) took 0.0s, 7684 effective words/s\n",
            "2021-08-19 14:54:33,525 : INFO : worker thread finished; awaiting finish of 0 more threads\n",
            "2021-08-19 14:54:33,527 : INFO : EPOCH - 69 : training on 253 raw words (43 effective words) took 0.0s, 5223 effective words/s\n",
            "2021-08-19 14:54:33,537 : INFO : worker thread finished; awaiting finish of 0 more threads\n",
            "2021-08-19 14:54:33,539 : INFO : EPOCH - 70 : training on 253 raw words (42 effective words) took 0.0s, 9709 effective words/s\n",
            "2021-08-19 14:54:33,548 : INFO : worker thread finished; awaiting finish of 0 more threads\n",
            "2021-08-19 14:54:33,550 : INFO : EPOCH - 71 : training on 253 raw words (42 effective words) took 0.0s, 6006 effective words/s\n",
            "2021-08-19 14:54:33,558 : INFO : worker thread finished; awaiting finish of 0 more threads\n",
            "2021-08-19 14:54:33,561 : INFO : EPOCH - 72 : training on 253 raw words (46 effective words) took 0.0s, 9800 effective words/s\n",
            "2021-08-19 14:54:33,569 : INFO : worker thread finished; awaiting finish of 0 more threads\n",
            "2021-08-19 14:54:33,570 : INFO : EPOCH - 73 : training on 253 raw words (47 effective words) took 0.0s, 12521 effective words/s\n",
            "2021-08-19 14:54:33,579 : INFO : worker thread finished; awaiting finish of 0 more threads\n",
            "2021-08-19 14:54:33,581 : INFO : EPOCH - 74 : training on 253 raw words (42 effective words) took 0.0s, 8382 effective words/s\n",
            "2021-08-19 14:54:33,588 : INFO : worker thread finished; awaiting finish of 0 more threads\n",
            "2021-08-19 14:54:33,591 : INFO : EPOCH - 75 : training on 253 raw words (43 effective words) took 0.0s, 7797 effective words/s\n",
            "2021-08-19 14:54:33,600 : INFO : worker thread finished; awaiting finish of 0 more threads\n",
            "2021-08-19 14:54:33,601 : INFO : EPOCH - 76 : training on 253 raw words (46 effective words) took 0.0s, 5708 effective words/s\n",
            "2021-08-19 14:54:33,615 : INFO : worker thread finished; awaiting finish of 0 more threads\n",
            "2021-08-19 14:54:33,616 : INFO : EPOCH - 77 : training on 253 raw words (44 effective words) took 0.0s, 4814 effective words/s\n",
            "2021-08-19 14:54:33,626 : INFO : worker thread finished; awaiting finish of 0 more threads\n",
            "2021-08-19 14:54:33,628 : INFO : EPOCH - 78 : training on 253 raw words (45 effective words) took 0.0s, 4965 effective words/s\n",
            "2021-08-19 14:54:33,637 : INFO : worker thread finished; awaiting finish of 0 more threads\n",
            "2021-08-19 14:54:33,638 : INFO : EPOCH - 79 : training on 253 raw words (45 effective words) took 0.0s, 6027 effective words/s\n",
            "2021-08-19 14:54:33,647 : INFO : worker thread finished; awaiting finish of 0 more threads\n",
            "2021-08-19 14:54:33,649 : INFO : EPOCH - 80 : training on 253 raw words (45 effective words) took 0.0s, 12403 effective words/s\n",
            "2021-08-19 14:54:33,656 : INFO : worker thread finished; awaiting finish of 0 more threads\n",
            "2021-08-19 14:54:33,659 : INFO : EPOCH - 81 : training on 253 raw words (40 effective words) took 0.0s, 6494 effective words/s\n",
            "2021-08-19 14:54:33,667 : INFO : worker thread finished; awaiting finish of 0 more threads\n",
            "2021-08-19 14:54:33,669 : INFO : EPOCH - 82 : training on 253 raw words (39 effective words) took 0.0s, 7398 effective words/s\n",
            "2021-08-19 14:54:33,675 : INFO : worker thread finished; awaiting finish of 0 more threads\n",
            "2021-08-19 14:54:33,677 : INFO : EPOCH - 83 : training on 253 raw words (43 effective words) took 0.0s, 12058 effective words/s\n",
            "2021-08-19 14:54:33,686 : INFO : worker thread finished; awaiting finish of 0 more threads\n",
            "2021-08-19 14:54:33,688 : INFO : EPOCH - 84 : training on 253 raw words (46 effective words) took 0.0s, 13032 effective words/s\n",
            "2021-08-19 14:54:33,697 : INFO : worker thread finished; awaiting finish of 0 more threads\n",
            "2021-08-19 14:54:33,698 : INFO : EPOCH - 85 : training on 253 raw words (45 effective words) took 0.0s, 16019 effective words/s\n",
            "2021-08-19 14:54:33,707 : INFO : worker thread finished; awaiting finish of 0 more threads\n",
            "2021-08-19 14:54:33,708 : INFO : EPOCH - 86 : training on 253 raw words (44 effective words) took 0.0s, 13057 effective words/s\n",
            "2021-08-19 14:54:33,718 : INFO : worker thread finished; awaiting finish of 0 more threads\n",
            "2021-08-19 14:54:33,719 : INFO : EPOCH - 87 : training on 253 raw words (40 effective words) took 0.0s, 11516 effective words/s\n",
            "2021-08-19 14:54:33,728 : INFO : worker thread finished; awaiting finish of 0 more threads\n",
            "2021-08-19 14:54:33,730 : INFO : EPOCH - 88 : training on 253 raw words (41 effective words) took 0.0s, 8428 effective words/s\n",
            "2021-08-19 14:54:33,736 : INFO : worker thread finished; awaiting finish of 0 more threads\n",
            "2021-08-19 14:54:33,737 : INFO : EPOCH - 89 : training on 253 raw words (41 effective words) took 0.0s, 12894 effective words/s\n",
            "2021-08-19 14:54:33,743 : INFO : worker thread finished; awaiting finish of 0 more threads\n",
            "2021-08-19 14:54:33,746 : INFO : EPOCH - 90 : training on 253 raw words (49 effective words) took 0.0s, 9111 effective words/s\n",
            "2021-08-19 14:54:33,754 : INFO : worker thread finished; awaiting finish of 0 more threads\n",
            "2021-08-19 14:54:33,755 : INFO : EPOCH - 91 : training on 253 raw words (41 effective words) took 0.0s, 8124 effective words/s\n",
            "2021-08-19 14:54:33,763 : INFO : worker thread finished; awaiting finish of 0 more threads\n",
            "2021-08-19 14:54:33,765 : INFO : EPOCH - 92 : training on 253 raw words (40 effective words) took 0.0s, 8866 effective words/s\n",
            "2021-08-19 14:54:33,774 : INFO : worker thread finished; awaiting finish of 0 more threads\n",
            "2021-08-19 14:54:33,776 : INFO : EPOCH - 93 : training on 253 raw words (41 effective words) took 0.0s, 10146 effective words/s\n",
            "2021-08-19 14:54:33,783 : INFO : worker thread finished; awaiting finish of 0 more threads\n",
            "2021-08-19 14:54:33,786 : INFO : EPOCH - 94 : training on 253 raw words (43 effective words) took 0.0s, 6804 effective words/s\n",
            "2021-08-19 14:54:33,796 : INFO : worker thread finished; awaiting finish of 0 more threads\n",
            "2021-08-19 14:54:33,797 : INFO : EPOCH - 95 : training on 253 raw words (44 effective words) took 0.0s, 10872 effective words/s\n",
            "2021-08-19 14:54:33,807 : INFO : worker thread finished; awaiting finish of 0 more threads\n",
            "2021-08-19 14:54:33,809 : INFO : EPOCH - 96 : training on 253 raw words (41 effective words) took 0.0s, 5578 effective words/s\n",
            "2021-08-19 14:54:33,816 : INFO : worker thread finished; awaiting finish of 0 more threads\n",
            "2021-08-19 14:54:33,818 : INFO : EPOCH - 97 : training on 253 raw words (44 effective words) took 0.0s, 8466 effective words/s\n",
            "2021-08-19 14:54:33,825 : INFO : worker thread finished; awaiting finish of 0 more threads\n",
            "2021-08-19 14:54:33,827 : INFO : EPOCH - 98 : training on 253 raw words (42 effective words) took 0.0s, 11515 effective words/s\n",
            "2021-08-19 14:54:33,834 : INFO : worker thread finished; awaiting finish of 0 more threads\n",
            "2021-08-19 14:54:33,836 : INFO : EPOCH - 99 : training on 253 raw words (52 effective words) took 0.0s, 10697 effective words/s\n",
            "2021-08-19 14:54:33,844 : INFO : worker thread finished; awaiting finish of 0 more threads\n",
            "2021-08-19 14:54:33,847 : INFO : EPOCH - 100 : training on 253 raw words (47 effective words) took 0.0s, 5634 effective words/s\n",
            "2021-08-19 14:54:33,849 : INFO : training on a 25300 raw words (4355 effective words) took 1.1s, 3975 effective words/s\n",
            "2021-08-19 14:54:33,851 : INFO : saving Doc2Vec object under Freelancers, separately None\n",
            "2021-08-19 14:54:33,885 : INFO : saved Freelancers\n"
          ],
          "name": "stderr"
        }
      ]
    },
    {
      "cell_type": "code",
      "metadata": {
        "id": "fR4s7FWAzFSJ",
        "colab": {
          "base_uri": "https://localhost:8080/"
        },
        "outputId": "1c62c71a-c4ad-42f9-bce8-447bac314c24"
      },
      "source": [
        "#input corpus\n",
        "train_corpus = \"/content/freelancers-documents/Freelancers/Content_3.txt\"\n",
        "\n",
        "#output model\n",
        "saved_path = \"Freelancers\"\n",
        "\n",
        "#enable logging\n",
        "logging.basicConfig(format='%(asctime)s : %(levelname)s : %(message)s', level=logging.INFO)\n",
        "\n",
        "#train doc2vec model\n",
        "docs = g.doc2vec.TaggedLineDocument(train_corpus)\n",
        "model = g.Doc2Vec(docs, size=vector_size, window=window_size, min_count=min_count, sample=sampling_threshold, workers=worker_count, hs=0, dm=dm, negative=negative_size, dbow_words=1, dm_concat=1, iter=train_epoch)\n",
        "\n",
        "#save model\n",
        "model.save(saved_path)"
      ],
      "execution_count": 66,
      "outputs": [
        {
          "output_type": "stream",
          "text": [
            "/usr/local/lib/python3.7/dist-packages/gensim/models/doc2vec.py:566: UserWarning: The parameter `iter` is deprecated, will be removed in 4.0.0, use `epochs` instead.\n",
            "  warnings.warn(\"The parameter `iter` is deprecated, will be removed in 4.0.0, use `epochs` instead.\")\n",
            "/usr/local/lib/python3.7/dist-packages/gensim/models/doc2vec.py:570: UserWarning: The parameter `size` is deprecated, will be removed in 4.0.0, use `vector_size` instead.\n",
            "  warnings.warn(\"The parameter `size` is deprecated, will be removed in 4.0.0, use `vector_size` instead.\")\n",
            "2021-08-19 14:54:33,903 : INFO : collecting all words and their counts\n",
            "2021-08-19 14:54:33,906 : INFO : PROGRESS: at example #0, processed 0 words (0/s), 0 word types, 0 tags\n",
            "2021-08-19 14:54:33,909 : INFO : collected 94 word types and 24 unique tags from a corpus of 24 examples and 137 words\n",
            "2021-08-19 14:54:33,910 : INFO : Loading a fresh vocabulary\n",
            "2021-08-19 14:54:33,912 : INFO : effective_min_count=1 retains 94 unique words (100% of original 94, drops 0)\n",
            "2021-08-19 14:54:33,915 : INFO : effective_min_count=1 leaves 137 word corpus (100% of original 137, drops 0)\n",
            "2021-08-19 14:54:33,917 : INFO : deleting the raw counts dictionary of 94 items\n",
            "2021-08-19 14:54:33,919 : INFO : sample=1e-05 downsamples 94 most-common words\n",
            "2021-08-19 14:54:33,921 : INFO : downsampling leaves estimated 4 word corpus (3.0% of prior 137)\n",
            "2021-08-19 14:54:33,924 : INFO : estimated required memory for 94 words and 300 dimensions: 301400 bytes\n",
            "2021-08-19 14:54:33,931 : INFO : resetting layer weights\n",
            "2021-08-19 14:54:33,988 : INFO : training model with 1 workers on 95 vocabulary and 300 features, using sg=1 hs=0 sample=1e-05 negative=5 window=15\n",
            "2021-08-19 14:54:33,995 : INFO : worker thread finished; awaiting finish of 0 more threads\n",
            "2021-08-19 14:54:33,997 : INFO : EPOCH - 1 : training on 137 raw words (30 effective words) took 0.0s, 6152 effective words/s\n",
            "2021-08-19 14:54:34,004 : INFO : worker thread finished; awaiting finish of 0 more threads\n",
            "2021-08-19 14:54:34,006 : INFO : EPOCH - 2 : training on 137 raw words (25 effective words) took 0.0s, 7352 effective words/s\n",
            "2021-08-19 14:54:34,012 : INFO : worker thread finished; awaiting finish of 0 more threads\n",
            "2021-08-19 14:54:34,013 : INFO : EPOCH - 3 : training on 137 raw words (30 effective words) took 0.0s, 11296 effective words/s\n",
            "2021-08-19 14:54:34,024 : INFO : worker thread finished; awaiting finish of 0 more threads\n",
            "2021-08-19 14:54:34,025 : INFO : EPOCH - 4 : training on 137 raw words (28 effective words) took 0.0s, 11127 effective words/s\n",
            "2021-08-19 14:54:34,034 : INFO : worker thread finished; awaiting finish of 0 more threads\n",
            "2021-08-19 14:54:34,036 : INFO : EPOCH - 5 : training on 137 raw words (26 effective words) took 0.0s, 8251 effective words/s\n",
            "2021-08-19 14:54:34,042 : INFO : worker thread finished; awaiting finish of 0 more threads\n",
            "2021-08-19 14:54:34,044 : INFO : EPOCH - 6 : training on 137 raw words (30 effective words) took 0.0s, 8485 effective words/s\n",
            "2021-08-19 14:54:34,052 : INFO : worker thread finished; awaiting finish of 0 more threads\n",
            "2021-08-19 14:54:34,053 : INFO : EPOCH - 7 : training on 137 raw words (31 effective words) took 0.0s, 8494 effective words/s\n",
            "2021-08-19 14:54:34,061 : INFO : worker thread finished; awaiting finish of 0 more threads\n",
            "2021-08-19 14:54:34,062 : INFO : EPOCH - 8 : training on 137 raw words (27 effective words) took 0.0s, 5304 effective words/s\n",
            "2021-08-19 14:54:34,068 : INFO : worker thread finished; awaiting finish of 0 more threads\n",
            "2021-08-19 14:54:34,070 : INFO : EPOCH - 9 : training on 137 raw words (28 effective words) took 0.0s, 7494 effective words/s\n",
            "2021-08-19 14:54:34,085 : INFO : worker thread finished; awaiting finish of 0 more threads\n",
            "2021-08-19 14:54:34,088 : INFO : EPOCH - 10 : training on 137 raw words (27 effective words) took 0.0s, 2698 effective words/s\n",
            "2021-08-19 14:54:34,096 : INFO : worker thread finished; awaiting finish of 0 more threads\n",
            "2021-08-19 14:54:34,098 : INFO : EPOCH - 11 : training on 137 raw words (28 effective words) took 0.0s, 4749 effective words/s\n",
            "2021-08-19 14:54:34,104 : INFO : worker thread finished; awaiting finish of 0 more threads\n",
            "2021-08-19 14:54:34,105 : INFO : EPOCH - 12 : training on 137 raw words (28 effective words) took 0.0s, 9155 effective words/s\n",
            "2021-08-19 14:54:34,113 : INFO : worker thread finished; awaiting finish of 0 more threads\n",
            "2021-08-19 14:54:34,115 : INFO : EPOCH - 13 : training on 137 raw words (29 effective words) took 0.0s, 7989 effective words/s\n",
            "2021-08-19 14:54:34,123 : INFO : worker thread finished; awaiting finish of 0 more threads\n",
            "2021-08-19 14:54:34,124 : INFO : EPOCH - 14 : training on 137 raw words (29 effective words) took 0.0s, 5191 effective words/s\n",
            "2021-08-19 14:54:34,130 : INFO : worker thread finished; awaiting finish of 0 more threads\n",
            "2021-08-19 14:54:34,132 : INFO : EPOCH - 15 : training on 137 raw words (29 effective words) took 0.0s, 7079 effective words/s\n",
            "2021-08-19 14:54:34,140 : INFO : worker thread finished; awaiting finish of 0 more threads\n",
            "2021-08-19 14:54:34,142 : INFO : EPOCH - 16 : training on 137 raw words (29 effective words) took 0.0s, 7018 effective words/s\n",
            "2021-08-19 14:54:34,150 : INFO : worker thread finished; awaiting finish of 0 more threads\n",
            "2021-08-19 14:54:34,151 : INFO : EPOCH - 17 : training on 137 raw words (27 effective words) took 0.0s, 6082 effective words/s\n",
            "2021-08-19 14:54:34,157 : INFO : worker thread finished; awaiting finish of 0 more threads\n",
            "2021-08-19 14:54:34,158 : INFO : EPOCH - 18 : training on 137 raw words (29 effective words) took 0.0s, 8600 effective words/s\n",
            "2021-08-19 14:54:34,165 : INFO : worker thread finished; awaiting finish of 0 more threads\n",
            "2021-08-19 14:54:34,167 : INFO : EPOCH - 19 : training on 137 raw words (26 effective words) took 0.0s, 5096 effective words/s\n",
            "2021-08-19 14:54:34,174 : INFO : worker thread finished; awaiting finish of 0 more threads\n",
            "2021-08-19 14:54:34,175 : INFO : EPOCH - 20 : training on 137 raw words (26 effective words) took 0.0s, 5215 effective words/s\n",
            "2021-08-19 14:54:34,181 : INFO : worker thread finished; awaiting finish of 0 more threads\n",
            "2021-08-19 14:54:34,182 : INFO : EPOCH - 21 : training on 137 raw words (27 effective words) took 0.0s, 8321 effective words/s\n",
            "2021-08-19 14:54:34,189 : INFO : worker thread finished; awaiting finish of 0 more threads\n",
            "2021-08-19 14:54:34,191 : INFO : EPOCH - 22 : training on 137 raw words (30 effective words) took 0.0s, 6100 effective words/s\n",
            "2021-08-19 14:54:34,197 : INFO : worker thread finished; awaiting finish of 0 more threads\n",
            "2021-08-19 14:54:34,199 : INFO : EPOCH - 23 : training on 137 raw words (30 effective words) took 0.0s, 6606 effective words/s\n",
            "2021-08-19 14:54:34,206 : INFO : worker thread finished; awaiting finish of 0 more threads\n",
            "2021-08-19 14:54:34,207 : INFO : EPOCH - 24 : training on 137 raw words (28 effective words) took 0.0s, 8018 effective words/s\n",
            "2021-08-19 14:54:34,214 : INFO : worker thread finished; awaiting finish of 0 more threads\n",
            "2021-08-19 14:54:34,216 : INFO : EPOCH - 25 : training on 137 raw words (29 effective words) took 0.0s, 5664 effective words/s\n",
            "2021-08-19 14:54:34,224 : INFO : worker thread finished; awaiting finish of 0 more threads\n",
            "2021-08-19 14:54:34,226 : INFO : EPOCH - 26 : training on 137 raw words (31 effective words) took 0.0s, 5927 effective words/s\n",
            "2021-08-19 14:54:34,233 : INFO : worker thread finished; awaiting finish of 0 more threads\n",
            "2021-08-19 14:54:34,234 : INFO : EPOCH - 27 : training on 137 raw words (27 effective words) took 0.0s, 11610 effective words/s\n",
            "2021-08-19 14:54:34,241 : INFO : worker thread finished; awaiting finish of 0 more threads\n",
            "2021-08-19 14:54:34,243 : INFO : EPOCH - 28 : training on 137 raw words (26 effective words) took 0.0s, 6499 effective words/s\n",
            "2021-08-19 14:54:34,250 : INFO : worker thread finished; awaiting finish of 0 more threads\n",
            "2021-08-19 14:54:34,252 : INFO : EPOCH - 29 : training on 137 raw words (28 effective words) took 0.0s, 8529 effective words/s\n",
            "2021-08-19 14:54:34,258 : INFO : worker thread finished; awaiting finish of 0 more threads\n",
            "2021-08-19 14:54:34,260 : INFO : EPOCH - 30 : training on 137 raw words (28 effective words) took 0.0s, 8226 effective words/s\n",
            "2021-08-19 14:54:34,267 : INFO : worker thread finished; awaiting finish of 0 more threads\n",
            "2021-08-19 14:54:34,268 : INFO : EPOCH - 31 : training on 137 raw words (27 effective words) took 0.0s, 7445 effective words/s\n",
            "2021-08-19 14:54:34,274 : INFO : worker thread finished; awaiting finish of 0 more threads\n",
            "2021-08-19 14:54:34,276 : INFO : EPOCH - 32 : training on 137 raw words (29 effective words) took 0.0s, 7006 effective words/s\n",
            "2021-08-19 14:54:34,282 : INFO : worker thread finished; awaiting finish of 0 more threads\n",
            "2021-08-19 14:54:34,284 : INFO : EPOCH - 33 : training on 137 raw words (25 effective words) took 0.0s, 7132 effective words/s\n",
            "2021-08-19 14:54:34,291 : INFO : worker thread finished; awaiting finish of 0 more threads\n",
            "2021-08-19 14:54:34,292 : INFO : EPOCH - 34 : training on 137 raw words (28 effective words) took 0.0s, 10394 effective words/s\n",
            "2021-08-19 14:54:34,299 : INFO : worker thread finished; awaiting finish of 0 more threads\n",
            "2021-08-19 14:54:34,302 : INFO : EPOCH - 35 : training on 137 raw words (24 effective words) took 0.0s, 3619 effective words/s\n",
            "2021-08-19 14:54:34,308 : INFO : worker thread finished; awaiting finish of 0 more threads\n",
            "2021-08-19 14:54:34,311 : INFO : EPOCH - 36 : training on 137 raw words (27 effective words) took 0.0s, 6102 effective words/s\n",
            "2021-08-19 14:54:34,317 : INFO : worker thread finished; awaiting finish of 0 more threads\n",
            "2021-08-19 14:54:34,318 : INFO : EPOCH - 37 : training on 137 raw words (26 effective words) took 0.0s, 7499 effective words/s\n",
            "2021-08-19 14:54:34,325 : INFO : worker thread finished; awaiting finish of 0 more threads\n",
            "2021-08-19 14:54:34,328 : INFO : EPOCH - 38 : training on 137 raw words (31 effective words) took 0.0s, 5697 effective words/s\n",
            "2021-08-19 14:54:34,334 : INFO : worker thread finished; awaiting finish of 0 more threads\n",
            "2021-08-19 14:54:34,335 : INFO : EPOCH - 39 : training on 137 raw words (32 effective words) took 0.0s, 8793 effective words/s\n",
            "2021-08-19 14:54:34,343 : INFO : worker thread finished; awaiting finish of 0 more threads\n",
            "2021-08-19 14:54:34,345 : INFO : EPOCH - 40 : training on 137 raw words (27 effective words) took 0.0s, 7336 effective words/s\n",
            "2021-08-19 14:54:34,350 : INFO : worker thread finished; awaiting finish of 0 more threads\n",
            "2021-08-19 14:54:34,353 : INFO : EPOCH - 41 : training on 137 raw words (28 effective words) took 0.0s, 5832 effective words/s\n",
            "2021-08-19 14:54:34,359 : INFO : worker thread finished; awaiting finish of 0 more threads\n",
            "2021-08-19 14:54:34,361 : INFO : EPOCH - 42 : training on 137 raw words (26 effective words) took 0.0s, 7526 effective words/s\n",
            "2021-08-19 14:54:34,367 : INFO : worker thread finished; awaiting finish of 0 more threads\n",
            "2021-08-19 14:54:34,369 : INFO : EPOCH - 43 : training on 137 raw words (29 effective words) took 0.0s, 5468 effective words/s\n",
            "2021-08-19 14:54:34,375 : INFO : worker thread finished; awaiting finish of 0 more threads\n",
            "2021-08-19 14:54:34,377 : INFO : EPOCH - 44 : training on 137 raw words (24 effective words) took 0.0s, 5322 effective words/s\n",
            "2021-08-19 14:54:34,383 : INFO : worker thread finished; awaiting finish of 0 more threads\n",
            "2021-08-19 14:54:34,384 : INFO : EPOCH - 45 : training on 137 raw words (30 effective words) took 0.0s, 12345 effective words/s\n",
            "2021-08-19 14:54:34,398 : INFO : worker thread finished; awaiting finish of 0 more threads\n",
            "2021-08-19 14:54:34,399 : INFO : EPOCH - 46 : training on 137 raw words (25 effective words) took 0.0s, 3980 effective words/s\n",
            "2021-08-19 14:54:34,407 : INFO : worker thread finished; awaiting finish of 0 more threads\n",
            "2021-08-19 14:54:34,408 : INFO : EPOCH - 47 : training on 137 raw words (27 effective words) took 0.0s, 6017 effective words/s\n",
            "2021-08-19 14:54:34,416 : INFO : worker thread finished; awaiting finish of 0 more threads\n",
            "2021-08-19 14:54:34,417 : INFO : EPOCH - 48 : training on 137 raw words (28 effective words) took 0.0s, 6988 effective words/s\n",
            "2021-08-19 14:54:34,425 : INFO : worker thread finished; awaiting finish of 0 more threads\n",
            "2021-08-19 14:54:34,427 : INFO : EPOCH - 49 : training on 137 raw words (29 effective words) took 0.0s, 11892 effective words/s\n",
            "2021-08-19 14:54:34,437 : INFO : worker thread finished; awaiting finish of 0 more threads\n",
            "2021-08-19 14:54:34,439 : INFO : EPOCH - 50 : training on 137 raw words (26 effective words) took 0.0s, 3929 effective words/s\n",
            "2021-08-19 14:54:34,446 : INFO : worker thread finished; awaiting finish of 0 more threads\n",
            "2021-08-19 14:54:34,447 : INFO : EPOCH - 51 : training on 137 raw words (27 effective words) took 0.0s, 10842 effective words/s\n",
            "2021-08-19 14:54:34,455 : INFO : worker thread finished; awaiting finish of 0 more threads\n",
            "2021-08-19 14:54:34,456 : INFO : EPOCH - 52 : training on 137 raw words (30 effective words) took 0.0s, 8017 effective words/s\n",
            "2021-08-19 14:54:34,463 : INFO : worker thread finished; awaiting finish of 0 more threads\n",
            "2021-08-19 14:54:34,466 : INFO : EPOCH - 53 : training on 137 raw words (29 effective words) took 0.0s, 5492 effective words/s\n",
            "2021-08-19 14:54:34,472 : INFO : worker thread finished; awaiting finish of 0 more threads\n",
            "2021-08-19 14:54:34,474 : INFO : EPOCH - 54 : training on 137 raw words (28 effective words) took 0.0s, 9619 effective words/s\n",
            "2021-08-19 14:54:34,482 : INFO : worker thread finished; awaiting finish of 0 more threads\n",
            "2021-08-19 14:54:34,483 : INFO : EPOCH - 55 : training on 137 raw words (26 effective words) took 0.0s, 11861 effective words/s\n",
            "2021-08-19 14:54:34,492 : INFO : worker thread finished; awaiting finish of 0 more threads\n",
            "2021-08-19 14:54:34,495 : INFO : EPOCH - 56 : training on 137 raw words (30 effective words) took 0.0s, 4464 effective words/s\n",
            "2021-08-19 14:54:34,502 : INFO : worker thread finished; awaiting finish of 0 more threads\n",
            "2021-08-19 14:54:34,504 : INFO : EPOCH - 57 : training on 137 raw words (31 effective words) took 0.0s, 7640 effective words/s\n",
            "2021-08-19 14:54:34,510 : INFO : worker thread finished; awaiting finish of 0 more threads\n",
            "2021-08-19 14:54:34,512 : INFO : EPOCH - 58 : training on 137 raw words (29 effective words) took 0.0s, 6198 effective words/s\n",
            "2021-08-19 14:54:34,519 : INFO : worker thread finished; awaiting finish of 0 more threads\n",
            "2021-08-19 14:54:34,522 : INFO : EPOCH - 59 : training on 137 raw words (27 effective words) took 0.0s, 5532 effective words/s\n",
            "2021-08-19 14:54:34,528 : INFO : worker thread finished; awaiting finish of 0 more threads\n",
            "2021-08-19 14:54:34,530 : INFO : EPOCH - 60 : training on 137 raw words (32 effective words) took 0.0s, 6926 effective words/s\n",
            "2021-08-19 14:54:34,535 : INFO : worker thread finished; awaiting finish of 0 more threads\n",
            "2021-08-19 14:54:34,537 : INFO : EPOCH - 61 : training on 137 raw words (30 effective words) took 0.0s, 6523 effective words/s\n",
            "2021-08-19 14:54:34,543 : INFO : worker thread finished; awaiting finish of 0 more threads\n",
            "2021-08-19 14:54:34,545 : INFO : EPOCH - 62 : training on 137 raw words (27 effective words) took 0.0s, 10833 effective words/s\n",
            "2021-08-19 14:54:34,551 : INFO : worker thread finished; awaiting finish of 0 more threads\n",
            "2021-08-19 14:54:34,553 : INFO : EPOCH - 63 : training on 137 raw words (26 effective words) took 0.0s, 6472 effective words/s\n",
            "2021-08-19 14:54:34,561 : INFO : worker thread finished; awaiting finish of 0 more threads\n",
            "2021-08-19 14:54:34,562 : INFO : EPOCH - 64 : training on 137 raw words (27 effective words) took 0.0s, 7060 effective words/s\n",
            "2021-08-19 14:54:34,568 : INFO : worker thread finished; awaiting finish of 0 more threads\n",
            "2021-08-19 14:54:34,569 : INFO : EPOCH - 65 : training on 137 raw words (28 effective words) took 0.0s, 6100 effective words/s\n",
            "2021-08-19 14:54:34,578 : INFO : worker thread finished; awaiting finish of 0 more threads\n",
            "2021-08-19 14:54:34,579 : INFO : EPOCH - 66 : training on 137 raw words (28 effective words) took 0.0s, 4409 effective words/s\n",
            "2021-08-19 14:54:34,585 : INFO : worker thread finished; awaiting finish of 0 more threads\n",
            "2021-08-19 14:54:34,587 : INFO : EPOCH - 67 : training on 137 raw words (30 effective words) took 0.0s, 6763 effective words/s\n",
            "2021-08-19 14:54:34,596 : INFO : worker thread finished; awaiting finish of 0 more threads\n",
            "2021-08-19 14:54:34,605 : INFO : EPOCH - 68 : training on 137 raw words (31 effective words) took 0.0s, 2658 effective words/s\n",
            "2021-08-19 14:54:34,612 : INFO : worker thread finished; awaiting finish of 0 more threads\n",
            "2021-08-19 14:54:34,615 : INFO : EPOCH - 69 : training on 137 raw words (28 effective words) took 0.0s, 4903 effective words/s\n",
            "2021-08-19 14:54:34,624 : INFO : worker thread finished; awaiting finish of 0 more threads\n",
            "2021-08-19 14:54:34,625 : INFO : EPOCH - 70 : training on 137 raw words (25 effective words) took 0.0s, 6243 effective words/s\n",
            "2021-08-19 14:54:34,632 : INFO : worker thread finished; awaiting finish of 0 more threads\n",
            "2021-08-19 14:54:34,633 : INFO : EPOCH - 71 : training on 137 raw words (30 effective words) took 0.0s, 8729 effective words/s\n",
            "2021-08-19 14:54:34,639 : INFO : worker thread finished; awaiting finish of 0 more threads\n",
            "2021-08-19 14:54:34,641 : INFO : EPOCH - 72 : training on 137 raw words (27 effective words) took 0.0s, 5092 effective words/s\n",
            "2021-08-19 14:54:34,649 : INFO : worker thread finished; awaiting finish of 0 more threads\n",
            "2021-08-19 14:54:34,650 : INFO : EPOCH - 73 : training on 137 raw words (28 effective words) took 0.0s, 12770 effective words/s\n",
            "2021-08-19 14:54:34,657 : INFO : worker thread finished; awaiting finish of 0 more threads\n",
            "2021-08-19 14:54:34,658 : INFO : EPOCH - 74 : training on 137 raw words (28 effective words) took 0.0s, 11059 effective words/s\n",
            "2021-08-19 14:54:34,666 : INFO : worker thread finished; awaiting finish of 0 more threads\n",
            "2021-08-19 14:54:34,667 : INFO : EPOCH - 75 : training on 137 raw words (24 effective words) took 0.0s, 11392 effective words/s\n",
            "2021-08-19 14:54:34,677 : INFO : worker thread finished; awaiting finish of 0 more threads\n",
            "2021-08-19 14:54:34,678 : INFO : EPOCH - 76 : training on 137 raw words (29 effective words) took 0.0s, 9766 effective words/s\n",
            "2021-08-19 14:54:34,684 : INFO : worker thread finished; awaiting finish of 0 more threads\n",
            "2021-08-19 14:54:34,685 : INFO : EPOCH - 77 : training on 137 raw words (29 effective words) took 0.0s, 8807 effective words/s\n",
            "2021-08-19 14:54:34,694 : INFO : worker thread finished; awaiting finish of 0 more threads\n",
            "2021-08-19 14:54:34,696 : INFO : EPOCH - 78 : training on 137 raw words (31 effective words) took 0.0s, 7102 effective words/s\n",
            "2021-08-19 14:54:34,704 : INFO : worker thread finished; awaiting finish of 0 more threads\n",
            "2021-08-19 14:54:34,705 : INFO : EPOCH - 79 : training on 137 raw words (27 effective words) took 0.0s, 7420 effective words/s\n",
            "2021-08-19 14:54:34,712 : INFO : worker thread finished; awaiting finish of 0 more threads\n",
            "2021-08-19 14:54:34,712 : INFO : EPOCH - 80 : training on 137 raw words (29 effective words) took 0.0s, 9775 effective words/s\n",
            "2021-08-19 14:54:34,718 : INFO : worker thread finished; awaiting finish of 0 more threads\n",
            "2021-08-19 14:54:34,720 : INFO : EPOCH - 81 : training on 137 raw words (31 effective words) took 0.0s, 6896 effective words/s\n",
            "2021-08-19 14:54:34,730 : INFO : worker thread finished; awaiting finish of 0 more threads\n",
            "2021-08-19 14:54:34,731 : INFO : EPOCH - 82 : training on 137 raw words (28 effective words) took 0.0s, 6235 effective words/s\n",
            "2021-08-19 14:54:34,737 : INFO : worker thread finished; awaiting finish of 0 more threads\n",
            "2021-08-19 14:54:34,738 : INFO : EPOCH - 83 : training on 137 raw words (28 effective words) took 0.0s, 11602 effective words/s\n",
            "2021-08-19 14:54:34,747 : INFO : worker thread finished; awaiting finish of 0 more threads\n",
            "2021-08-19 14:54:34,750 : INFO : EPOCH - 84 : training on 137 raw words (26 effective words) took 0.0s, 5572 effective words/s\n",
            "2021-08-19 14:54:34,758 : INFO : worker thread finished; awaiting finish of 0 more threads\n",
            "2021-08-19 14:54:34,759 : INFO : EPOCH - 85 : training on 137 raw words (27 effective words) took 0.0s, 10208 effective words/s\n",
            "2021-08-19 14:54:34,766 : INFO : worker thread finished; awaiting finish of 0 more threads\n",
            "2021-08-19 14:54:34,768 : INFO : EPOCH - 86 : training on 137 raw words (33 effective words) took 0.0s, 12744 effective words/s\n",
            "2021-08-19 14:54:34,778 : INFO : worker thread finished; awaiting finish of 0 more threads\n",
            "2021-08-19 14:54:34,780 : INFO : EPOCH - 87 : training on 137 raw words (27 effective words) took 0.0s, 5219 effective words/s\n",
            "2021-08-19 14:54:34,788 : INFO : worker thread finished; awaiting finish of 0 more threads\n",
            "2021-08-19 14:54:34,790 : INFO : EPOCH - 88 : training on 137 raw words (26 effective words) took 0.0s, 5048 effective words/s\n",
            "2021-08-19 14:54:34,795 : INFO : worker thread finished; awaiting finish of 0 more threads\n",
            "2021-08-19 14:54:34,797 : INFO : EPOCH - 89 : training on 137 raw words (28 effective words) took 0.0s, 8089 effective words/s\n",
            "2021-08-19 14:54:34,802 : INFO : worker thread finished; awaiting finish of 0 more threads\n",
            "2021-08-19 14:54:34,804 : INFO : EPOCH - 90 : training on 137 raw words (30 effective words) took 0.0s, 7161 effective words/s\n",
            "2021-08-19 14:54:34,812 : INFO : worker thread finished; awaiting finish of 0 more threads\n",
            "2021-08-19 14:54:34,814 : INFO : EPOCH - 91 : training on 137 raw words (31 effective words) took 0.0s, 9550 effective words/s\n",
            "2021-08-19 14:54:34,819 : INFO : worker thread finished; awaiting finish of 0 more threads\n",
            "2021-08-19 14:54:34,821 : INFO : EPOCH - 92 : training on 137 raw words (26 effective words) took 0.0s, 8549 effective words/s\n",
            "2021-08-19 14:54:34,828 : INFO : worker thread finished; awaiting finish of 0 more threads\n",
            "2021-08-19 14:54:34,829 : INFO : EPOCH - 93 : training on 137 raw words (26 effective words) took 0.0s, 8544 effective words/s\n",
            "2021-08-19 14:54:34,839 : INFO : worker thread finished; awaiting finish of 0 more threads\n",
            "2021-08-19 14:54:34,841 : INFO : EPOCH - 94 : training on 137 raw words (26 effective words) took 0.0s, 3074 effective words/s\n",
            "2021-08-19 14:54:34,847 : INFO : worker thread finished; awaiting finish of 0 more threads\n",
            "2021-08-19 14:54:34,848 : INFO : EPOCH - 95 : training on 137 raw words (29 effective words) took 0.0s, 12697 effective words/s\n",
            "2021-08-19 14:54:34,856 : INFO : worker thread finished; awaiting finish of 0 more threads\n",
            "2021-08-19 14:54:34,858 : INFO : EPOCH - 96 : training on 137 raw words (29 effective words) took 0.0s, 10753 effective words/s\n",
            "2021-08-19 14:54:34,866 : INFO : worker thread finished; awaiting finish of 0 more threads\n",
            "2021-08-19 14:54:34,867 : INFO : EPOCH - 97 : training on 137 raw words (29 effective words) took 0.0s, 20440 effective words/s\n",
            "2021-08-19 14:54:34,873 : INFO : worker thread finished; awaiting finish of 0 more threads\n",
            "2021-08-19 14:54:34,875 : INFO : EPOCH - 98 : training on 137 raw words (33 effective words) took 0.0s, 8489 effective words/s\n",
            "2021-08-19 14:54:34,881 : INFO : worker thread finished; awaiting finish of 0 more threads\n",
            "2021-08-19 14:54:34,884 : INFO : EPOCH - 99 : training on 137 raw words (29 effective words) took 0.0s, 5938 effective words/s\n",
            "2021-08-19 14:54:34,891 : INFO : worker thread finished; awaiting finish of 0 more threads\n",
            "2021-08-19 14:54:34,893 : INFO : EPOCH - 100 : training on 137 raw words (25 effective words) took 0.0s, 6247 effective words/s\n",
            "2021-08-19 14:54:34,894 : INFO : training on a 13700 raw words (2812 effective words) took 0.9s, 3110 effective words/s\n",
            "2021-08-19 14:54:34,896 : INFO : saving Doc2Vec object under Freelancers, separately None\n",
            "2021-08-19 14:54:34,904 : INFO : saved Freelancers\n"
          ],
          "name": "stderr"
        }
      ]
    },
    {
      "cell_type": "code",
      "metadata": {
        "id": "gcA9kkQNzFJk",
        "colab": {
          "base_uri": "https://localhost:8080/"
        },
        "outputId": "878f749c-c996-4985-caca-b5bb03d44821"
      },
      "source": [
        "#input corpus\n",
        "train_corpus = \"/content/freelancers-documents/Freelancers/Content_4.txt\"\n",
        "\n",
        "#output model\n",
        "saved_path = \"Freelancers\"\n",
        "\n",
        "#enable logging\n",
        "logging.basicConfig(format='%(asctime)s : %(levelname)s : %(message)s', level=logging.INFO)\n",
        "\n",
        "#train doc2vec model\n",
        "docs = g.doc2vec.TaggedLineDocument(train_corpus)\n",
        "model = g.Doc2Vec(docs, size=vector_size, window=window_size, min_count=min_count, sample=sampling_threshold, workers=worker_count, hs=0, dm=dm, negative=negative_size, dbow_words=1, dm_concat=1, iter=train_epoch)\n",
        "\n",
        "#save model\n",
        "model.save(saved_path)"
      ],
      "execution_count": 67,
      "outputs": [
        {
          "output_type": "stream",
          "text": [
            "/usr/local/lib/python3.7/dist-packages/gensim/models/doc2vec.py:566: UserWarning: The parameter `iter` is deprecated, will be removed in 4.0.0, use `epochs` instead.\n",
            "  warnings.warn(\"The parameter `iter` is deprecated, will be removed in 4.0.0, use `epochs` instead.\")\n",
            "/usr/local/lib/python3.7/dist-packages/gensim/models/doc2vec.py:570: UserWarning: The parameter `size` is deprecated, will be removed in 4.0.0, use `vector_size` instead.\n",
            "  warnings.warn(\"The parameter `size` is deprecated, will be removed in 4.0.0, use `vector_size` instead.\")\n",
            "2021-08-19 14:54:34,922 : INFO : collecting all words and their counts\n",
            "2021-08-19 14:54:34,929 : INFO : PROGRESS: at example #0, processed 0 words (0/s), 0 word types, 0 tags\n",
            "2021-08-19 14:54:34,931 : INFO : collected 173 word types and 28 unique tags from a corpus of 28 examples and 302 words\n",
            "2021-08-19 14:54:34,933 : INFO : Loading a fresh vocabulary\n",
            "2021-08-19 14:54:34,935 : INFO : effective_min_count=1 retains 173 unique words (100% of original 173, drops 0)\n",
            "2021-08-19 14:54:34,937 : INFO : effective_min_count=1 leaves 302 word corpus (100% of original 302, drops 0)\n",
            "2021-08-19 14:54:34,944 : INFO : deleting the raw counts dictionary of 173 items\n",
            "2021-08-19 14:54:34,945 : INFO : sample=1e-05 downsamples 173 most-common words\n",
            "2021-08-19 14:54:34,947 : INFO : downsampling leaves estimated 12 word corpus (4.0% of prior 302)\n",
            "2021-08-19 14:54:34,949 : INFO : estimated required memory for 173 words and 300 dimensions: 535300 bytes\n",
            "2021-08-19 14:54:34,951 : INFO : resetting layer weights\n",
            "2021-08-19 14:54:35,033 : INFO : training model with 1 workers on 174 vocabulary and 300 features, using sg=1 hs=0 sample=1e-05 negative=5 window=15\n",
            "2021-08-19 14:54:35,041 : INFO : worker thread finished; awaiting finish of 0 more threads\n",
            "2021-08-19 14:54:35,042 : INFO : EPOCH - 1 : training on 302 raw words (38 effective words) took 0.0s, 8755 effective words/s\n",
            "2021-08-19 14:54:35,052 : INFO : worker thread finished; awaiting finish of 0 more threads\n",
            "2021-08-19 14:54:35,053 : INFO : EPOCH - 2 : training on 302 raw words (40 effective words) took 0.0s, 11450 effective words/s\n",
            "2021-08-19 14:54:35,063 : INFO : worker thread finished; awaiting finish of 0 more threads\n",
            "2021-08-19 14:54:35,064 : INFO : EPOCH - 3 : training on 302 raw words (38 effective words) took 0.0s, 9827 effective words/s\n",
            "2021-08-19 14:54:35,071 : INFO : worker thread finished; awaiting finish of 0 more threads\n",
            "2021-08-19 14:54:35,074 : INFO : EPOCH - 4 : training on 302 raw words (40 effective words) took 0.0s, 7061 effective words/s\n",
            "2021-08-19 14:54:35,081 : INFO : worker thread finished; awaiting finish of 0 more threads\n",
            "2021-08-19 14:54:35,083 : INFO : EPOCH - 5 : training on 302 raw words (37 effective words) took 0.0s, 7554 effective words/s\n",
            "2021-08-19 14:54:35,102 : INFO : worker thread finished; awaiting finish of 0 more threads\n",
            "2021-08-19 14:54:35,106 : INFO : EPOCH - 6 : training on 302 raw words (39 effective words) took 0.0s, 5297 effective words/s\n",
            "2021-08-19 14:54:35,116 : INFO : worker thread finished; awaiting finish of 0 more threads\n",
            "2021-08-19 14:54:35,118 : INFO : EPOCH - 7 : training on 302 raw words (41 effective words) took 0.0s, 7780 effective words/s\n",
            "2021-08-19 14:54:35,129 : INFO : worker thread finished; awaiting finish of 0 more threads\n",
            "2021-08-19 14:54:35,131 : INFO : EPOCH - 8 : training on 302 raw words (36 effective words) took 0.0s, 10567 effective words/s\n",
            "2021-08-19 14:54:35,140 : INFO : worker thread finished; awaiting finish of 0 more threads\n",
            "2021-08-19 14:54:35,142 : INFO : EPOCH - 9 : training on 302 raw words (36 effective words) took 0.0s, 6955 effective words/s\n",
            "2021-08-19 14:54:35,150 : INFO : worker thread finished; awaiting finish of 0 more threads\n",
            "2021-08-19 14:54:35,152 : INFO : EPOCH - 10 : training on 302 raw words (46 effective words) took 0.0s, 13716 effective words/s\n",
            "2021-08-19 14:54:35,161 : INFO : worker thread finished; awaiting finish of 0 more threads\n",
            "2021-08-19 14:54:35,162 : INFO : EPOCH - 11 : training on 302 raw words (43 effective words) took 0.0s, 11521 effective words/s\n",
            "2021-08-19 14:54:35,169 : INFO : worker thread finished; awaiting finish of 0 more threads\n",
            "2021-08-19 14:54:35,171 : INFO : EPOCH - 12 : training on 302 raw words (40 effective words) took 0.0s, 9176 effective words/s\n",
            "2021-08-19 14:54:35,178 : INFO : worker thread finished; awaiting finish of 0 more threads\n",
            "2021-08-19 14:54:35,180 : INFO : EPOCH - 13 : training on 302 raw words (41 effective words) took 0.0s, 7608 effective words/s\n",
            "2021-08-19 14:54:35,189 : INFO : worker thread finished; awaiting finish of 0 more threads\n",
            "2021-08-19 14:54:35,191 : INFO : EPOCH - 14 : training on 302 raw words (42 effective words) took 0.0s, 10378 effective words/s\n",
            "2021-08-19 14:54:35,198 : INFO : worker thread finished; awaiting finish of 0 more threads\n",
            "2021-08-19 14:54:35,200 : INFO : EPOCH - 15 : training on 302 raw words (42 effective words) took 0.0s, 11243 effective words/s\n",
            "2021-08-19 14:54:35,210 : INFO : worker thread finished; awaiting finish of 0 more threads\n",
            "2021-08-19 14:54:35,212 : INFO : EPOCH - 16 : training on 302 raw words (41 effective words) took 0.0s, 11000 effective words/s\n",
            "2021-08-19 14:54:35,220 : INFO : worker thread finished; awaiting finish of 0 more threads\n",
            "2021-08-19 14:54:35,222 : INFO : EPOCH - 17 : training on 302 raw words (41 effective words) took 0.0s, 9074 effective words/s\n",
            "2021-08-19 14:54:35,229 : INFO : worker thread finished; awaiting finish of 0 more threads\n",
            "2021-08-19 14:54:35,231 : INFO : EPOCH - 18 : training on 302 raw words (38 effective words) took 0.0s, 5671 effective words/s\n",
            "2021-08-19 14:54:35,241 : INFO : worker thread finished; awaiting finish of 0 more threads\n",
            "2021-08-19 14:54:35,243 : INFO : EPOCH - 19 : training on 302 raw words (34 effective words) took 0.0s, 7061 effective words/s\n",
            "2021-08-19 14:54:35,250 : INFO : worker thread finished; awaiting finish of 0 more threads\n",
            "2021-08-19 14:54:35,252 : INFO : EPOCH - 20 : training on 302 raw words (36 effective words) took 0.0s, 8401 effective words/s\n",
            "2021-08-19 14:54:35,262 : INFO : worker thread finished; awaiting finish of 0 more threads\n",
            "2021-08-19 14:54:35,263 : INFO : EPOCH - 21 : training on 302 raw words (42 effective words) took 0.0s, 12814 effective words/s\n",
            "2021-08-19 14:54:35,272 : INFO : worker thread finished; awaiting finish of 0 more threads\n",
            "2021-08-19 14:54:35,274 : INFO : EPOCH - 22 : training on 302 raw words (41 effective words) took 0.0s, 11242 effective words/s\n",
            "2021-08-19 14:54:35,281 : INFO : worker thread finished; awaiting finish of 0 more threads\n",
            "2021-08-19 14:54:35,282 : INFO : EPOCH - 23 : training on 302 raw words (44 effective words) took 0.0s, 9256 effective words/s\n",
            "2021-08-19 14:54:35,290 : INFO : worker thread finished; awaiting finish of 0 more threads\n",
            "2021-08-19 14:54:35,292 : INFO : EPOCH - 24 : training on 302 raw words (40 effective words) took 0.0s, 13278 effective words/s\n",
            "2021-08-19 14:54:35,299 : INFO : worker thread finished; awaiting finish of 0 more threads\n",
            "2021-08-19 14:54:35,300 : INFO : EPOCH - 25 : training on 302 raw words (32 effective words) took 0.0s, 10177 effective words/s\n",
            "2021-08-19 14:54:35,308 : INFO : worker thread finished; awaiting finish of 0 more threads\n",
            "2021-08-19 14:54:35,310 : INFO : EPOCH - 26 : training on 302 raw words (39 effective words) took 0.0s, 11765 effective words/s\n",
            "2021-08-19 14:54:35,318 : INFO : worker thread finished; awaiting finish of 0 more threads\n",
            "2021-08-19 14:54:35,319 : INFO : EPOCH - 27 : training on 302 raw words (38 effective words) took 0.0s, 11128 effective words/s\n",
            "2021-08-19 14:54:35,327 : INFO : worker thread finished; awaiting finish of 0 more threads\n",
            "2021-08-19 14:54:35,328 : INFO : EPOCH - 28 : training on 302 raw words (36 effective words) took 0.0s, 8853 effective words/s\n",
            "2021-08-19 14:54:35,336 : INFO : worker thread finished; awaiting finish of 0 more threads\n",
            "2021-08-19 14:54:35,338 : INFO : EPOCH - 29 : training on 302 raw words (40 effective words) took 0.0s, 12010 effective words/s\n",
            "2021-08-19 14:54:35,346 : INFO : worker thread finished; awaiting finish of 0 more threads\n",
            "2021-08-19 14:54:35,348 : INFO : EPOCH - 30 : training on 302 raw words (40 effective words) took 0.0s, 12283 effective words/s\n",
            "2021-08-19 14:54:35,355 : INFO : worker thread finished; awaiting finish of 0 more threads\n",
            "2021-08-19 14:54:35,356 : INFO : EPOCH - 31 : training on 302 raw words (37 effective words) took 0.0s, 13137 effective words/s\n",
            "2021-08-19 14:54:35,365 : INFO : worker thread finished; awaiting finish of 0 more threads\n",
            "2021-08-19 14:54:35,367 : INFO : EPOCH - 32 : training on 302 raw words (36 effective words) took 0.0s, 8778 effective words/s\n",
            "2021-08-19 14:54:35,376 : INFO : worker thread finished; awaiting finish of 0 more threads\n",
            "2021-08-19 14:54:35,379 : INFO : EPOCH - 33 : training on 302 raw words (43 effective words) took 0.0s, 7032 effective words/s\n",
            "2021-08-19 14:54:35,388 : INFO : worker thread finished; awaiting finish of 0 more threads\n",
            "2021-08-19 14:54:35,389 : INFO : EPOCH - 34 : training on 302 raw words (38 effective words) took 0.0s, 7858 effective words/s\n",
            "2021-08-19 14:54:35,397 : INFO : worker thread finished; awaiting finish of 0 more threads\n",
            "2021-08-19 14:54:35,399 : INFO : EPOCH - 35 : training on 302 raw words (39 effective words) took 0.0s, 8719 effective words/s\n",
            "2021-08-19 14:54:35,406 : INFO : worker thread finished; awaiting finish of 0 more threads\n",
            "2021-08-19 14:54:35,408 : INFO : EPOCH - 36 : training on 302 raw words (44 effective words) took 0.0s, 13347 effective words/s\n",
            "2021-08-19 14:54:35,417 : INFO : worker thread finished; awaiting finish of 0 more threads\n",
            "2021-08-19 14:54:35,419 : INFO : EPOCH - 37 : training on 302 raw words (45 effective words) took 0.0s, 10581 effective words/s\n",
            "2021-08-19 14:54:35,427 : INFO : worker thread finished; awaiting finish of 0 more threads\n",
            "2021-08-19 14:54:35,429 : INFO : EPOCH - 38 : training on 302 raw words (39 effective words) took 0.0s, 10610 effective words/s\n",
            "2021-08-19 14:54:35,438 : INFO : worker thread finished; awaiting finish of 0 more threads\n",
            "2021-08-19 14:54:35,439 : INFO : EPOCH - 39 : training on 302 raw words (38 effective words) took 0.0s, 12462 effective words/s\n",
            "2021-08-19 14:54:35,449 : INFO : worker thread finished; awaiting finish of 0 more threads\n",
            "2021-08-19 14:54:35,449 : INFO : EPOCH - 40 : training on 302 raw words (39 effective words) took 0.0s, 14644 effective words/s\n",
            "2021-08-19 14:54:35,459 : INFO : worker thread finished; awaiting finish of 0 more threads\n",
            "2021-08-19 14:54:35,460 : INFO : EPOCH - 41 : training on 302 raw words (37 effective words) took 0.0s, 10425 effective words/s\n",
            "2021-08-19 14:54:35,468 : INFO : worker thread finished; awaiting finish of 0 more threads\n",
            "2021-08-19 14:54:35,470 : INFO : EPOCH - 42 : training on 302 raw words (40 effective words) took 0.0s, 11208 effective words/s\n",
            "2021-08-19 14:54:35,479 : INFO : worker thread finished; awaiting finish of 0 more threads\n",
            "2021-08-19 14:54:35,480 : INFO : EPOCH - 43 : training on 302 raw words (40 effective words) took 0.0s, 13143 effective words/s\n",
            "2021-08-19 14:54:35,494 : INFO : worker thread finished; awaiting finish of 0 more threads\n",
            "2021-08-19 14:54:35,498 : INFO : EPOCH - 44 : training on 302 raw words (40 effective words) took 0.0s, 6176 effective words/s\n",
            "2021-08-19 14:54:35,506 : INFO : worker thread finished; awaiting finish of 0 more threads\n",
            "2021-08-19 14:54:35,508 : INFO : EPOCH - 45 : training on 302 raw words (45 effective words) took 0.0s, 12984 effective words/s\n",
            "2021-08-19 14:54:35,516 : INFO : worker thread finished; awaiting finish of 0 more threads\n",
            "2021-08-19 14:54:35,517 : INFO : EPOCH - 46 : training on 302 raw words (42 effective words) took 0.0s, 15332 effective words/s\n",
            "2021-08-19 14:54:35,525 : INFO : worker thread finished; awaiting finish of 0 more threads\n",
            "2021-08-19 14:54:35,527 : INFO : EPOCH - 47 : training on 302 raw words (40 effective words) took 0.0s, 12088 effective words/s\n",
            "2021-08-19 14:54:35,535 : INFO : worker thread finished; awaiting finish of 0 more threads\n",
            "2021-08-19 14:54:35,537 : INFO : EPOCH - 48 : training on 302 raw words (32 effective words) took 0.0s, 7290 effective words/s\n",
            "2021-08-19 14:54:35,545 : INFO : worker thread finished; awaiting finish of 0 more threads\n",
            "2021-08-19 14:54:35,546 : INFO : EPOCH - 49 : training on 302 raw words (36 effective words) took 0.0s, 8835 effective words/s\n",
            "2021-08-19 14:54:35,554 : INFO : worker thread finished; awaiting finish of 0 more threads\n",
            "2021-08-19 14:54:35,557 : INFO : EPOCH - 50 : training on 302 raw words (40 effective words) took 0.0s, 6632 effective words/s\n",
            "2021-08-19 14:54:35,564 : INFO : worker thread finished; awaiting finish of 0 more threads\n",
            "2021-08-19 14:54:35,567 : INFO : EPOCH - 51 : training on 302 raw words (43 effective words) took 0.0s, 6958 effective words/s\n",
            "2021-08-19 14:54:35,586 : INFO : worker thread finished; awaiting finish of 0 more threads\n",
            "2021-08-19 14:54:35,587 : INFO : EPOCH - 52 : training on 302 raw words (42 effective words) took 0.0s, 13529 effective words/s\n",
            "2021-08-19 14:54:35,594 : INFO : worker thread finished; awaiting finish of 0 more threads\n",
            "2021-08-19 14:54:35,597 : INFO : EPOCH - 53 : training on 302 raw words (38 effective words) took 0.0s, 6893 effective words/s\n",
            "2021-08-19 14:54:35,604 : INFO : worker thread finished; awaiting finish of 0 more threads\n",
            "2021-08-19 14:54:35,606 : INFO : EPOCH - 54 : training on 302 raw words (43 effective words) took 0.0s, 12508 effective words/s\n",
            "2021-08-19 14:54:35,616 : INFO : worker thread finished; awaiting finish of 0 more threads\n",
            "2021-08-19 14:54:35,617 : INFO : EPOCH - 55 : training on 302 raw words (45 effective words) took 0.0s, 12104 effective words/s\n",
            "2021-08-19 14:54:35,625 : INFO : worker thread finished; awaiting finish of 0 more threads\n",
            "2021-08-19 14:54:35,627 : INFO : EPOCH - 56 : training on 302 raw words (39 effective words) took 0.0s, 11470 effective words/s\n",
            "2021-08-19 14:54:35,636 : INFO : worker thread finished; awaiting finish of 0 more threads\n",
            "2021-08-19 14:54:35,638 : INFO : EPOCH - 57 : training on 302 raw words (38 effective words) took 0.0s, 10028 effective words/s\n",
            "2021-08-19 14:54:35,647 : INFO : worker thread finished; awaiting finish of 0 more threads\n",
            "2021-08-19 14:54:35,648 : INFO : EPOCH - 58 : training on 302 raw words (40 effective words) took 0.0s, 12853 effective words/s\n",
            "2021-08-19 14:54:35,655 : INFO : worker thread finished; awaiting finish of 0 more threads\n",
            "2021-08-19 14:54:35,658 : INFO : EPOCH - 59 : training on 302 raw words (39 effective words) took 0.0s, 7352 effective words/s\n",
            "2021-08-19 14:54:35,669 : INFO : worker thread finished; awaiting finish of 0 more threads\n",
            "2021-08-19 14:54:35,671 : INFO : EPOCH - 60 : training on 302 raw words (36 effective words) took 0.0s, 7157 effective words/s\n",
            "2021-08-19 14:54:35,678 : INFO : worker thread finished; awaiting finish of 0 more threads\n",
            "2021-08-19 14:54:35,679 : INFO : EPOCH - 61 : training on 302 raw words (38 effective words) took 0.0s, 11366 effective words/s\n",
            "2021-08-19 14:54:35,687 : INFO : worker thread finished; awaiting finish of 0 more threads\n",
            "2021-08-19 14:54:35,689 : INFO : EPOCH - 62 : training on 302 raw words (37 effective words) took 0.0s, 10628 effective words/s\n",
            "2021-08-19 14:54:35,697 : INFO : worker thread finished; awaiting finish of 0 more threads\n",
            "2021-08-19 14:54:35,699 : INFO : EPOCH - 63 : training on 302 raw words (41 effective words) took 0.0s, 10942 effective words/s\n",
            "2021-08-19 14:54:35,707 : INFO : worker thread finished; awaiting finish of 0 more threads\n",
            "2021-08-19 14:54:35,709 : INFO : EPOCH - 64 : training on 302 raw words (45 effective words) took 0.0s, 13031 effective words/s\n",
            "2021-08-19 14:54:35,717 : INFO : worker thread finished; awaiting finish of 0 more threads\n",
            "2021-08-19 14:54:35,718 : INFO : EPOCH - 65 : training on 302 raw words (48 effective words) took 0.0s, 14397 effective words/s\n",
            "2021-08-19 14:54:35,727 : INFO : worker thread finished; awaiting finish of 0 more threads\n",
            "2021-08-19 14:54:35,729 : INFO : EPOCH - 66 : training on 302 raw words (42 effective words) took 0.0s, 10378 effective words/s\n",
            "2021-08-19 14:54:35,737 : INFO : worker thread finished; awaiting finish of 0 more threads\n",
            "2021-08-19 14:54:35,738 : INFO : EPOCH - 67 : training on 302 raw words (39 effective words) took 0.0s, 11264 effective words/s\n",
            "2021-08-19 14:54:35,747 : INFO : worker thread finished; awaiting finish of 0 more threads\n",
            "2021-08-19 14:54:35,748 : INFO : EPOCH - 68 : training on 302 raw words (37 effective words) took 0.0s, 7563 effective words/s\n",
            "2021-08-19 14:54:35,756 : INFO : worker thread finished; awaiting finish of 0 more threads\n",
            "2021-08-19 14:54:35,757 : INFO : EPOCH - 69 : training on 302 raw words (34 effective words) took 0.0s, 8279 effective words/s\n",
            "2021-08-19 14:54:35,766 : INFO : worker thread finished; awaiting finish of 0 more threads\n",
            "2021-08-19 14:54:35,767 : INFO : EPOCH - 70 : training on 302 raw words (34 effective words) took 0.0s, 8818 effective words/s\n",
            "2021-08-19 14:54:35,774 : INFO : worker thread finished; awaiting finish of 0 more threads\n",
            "2021-08-19 14:54:35,776 : INFO : EPOCH - 71 : training on 302 raw words (39 effective words) took 0.0s, 13108 effective words/s\n",
            "2021-08-19 14:54:35,785 : INFO : worker thread finished; awaiting finish of 0 more threads\n",
            "2021-08-19 14:54:35,788 : INFO : EPOCH - 72 : training on 302 raw words (33 effective words) took 0.0s, 4969 effective words/s\n",
            "2021-08-19 14:54:35,803 : INFO : worker thread finished; awaiting finish of 0 more threads\n",
            "2021-08-19 14:54:35,805 : INFO : EPOCH - 73 : training on 302 raw words (38 effective words) took 0.0s, 8764 effective words/s\n",
            "2021-08-19 14:54:35,815 : INFO : worker thread finished; awaiting finish of 0 more threads\n",
            "2021-08-19 14:54:35,816 : INFO : EPOCH - 74 : training on 302 raw words (35 effective words) took 0.0s, 10027 effective words/s\n",
            "2021-08-19 14:54:35,830 : INFO : worker thread finished; awaiting finish of 0 more threads\n",
            "2021-08-19 14:54:35,831 : INFO : EPOCH - 75 : training on 302 raw words (38 effective words) took 0.0s, 4015 effective words/s\n",
            "2021-08-19 14:54:35,843 : INFO : worker thread finished; awaiting finish of 0 more threads\n",
            "2021-08-19 14:54:35,844 : INFO : EPOCH - 76 : training on 302 raw words (37 effective words) took 0.0s, 8219 effective words/s\n",
            "2021-08-19 14:54:35,855 : INFO : worker thread finished; awaiting finish of 0 more threads\n",
            "2021-08-19 14:54:35,856 : INFO : EPOCH - 77 : training on 302 raw words (38 effective words) took 0.0s, 9877 effective words/s\n",
            "2021-08-19 14:54:35,863 : INFO : worker thread finished; awaiting finish of 0 more threads\n",
            "2021-08-19 14:54:35,865 : INFO : EPOCH - 78 : training on 302 raw words (42 effective words) took 0.0s, 8704 effective words/s\n",
            "2021-08-19 14:54:35,874 : INFO : worker thread finished; awaiting finish of 0 more threads\n",
            "2021-08-19 14:54:35,877 : INFO : EPOCH - 79 : training on 302 raw words (35 effective words) took 0.0s, 5605 effective words/s\n",
            "2021-08-19 14:54:35,885 : INFO : worker thread finished; awaiting finish of 0 more threads\n",
            "2021-08-19 14:54:35,886 : INFO : EPOCH - 80 : training on 302 raw words (42 effective words) took 0.0s, 11347 effective words/s\n",
            "2021-08-19 14:54:35,895 : INFO : worker thread finished; awaiting finish of 0 more threads\n",
            "2021-08-19 14:54:35,896 : INFO : EPOCH - 81 : training on 302 raw words (39 effective words) took 0.0s, 8471 effective words/s\n",
            "2021-08-19 14:54:35,904 : INFO : worker thread finished; awaiting finish of 0 more threads\n",
            "2021-08-19 14:54:35,906 : INFO : EPOCH - 82 : training on 302 raw words (38 effective words) took 0.0s, 7771 effective words/s\n",
            "2021-08-19 14:54:35,913 : INFO : worker thread finished; awaiting finish of 0 more threads\n",
            "2021-08-19 14:54:35,916 : INFO : EPOCH - 83 : training on 302 raw words (38 effective words) took 0.0s, 5440 effective words/s\n",
            "2021-08-19 14:54:35,925 : INFO : worker thread finished; awaiting finish of 0 more threads\n",
            "2021-08-19 14:54:35,927 : INFO : EPOCH - 84 : training on 302 raw words (41 effective words) took 0.0s, 12993 effective words/s\n",
            "2021-08-19 14:54:35,937 : INFO : worker thread finished; awaiting finish of 0 more threads\n",
            "2021-08-19 14:54:35,938 : INFO : EPOCH - 85 : training on 302 raw words (35 effective words) took 0.0s, 4902 effective words/s\n",
            "2021-08-19 14:54:35,950 : INFO : worker thread finished; awaiting finish of 0 more threads\n",
            "2021-08-19 14:54:35,951 : INFO : EPOCH - 86 : training on 302 raw words (50 effective words) took 0.0s, 8389 effective words/s\n",
            "2021-08-19 14:54:35,958 : INFO : worker thread finished; awaiting finish of 0 more threads\n",
            "2021-08-19 14:54:35,963 : INFO : EPOCH - 87 : training on 302 raw words (46 effective words) took 0.0s, 5267 effective words/s\n",
            "2021-08-19 14:54:35,972 : INFO : worker thread finished; awaiting finish of 0 more threads\n",
            "2021-08-19 14:54:35,973 : INFO : EPOCH - 88 : training on 302 raw words (40 effective words) took 0.0s, 9602 effective words/s\n",
            "2021-08-19 14:54:35,984 : INFO : worker thread finished; awaiting finish of 0 more threads\n",
            "2021-08-19 14:54:35,986 : INFO : EPOCH - 89 : training on 302 raw words (43 effective words) took 0.0s, 9441 effective words/s\n",
            "2021-08-19 14:54:35,995 : INFO : worker thread finished; awaiting finish of 0 more threads\n",
            "2021-08-19 14:54:35,997 : INFO : EPOCH - 90 : training on 302 raw words (37 effective words) took 0.0s, 7665 effective words/s\n",
            "2021-08-19 14:54:36,003 : INFO : worker thread finished; awaiting finish of 0 more threads\n",
            "2021-08-19 14:54:36,006 : INFO : EPOCH - 91 : training on 302 raw words (44 effective words) took 0.0s, 7054 effective words/s\n",
            "2021-08-19 14:54:36,012 : INFO : worker thread finished; awaiting finish of 0 more threads\n",
            "2021-08-19 14:54:36,015 : INFO : EPOCH - 92 : training on 302 raw words (44 effective words) took 0.0s, 8453 effective words/s\n",
            "2021-08-19 14:54:36,022 : INFO : worker thread finished; awaiting finish of 0 more threads\n",
            "2021-08-19 14:54:36,024 : INFO : EPOCH - 93 : training on 302 raw words (45 effective words) took 0.0s, 8449 effective words/s\n",
            "2021-08-19 14:54:36,030 : INFO : worker thread finished; awaiting finish of 0 more threads\n",
            "2021-08-19 14:54:36,032 : INFO : EPOCH - 94 : training on 302 raw words (36 effective words) took 0.0s, 7526 effective words/s\n",
            "2021-08-19 14:54:36,041 : INFO : worker thread finished; awaiting finish of 0 more threads\n",
            "2021-08-19 14:54:36,042 : INFO : EPOCH - 95 : training on 302 raw words (44 effective words) took 0.0s, 14216 effective words/s\n",
            "2021-08-19 14:54:36,051 : INFO : worker thread finished; awaiting finish of 0 more threads\n",
            "2021-08-19 14:54:36,053 : INFO : EPOCH - 96 : training on 302 raw words (42 effective words) took 0.0s, 8362 effective words/s\n",
            "2021-08-19 14:54:36,059 : INFO : worker thread finished; awaiting finish of 0 more threads\n",
            "2021-08-19 14:54:36,062 : INFO : EPOCH - 97 : training on 302 raw words (39 effective words) took 0.0s, 6803 effective words/s\n",
            "2021-08-19 14:54:36,077 : INFO : worker thread finished; awaiting finish of 0 more threads\n",
            "2021-08-19 14:54:36,079 : INFO : EPOCH - 98 : training on 302 raw words (41 effective words) took 0.0s, 5646 effective words/s\n",
            "2021-08-19 14:54:36,086 : INFO : worker thread finished; awaiting finish of 0 more threads\n",
            "2021-08-19 14:54:36,088 : INFO : EPOCH - 99 : training on 302 raw words (35 effective words) took 0.0s, 6900 effective words/s\n",
            "2021-08-19 14:54:36,099 : INFO : worker thread finished; awaiting finish of 0 more threads\n",
            "2021-08-19 14:54:36,100 : INFO : EPOCH - 100 : training on 302 raw words (38 effective words) took 0.0s, 4937 effective words/s\n",
            "2021-08-19 14:54:36,102 : INFO : training on a 30200 raw words (3961 effective words) took 1.1s, 3710 effective words/s\n",
            "2021-08-19 14:54:36,105 : INFO : saving Doc2Vec object under Freelancers, separately None\n",
            "2021-08-19 14:54:36,128 : INFO : saved Freelancers\n"
          ],
          "name": "stderr"
        }
      ]
    },
    {
      "cell_type": "code",
      "metadata": {
        "id": "tz211A0czFAp",
        "colab": {
          "base_uri": "https://localhost:8080/"
        },
        "outputId": "11c749ef-5d27-4c0d-f0b1-a96970ce61e3"
      },
      "source": [
        "#input corpus\n",
        "train_corpus = \"/content/freelancers-documents/Freelancers/Data_Entry_1.txt\"\n",
        "\n",
        "#output model\n",
        "saved_path = \"Freelancers\"\n",
        "\n",
        "#enable logging\n",
        "logging.basicConfig(format='%(asctime)s : %(levelname)s : %(message)s', level=logging.INFO)\n",
        "\n",
        "#train doc2vec model\n",
        "docs = g.doc2vec.TaggedLineDocument(train_corpus)\n",
        "model = g.Doc2Vec(docs, size=vector_size, window=window_size, min_count=min_count, sample=sampling_threshold, workers=worker_count, hs=0, dm=dm, negative=negative_size, dbow_words=1, dm_concat=1, iter=train_epoch)\n",
        "\n",
        "#save model\n",
        "model.save(saved_path)"
      ],
      "execution_count": 68,
      "outputs": [
        {
          "output_type": "stream",
          "text": [
            "/usr/local/lib/python3.7/dist-packages/gensim/models/doc2vec.py:566: UserWarning: The parameter `iter` is deprecated, will be removed in 4.0.0, use `epochs` instead.\n",
            "  warnings.warn(\"The parameter `iter` is deprecated, will be removed in 4.0.0, use `epochs` instead.\")\n",
            "/usr/local/lib/python3.7/dist-packages/gensim/models/doc2vec.py:570: UserWarning: The parameter `size` is deprecated, will be removed in 4.0.0, use `vector_size` instead.\n",
            "  warnings.warn(\"The parameter `size` is deprecated, will be removed in 4.0.0, use `vector_size` instead.\")\n",
            "2021-08-19 14:54:36,149 : INFO : collecting all words and their counts\n",
            "2021-08-19 14:54:36,153 : INFO : PROGRESS: at example #0, processed 0 words (0/s), 0 word types, 0 tags\n",
            "2021-08-19 14:54:36,156 : INFO : collected 297 word types and 36 unique tags from a corpus of 36 examples and 347 words\n",
            "2021-08-19 14:54:36,157 : INFO : Loading a fresh vocabulary\n",
            "2021-08-19 14:54:36,160 : INFO : effective_min_count=1 retains 297 unique words (100% of original 297, drops 0)\n",
            "2021-08-19 14:54:36,163 : INFO : effective_min_count=1 leaves 347 word corpus (100% of original 347, drops 0)\n",
            "2021-08-19 14:54:36,168 : INFO : deleting the raw counts dictionary of 297 items\n",
            "2021-08-19 14:54:36,171 : INFO : sample=1e-05 downsamples 297 most-common words\n",
            "2021-08-19 14:54:36,172 : INFO : downsampling leaves estimated 19 word corpus (5.6% of prior 347)\n",
            "2021-08-19 14:54:36,181 : INFO : estimated required memory for 297 words and 300 dimensions: 904500 bytes\n",
            "2021-08-19 14:54:36,182 : INFO : resetting layer weights\n",
            "2021-08-19 14:54:36,282 : INFO : training model with 1 workers on 298 vocabulary and 300 features, using sg=1 hs=0 sample=1e-05 negative=5 window=15\n",
            "2021-08-19 14:54:36,290 : INFO : worker thread finished; awaiting finish of 0 more threads\n",
            "2021-08-19 14:54:36,291 : INFO : EPOCH - 1 : training on 347 raw words (54 effective words) took 0.0s, 15630 effective words/s\n",
            "2021-08-19 14:54:36,301 : INFO : worker thread finished; awaiting finish of 0 more threads\n",
            "2021-08-19 14:54:36,303 : INFO : EPOCH - 2 : training on 347 raw words (53 effective words) took 0.0s, 12244 effective words/s\n",
            "2021-08-19 14:54:36,311 : INFO : worker thread finished; awaiting finish of 0 more threads\n",
            "2021-08-19 14:54:36,312 : INFO : EPOCH - 3 : training on 347 raw words (51 effective words) took 0.0s, 13718 effective words/s\n",
            "2021-08-19 14:54:36,320 : INFO : worker thread finished; awaiting finish of 0 more threads\n",
            "2021-08-19 14:54:36,321 : INFO : EPOCH - 4 : training on 347 raw words (48 effective words) took 0.0s, 16450 effective words/s\n",
            "2021-08-19 14:54:36,335 : INFO : worker thread finished; awaiting finish of 0 more threads\n",
            "2021-08-19 14:54:36,336 : INFO : EPOCH - 5 : training on 347 raw words (60 effective words) took 0.0s, 8461 effective words/s\n",
            "2021-08-19 14:54:36,347 : INFO : worker thread finished; awaiting finish of 0 more threads\n",
            "2021-08-19 14:54:36,348 : INFO : EPOCH - 6 : training on 347 raw words (57 effective words) took 0.0s, 17649 effective words/s\n",
            "2021-08-19 14:54:36,357 : INFO : worker thread finished; awaiting finish of 0 more threads\n",
            "2021-08-19 14:54:36,359 : INFO : EPOCH - 7 : training on 347 raw words (59 effective words) took 0.0s, 11380 effective words/s\n",
            "2021-08-19 14:54:36,366 : INFO : worker thread finished; awaiting finish of 0 more threads\n",
            "2021-08-19 14:54:36,368 : INFO : EPOCH - 8 : training on 347 raw words (57 effective words) took 0.0s, 11045 effective words/s\n",
            "2021-08-19 14:54:36,376 : INFO : worker thread finished; awaiting finish of 0 more threads\n",
            "2021-08-19 14:54:36,377 : INFO : EPOCH - 9 : training on 347 raw words (58 effective words) took 0.0s, 9892 effective words/s\n",
            "2021-08-19 14:54:36,385 : INFO : worker thread finished; awaiting finish of 0 more threads\n",
            "2021-08-19 14:54:36,386 : INFO : EPOCH - 10 : training on 347 raw words (52 effective words) took 0.0s, 8860 effective words/s\n",
            "2021-08-19 14:54:36,394 : INFO : worker thread finished; awaiting finish of 0 more threads\n",
            "2021-08-19 14:54:36,396 : INFO : EPOCH - 11 : training on 347 raw words (58 effective words) took 0.0s, 11305 effective words/s\n",
            "2021-08-19 14:54:36,403 : INFO : worker thread finished; awaiting finish of 0 more threads\n",
            "2021-08-19 14:54:36,404 : INFO : EPOCH - 12 : training on 347 raw words (55 effective words) took 0.0s, 10134 effective words/s\n",
            "2021-08-19 14:54:36,412 : INFO : worker thread finished; awaiting finish of 0 more threads\n",
            "2021-08-19 14:54:36,413 : INFO : EPOCH - 13 : training on 347 raw words (56 effective words) took 0.0s, 10390 effective words/s\n",
            "2021-08-19 14:54:36,423 : INFO : worker thread finished; awaiting finish of 0 more threads\n",
            "2021-08-19 14:54:36,424 : INFO : EPOCH - 14 : training on 347 raw words (50 effective words) took 0.0s, 16230 effective words/s\n",
            "2021-08-19 14:54:36,432 : INFO : worker thread finished; awaiting finish of 0 more threads\n",
            "2021-08-19 14:54:36,434 : INFO : EPOCH - 15 : training on 347 raw words (51 effective words) took 0.0s, 9864 effective words/s\n",
            "2021-08-19 14:54:36,441 : INFO : worker thread finished; awaiting finish of 0 more threads\n",
            "2021-08-19 14:54:36,442 : INFO : EPOCH - 16 : training on 347 raw words (58 effective words) took 0.0s, 10790 effective words/s\n",
            "2021-08-19 14:54:36,450 : INFO : worker thread finished; awaiting finish of 0 more threads\n",
            "2021-08-19 14:54:36,452 : INFO : EPOCH - 17 : training on 347 raw words (53 effective words) took 0.0s, 15467 effective words/s\n",
            "2021-08-19 14:54:36,459 : INFO : worker thread finished; awaiting finish of 0 more threads\n",
            "2021-08-19 14:54:36,461 : INFO : EPOCH - 18 : training on 347 raw words (60 effective words) took 0.0s, 18553 effective words/s\n",
            "2021-08-19 14:54:36,471 : INFO : worker thread finished; awaiting finish of 0 more threads\n",
            "2021-08-19 14:54:36,475 : INFO : EPOCH - 19 : training on 347 raw words (51 effective words) took 0.0s, 4841 effective words/s\n",
            "2021-08-19 14:54:36,485 : INFO : worker thread finished; awaiting finish of 0 more threads\n",
            "2021-08-19 14:54:36,487 : INFO : EPOCH - 20 : training on 347 raw words (54 effective words) took 0.0s, 9866 effective words/s\n",
            "2021-08-19 14:54:36,496 : INFO : worker thread finished; awaiting finish of 0 more threads\n",
            "2021-08-19 14:54:36,498 : INFO : EPOCH - 21 : training on 347 raw words (47 effective words) took 0.0s, 10827 effective words/s\n",
            "2021-08-19 14:54:36,507 : INFO : worker thread finished; awaiting finish of 0 more threads\n",
            "2021-08-19 14:54:36,508 : INFO : EPOCH - 22 : training on 347 raw words (60 effective words) took 0.0s, 16672 effective words/s\n",
            "2021-08-19 14:54:36,518 : INFO : worker thread finished; awaiting finish of 0 more threads\n",
            "2021-08-19 14:54:36,520 : INFO : EPOCH - 23 : training on 347 raw words (54 effective words) took 0.0s, 13680 effective words/s\n",
            "2021-08-19 14:54:36,528 : INFO : worker thread finished; awaiting finish of 0 more threads\n",
            "2021-08-19 14:54:36,529 : INFO : EPOCH - 24 : training on 347 raw words (54 effective words) took 0.0s, 13785 effective words/s\n",
            "2021-08-19 14:54:36,539 : INFO : worker thread finished; awaiting finish of 0 more threads\n",
            "2021-08-19 14:54:36,541 : INFO : EPOCH - 25 : training on 347 raw words (64 effective words) took 0.0s, 16037 effective words/s\n",
            "2021-08-19 14:54:36,551 : INFO : worker thread finished; awaiting finish of 0 more threads\n",
            "2021-08-19 14:54:36,552 : INFO : EPOCH - 26 : training on 347 raw words (58 effective words) took 0.0s, 15712 effective words/s\n",
            "2021-08-19 14:54:36,562 : INFO : worker thread finished; awaiting finish of 0 more threads\n",
            "2021-08-19 14:54:36,563 : INFO : EPOCH - 27 : training on 347 raw words (56 effective words) took 0.0s, 8131 effective words/s\n",
            "2021-08-19 14:54:36,571 : INFO : worker thread finished; awaiting finish of 0 more threads\n",
            "2021-08-19 14:54:36,573 : INFO : EPOCH - 28 : training on 347 raw words (54 effective words) took 0.0s, 10535 effective words/s\n",
            "2021-08-19 14:54:36,580 : INFO : worker thread finished; awaiting finish of 0 more threads\n",
            "2021-08-19 14:54:36,582 : INFO : EPOCH - 29 : training on 347 raw words (51 effective words) took 0.0s, 9320 effective words/s\n",
            "2021-08-19 14:54:36,589 : INFO : worker thread finished; awaiting finish of 0 more threads\n",
            "2021-08-19 14:54:36,591 : INFO : EPOCH - 30 : training on 347 raw words (52 effective words) took 0.0s, 13392 effective words/s\n",
            "2021-08-19 14:54:36,599 : INFO : worker thread finished; awaiting finish of 0 more threads\n",
            "2021-08-19 14:54:36,601 : INFO : EPOCH - 31 : training on 347 raw words (51 effective words) took 0.0s, 13476 effective words/s\n",
            "2021-08-19 14:54:36,609 : INFO : worker thread finished; awaiting finish of 0 more threads\n",
            "2021-08-19 14:54:36,610 : INFO : EPOCH - 32 : training on 347 raw words (51 effective words) took 0.0s, 13546 effective words/s\n",
            "2021-08-19 14:54:36,618 : INFO : worker thread finished; awaiting finish of 0 more threads\n",
            "2021-08-19 14:54:36,620 : INFO : EPOCH - 33 : training on 347 raw words (52 effective words) took 0.0s, 12320 effective words/s\n",
            "2021-08-19 14:54:36,628 : INFO : worker thread finished; awaiting finish of 0 more threads\n",
            "2021-08-19 14:54:36,630 : INFO : EPOCH - 34 : training on 347 raw words (60 effective words) took 0.0s, 16201 effective words/s\n",
            "2021-08-19 14:54:36,637 : INFO : worker thread finished; awaiting finish of 0 more threads\n",
            "2021-08-19 14:54:36,639 : INFO : EPOCH - 35 : training on 347 raw words (58 effective words) took 0.0s, 10271 effective words/s\n",
            "2021-08-19 14:54:36,646 : INFO : worker thread finished; awaiting finish of 0 more threads\n",
            "2021-08-19 14:54:36,648 : INFO : EPOCH - 36 : training on 347 raw words (49 effective words) took 0.0s, 13793 effective words/s\n",
            "2021-08-19 14:54:36,656 : INFO : worker thread finished; awaiting finish of 0 more threads\n",
            "2021-08-19 14:54:36,658 : INFO : EPOCH - 37 : training on 347 raw words (56 effective words) took 0.0s, 8022 effective words/s\n",
            "2021-08-19 14:54:36,665 : INFO : worker thread finished; awaiting finish of 0 more threads\n",
            "2021-08-19 14:54:36,667 : INFO : EPOCH - 38 : training on 347 raw words (53 effective words) took 0.0s, 15387 effective words/s\n",
            "2021-08-19 14:54:36,675 : INFO : worker thread finished; awaiting finish of 0 more threads\n",
            "2021-08-19 14:54:36,676 : INFO : EPOCH - 39 : training on 347 raw words (60 effective words) took 0.0s, 15031 effective words/s\n",
            "2021-08-19 14:54:36,684 : INFO : worker thread finished; awaiting finish of 0 more threads\n",
            "2021-08-19 14:54:36,686 : INFO : EPOCH - 40 : training on 347 raw words (64 effective words) took 0.0s, 12854 effective words/s\n",
            "2021-08-19 14:54:36,693 : INFO : worker thread finished; awaiting finish of 0 more threads\n",
            "2021-08-19 14:54:36,694 : INFO : EPOCH - 41 : training on 347 raw words (53 effective words) took 0.0s, 18000 effective words/s\n",
            "2021-08-19 14:54:36,702 : INFO : worker thread finished; awaiting finish of 0 more threads\n",
            "2021-08-19 14:54:36,703 : INFO : EPOCH - 42 : training on 347 raw words (56 effective words) took 0.0s, 13499 effective words/s\n",
            "2021-08-19 14:54:36,711 : INFO : worker thread finished; awaiting finish of 0 more threads\n",
            "2021-08-19 14:54:36,713 : INFO : EPOCH - 43 : training on 347 raw words (50 effective words) took 0.0s, 8357 effective words/s\n",
            "2021-08-19 14:54:36,720 : INFO : worker thread finished; awaiting finish of 0 more threads\n",
            "2021-08-19 14:54:36,721 : INFO : EPOCH - 44 : training on 347 raw words (50 effective words) took 0.0s, 17144 effective words/s\n",
            "2021-08-19 14:54:36,733 : INFO : worker thread finished; awaiting finish of 0 more threads\n",
            "2021-08-19 14:54:36,734 : INFO : EPOCH - 45 : training on 347 raw words (52 effective words) took 0.0s, 12833 effective words/s\n",
            "2021-08-19 14:54:36,744 : INFO : worker thread finished; awaiting finish of 0 more threads\n",
            "2021-08-19 14:54:36,746 : INFO : EPOCH - 46 : training on 347 raw words (58 effective words) took 0.0s, 11015 effective words/s\n",
            "2021-08-19 14:54:36,754 : INFO : worker thread finished; awaiting finish of 0 more threads\n",
            "2021-08-19 14:54:36,756 : INFO : EPOCH - 47 : training on 347 raw words (57 effective words) took 0.0s, 7932 effective words/s\n",
            "2021-08-19 14:54:36,765 : INFO : worker thread finished; awaiting finish of 0 more threads\n",
            "2021-08-19 14:54:36,767 : INFO : EPOCH - 48 : training on 347 raw words (55 effective words) took 0.0s, 7462 effective words/s\n",
            "2021-08-19 14:54:36,776 : INFO : worker thread finished; awaiting finish of 0 more threads\n",
            "2021-08-19 14:54:36,778 : INFO : EPOCH - 49 : training on 347 raw words (59 effective words) took 0.0s, 13378 effective words/s\n",
            "2021-08-19 14:54:36,786 : INFO : worker thread finished; awaiting finish of 0 more threads\n",
            "2021-08-19 14:54:36,787 : INFO : EPOCH - 50 : training on 347 raw words (53 effective words) took 0.0s, 17914 effective words/s\n",
            "2021-08-19 14:54:36,797 : INFO : worker thread finished; awaiting finish of 0 more threads\n",
            "2021-08-19 14:54:36,798 : INFO : EPOCH - 51 : training on 347 raw words (54 effective words) took 0.0s, 15731 effective words/s\n",
            "2021-08-19 14:54:36,808 : INFO : worker thread finished; awaiting finish of 0 more threads\n",
            "2021-08-19 14:54:36,809 : INFO : EPOCH - 52 : training on 347 raw words (48 effective words) took 0.0s, 13364 effective words/s\n",
            "2021-08-19 14:54:36,820 : INFO : worker thread finished; awaiting finish of 0 more threads\n",
            "2021-08-19 14:54:36,821 : INFO : EPOCH - 53 : training on 347 raw words (54 effective words) took 0.0s, 9392 effective words/s\n",
            "2021-08-19 14:54:36,829 : INFO : worker thread finished; awaiting finish of 0 more threads\n",
            "2021-08-19 14:54:36,831 : INFO : EPOCH - 54 : training on 347 raw words (52 effective words) took 0.0s, 6211 effective words/s\n",
            "2021-08-19 14:54:36,845 : INFO : worker thread finished; awaiting finish of 0 more threads\n",
            "2021-08-19 14:54:36,846 : INFO : EPOCH - 55 : training on 347 raw words (53 effective words) took 0.0s, 15706 effective words/s\n",
            "2021-08-19 14:54:36,855 : INFO : worker thread finished; awaiting finish of 0 more threads\n",
            "2021-08-19 14:54:36,857 : INFO : EPOCH - 56 : training on 347 raw words (56 effective words) took 0.0s, 11340 effective words/s\n",
            "2021-08-19 14:54:36,866 : INFO : worker thread finished; awaiting finish of 0 more threads\n",
            "2021-08-19 14:54:36,868 : INFO : EPOCH - 57 : training on 347 raw words (52 effective words) took 0.0s, 12560 effective words/s\n",
            "2021-08-19 14:54:36,876 : INFO : worker thread finished; awaiting finish of 0 more threads\n",
            "2021-08-19 14:54:36,879 : INFO : EPOCH - 58 : training on 347 raw words (54 effective words) took 0.0s, 7909 effective words/s\n",
            "2021-08-19 14:54:36,888 : INFO : worker thread finished; awaiting finish of 0 more threads\n",
            "2021-08-19 14:54:36,889 : INFO : EPOCH - 59 : training on 347 raw words (58 effective words) took 0.0s, 14054 effective words/s\n",
            "2021-08-19 14:54:36,898 : INFO : worker thread finished; awaiting finish of 0 more threads\n",
            "2021-08-19 14:54:36,899 : INFO : EPOCH - 60 : training on 347 raw words (52 effective words) took 0.0s, 10360 effective words/s\n",
            "2021-08-19 14:54:36,910 : INFO : worker thread finished; awaiting finish of 0 more threads\n",
            "2021-08-19 14:54:36,912 : INFO : EPOCH - 61 : training on 347 raw words (54 effective words) took 0.0s, 11904 effective words/s\n",
            "2021-08-19 14:54:36,920 : INFO : worker thread finished; awaiting finish of 0 more threads\n",
            "2021-08-19 14:54:36,921 : INFO : EPOCH - 62 : training on 347 raw words (57 effective words) took 0.0s, 15270 effective words/s\n",
            "2021-08-19 14:54:36,930 : INFO : worker thread finished; awaiting finish of 0 more threads\n",
            "2021-08-19 14:54:36,931 : INFO : EPOCH - 63 : training on 347 raw words (53 effective words) took 0.0s, 11967 effective words/s\n",
            "2021-08-19 14:54:36,941 : INFO : worker thread finished; awaiting finish of 0 more threads\n",
            "2021-08-19 14:54:36,943 : INFO : EPOCH - 64 : training on 347 raw words (57 effective words) took 0.0s, 11383 effective words/s\n",
            "2021-08-19 14:54:36,950 : INFO : worker thread finished; awaiting finish of 0 more threads\n",
            "2021-08-19 14:54:36,953 : INFO : EPOCH - 65 : training on 347 raw words (49 effective words) took 0.0s, 6639 effective words/s\n",
            "2021-08-19 14:54:36,961 : INFO : worker thread finished; awaiting finish of 0 more threads\n",
            "2021-08-19 14:54:36,964 : INFO : EPOCH - 66 : training on 347 raw words (57 effective words) took 0.0s, 10102 effective words/s\n",
            "2021-08-19 14:54:36,974 : INFO : worker thread finished; awaiting finish of 0 more threads\n",
            "2021-08-19 14:54:36,975 : INFO : EPOCH - 67 : training on 347 raw words (63 effective words) took 0.0s, 10879 effective words/s\n",
            "2021-08-19 14:54:36,984 : INFO : worker thread finished; awaiting finish of 0 more threads\n",
            "2021-08-19 14:54:36,986 : INFO : EPOCH - 68 : training on 347 raw words (58 effective words) took 0.0s, 9200 effective words/s\n",
            "2021-08-19 14:54:36,999 : INFO : worker thread finished; awaiting finish of 0 more threads\n",
            "2021-08-19 14:54:37,001 : INFO : EPOCH - 69 : training on 347 raw words (54 effective words) took 0.0s, 12965 effective words/s\n",
            "2021-08-19 14:54:37,009 : INFO : worker thread finished; awaiting finish of 0 more threads\n",
            "2021-08-19 14:54:37,012 : INFO : EPOCH - 70 : training on 347 raw words (57 effective words) took 0.0s, 9022 effective words/s\n",
            "2021-08-19 14:54:37,019 : INFO : worker thread finished; awaiting finish of 0 more threads\n",
            "2021-08-19 14:54:37,021 : INFO : EPOCH - 71 : training on 347 raw words (57 effective words) took 0.0s, 11706 effective words/s\n",
            "2021-08-19 14:54:37,029 : INFO : worker thread finished; awaiting finish of 0 more threads\n",
            "2021-08-19 14:54:37,031 : INFO : EPOCH - 72 : training on 347 raw words (53 effective words) took 0.0s, 15531 effective words/s\n",
            "2021-08-19 14:54:37,039 : INFO : worker thread finished; awaiting finish of 0 more threads\n",
            "2021-08-19 14:54:37,041 : INFO : EPOCH - 73 : training on 347 raw words (52 effective words) took 0.0s, 9317 effective words/s\n",
            "2021-08-19 14:54:37,049 : INFO : worker thread finished; awaiting finish of 0 more threads\n",
            "2021-08-19 14:54:37,051 : INFO : EPOCH - 74 : training on 347 raw words (61 effective words) took 0.0s, 9064 effective words/s\n",
            "2021-08-19 14:54:37,059 : INFO : worker thread finished; awaiting finish of 0 more threads\n",
            "2021-08-19 14:54:37,061 : INFO : EPOCH - 75 : training on 347 raw words (53 effective words) took 0.0s, 8462 effective words/s\n",
            "2021-08-19 14:54:37,070 : INFO : worker thread finished; awaiting finish of 0 more threads\n",
            "2021-08-19 14:54:37,072 : INFO : EPOCH - 76 : training on 347 raw words (53 effective words) took 0.0s, 9725 effective words/s\n",
            "2021-08-19 14:54:37,086 : INFO : worker thread finished; awaiting finish of 0 more threads\n",
            "2021-08-19 14:54:37,088 : INFO : EPOCH - 77 : training on 347 raw words (60 effective words) took 0.0s, 11739 effective words/s\n",
            "2021-08-19 14:54:37,101 : INFO : worker thread finished; awaiting finish of 0 more threads\n",
            "2021-08-19 14:54:37,102 : INFO : EPOCH - 78 : training on 347 raw words (60 effective words) took 0.0s, 10178 effective words/s\n",
            "2021-08-19 14:54:37,110 : INFO : worker thread finished; awaiting finish of 0 more threads\n",
            "2021-08-19 14:54:37,113 : INFO : EPOCH - 79 : training on 347 raw words (63 effective words) took 0.0s, 11717 effective words/s\n",
            "2021-08-19 14:54:37,124 : INFO : worker thread finished; awaiting finish of 0 more threads\n",
            "2021-08-19 14:54:37,125 : INFO : EPOCH - 80 : training on 347 raw words (48 effective words) took 0.0s, 10139 effective words/s\n",
            "2021-08-19 14:54:37,141 : INFO : worker thread finished; awaiting finish of 0 more threads\n",
            "2021-08-19 14:54:37,144 : INFO : EPOCH - 81 : training on 347 raw words (59 effective words) took 0.0s, 6998 effective words/s\n",
            "2021-08-19 14:54:37,153 : INFO : worker thread finished; awaiting finish of 0 more threads\n",
            "2021-08-19 14:54:37,155 : INFO : EPOCH - 82 : training on 347 raw words (57 effective words) took 0.0s, 13487 effective words/s\n",
            "2021-08-19 14:54:37,165 : INFO : worker thread finished; awaiting finish of 0 more threads\n",
            "2021-08-19 14:54:37,166 : INFO : EPOCH - 83 : training on 347 raw words (46 effective words) took 0.0s, 10267 effective words/s\n",
            "2021-08-19 14:54:37,176 : INFO : worker thread finished; awaiting finish of 0 more threads\n",
            "2021-08-19 14:54:37,178 : INFO : EPOCH - 84 : training on 347 raw words (67 effective words) took 0.0s, 8593 effective words/s\n",
            "2021-08-19 14:54:37,187 : INFO : worker thread finished; awaiting finish of 0 more threads\n",
            "2021-08-19 14:54:37,189 : INFO : EPOCH - 85 : training on 347 raw words (57 effective words) took 0.0s, 10047 effective words/s\n",
            "2021-08-19 14:54:37,197 : INFO : worker thread finished; awaiting finish of 0 more threads\n",
            "2021-08-19 14:54:37,199 : INFO : EPOCH - 86 : training on 347 raw words (50 effective words) took 0.0s, 7672 effective words/s\n",
            "2021-08-19 14:54:37,208 : INFO : worker thread finished; awaiting finish of 0 more threads\n",
            "2021-08-19 14:54:37,210 : INFO : EPOCH - 87 : training on 347 raw words (53 effective words) took 0.0s, 8142 effective words/s\n",
            "2021-08-19 14:54:37,216 : INFO : worker thread finished; awaiting finish of 0 more threads\n",
            "2021-08-19 14:54:37,217 : INFO : EPOCH - 88 : training on 347 raw words (52 effective words) took 0.0s, 14379 effective words/s\n",
            "2021-08-19 14:54:37,226 : INFO : worker thread finished; awaiting finish of 0 more threads\n",
            "2021-08-19 14:54:37,227 : INFO : EPOCH - 89 : training on 347 raw words (57 effective words) took 0.0s, 15629 effective words/s\n",
            "2021-08-19 14:54:37,236 : INFO : worker thread finished; awaiting finish of 0 more threads\n",
            "2021-08-19 14:54:37,238 : INFO : EPOCH - 90 : training on 347 raw words (48 effective words) took 0.0s, 7693 effective words/s\n",
            "2021-08-19 14:54:37,246 : INFO : worker thread finished; awaiting finish of 0 more threads\n",
            "2021-08-19 14:54:37,248 : INFO : EPOCH - 91 : training on 347 raw words (66 effective words) took 0.0s, 10167 effective words/s\n",
            "2021-08-19 14:54:37,255 : INFO : worker thread finished; awaiting finish of 0 more threads\n",
            "2021-08-19 14:54:37,257 : INFO : EPOCH - 92 : training on 347 raw words (63 effective words) took 0.0s, 12326 effective words/s\n",
            "2021-08-19 14:54:37,265 : INFO : worker thread finished; awaiting finish of 0 more threads\n",
            "2021-08-19 14:54:37,267 : INFO : EPOCH - 93 : training on 347 raw words (56 effective words) took 0.0s, 9501 effective words/s\n",
            "2021-08-19 14:54:37,274 : INFO : worker thread finished; awaiting finish of 0 more threads\n",
            "2021-08-19 14:54:37,276 : INFO : EPOCH - 94 : training on 347 raw words (47 effective words) took 0.0s, 8328 effective words/s\n",
            "2021-08-19 14:54:37,282 : INFO : worker thread finished; awaiting finish of 0 more threads\n",
            "2021-08-19 14:54:37,284 : INFO : EPOCH - 95 : training on 347 raw words (57 effective words) took 0.0s, 10285 effective words/s\n",
            "2021-08-19 14:54:37,291 : INFO : worker thread finished; awaiting finish of 0 more threads\n",
            "2021-08-19 14:54:37,293 : INFO : EPOCH - 96 : training on 347 raw words (52 effective words) took 0.0s, 9556 effective words/s\n",
            "2021-08-19 14:54:37,300 : INFO : worker thread finished; awaiting finish of 0 more threads\n",
            "2021-08-19 14:54:37,302 : INFO : EPOCH - 97 : training on 347 raw words (50 effective words) took 0.0s, 10145 effective words/s\n",
            "2021-08-19 14:54:37,309 : INFO : worker thread finished; awaiting finish of 0 more threads\n",
            "2021-08-19 14:54:37,312 : INFO : EPOCH - 98 : training on 347 raw words (53 effective words) took 0.0s, 9559 effective words/s\n",
            "2021-08-19 14:54:37,320 : INFO : worker thread finished; awaiting finish of 0 more threads\n",
            "2021-08-19 14:54:37,322 : INFO : EPOCH - 99 : training on 347 raw words (60 effective words) took 0.0s, 16352 effective words/s\n",
            "2021-08-19 14:54:37,329 : INFO : worker thread finished; awaiting finish of 0 more threads\n",
            "2021-08-19 14:54:37,332 : INFO : EPOCH - 100 : training on 347 raw words (51 effective words) took 0.0s, 6930 effective words/s\n",
            "2021-08-19 14:54:37,333 : INFO : training on a 34700 raw words (5495 effective words) took 1.0s, 5238 effective words/s\n",
            "2021-08-19 14:54:37,337 : INFO : saving Doc2Vec object under Freelancers, separately None\n",
            "2021-08-19 14:54:37,353 : INFO : saved Freelancers\n"
          ],
          "name": "stderr"
        }
      ]
    },
    {
      "cell_type": "code",
      "metadata": {
        "id": "580QipNIzE4R",
        "colab": {
          "base_uri": "https://localhost:8080/"
        },
        "outputId": "902db9fc-a9d3-42bf-9c33-78b0e480fba4"
      },
      "source": [
        "#input corpus\n",
        "train_corpus = \"/content/freelancers-documents/Freelancers/Graphic_Designer_1.txt\"\n",
        "\n",
        "#output model\n",
        "saved_path = \"Freelancers\"\n",
        "\n",
        "#enable logging\n",
        "logging.basicConfig(format='%(asctime)s : %(levelname)s : %(message)s', level=logging.INFO)\n",
        "\n",
        "#train doc2vec model\n",
        "docs = g.doc2vec.TaggedLineDocument(train_corpus)\n",
        "model = g.Doc2Vec(docs, size=vector_size, window=window_size, min_count=min_count, sample=sampling_threshold, workers=worker_count, hs=0, dm=dm, negative=negative_size, dbow_words=1, dm_concat=1, iter=train_epoch)\n",
        "\n",
        "#save model\n",
        "model.save(saved_path)"
      ],
      "execution_count": 69,
      "outputs": [
        {
          "output_type": "stream",
          "text": [
            "/usr/local/lib/python3.7/dist-packages/gensim/models/doc2vec.py:566: UserWarning: The parameter `iter` is deprecated, will be removed in 4.0.0, use `epochs` instead.\n",
            "  warnings.warn(\"The parameter `iter` is deprecated, will be removed in 4.0.0, use `epochs` instead.\")\n",
            "/usr/local/lib/python3.7/dist-packages/gensim/models/doc2vec.py:570: UserWarning: The parameter `size` is deprecated, will be removed in 4.0.0, use `vector_size` instead.\n",
            "  warnings.warn(\"The parameter `size` is deprecated, will be removed in 4.0.0, use `vector_size` instead.\")\n",
            "2021-08-19 14:54:37,372 : INFO : collecting all words and their counts\n",
            "2021-08-19 14:54:37,374 : INFO : PROGRESS: at example #0, processed 0 words (0/s), 0 word types, 0 tags\n",
            "2021-08-19 14:54:37,377 : INFO : collected 39 word types and 16 unique tags from a corpus of 16 examples and 46 words\n",
            "2021-08-19 14:54:37,379 : INFO : Loading a fresh vocabulary\n",
            "2021-08-19 14:54:37,381 : INFO : effective_min_count=1 retains 39 unique words (100% of original 39, drops 0)\n",
            "2021-08-19 14:54:37,383 : INFO : effective_min_count=1 leaves 46 word corpus (100% of original 46, drops 0)\n",
            "2021-08-19 14:54:37,385 : INFO : deleting the raw counts dictionary of 39 items\n",
            "2021-08-19 14:54:37,387 : INFO : sample=1e-05 downsamples 39 most-common words\n",
            "2021-08-19 14:54:37,388 : INFO : downsampling leaves estimated 0 word corpus (2.0% of prior 46)\n",
            "2021-08-19 14:54:37,389 : INFO : estimated required memory for 39 words and 300 dimensions: 132300 bytes\n",
            "2021-08-19 14:54:37,391 : INFO : resetting layer weights\n",
            "2021-08-19 14:54:37,421 : INFO : training model with 1 workers on 40 vocabulary and 300 features, using sg=1 hs=0 sample=1e-05 negative=5 window=15\n",
            "2021-08-19 14:54:37,427 : INFO : worker thread finished; awaiting finish of 0 more threads\n",
            "2021-08-19 14:54:37,429 : INFO : EPOCH - 1 : training on 46 raw words (19 effective words) took 0.0s, 5809 effective words/s\n",
            "2021-08-19 14:54:37,436 : INFO : worker thread finished; awaiting finish of 0 more threads\n",
            "2021-08-19 14:54:37,438 : INFO : EPOCH - 2 : training on 46 raw words (16 effective words) took 0.0s, 5366 effective words/s\n",
            "2021-08-19 14:54:37,447 : INFO : worker thread finished; awaiting finish of 0 more threads\n",
            "2021-08-19 14:54:37,450 : INFO : EPOCH - 3 : training on 46 raw words (17 effective words) took 0.0s, 2756 effective words/s\n",
            "2021-08-19 14:54:37,455 : INFO : worker thread finished; awaiting finish of 0 more threads\n",
            "2021-08-19 14:54:37,456 : INFO : EPOCH - 4 : training on 46 raw words (18 effective words) took 0.0s, 6855 effective words/s\n",
            "2021-08-19 14:54:37,460 : INFO : worker thread finished; awaiting finish of 0 more threads\n",
            "2021-08-19 14:54:37,462 : INFO : EPOCH - 5 : training on 46 raw words (16 effective words) took 0.0s, 7297 effective words/s\n",
            "2021-08-19 14:54:37,473 : INFO : worker thread finished; awaiting finish of 0 more threads\n",
            "2021-08-19 14:54:37,474 : INFO : EPOCH - 6 : training on 46 raw words (16 effective words) took 0.0s, 7987 effective words/s\n",
            "2021-08-19 14:54:37,481 : INFO : worker thread finished; awaiting finish of 0 more threads\n",
            "2021-08-19 14:54:37,482 : INFO : EPOCH - 7 : training on 46 raw words (16 effective words) took 0.0s, 8295 effective words/s\n",
            "2021-08-19 14:54:37,489 : INFO : worker thread finished; awaiting finish of 0 more threads\n",
            "2021-08-19 14:54:37,490 : INFO : EPOCH - 8 : training on 46 raw words (16 effective words) took 0.0s, 8368 effective words/s\n",
            "2021-08-19 14:54:37,497 : INFO : worker thread finished; awaiting finish of 0 more threads\n",
            "2021-08-19 14:54:37,498 : INFO : EPOCH - 9 : training on 46 raw words (16 effective words) took 0.0s, 7589 effective words/s\n",
            "2021-08-19 14:54:37,506 : INFO : worker thread finished; awaiting finish of 0 more threads\n",
            "2021-08-19 14:54:37,508 : INFO : EPOCH - 10 : training on 46 raw words (18 effective words) took 0.0s, 7499 effective words/s\n",
            "2021-08-19 14:54:37,517 : INFO : worker thread finished; awaiting finish of 0 more threads\n",
            "2021-08-19 14:54:37,518 : INFO : EPOCH - 11 : training on 46 raw words (21 effective words) took 0.0s, 8047 effective words/s\n",
            "2021-08-19 14:54:37,524 : INFO : worker thread finished; awaiting finish of 0 more threads\n",
            "2021-08-19 14:54:37,527 : INFO : EPOCH - 12 : training on 46 raw words (16 effective words) took 0.0s, 3722 effective words/s\n",
            "2021-08-19 14:54:37,533 : INFO : worker thread finished; awaiting finish of 0 more threads\n",
            "2021-08-19 14:54:37,535 : INFO : EPOCH - 13 : training on 46 raw words (17 effective words) took 0.0s, 3925 effective words/s\n",
            "2021-08-19 14:54:37,543 : INFO : worker thread finished; awaiting finish of 0 more threads\n",
            "2021-08-19 14:54:37,544 : INFO : EPOCH - 14 : training on 46 raw words (16 effective words) took 0.0s, 5962 effective words/s\n",
            "2021-08-19 14:54:37,550 : INFO : worker thread finished; awaiting finish of 0 more threads\n",
            "2021-08-19 14:54:37,552 : INFO : EPOCH - 15 : training on 46 raw words (16 effective words) took 0.0s, 4921 effective words/s\n",
            "2021-08-19 14:54:37,561 : INFO : worker thread finished; awaiting finish of 0 more threads\n",
            "2021-08-19 14:54:37,562 : INFO : EPOCH - 16 : training on 46 raw words (18 effective words) took 0.0s, 6319 effective words/s\n",
            "2021-08-19 14:54:37,566 : INFO : worker thread finished; awaiting finish of 0 more threads\n",
            "2021-08-19 14:54:37,569 : INFO : EPOCH - 17 : training on 46 raw words (16 effective words) took 0.0s, 3398 effective words/s\n",
            "2021-08-19 14:54:37,577 : INFO : worker thread finished; awaiting finish of 0 more threads\n",
            "2021-08-19 14:54:37,578 : INFO : EPOCH - 18 : training on 46 raw words (16 effective words) took 0.0s, 5914 effective words/s\n",
            "2021-08-19 14:54:37,586 : INFO : worker thread finished; awaiting finish of 0 more threads\n",
            "2021-08-19 14:54:37,588 : INFO : EPOCH - 19 : training on 46 raw words (18 effective words) took 0.0s, 6932 effective words/s\n",
            "2021-08-19 14:54:37,596 : INFO : worker thread finished; awaiting finish of 0 more threads\n",
            "2021-08-19 14:54:37,597 : INFO : EPOCH - 20 : training on 46 raw words (16 effective words) took 0.0s, 4220 effective words/s\n",
            "2021-08-19 14:54:37,603 : INFO : worker thread finished; awaiting finish of 0 more threads\n",
            "2021-08-19 14:54:37,604 : INFO : EPOCH - 21 : training on 46 raw words (16 effective words) took 0.0s, 4986 effective words/s\n",
            "2021-08-19 14:54:37,612 : INFO : worker thread finished; awaiting finish of 0 more threads\n",
            "2021-08-19 14:54:37,614 : INFO : EPOCH - 22 : training on 46 raw words (16 effective words) took 0.0s, 4479 effective words/s\n",
            "2021-08-19 14:54:37,622 : INFO : worker thread finished; awaiting finish of 0 more threads\n",
            "2021-08-19 14:54:37,624 : INFO : EPOCH - 23 : training on 46 raw words (17 effective words) took 0.0s, 3156 effective words/s\n",
            "2021-08-19 14:54:37,630 : INFO : worker thread finished; awaiting finish of 0 more threads\n",
            "2021-08-19 14:54:37,632 : INFO : EPOCH - 24 : training on 46 raw words (17 effective words) took 0.0s, 4807 effective words/s\n",
            "2021-08-19 14:54:37,640 : INFO : worker thread finished; awaiting finish of 0 more threads\n",
            "2021-08-19 14:54:37,641 : INFO : EPOCH - 25 : training on 46 raw words (17 effective words) took 0.0s, 5702 effective words/s\n",
            "2021-08-19 14:54:37,649 : INFO : worker thread finished; awaiting finish of 0 more threads\n",
            "2021-08-19 14:54:37,651 : INFO : EPOCH - 26 : training on 46 raw words (19 effective words) took 0.0s, 3569 effective words/s\n",
            "2021-08-19 14:54:37,657 : INFO : worker thread finished; awaiting finish of 0 more threads\n",
            "2021-08-19 14:54:37,658 : INFO : EPOCH - 27 : training on 46 raw words (16 effective words) took 0.0s, 6298 effective words/s\n",
            "2021-08-19 14:54:37,670 : INFO : worker thread finished; awaiting finish of 0 more threads\n",
            "2021-08-19 14:54:37,671 : INFO : EPOCH - 28 : training on 46 raw words (18 effective words) took 0.0s, 5500 effective words/s\n",
            "2021-08-19 14:54:37,677 : INFO : worker thread finished; awaiting finish of 0 more threads\n",
            "2021-08-19 14:54:37,678 : INFO : EPOCH - 29 : training on 46 raw words (16 effective words) took 0.0s, 4923 effective words/s\n",
            "2021-08-19 14:54:37,687 : INFO : worker thread finished; awaiting finish of 0 more threads\n",
            "2021-08-19 14:54:37,693 : INFO : EPOCH - 30 : training on 46 raw words (16 effective words) took 0.0s, 2271 effective words/s\n",
            "2021-08-19 14:54:37,700 : INFO : worker thread finished; awaiting finish of 0 more threads\n",
            "2021-08-19 14:54:37,702 : INFO : EPOCH - 31 : training on 46 raw words (16 effective words) took 0.0s, 4274 effective words/s\n",
            "2021-08-19 14:54:37,710 : INFO : worker thread finished; awaiting finish of 0 more threads\n",
            "2021-08-19 14:54:37,711 : INFO : EPOCH - 32 : training on 46 raw words (18 effective words) took 0.0s, 7759 effective words/s\n",
            "2021-08-19 14:54:37,717 : INFO : worker thread finished; awaiting finish of 0 more threads\n",
            "2021-08-19 14:54:37,718 : INFO : EPOCH - 33 : training on 46 raw words (16 effective words) took 0.0s, 4255 effective words/s\n",
            "2021-08-19 14:54:37,726 : INFO : worker thread finished; awaiting finish of 0 more threads\n",
            "2021-08-19 14:54:37,727 : INFO : EPOCH - 34 : training on 46 raw words (17 effective words) took 0.0s, 5694 effective words/s\n",
            "2021-08-19 14:54:37,733 : INFO : worker thread finished; awaiting finish of 0 more threads\n",
            "2021-08-19 14:54:37,735 : INFO : EPOCH - 35 : training on 46 raw words (17 effective words) took 0.0s, 4748 effective words/s\n",
            "2021-08-19 14:54:37,744 : INFO : worker thread finished; awaiting finish of 0 more threads\n",
            "2021-08-19 14:54:37,746 : INFO : EPOCH - 36 : training on 46 raw words (18 effective words) took 0.0s, 4639 effective words/s\n",
            "2021-08-19 14:54:37,752 : INFO : worker thread finished; awaiting finish of 0 more threads\n",
            "2021-08-19 14:54:37,754 : INFO : EPOCH - 37 : training on 46 raw words (17 effective words) took 0.0s, 4679 effective words/s\n",
            "2021-08-19 14:54:37,760 : INFO : worker thread finished; awaiting finish of 0 more threads\n",
            "2021-08-19 14:54:37,761 : INFO : EPOCH - 38 : training on 46 raw words (16 effective words) took 0.0s, 5451 effective words/s\n",
            "2021-08-19 14:54:37,767 : INFO : worker thread finished; awaiting finish of 0 more threads\n",
            "2021-08-19 14:54:37,769 : INFO : EPOCH - 39 : training on 46 raw words (16 effective words) took 0.0s, 3947 effective words/s\n",
            "2021-08-19 14:54:37,779 : INFO : worker thread finished; awaiting finish of 0 more threads\n",
            "2021-08-19 14:54:37,781 : INFO : EPOCH - 40 : training on 46 raw words (18 effective words) took 0.0s, 5730 effective words/s\n",
            "2021-08-19 14:54:37,788 : INFO : worker thread finished; awaiting finish of 0 more threads\n",
            "2021-08-19 14:54:37,791 : INFO : EPOCH - 41 : training on 46 raw words (18 effective words) took 0.0s, 4220 effective words/s\n",
            "2021-08-19 14:54:37,795 : INFO : worker thread finished; awaiting finish of 0 more threads\n",
            "2021-08-19 14:54:37,797 : INFO : EPOCH - 42 : training on 46 raw words (17 effective words) took 0.0s, 4508 effective words/s\n",
            "2021-08-19 14:54:37,803 : INFO : worker thread finished; awaiting finish of 0 more threads\n",
            "2021-08-19 14:54:37,805 : INFO : EPOCH - 43 : training on 46 raw words (16 effective words) took 0.0s, 4847 effective words/s\n",
            "2021-08-19 14:54:37,811 : INFO : worker thread finished; awaiting finish of 0 more threads\n",
            "2021-08-19 14:54:37,814 : INFO : EPOCH - 44 : training on 46 raw words (18 effective words) took 0.0s, 2572 effective words/s\n",
            "2021-08-19 14:54:37,821 : INFO : worker thread finished; awaiting finish of 0 more threads\n",
            "2021-08-19 14:54:37,822 : INFO : EPOCH - 45 : training on 46 raw words (17 effective words) took 0.0s, 5988 effective words/s\n",
            "2021-08-19 14:54:37,829 : INFO : worker thread finished; awaiting finish of 0 more threads\n",
            "2021-08-19 14:54:37,831 : INFO : EPOCH - 46 : training on 46 raw words (17 effective words) took 0.0s, 6231 effective words/s\n",
            "2021-08-19 14:54:37,837 : INFO : worker thread finished; awaiting finish of 0 more threads\n",
            "2021-08-19 14:54:37,838 : INFO : EPOCH - 47 : training on 46 raw words (17 effective words) took 0.0s, 3706 effective words/s\n",
            "2021-08-19 14:54:37,848 : INFO : worker thread finished; awaiting finish of 0 more threads\n",
            "2021-08-19 14:54:37,849 : INFO : EPOCH - 48 : training on 46 raw words (17 effective words) took 0.0s, 4976 effective words/s\n",
            "2021-08-19 14:54:37,858 : INFO : worker thread finished; awaiting finish of 0 more threads\n",
            "2021-08-19 14:54:37,859 : INFO : EPOCH - 49 : training on 46 raw words (16 effective words) took 0.0s, 4894 effective words/s\n",
            "2021-08-19 14:54:37,864 : INFO : worker thread finished; awaiting finish of 0 more threads\n",
            "2021-08-19 14:54:37,866 : INFO : EPOCH - 50 : training on 46 raw words (19 effective words) took 0.0s, 3831 effective words/s\n",
            "2021-08-19 14:54:37,876 : INFO : worker thread finished; awaiting finish of 0 more threads\n",
            "2021-08-19 14:54:37,878 : INFO : EPOCH - 51 : training on 46 raw words (17 effective words) took 0.0s, 6020 effective words/s\n",
            "2021-08-19 14:54:37,888 : INFO : worker thread finished; awaiting finish of 0 more threads\n",
            "2021-08-19 14:54:37,889 : INFO : EPOCH - 52 : training on 46 raw words (16 effective words) took 0.0s, 6620 effective words/s\n",
            "2021-08-19 14:54:37,901 : INFO : worker thread finished; awaiting finish of 0 more threads\n",
            "2021-08-19 14:54:37,902 : INFO : EPOCH - 53 : training on 46 raw words (17 effective words) took 0.0s, 2105 effective words/s\n",
            "2021-08-19 14:54:37,910 : INFO : worker thread finished; awaiting finish of 0 more threads\n",
            "2021-08-19 14:54:37,911 : INFO : EPOCH - 54 : training on 46 raw words (17 effective words) took 0.0s, 7970 effective words/s\n",
            "2021-08-19 14:54:37,919 : INFO : worker thread finished; awaiting finish of 0 more threads\n",
            "2021-08-19 14:54:37,923 : INFO : EPOCH - 55 : training on 46 raw words (16 effective words) took 0.0s, 2929 effective words/s\n",
            "2021-08-19 14:54:37,932 : INFO : worker thread finished; awaiting finish of 0 more threads\n",
            "2021-08-19 14:54:37,934 : INFO : EPOCH - 56 : training on 46 raw words (17 effective words) took 0.0s, 5708 effective words/s\n",
            "2021-08-19 14:54:37,940 : INFO : worker thread finished; awaiting finish of 0 more threads\n",
            "2021-08-19 14:54:37,942 : INFO : EPOCH - 57 : training on 46 raw words (17 effective words) took 0.0s, 6126 effective words/s\n",
            "2021-08-19 14:54:37,951 : INFO : worker thread finished; awaiting finish of 0 more threads\n",
            "2021-08-19 14:54:37,952 : INFO : EPOCH - 58 : training on 46 raw words (16 effective words) took 0.0s, 8463 effective words/s\n",
            "2021-08-19 14:54:37,960 : INFO : worker thread finished; awaiting finish of 0 more threads\n",
            "2021-08-19 14:54:37,962 : INFO : EPOCH - 59 : training on 46 raw words (17 effective words) took 0.0s, 3584 effective words/s\n",
            "2021-08-19 14:54:37,970 : INFO : worker thread finished; awaiting finish of 0 more threads\n",
            "2021-08-19 14:54:37,972 : INFO : EPOCH - 60 : training on 46 raw words (16 effective words) took 0.0s, 4391 effective words/s\n",
            "2021-08-19 14:54:37,978 : INFO : worker thread finished; awaiting finish of 0 more threads\n",
            "2021-08-19 14:54:37,982 : INFO : EPOCH - 61 : training on 46 raw words (18 effective words) took 0.0s, 3350 effective words/s\n",
            "2021-08-19 14:54:37,990 : INFO : worker thread finished; awaiting finish of 0 more threads\n",
            "2021-08-19 14:54:37,991 : INFO : EPOCH - 62 : training on 46 raw words (16 effective words) took 0.0s, 2784 effective words/s\n",
            "2021-08-19 14:54:37,997 : INFO : worker thread finished; awaiting finish of 0 more threads\n",
            "2021-08-19 14:54:38,000 : INFO : EPOCH - 63 : training on 46 raw words (17 effective words) took 0.0s, 4822 effective words/s\n",
            "2021-08-19 14:54:38,008 : INFO : worker thread finished; awaiting finish of 0 more threads\n",
            "2021-08-19 14:54:38,009 : INFO : EPOCH - 64 : training on 46 raw words (16 effective words) took 0.0s, 4979 effective words/s\n",
            "2021-08-19 14:54:38,018 : INFO : worker thread finished; awaiting finish of 0 more threads\n",
            "2021-08-19 14:54:38,020 : INFO : EPOCH - 65 : training on 46 raw words (18 effective words) took 0.0s, 3095 effective words/s\n",
            "2021-08-19 14:54:38,025 : INFO : worker thread finished; awaiting finish of 0 more threads\n",
            "2021-08-19 14:54:38,027 : INFO : EPOCH - 66 : training on 46 raw words (16 effective words) took 0.0s, 6515 effective words/s\n",
            "2021-08-19 14:54:38,036 : INFO : worker thread finished; awaiting finish of 0 more threads\n",
            "2021-08-19 14:54:38,037 : INFO : EPOCH - 67 : training on 46 raw words (18 effective words) took 0.0s, 6899 effective words/s\n",
            "2021-08-19 14:54:38,048 : INFO : worker thread finished; awaiting finish of 0 more threads\n",
            "2021-08-19 14:54:38,050 : INFO : EPOCH - 68 : training on 46 raw words (20 effective words) took 0.0s, 2698 effective words/s\n",
            "2021-08-19 14:54:38,060 : INFO : worker thread finished; awaiting finish of 0 more threads\n",
            "2021-08-19 14:54:38,062 : INFO : EPOCH - 69 : training on 46 raw words (16 effective words) took 0.0s, 5364 effective words/s\n",
            "2021-08-19 14:54:38,070 : INFO : worker thread finished; awaiting finish of 0 more threads\n",
            "2021-08-19 14:54:38,072 : INFO : EPOCH - 70 : training on 46 raw words (16 effective words) took 0.0s, 5564 effective words/s\n",
            "2021-08-19 14:54:38,080 : INFO : worker thread finished; awaiting finish of 0 more threads\n",
            "2021-08-19 14:54:38,081 : INFO : EPOCH - 71 : training on 46 raw words (16 effective words) took 0.0s, 2991 effective words/s\n",
            "2021-08-19 14:54:38,088 : INFO : worker thread finished; awaiting finish of 0 more threads\n",
            "2021-08-19 14:54:38,089 : INFO : EPOCH - 72 : training on 46 raw words (17 effective words) took 0.0s, 4460 effective words/s\n",
            "2021-08-19 14:54:38,099 : INFO : worker thread finished; awaiting finish of 0 more threads\n",
            "2021-08-19 14:54:38,101 : INFO : EPOCH - 73 : training on 46 raw words (16 effective words) took 0.0s, 5859 effective words/s\n",
            "2021-08-19 14:54:38,109 : INFO : worker thread finished; awaiting finish of 0 more threads\n",
            "2021-08-19 14:54:38,111 : INFO : EPOCH - 74 : training on 46 raw words (17 effective words) took 0.0s, 2737 effective words/s\n",
            "2021-08-19 14:54:38,116 : INFO : worker thread finished; awaiting finish of 0 more threads\n",
            "2021-08-19 14:54:38,118 : INFO : EPOCH - 75 : training on 46 raw words (17 effective words) took 0.0s, 5082 effective words/s\n",
            "2021-08-19 14:54:38,127 : INFO : worker thread finished; awaiting finish of 0 more threads\n",
            "2021-08-19 14:54:38,128 : INFO : EPOCH - 76 : training on 46 raw words (16 effective words) took 0.0s, 6410 effective words/s\n",
            "2021-08-19 14:54:38,134 : INFO : worker thread finished; awaiting finish of 0 more threads\n",
            "2021-08-19 14:54:38,138 : INFO : EPOCH - 77 : training on 46 raw words (16 effective words) took 0.0s, 3188 effective words/s\n",
            "2021-08-19 14:54:38,143 : INFO : worker thread finished; awaiting finish of 0 more threads\n",
            "2021-08-19 14:54:38,144 : INFO : EPOCH - 78 : training on 46 raw words (17 effective words) took 0.0s, 4319 effective words/s\n",
            "2021-08-19 14:54:38,161 : INFO : worker thread finished; awaiting finish of 0 more threads\n",
            "2021-08-19 14:54:38,166 : INFO : EPOCH - 79 : training on 46 raw words (17 effective words) took 0.0s, 2717 effective words/s\n",
            "2021-08-19 14:54:38,171 : INFO : worker thread finished; awaiting finish of 0 more threads\n",
            "2021-08-19 14:54:38,174 : INFO : EPOCH - 80 : training on 46 raw words (16 effective words) took 0.0s, 2936 effective words/s\n",
            "2021-08-19 14:54:38,181 : INFO : worker thread finished; awaiting finish of 0 more threads\n",
            "2021-08-19 14:54:38,182 : INFO : EPOCH - 81 : training on 46 raw words (18 effective words) took 0.0s, 8913 effective words/s\n",
            "2021-08-19 14:54:38,191 : INFO : worker thread finished; awaiting finish of 0 more threads\n",
            "2021-08-19 14:54:38,193 : INFO : EPOCH - 82 : training on 46 raw words (17 effective words) took 0.0s, 5472 effective words/s\n",
            "2021-08-19 14:54:38,201 : INFO : worker thread finished; awaiting finish of 0 more threads\n",
            "2021-08-19 14:54:38,203 : INFO : EPOCH - 83 : training on 46 raw words (16 effective words) took 0.0s, 5502 effective words/s\n",
            "2021-08-19 14:54:38,208 : INFO : worker thread finished; awaiting finish of 0 more threads\n",
            "2021-08-19 14:54:38,209 : INFO : EPOCH - 84 : training on 46 raw words (16 effective words) took 0.0s, 5546 effective words/s\n",
            "2021-08-19 14:54:38,217 : INFO : worker thread finished; awaiting finish of 0 more threads\n",
            "2021-08-19 14:54:38,219 : INFO : EPOCH - 85 : training on 46 raw words (17 effective words) took 0.0s, 5887 effective words/s\n",
            "2021-08-19 14:54:38,227 : INFO : worker thread finished; awaiting finish of 0 more threads\n",
            "2021-08-19 14:54:38,229 : INFO : EPOCH - 86 : training on 46 raw words (16 effective words) took 0.0s, 5362 effective words/s\n",
            "2021-08-19 14:54:38,235 : INFO : worker thread finished; awaiting finish of 0 more threads\n",
            "2021-08-19 14:54:38,237 : INFO : EPOCH - 87 : training on 46 raw words (17 effective words) took 0.0s, 5887 effective words/s\n",
            "2021-08-19 14:54:38,242 : INFO : worker thread finished; awaiting finish of 0 more threads\n",
            "2021-08-19 14:54:38,244 : INFO : EPOCH - 88 : training on 46 raw words (16 effective words) took 0.0s, 3768 effective words/s\n",
            "2021-08-19 14:54:38,252 : INFO : worker thread finished; awaiting finish of 0 more threads\n",
            "2021-08-19 14:54:38,254 : INFO : EPOCH - 89 : training on 46 raw words (17 effective words) took 0.0s, 5903 effective words/s\n",
            "2021-08-19 14:54:38,260 : INFO : worker thread finished; awaiting finish of 0 more threads\n",
            "2021-08-19 14:54:38,262 : INFO : EPOCH - 90 : training on 46 raw words (17 effective words) took 0.0s, 6791 effective words/s\n",
            "2021-08-19 14:54:38,270 : INFO : worker thread finished; awaiting finish of 0 more threads\n",
            "2021-08-19 14:54:38,271 : INFO : EPOCH - 91 : training on 46 raw words (17 effective words) took 0.0s, 9033 effective words/s\n",
            "2021-08-19 14:54:38,279 : INFO : worker thread finished; awaiting finish of 0 more threads\n",
            "2021-08-19 14:54:38,280 : INFO : EPOCH - 92 : training on 46 raw words (17 effective words) took 0.0s, 4920 effective words/s\n",
            "2021-08-19 14:54:38,287 : INFO : worker thread finished; awaiting finish of 0 more threads\n",
            "2021-08-19 14:54:38,288 : INFO : EPOCH - 93 : training on 46 raw words (17 effective words) took 0.0s, 6307 effective words/s\n",
            "2021-08-19 14:54:38,296 : INFO : worker thread finished; awaiting finish of 0 more threads\n",
            "2021-08-19 14:54:38,297 : INFO : EPOCH - 94 : training on 46 raw words (17 effective words) took 0.0s, 5731 effective words/s\n",
            "2021-08-19 14:54:38,305 : INFO : worker thread finished; awaiting finish of 0 more threads\n",
            "2021-08-19 14:54:38,307 : INFO : EPOCH - 95 : training on 46 raw words (19 effective words) took 0.0s, 5299 effective words/s\n",
            "2021-08-19 14:54:38,313 : INFO : worker thread finished; awaiting finish of 0 more threads\n",
            "2021-08-19 14:54:38,315 : INFO : EPOCH - 96 : training on 46 raw words (16 effective words) took 0.0s, 5462 effective words/s\n",
            "2021-08-19 14:54:38,326 : INFO : worker thread finished; awaiting finish of 0 more threads\n",
            "2021-08-19 14:54:38,328 : INFO : EPOCH - 97 : training on 46 raw words (17 effective words) took 0.0s, 5986 effective words/s\n",
            "2021-08-19 14:54:38,333 : INFO : worker thread finished; awaiting finish of 0 more threads\n",
            "2021-08-19 14:54:38,339 : INFO : EPOCH - 98 : training on 46 raw words (17 effective words) took 0.0s, 2449 effective words/s\n",
            "2021-08-19 14:54:38,344 : INFO : worker thread finished; awaiting finish of 0 more threads\n",
            "2021-08-19 14:54:38,346 : INFO : EPOCH - 99 : training on 46 raw words (17 effective words) took 0.0s, 6542 effective words/s\n",
            "2021-08-19 14:54:38,354 : INFO : worker thread finished; awaiting finish of 0 more threads\n",
            "2021-08-19 14:54:38,355 : INFO : EPOCH - 100 : training on 46 raw words (16 effective words) took 0.0s, 3441 effective words/s\n",
            "2021-08-19 14:54:38,357 : INFO : training on a 4600 raw words (1686 effective words) took 0.9s, 1805 effective words/s\n",
            "2021-08-19 14:54:38,359 : INFO : saving Doc2Vec object under Freelancers, separately None\n",
            "2021-08-19 14:54:38,365 : INFO : saved Freelancers\n"
          ],
          "name": "stderr"
        }
      ]
    },
    {
      "cell_type": "code",
      "metadata": {
        "id": "xhP8nz4tzEur",
        "colab": {
          "base_uri": "https://localhost:8080/"
        },
        "outputId": "4b80579a-25fd-43b2-ca10-35546a8e4fa4"
      },
      "source": [
        "#input corpus\n",
        "train_corpus = \"/content/freelancers-documents/Freelancers/Logo_1.txt\"\n",
        "\n",
        "#output model\n",
        "saved_path = \"Freelancers\"\n",
        "\n",
        "#enable logging\n",
        "logging.basicConfig(format='%(asctime)s : %(levelname)s : %(message)s', level=logging.INFO)\n",
        "\n",
        "#train doc2vec model\n",
        "docs = g.doc2vec.TaggedLineDocument(train_corpus)\n",
        "model = g.Doc2Vec(docs, size=vector_size, window=window_size, min_count=min_count, sample=sampling_threshold, workers=worker_count, hs=0, dm=dm, negative=negative_size, dbow_words=1, dm_concat=1, iter=train_epoch)\n",
        "\n",
        "#save model\n",
        "model.save(saved_path)"
      ],
      "execution_count": 70,
      "outputs": [
        {
          "output_type": "stream",
          "text": [
            "/usr/local/lib/python3.7/dist-packages/gensim/models/doc2vec.py:566: UserWarning: The parameter `iter` is deprecated, will be removed in 4.0.0, use `epochs` instead.\n",
            "  warnings.warn(\"The parameter `iter` is deprecated, will be removed in 4.0.0, use `epochs` instead.\")\n",
            "/usr/local/lib/python3.7/dist-packages/gensim/models/doc2vec.py:570: UserWarning: The parameter `size` is deprecated, will be removed in 4.0.0, use `vector_size` instead.\n",
            "  warnings.warn(\"The parameter `size` is deprecated, will be removed in 4.0.0, use `vector_size` instead.\")\n",
            "2021-08-19 14:54:38,382 : INFO : collecting all words and their counts\n",
            "2021-08-19 14:54:38,390 : INFO : PROGRESS: at example #0, processed 0 words (0/s), 0 word types, 0 tags\n",
            "2021-08-19 14:54:38,392 : INFO : collected 10 word types and 6 unique tags from a corpus of 6 examples and 12 words\n",
            "2021-08-19 14:54:38,393 : INFO : Loading a fresh vocabulary\n",
            "2021-08-19 14:54:38,395 : INFO : effective_min_count=1 retains 10 unique words (100% of original 10, drops 0)\n",
            "2021-08-19 14:54:38,398 : INFO : effective_min_count=1 leaves 12 word corpus (100% of original 12, drops 0)\n",
            "2021-08-19 14:54:38,400 : INFO : deleting the raw counts dictionary of 10 items\n",
            "2021-08-19 14:54:38,402 : INFO : sample=1e-05 downsamples 10 most-common words\n",
            "2021-08-19 14:54:38,405 : INFO : downsampling leaves estimated 0 word corpus (1.0% of prior 12)\n",
            "2021-08-19 14:54:38,407 : INFO : estimated required memory for 10 words and 300 dimensions: 36200 bytes\n",
            "2021-08-19 14:54:38,408 : INFO : resetting layer weights\n",
            "2021-08-19 14:54:38,434 : INFO : training model with 1 workers on 11 vocabulary and 300 features, using sg=1 hs=0 sample=1e-05 negative=5 window=15\n",
            "2021-08-19 14:54:38,444 : INFO : worker thread finished; awaiting finish of 0 more threads\n",
            "2021-08-19 14:54:38,447 : INFO : EPOCH - 1 : training on 12 raw words (6 effective words) took 0.0s, 1930 effective words/s\n",
            "2021-08-19 14:54:38,453 : INFO : worker thread finished; awaiting finish of 0 more threads\n",
            "2021-08-19 14:54:38,456 : INFO : EPOCH - 2 : training on 12 raw words (6 effective words) took 0.0s, 1484 effective words/s\n",
            "2021-08-19 14:54:38,461 : INFO : worker thread finished; awaiting finish of 0 more threads\n",
            "2021-08-19 14:54:38,462 : INFO : EPOCH - 3 : training on 12 raw words (6 effective words) took 0.0s, 3715 effective words/s\n",
            "2021-08-19 14:54:38,468 : INFO : worker thread finished; awaiting finish of 0 more threads\n",
            "2021-08-19 14:54:38,470 : INFO : EPOCH - 4 : training on 12 raw words (6 effective words) took 0.0s, 1509 effective words/s\n",
            "2021-08-19 14:54:38,479 : INFO : worker thread finished; awaiting finish of 0 more threads\n",
            "2021-08-19 14:54:38,481 : INFO : EPOCH - 5 : training on 12 raw words (6 effective words) took 0.0s, 2517 effective words/s\n",
            "2021-08-19 14:54:38,488 : INFO : worker thread finished; awaiting finish of 0 more threads\n",
            "2021-08-19 14:54:38,489 : INFO : EPOCH - 6 : training on 12 raw words (6 effective words) took 0.0s, 3163 effective words/s\n",
            "2021-08-19 14:54:38,497 : INFO : worker thread finished; awaiting finish of 0 more threads\n",
            "2021-08-19 14:54:38,498 : INFO : EPOCH - 7 : training on 12 raw words (6 effective words) took 0.0s, 2234 effective words/s\n",
            "2021-08-19 14:54:38,506 : INFO : worker thread finished; awaiting finish of 0 more threads\n",
            "2021-08-19 14:54:38,508 : INFO : EPOCH - 8 : training on 12 raw words (6 effective words) took 0.0s, 1209 effective words/s\n",
            "2021-08-19 14:54:38,513 : INFO : worker thread finished; awaiting finish of 0 more threads\n",
            "2021-08-19 14:54:38,515 : INFO : EPOCH - 9 : training on 12 raw words (7 effective words) took 0.0s, 2203 effective words/s\n",
            "2021-08-19 14:54:38,522 : INFO : worker thread finished; awaiting finish of 0 more threads\n",
            "2021-08-19 14:54:38,523 : INFO : EPOCH - 10 : training on 12 raw words (6 effective words) took 0.0s, 2587 effective words/s\n",
            "2021-08-19 14:54:38,531 : INFO : worker thread finished; awaiting finish of 0 more threads\n",
            "2021-08-19 14:54:38,532 : INFO : EPOCH - 11 : training on 12 raw words (6 effective words) took 0.0s, 1644 effective words/s\n",
            "2021-08-19 14:54:38,536 : INFO : worker thread finished; awaiting finish of 0 more threads\n",
            "2021-08-19 14:54:38,538 : INFO : EPOCH - 12 : training on 12 raw words (6 effective words) took 0.0s, 2529 effective words/s\n",
            "2021-08-19 14:54:38,545 : INFO : worker thread finished; awaiting finish of 0 more threads\n",
            "2021-08-19 14:54:38,547 : INFO : EPOCH - 13 : training on 12 raw words (6 effective words) took 0.0s, 2035 effective words/s\n",
            "2021-08-19 14:54:38,553 : INFO : worker thread finished; awaiting finish of 0 more threads\n",
            "2021-08-19 14:54:38,555 : INFO : EPOCH - 14 : training on 12 raw words (6 effective words) took 0.0s, 3044 effective words/s\n",
            "2021-08-19 14:54:38,560 : INFO : worker thread finished; awaiting finish of 0 more threads\n",
            "2021-08-19 14:54:38,562 : INFO : EPOCH - 15 : training on 12 raw words (6 effective words) took 0.0s, 2253 effective words/s\n",
            "2021-08-19 14:54:38,570 : INFO : worker thread finished; awaiting finish of 0 more threads\n",
            "2021-08-19 14:54:38,571 : INFO : EPOCH - 16 : training on 12 raw words (6 effective words) took 0.0s, 2155 effective words/s\n",
            "2021-08-19 14:54:38,578 : INFO : worker thread finished; awaiting finish of 0 more threads\n",
            "2021-08-19 14:54:38,580 : INFO : EPOCH - 17 : training on 12 raw words (6 effective words) took 0.0s, 2049 effective words/s\n",
            "2021-08-19 14:54:38,584 : INFO : worker thread finished; awaiting finish of 0 more threads\n",
            "2021-08-19 14:54:38,587 : INFO : EPOCH - 18 : training on 12 raw words (6 effective words) took 0.0s, 1402 effective words/s\n",
            "2021-08-19 14:54:38,595 : INFO : worker thread finished; awaiting finish of 0 more threads\n",
            "2021-08-19 14:54:38,597 : INFO : EPOCH - 19 : training on 12 raw words (6 effective words) took 0.0s, 1681 effective words/s\n",
            "2021-08-19 14:54:38,621 : INFO : worker thread finished; awaiting finish of 0 more threads\n",
            "2021-08-19 14:54:38,623 : INFO : EPOCH - 20 : training on 12 raw words (6 effective words) took 0.0s, 2196 effective words/s\n",
            "2021-08-19 14:54:38,634 : INFO : worker thread finished; awaiting finish of 0 more threads\n",
            "2021-08-19 14:54:38,635 : INFO : EPOCH - 21 : training on 12 raw words (6 effective words) took 0.0s, 2054 effective words/s\n",
            "2021-08-19 14:54:38,644 : INFO : worker thread finished; awaiting finish of 0 more threads\n",
            "2021-08-19 14:54:38,646 : INFO : EPOCH - 22 : training on 12 raw words (6 effective words) took 0.0s, 1604 effective words/s\n",
            "2021-08-19 14:54:38,658 : INFO : worker thread finished; awaiting finish of 0 more threads\n",
            "2021-08-19 14:54:38,661 : INFO : EPOCH - 23 : training on 12 raw words (6 effective words) took 0.0s, 828 effective words/s\n",
            "2021-08-19 14:54:38,668 : INFO : worker thread finished; awaiting finish of 0 more threads\n",
            "2021-08-19 14:54:38,671 : INFO : EPOCH - 24 : training on 12 raw words (6 effective words) took 0.0s, 1570 effective words/s\n",
            "2021-08-19 14:54:38,679 : INFO : worker thread finished; awaiting finish of 0 more threads\n",
            "2021-08-19 14:54:38,681 : INFO : EPOCH - 25 : training on 12 raw words (6 effective words) took 0.0s, 1849 effective words/s\n",
            "2021-08-19 14:54:38,687 : INFO : worker thread finished; awaiting finish of 0 more threads\n",
            "2021-08-19 14:54:38,689 : INFO : EPOCH - 26 : training on 12 raw words (6 effective words) took 0.0s, 2086 effective words/s\n",
            "2021-08-19 14:54:38,694 : INFO : worker thread finished; awaiting finish of 0 more threads\n",
            "2021-08-19 14:54:38,696 : INFO : EPOCH - 27 : training on 12 raw words (7 effective words) took 0.0s, 2078 effective words/s\n",
            "2021-08-19 14:54:38,703 : INFO : worker thread finished; awaiting finish of 0 more threads\n",
            "2021-08-19 14:54:38,706 : INFO : EPOCH - 28 : training on 12 raw words (7 effective words) took 0.0s, 2225 effective words/s\n",
            "2021-08-19 14:54:38,719 : INFO : worker thread finished; awaiting finish of 0 more threads\n",
            "2021-08-19 14:54:38,721 : INFO : EPOCH - 29 : training on 12 raw words (6 effective words) took 0.0s, 2204 effective words/s\n",
            "2021-08-19 14:54:38,729 : INFO : worker thread finished; awaiting finish of 0 more threads\n",
            "2021-08-19 14:54:38,730 : INFO : EPOCH - 30 : training on 12 raw words (6 effective words) took 0.0s, 3211 effective words/s\n",
            "2021-08-19 14:54:38,740 : INFO : worker thread finished; awaiting finish of 0 more threads\n",
            "2021-08-19 14:54:38,741 : INFO : EPOCH - 31 : training on 12 raw words (6 effective words) took 0.0s, 1135 effective words/s\n",
            "2021-08-19 14:54:38,747 : INFO : worker thread finished; awaiting finish of 0 more threads\n",
            "2021-08-19 14:54:38,749 : INFO : EPOCH - 32 : training on 12 raw words (6 effective words) took 0.0s, 2043 effective words/s\n",
            "2021-08-19 14:54:38,755 : INFO : worker thread finished; awaiting finish of 0 more threads\n",
            "2021-08-19 14:54:38,757 : INFO : EPOCH - 33 : training on 12 raw words (6 effective words) took 0.0s, 1792 effective words/s\n",
            "2021-08-19 14:54:38,763 : INFO : worker thread finished; awaiting finish of 0 more threads\n",
            "2021-08-19 14:54:38,765 : INFO : EPOCH - 34 : training on 12 raw words (6 effective words) took 0.0s, 1320 effective words/s\n",
            "2021-08-19 14:54:38,771 : INFO : worker thread finished; awaiting finish of 0 more threads\n",
            "2021-08-19 14:54:38,773 : INFO : EPOCH - 35 : training on 12 raw words (6 effective words) took 0.0s, 2630 effective words/s\n",
            "2021-08-19 14:54:38,780 : INFO : worker thread finished; awaiting finish of 0 more threads\n",
            "2021-08-19 14:54:38,781 : INFO : EPOCH - 36 : training on 12 raw words (6 effective words) took 0.0s, 2313 effective words/s\n",
            "2021-08-19 14:54:38,786 : INFO : worker thread finished; awaiting finish of 0 more threads\n",
            "2021-08-19 14:54:38,788 : INFO : EPOCH - 37 : training on 12 raw words (6 effective words) took 0.0s, 1723 effective words/s\n",
            "2021-08-19 14:54:38,794 : INFO : worker thread finished; awaiting finish of 0 more threads\n",
            "2021-08-19 14:54:38,796 : INFO : EPOCH - 38 : training on 12 raw words (6 effective words) took 0.0s, 3074 effective words/s\n",
            "2021-08-19 14:54:38,800 : INFO : worker thread finished; awaiting finish of 0 more threads\n",
            "2021-08-19 14:54:38,802 : INFO : EPOCH - 39 : training on 12 raw words (6 effective words) took 0.0s, 2269 effective words/s\n",
            "2021-08-19 14:54:38,811 : INFO : worker thread finished; awaiting finish of 0 more threads\n",
            "2021-08-19 14:54:38,812 : INFO : EPOCH - 40 : training on 12 raw words (6 effective words) took 0.0s, 2958 effective words/s\n",
            "2021-08-19 14:54:38,818 : INFO : worker thread finished; awaiting finish of 0 more threads\n",
            "2021-08-19 14:54:38,819 : INFO : EPOCH - 41 : training on 12 raw words (6 effective words) took 0.0s, 2756 effective words/s\n",
            "2021-08-19 14:54:38,825 : INFO : worker thread finished; awaiting finish of 0 more threads\n",
            "2021-08-19 14:54:38,827 : INFO : EPOCH - 42 : training on 12 raw words (6 effective words) took 0.0s, 2554 effective words/s\n",
            "2021-08-19 14:54:38,832 : INFO : worker thread finished; awaiting finish of 0 more threads\n",
            "2021-08-19 14:54:38,836 : INFO : EPOCH - 43 : training on 12 raw words (6 effective words) took 0.0s, 1143 effective words/s\n",
            "2021-08-19 14:54:38,840 : INFO : worker thread finished; awaiting finish of 0 more threads\n",
            "2021-08-19 14:54:38,841 : INFO : EPOCH - 44 : training on 12 raw words (6 effective words) took 0.0s, 2751 effective words/s\n",
            "2021-08-19 14:54:38,846 : INFO : worker thread finished; awaiting finish of 0 more threads\n",
            "2021-08-19 14:54:38,847 : INFO : EPOCH - 45 : training on 12 raw words (6 effective words) took 0.0s, 2746 effective words/s\n",
            "2021-08-19 14:54:38,854 : INFO : worker thread finished; awaiting finish of 0 more threads\n",
            "2021-08-19 14:54:38,856 : INFO : EPOCH - 46 : training on 12 raw words (6 effective words) took 0.0s, 1995 effective words/s\n",
            "2021-08-19 14:54:38,864 : INFO : worker thread finished; awaiting finish of 0 more threads\n",
            "2021-08-19 14:54:38,866 : INFO : EPOCH - 47 : training on 12 raw words (6 effective words) took 0.0s, 1847 effective words/s\n",
            "2021-08-19 14:54:38,874 : INFO : worker thread finished; awaiting finish of 0 more threads\n",
            "2021-08-19 14:54:38,876 : INFO : EPOCH - 48 : training on 12 raw words (6 effective words) took 0.0s, 2414 effective words/s\n",
            "2021-08-19 14:54:38,881 : INFO : worker thread finished; awaiting finish of 0 more threads\n",
            "2021-08-19 14:54:38,883 : INFO : EPOCH - 49 : training on 12 raw words (6 effective words) took 0.0s, 1745 effective words/s\n",
            "2021-08-19 14:54:38,889 : INFO : worker thread finished; awaiting finish of 0 more threads\n",
            "2021-08-19 14:54:38,891 : INFO : EPOCH - 50 : training on 12 raw words (6 effective words) took 0.0s, 3157 effective words/s\n",
            "2021-08-19 14:54:38,898 : INFO : worker thread finished; awaiting finish of 0 more threads\n",
            "2021-08-19 14:54:38,900 : INFO : EPOCH - 51 : training on 12 raw words (7 effective words) took 0.0s, 2620 effective words/s\n",
            "2021-08-19 14:54:38,908 : INFO : worker thread finished; awaiting finish of 0 more threads\n",
            "2021-08-19 14:54:38,909 : INFO : EPOCH - 52 : training on 12 raw words (6 effective words) took 0.0s, 2717 effective words/s\n",
            "2021-08-19 14:54:38,915 : INFO : worker thread finished; awaiting finish of 0 more threads\n",
            "2021-08-19 14:54:38,917 : INFO : EPOCH - 53 : training on 12 raw words (6 effective words) took 0.0s, 2176 effective words/s\n",
            "2021-08-19 14:54:38,924 : INFO : worker thread finished; awaiting finish of 0 more threads\n",
            "2021-08-19 14:54:38,926 : INFO : EPOCH - 54 : training on 12 raw words (6 effective words) took 0.0s, 2537 effective words/s\n",
            "2021-08-19 14:54:38,931 : INFO : worker thread finished; awaiting finish of 0 more threads\n",
            "2021-08-19 14:54:38,934 : INFO : EPOCH - 55 : training on 12 raw words (7 effective words) took 0.0s, 1545 effective words/s\n",
            "2021-08-19 14:54:38,939 : INFO : worker thread finished; awaiting finish of 0 more threads\n",
            "2021-08-19 14:54:38,940 : INFO : EPOCH - 56 : training on 12 raw words (6 effective words) took 0.0s, 3537 effective words/s\n",
            "2021-08-19 14:54:38,949 : INFO : worker thread finished; awaiting finish of 0 more threads\n",
            "2021-08-19 14:54:38,950 : INFO : EPOCH - 57 : training on 12 raw words (6 effective words) took 0.0s, 2439 effective words/s\n",
            "2021-08-19 14:54:38,956 : INFO : worker thread finished; awaiting finish of 0 more threads\n",
            "2021-08-19 14:54:38,958 : INFO : EPOCH - 58 : training on 12 raw words (6 effective words) took 0.0s, 1673 effective words/s\n",
            "2021-08-19 14:54:38,965 : INFO : worker thread finished; awaiting finish of 0 more threads\n",
            "2021-08-19 14:54:38,966 : INFO : EPOCH - 59 : training on 12 raw words (6 effective words) took 0.0s, 2271 effective words/s\n",
            "2021-08-19 14:54:38,974 : INFO : worker thread finished; awaiting finish of 0 more threads\n",
            "2021-08-19 14:54:38,975 : INFO : EPOCH - 60 : training on 12 raw words (6 effective words) took 0.0s, 2189 effective words/s\n",
            "2021-08-19 14:54:38,981 : INFO : worker thread finished; awaiting finish of 0 more threads\n",
            "2021-08-19 14:54:38,984 : INFO : EPOCH - 61 : training on 12 raw words (6 effective words) took 0.0s, 1328 effective words/s\n",
            "2021-08-19 14:54:38,988 : INFO : worker thread finished; awaiting finish of 0 more threads\n",
            "2021-08-19 14:54:38,990 : INFO : EPOCH - 62 : training on 12 raw words (6 effective words) took 0.0s, 2236 effective words/s\n",
            "2021-08-19 14:54:38,998 : INFO : worker thread finished; awaiting finish of 0 more threads\n",
            "2021-08-19 14:54:38,999 : INFO : EPOCH - 63 : training on 12 raw words (6 effective words) took 0.0s, 2431 effective words/s\n",
            "2021-08-19 14:54:39,005 : INFO : worker thread finished; awaiting finish of 0 more threads\n",
            "2021-08-19 14:54:39,008 : INFO : EPOCH - 64 : training on 12 raw words (6 effective words) took 0.0s, 1610 effective words/s\n",
            "2021-08-19 14:54:39,014 : INFO : worker thread finished; awaiting finish of 0 more threads\n",
            "2021-08-19 14:54:39,014 : INFO : EPOCH - 65 : training on 12 raw words (6 effective words) took 0.0s, 3579 effective words/s\n",
            "2021-08-19 14:54:39,024 : INFO : worker thread finished; awaiting finish of 0 more threads\n",
            "2021-08-19 14:54:39,025 : INFO : EPOCH - 66 : training on 12 raw words (6 effective words) took 0.0s, 2332 effective words/s\n",
            "2021-08-19 14:54:39,030 : INFO : worker thread finished; awaiting finish of 0 more threads\n",
            "2021-08-19 14:54:39,034 : INFO : EPOCH - 67 : training on 12 raw words (6 effective words) took 0.0s, 1402 effective words/s\n",
            "2021-08-19 14:54:39,042 : INFO : worker thread finished; awaiting finish of 0 more threads\n",
            "2021-08-19 14:54:39,044 : INFO : EPOCH - 68 : training on 12 raw words (6 effective words) took 0.0s, 1358 effective words/s\n",
            "2021-08-19 14:54:39,051 : INFO : worker thread finished; awaiting finish of 0 more threads\n",
            "2021-08-19 14:54:39,053 : INFO : EPOCH - 69 : training on 12 raw words (6 effective words) took 0.0s, 2450 effective words/s\n",
            "2021-08-19 14:54:39,058 : INFO : worker thread finished; awaiting finish of 0 more threads\n",
            "2021-08-19 14:54:39,060 : INFO : EPOCH - 70 : training on 12 raw words (6 effective words) took 0.0s, 1726 effective words/s\n",
            "2021-08-19 14:54:39,065 : INFO : worker thread finished; awaiting finish of 0 more threads\n",
            "2021-08-19 14:54:39,067 : INFO : EPOCH - 71 : training on 12 raw words (6 effective words) took 0.0s, 2130 effective words/s\n",
            "2021-08-19 14:54:39,071 : INFO : worker thread finished; awaiting finish of 0 more threads\n",
            "2021-08-19 14:54:39,073 : INFO : EPOCH - 72 : training on 12 raw words (6 effective words) took 0.0s, 1923 effective words/s\n",
            "2021-08-19 14:54:39,079 : INFO : worker thread finished; awaiting finish of 0 more threads\n",
            "2021-08-19 14:54:39,083 : INFO : EPOCH - 73 : training on 12 raw words (6 effective words) took 0.0s, 1511 effective words/s\n",
            "2021-08-19 14:54:39,088 : INFO : worker thread finished; awaiting finish of 0 more threads\n",
            "2021-08-19 14:54:39,089 : INFO : EPOCH - 74 : training on 12 raw words (6 effective words) took 0.0s, 3750 effective words/s\n",
            "2021-08-19 14:54:39,097 : INFO : worker thread finished; awaiting finish of 0 more threads\n",
            "2021-08-19 14:54:39,098 : INFO : EPOCH - 75 : training on 12 raw words (7 effective words) took 0.0s, 2576 effective words/s\n",
            "2021-08-19 14:54:39,102 : INFO : worker thread finished; awaiting finish of 0 more threads\n",
            "2021-08-19 14:54:39,104 : INFO : EPOCH - 76 : training on 12 raw words (6 effective words) took 0.0s, 2538 effective words/s\n",
            "2021-08-19 14:54:39,111 : INFO : worker thread finished; awaiting finish of 0 more threads\n",
            "2021-08-19 14:54:39,112 : INFO : EPOCH - 77 : training on 12 raw words (6 effective words) took 0.0s, 3342 effective words/s\n",
            "2021-08-19 14:54:39,117 : INFO : worker thread finished; awaiting finish of 0 more threads\n",
            "2021-08-19 14:54:39,119 : INFO : EPOCH - 78 : training on 12 raw words (6 effective words) took 0.0s, 1729 effective words/s\n",
            "2021-08-19 14:54:39,126 : INFO : worker thread finished; awaiting finish of 0 more threads\n",
            "2021-08-19 14:54:39,127 : INFO : EPOCH - 79 : training on 12 raw words (7 effective words) took 0.0s, 2497 effective words/s\n",
            "2021-08-19 14:54:39,134 : INFO : worker thread finished; awaiting finish of 0 more threads\n",
            "2021-08-19 14:54:39,135 : INFO : EPOCH - 80 : training on 12 raw words (6 effective words) took 0.0s, 4091 effective words/s\n",
            "2021-08-19 14:54:39,147 : INFO : worker thread finished; awaiting finish of 0 more threads\n",
            "2021-08-19 14:54:39,148 : INFO : EPOCH - 81 : training on 12 raw words (6 effective words) took 0.0s, 3265 effective words/s\n",
            "2021-08-19 14:54:39,157 : INFO : worker thread finished; awaiting finish of 0 more threads\n",
            "2021-08-19 14:54:39,158 : INFO : EPOCH - 82 : training on 12 raw words (6 effective words) took 0.0s, 1788 effective words/s\n",
            "2021-08-19 14:54:39,165 : INFO : worker thread finished; awaiting finish of 0 more threads\n",
            "2021-08-19 14:54:39,167 : INFO : EPOCH - 83 : training on 12 raw words (6 effective words) took 0.0s, 2013 effective words/s\n",
            "2021-08-19 14:54:39,181 : INFO : worker thread finished; awaiting finish of 0 more threads\n",
            "2021-08-19 14:54:39,183 : INFO : EPOCH - 84 : training on 12 raw words (6 effective words) took 0.0s, 1288 effective words/s\n",
            "2021-08-19 14:54:39,191 : INFO : worker thread finished; awaiting finish of 0 more threads\n",
            "2021-08-19 14:54:39,192 : INFO : EPOCH - 85 : training on 12 raw words (6 effective words) took 0.0s, 3694 effective words/s\n",
            "2021-08-19 14:54:39,198 : INFO : worker thread finished; awaiting finish of 0 more threads\n",
            "2021-08-19 14:54:39,200 : INFO : EPOCH - 86 : training on 12 raw words (6 effective words) took 0.0s, 2383 effective words/s\n",
            "2021-08-19 14:54:39,208 : INFO : worker thread finished; awaiting finish of 0 more threads\n",
            "2021-08-19 14:54:39,209 : INFO : EPOCH - 87 : training on 12 raw words (6 effective words) took 0.0s, 3208 effective words/s\n",
            "2021-08-19 14:54:39,218 : INFO : worker thread finished; awaiting finish of 0 more threads\n",
            "2021-08-19 14:54:39,219 : INFO : EPOCH - 88 : training on 12 raw words (6 effective words) took 0.0s, 1116 effective words/s\n",
            "2021-08-19 14:54:39,226 : INFO : worker thread finished; awaiting finish of 0 more threads\n",
            "2021-08-19 14:54:39,228 : INFO : EPOCH - 89 : training on 12 raw words (6 effective words) took 0.0s, 2591 effective words/s\n",
            "2021-08-19 14:54:39,235 : INFO : worker thread finished; awaiting finish of 0 more threads\n",
            "2021-08-19 14:54:39,236 : INFO : EPOCH - 90 : training on 12 raw words (6 effective words) took 0.0s, 3423 effective words/s\n",
            "2021-08-19 14:54:39,242 : INFO : worker thread finished; awaiting finish of 0 more threads\n",
            "2021-08-19 14:54:39,243 : INFO : EPOCH - 91 : training on 12 raw words (6 effective words) took 0.0s, 2601 effective words/s\n",
            "2021-08-19 14:54:39,251 : INFO : worker thread finished; awaiting finish of 0 more threads\n",
            "2021-08-19 14:54:39,253 : INFO : EPOCH - 92 : training on 12 raw words (6 effective words) took 0.0s, 3002 effective words/s\n",
            "2021-08-19 14:54:39,260 : INFO : worker thread finished; awaiting finish of 0 more threads\n",
            "2021-08-19 14:54:39,262 : INFO : EPOCH - 93 : training on 12 raw words (6 effective words) took 0.0s, 1801 effective words/s\n",
            "2021-08-19 14:54:39,271 : INFO : worker thread finished; awaiting finish of 0 more threads\n",
            "2021-08-19 14:54:39,279 : INFO : EPOCH - 94 : training on 12 raw words (6 effective words) took 0.0s, 584 effective words/s\n",
            "2021-08-19 14:54:39,285 : INFO : worker thread finished; awaiting finish of 0 more threads\n",
            "2021-08-19 14:54:39,286 : INFO : EPOCH - 95 : training on 12 raw words (6 effective words) took 0.0s, 2219 effective words/s\n",
            "2021-08-19 14:54:39,292 : INFO : worker thread finished; awaiting finish of 0 more threads\n",
            "2021-08-19 14:54:39,297 : INFO : EPOCH - 96 : training on 12 raw words (6 effective words) took 0.0s, 842 effective words/s\n",
            "2021-08-19 14:54:39,313 : INFO : worker thread finished; awaiting finish of 0 more threads\n",
            "2021-08-19 14:54:39,316 : INFO : EPOCH - 97 : training on 12 raw words (6 effective words) took 0.0s, 1496 effective words/s\n",
            "2021-08-19 14:54:39,324 : INFO : worker thread finished; awaiting finish of 0 more threads\n",
            "2021-08-19 14:54:39,326 : INFO : EPOCH - 98 : training on 12 raw words (6 effective words) took 0.0s, 2610 effective words/s\n",
            "2021-08-19 14:54:39,331 : INFO : worker thread finished; awaiting finish of 0 more threads\n",
            "2021-08-19 14:54:39,332 : INFO : EPOCH - 99 : training on 12 raw words (6 effective words) took 0.0s, 2788 effective words/s\n",
            "2021-08-19 14:54:39,342 : INFO : worker thread finished; awaiting finish of 0 more threads\n",
            "2021-08-19 14:54:39,345 : INFO : EPOCH - 100 : training on 12 raw words (6 effective words) took 0.0s, 1666 effective words/s\n",
            "2021-08-19 14:54:39,347 : INFO : training on a 1200 raw words (607 effective words) took 0.9s, 667 effective words/s\n",
            "2021-08-19 14:54:39,348 : INFO : saving Doc2Vec object under Freelancers, separately None\n",
            "2021-08-19 14:54:39,355 : INFO : saved Freelancers\n"
          ],
          "name": "stderr"
        }
      ]
    },
    {
      "cell_type": "code",
      "metadata": {
        "id": "BdsPdO4yzElM",
        "colab": {
          "base_uri": "https://localhost:8080/"
        },
        "outputId": "8d0269f8-0874-44de-8668-cf14ae6e232e"
      },
      "source": [
        "#input corpus\n",
        "train_corpus = \"/content/freelancers-documents/Freelancers/Microsoft_Excel_1.txt\"\n",
        "\n",
        "#output model\n",
        "saved_path = \"Freelancers\"\n",
        "\n",
        "#enable logging\n",
        "logging.basicConfig(format='%(asctime)s : %(levelname)s : %(message)s', level=logging.INFO)\n",
        "\n",
        "#train doc2vec model\n",
        "docs = g.doc2vec.TaggedLineDocument(train_corpus)\n",
        "model = g.Doc2Vec(docs, size=vector_size, window=window_size, min_count=min_count, sample=sampling_threshold, workers=worker_count, hs=0, dm=dm, negative=negative_size, dbow_words=1, dm_concat=1, iter=train_epoch)\n",
        "\n",
        "#save model\n",
        "model.save(saved_path)"
      ],
      "execution_count": 71,
      "outputs": [
        {
          "output_type": "stream",
          "text": [
            "/usr/local/lib/python3.7/dist-packages/gensim/models/doc2vec.py:566: UserWarning: The parameter `iter` is deprecated, will be removed in 4.0.0, use `epochs` instead.\n",
            "  warnings.warn(\"The parameter `iter` is deprecated, will be removed in 4.0.0, use `epochs` instead.\")\n",
            "/usr/local/lib/python3.7/dist-packages/gensim/models/doc2vec.py:570: UserWarning: The parameter `size` is deprecated, will be removed in 4.0.0, use `vector_size` instead.\n",
            "  warnings.warn(\"The parameter `size` is deprecated, will be removed in 4.0.0, use `vector_size` instead.\")\n",
            "2021-08-19 14:54:39,372 : INFO : collecting all words and their counts\n",
            "2021-08-19 14:54:39,377 : INFO : PROGRESS: at example #0, processed 0 words (0/s), 0 word types, 0 tags\n",
            "2021-08-19 14:54:39,379 : INFO : collected 91 word types and 26 unique tags from a corpus of 26 examples and 127 words\n",
            "2021-08-19 14:54:39,380 : INFO : Loading a fresh vocabulary\n",
            "2021-08-19 14:54:39,384 : INFO : effective_min_count=1 retains 91 unique words (100% of original 91, drops 0)\n",
            "2021-08-19 14:54:39,386 : INFO : effective_min_count=1 leaves 127 word corpus (100% of original 127, drops 0)\n",
            "2021-08-19 14:54:39,388 : INFO : deleting the raw counts dictionary of 91 items\n",
            "2021-08-19 14:54:39,389 : INFO : sample=1e-05 downsamples 91 most-common words\n",
            "2021-08-19 14:54:39,395 : INFO : downsampling leaves estimated 3 word corpus (3.0% of prior 127)\n",
            "2021-08-19 14:54:39,398 : INFO : estimated required memory for 91 words and 300 dimensions: 295100 bytes\n",
            "2021-08-19 14:54:39,401 : INFO : resetting layer weights\n",
            "2021-08-19 14:54:39,466 : INFO : training model with 1 workers on 92 vocabulary and 300 features, using sg=1 hs=0 sample=1e-05 negative=5 window=15\n",
            "2021-08-19 14:54:39,473 : INFO : worker thread finished; awaiting finish of 0 more threads\n",
            "2021-08-19 14:54:39,475 : INFO : EPOCH - 1 : training on 127 raw words (29 effective words) took 0.0s, 7789 effective words/s\n",
            "2021-08-19 14:54:39,484 : INFO : worker thread finished; awaiting finish of 0 more threads\n",
            "2021-08-19 14:54:39,486 : INFO : EPOCH - 2 : training on 127 raw words (29 effective words) took 0.0s, 8798 effective words/s\n",
            "2021-08-19 14:54:39,496 : INFO : worker thread finished; awaiting finish of 0 more threads\n",
            "2021-08-19 14:54:39,498 : INFO : EPOCH - 3 : training on 127 raw words (29 effective words) took 0.0s, 9022 effective words/s\n",
            "2021-08-19 14:54:39,505 : INFO : worker thread finished; awaiting finish of 0 more threads\n",
            "2021-08-19 14:54:39,506 : INFO : EPOCH - 4 : training on 127 raw words (30 effective words) took 0.0s, 11478 effective words/s\n",
            "2021-08-19 14:54:39,513 : INFO : worker thread finished; awaiting finish of 0 more threads\n",
            "2021-08-19 14:54:39,515 : INFO : EPOCH - 5 : training on 127 raw words (30 effective words) took 0.0s, 6402 effective words/s\n",
            "2021-08-19 14:54:39,522 : INFO : worker thread finished; awaiting finish of 0 more threads\n",
            "2021-08-19 14:54:39,525 : INFO : EPOCH - 6 : training on 127 raw words (31 effective words) took 0.0s, 5040 effective words/s\n",
            "2021-08-19 14:54:39,533 : INFO : worker thread finished; awaiting finish of 0 more threads\n",
            "2021-08-19 14:54:39,535 : INFO : EPOCH - 7 : training on 127 raw words (31 effective words) took 0.0s, 7939 effective words/s\n",
            "2021-08-19 14:54:39,545 : INFO : worker thread finished; awaiting finish of 0 more threads\n",
            "2021-08-19 14:54:39,547 : INFO : EPOCH - 8 : training on 127 raw words (28 effective words) took 0.0s, 5568 effective words/s\n",
            "2021-08-19 14:54:39,552 : INFO : worker thread finished; awaiting finish of 0 more threads\n",
            "2021-08-19 14:54:39,554 : INFO : EPOCH - 9 : training on 127 raw words (30 effective words) took 0.0s, 6607 effective words/s\n",
            "2021-08-19 14:54:39,564 : INFO : worker thread finished; awaiting finish of 0 more threads\n",
            "2021-08-19 14:54:39,565 : INFO : EPOCH - 10 : training on 127 raw words (28 effective words) took 0.0s, 6100 effective words/s\n",
            "2021-08-19 14:54:39,576 : INFO : worker thread finished; awaiting finish of 0 more threads\n",
            "2021-08-19 14:54:39,578 : INFO : EPOCH - 11 : training on 127 raw words (33 effective words) took 0.0s, 3400 effective words/s\n",
            "2021-08-19 14:54:39,587 : INFO : worker thread finished; awaiting finish of 0 more threads\n",
            "2021-08-19 14:54:39,589 : INFO : EPOCH - 12 : training on 127 raw words (31 effective words) took 0.0s, 10496 effective words/s\n",
            "2021-08-19 14:54:39,595 : INFO : worker thread finished; awaiting finish of 0 more threads\n",
            "2021-08-19 14:54:39,596 : INFO : EPOCH - 13 : training on 127 raw words (29 effective words) took 0.0s, 8124 effective words/s\n",
            "2021-08-19 14:54:39,605 : INFO : worker thread finished; awaiting finish of 0 more threads\n",
            "2021-08-19 14:54:39,606 : INFO : EPOCH - 14 : training on 127 raw words (27 effective words) took 0.0s, 9555 effective words/s\n",
            "2021-08-19 14:54:39,615 : INFO : worker thread finished; awaiting finish of 0 more threads\n",
            "2021-08-19 14:54:39,617 : INFO : EPOCH - 15 : training on 127 raw words (31 effective words) took 0.0s, 4473 effective words/s\n",
            "2021-08-19 14:54:39,623 : INFO : worker thread finished; awaiting finish of 0 more threads\n",
            "2021-08-19 14:54:39,625 : INFO : EPOCH - 16 : training on 127 raw words (29 effective words) took 0.0s, 10539 effective words/s\n",
            "2021-08-19 14:54:39,633 : INFO : worker thread finished; awaiting finish of 0 more threads\n",
            "2021-08-19 14:54:39,634 : INFO : EPOCH - 17 : training on 127 raw words (30 effective words) took 0.0s, 7844 effective words/s\n",
            "2021-08-19 14:54:39,642 : INFO : worker thread finished; awaiting finish of 0 more threads\n",
            "2021-08-19 14:54:39,644 : INFO : EPOCH - 18 : training on 127 raw words (27 effective words) took 0.0s, 4755 effective words/s\n",
            "2021-08-19 14:54:39,650 : INFO : worker thread finished; awaiting finish of 0 more threads\n",
            "2021-08-19 14:54:39,651 : INFO : EPOCH - 19 : training on 127 raw words (31 effective words) took 0.0s, 8882 effective words/s\n",
            "2021-08-19 14:54:39,661 : INFO : worker thread finished; awaiting finish of 0 more threads\n",
            "2021-08-19 14:54:39,663 : INFO : EPOCH - 20 : training on 127 raw words (26 effective words) took 0.0s, 5448 effective words/s\n",
            "2021-08-19 14:54:39,669 : INFO : worker thread finished; awaiting finish of 0 more threads\n",
            "2021-08-19 14:54:39,671 : INFO : EPOCH - 21 : training on 127 raw words (34 effective words) took 0.0s, 6830 effective words/s\n",
            "2021-08-19 14:54:39,677 : INFO : worker thread finished; awaiting finish of 0 more threads\n",
            "2021-08-19 14:54:39,678 : INFO : EPOCH - 22 : training on 127 raw words (27 effective words) took 0.0s, 10064 effective words/s\n",
            "2021-08-19 14:54:39,687 : INFO : worker thread finished; awaiting finish of 0 more threads\n",
            "2021-08-19 14:54:39,688 : INFO : EPOCH - 23 : training on 127 raw words (27 effective words) took 0.0s, 8968 effective words/s\n",
            "2021-08-19 14:54:39,695 : INFO : worker thread finished; awaiting finish of 0 more threads\n",
            "2021-08-19 14:54:39,696 : INFO : EPOCH - 24 : training on 127 raw words (29 effective words) took 0.0s, 10173 effective words/s\n",
            "2021-08-19 14:54:39,703 : INFO : worker thread finished; awaiting finish of 0 more threads\n",
            "2021-08-19 14:54:39,705 : INFO : EPOCH - 25 : training on 127 raw words (28 effective words) took 0.0s, 6363 effective words/s\n",
            "2021-08-19 14:54:39,711 : INFO : worker thread finished; awaiting finish of 0 more threads\n",
            "2021-08-19 14:54:39,714 : INFO : EPOCH - 26 : training on 127 raw words (30 effective words) took 0.0s, 5228 effective words/s\n",
            "2021-08-19 14:54:39,721 : INFO : worker thread finished; awaiting finish of 0 more threads\n",
            "2021-08-19 14:54:39,722 : INFO : EPOCH - 27 : training on 127 raw words (32 effective words) took 0.0s, 12374 effective words/s\n",
            "2021-08-19 14:54:39,729 : INFO : worker thread finished; awaiting finish of 0 more threads\n",
            "2021-08-19 14:54:39,731 : INFO : EPOCH - 28 : training on 127 raw words (30 effective words) took 0.0s, 9650 effective words/s\n",
            "2021-08-19 14:54:39,738 : INFO : worker thread finished; awaiting finish of 0 more threads\n",
            "2021-08-19 14:54:39,739 : INFO : EPOCH - 29 : training on 127 raw words (27 effective words) took 0.0s, 12165 effective words/s\n",
            "2021-08-19 14:54:39,748 : INFO : worker thread finished; awaiting finish of 0 more threads\n",
            "2021-08-19 14:54:39,750 : INFO : EPOCH - 30 : training on 127 raw words (28 effective words) took 0.0s, 4842 effective words/s\n",
            "2021-08-19 14:54:39,756 : INFO : worker thread finished; awaiting finish of 0 more threads\n",
            "2021-08-19 14:54:39,758 : INFO : EPOCH - 31 : training on 127 raw words (29 effective words) took 0.0s, 8794 effective words/s\n",
            "2021-08-19 14:54:39,766 : INFO : worker thread finished; awaiting finish of 0 more threads\n",
            "2021-08-19 14:54:39,767 : INFO : EPOCH - 32 : training on 127 raw words (30 effective words) took 0.0s, 10154 effective words/s\n",
            "2021-08-19 14:54:39,776 : INFO : worker thread finished; awaiting finish of 0 more threads\n",
            "2021-08-19 14:54:39,777 : INFO : EPOCH - 33 : training on 127 raw words (27 effective words) took 0.0s, 8817 effective words/s\n",
            "2021-08-19 14:54:39,783 : INFO : worker thread finished; awaiting finish of 0 more threads\n",
            "2021-08-19 14:54:39,785 : INFO : EPOCH - 34 : training on 127 raw words (33 effective words) took 0.0s, 11325 effective words/s\n",
            "2021-08-19 14:54:39,798 : INFO : worker thread finished; awaiting finish of 0 more threads\n",
            "2021-08-19 14:54:39,800 : INFO : EPOCH - 35 : training on 127 raw words (27 effective words) took 0.0s, 7257 effective words/s\n",
            "2021-08-19 14:54:39,810 : INFO : worker thread finished; awaiting finish of 0 more threads\n",
            "2021-08-19 14:54:39,811 : INFO : EPOCH - 36 : training on 127 raw words (33 effective words) took 0.0s, 12804 effective words/s\n",
            "2021-08-19 14:54:39,819 : INFO : worker thread finished; awaiting finish of 0 more threads\n",
            "2021-08-19 14:54:39,821 : INFO : EPOCH - 37 : training on 127 raw words (28 effective words) took 0.0s, 7217 effective words/s\n",
            "2021-08-19 14:54:39,838 : INFO : worker thread finished; awaiting finish of 0 more threads\n",
            "2021-08-19 14:54:39,839 : INFO : EPOCH - 38 : training on 127 raw words (28 effective words) took 0.0s, 7974 effective words/s\n",
            "2021-08-19 14:54:39,847 : INFO : worker thread finished; awaiting finish of 0 more threads\n",
            "2021-08-19 14:54:39,848 : INFO : EPOCH - 39 : training on 127 raw words (28 effective words) took 0.0s, 12366 effective words/s\n",
            "2021-08-19 14:54:39,855 : INFO : worker thread finished; awaiting finish of 0 more threads\n",
            "2021-08-19 14:54:39,856 : INFO : EPOCH - 40 : training on 127 raw words (29 effective words) took 0.0s, 13265 effective words/s\n",
            "2021-08-19 14:54:39,866 : INFO : worker thread finished; awaiting finish of 0 more threads\n",
            "2021-08-19 14:54:39,867 : INFO : EPOCH - 41 : training on 127 raw words (28 effective words) took 0.0s, 7150 effective words/s\n",
            "2021-08-19 14:54:39,875 : INFO : worker thread finished; awaiting finish of 0 more threads\n",
            "2021-08-19 14:54:39,877 : INFO : EPOCH - 42 : training on 127 raw words (31 effective words) took 0.0s, 9973 effective words/s\n",
            "2021-08-19 14:54:39,888 : INFO : worker thread finished; awaiting finish of 0 more threads\n",
            "2021-08-19 14:54:39,889 : INFO : EPOCH - 43 : training on 127 raw words (28 effective words) took 0.0s, 5601 effective words/s\n",
            "2021-08-19 14:54:39,898 : INFO : worker thread finished; awaiting finish of 0 more threads\n",
            "2021-08-19 14:54:39,899 : INFO : EPOCH - 44 : training on 127 raw words (30 effective words) took 0.0s, 11174 effective words/s\n",
            "2021-08-19 14:54:39,907 : INFO : worker thread finished; awaiting finish of 0 more threads\n",
            "2021-08-19 14:54:39,909 : INFO : EPOCH - 45 : training on 127 raw words (32 effective words) took 0.0s, 10652 effective words/s\n",
            "2021-08-19 14:54:39,915 : INFO : worker thread finished; awaiting finish of 0 more threads\n",
            "2021-08-19 14:54:39,917 : INFO : EPOCH - 46 : training on 127 raw words (28 effective words) took 0.0s, 8072 effective words/s\n",
            "2021-08-19 14:54:39,923 : INFO : worker thread finished; awaiting finish of 0 more threads\n",
            "2021-08-19 14:54:39,925 : INFO : EPOCH - 47 : training on 127 raw words (28 effective words) took 0.0s, 19450 effective words/s\n",
            "2021-08-19 14:54:39,932 : INFO : worker thread finished; awaiting finish of 0 more threads\n",
            "2021-08-19 14:54:39,935 : INFO : EPOCH - 48 : training on 127 raw words (30 effective words) took 0.0s, 5350 effective words/s\n",
            "2021-08-19 14:54:39,941 : INFO : worker thread finished; awaiting finish of 0 more threads\n",
            "2021-08-19 14:54:39,942 : INFO : EPOCH - 49 : training on 127 raw words (32 effective words) took 0.0s, 11063 effective words/s\n",
            "2021-08-19 14:54:39,949 : INFO : worker thread finished; awaiting finish of 0 more threads\n",
            "2021-08-19 14:54:39,951 : INFO : EPOCH - 50 : training on 127 raw words (30 effective words) took 0.0s, 7269 effective words/s\n",
            "2021-08-19 14:54:39,957 : INFO : worker thread finished; awaiting finish of 0 more threads\n",
            "2021-08-19 14:54:39,959 : INFO : EPOCH - 51 : training on 127 raw words (28 effective words) took 0.0s, 5931 effective words/s\n",
            "2021-08-19 14:54:39,966 : INFO : worker thread finished; awaiting finish of 0 more threads\n",
            "2021-08-19 14:54:39,968 : INFO : EPOCH - 52 : training on 127 raw words (30 effective words) took 0.0s, 7574 effective words/s\n",
            "2021-08-19 14:54:39,975 : INFO : worker thread finished; awaiting finish of 0 more threads\n",
            "2021-08-19 14:54:39,977 : INFO : EPOCH - 53 : training on 127 raw words (27 effective words) took 0.0s, 6109 effective words/s\n",
            "2021-08-19 14:54:39,987 : INFO : worker thread finished; awaiting finish of 0 more threads\n",
            "2021-08-19 14:54:39,989 : INFO : EPOCH - 54 : training on 127 raw words (32 effective words) took 0.0s, 5128 effective words/s\n",
            "2021-08-19 14:54:39,995 : INFO : worker thread finished; awaiting finish of 0 more threads\n",
            "2021-08-19 14:54:39,997 : INFO : EPOCH - 55 : training on 127 raw words (32 effective words) took 0.0s, 9761 effective words/s\n",
            "2021-08-19 14:54:40,005 : INFO : worker thread finished; awaiting finish of 0 more threads\n",
            "2021-08-19 14:54:40,007 : INFO : EPOCH - 56 : training on 127 raw words (32 effective words) took 0.0s, 12436 effective words/s\n",
            "2021-08-19 14:54:40,013 : INFO : worker thread finished; awaiting finish of 0 more threads\n",
            "2021-08-19 14:54:40,017 : INFO : EPOCH - 57 : training on 127 raw words (29 effective words) took 0.0s, 4320 effective words/s\n",
            "2021-08-19 14:54:40,025 : INFO : worker thread finished; awaiting finish of 0 more threads\n",
            "2021-08-19 14:54:40,026 : INFO : EPOCH - 58 : training on 127 raw words (30 effective words) took 0.0s, 7373 effective words/s\n",
            "2021-08-19 14:54:40,038 : INFO : worker thread finished; awaiting finish of 0 more threads\n",
            "2021-08-19 14:54:40,042 : INFO : EPOCH - 59 : training on 127 raw words (28 effective words) took 0.0s, 4448 effective words/s\n",
            "2021-08-19 14:54:40,051 : INFO : worker thread finished; awaiting finish of 0 more threads\n",
            "2021-08-19 14:54:40,053 : INFO : EPOCH - 60 : training on 127 raw words (30 effective words) took 0.0s, 5971 effective words/s\n",
            "2021-08-19 14:54:40,066 : INFO : worker thread finished; awaiting finish of 0 more threads\n",
            "2021-08-19 14:54:40,068 : INFO : EPOCH - 61 : training on 127 raw words (28 effective words) took 0.0s, 8998 effective words/s\n",
            "2021-08-19 14:54:40,077 : INFO : worker thread finished; awaiting finish of 0 more threads\n",
            "2021-08-19 14:54:40,078 : INFO : EPOCH - 62 : training on 127 raw words (31 effective words) took 0.0s, 9256 effective words/s\n",
            "2021-08-19 14:54:40,088 : INFO : worker thread finished; awaiting finish of 0 more threads\n",
            "2021-08-19 14:54:40,089 : INFO : EPOCH - 63 : training on 127 raw words (33 effective words) took 0.0s, 7956 effective words/s\n",
            "2021-08-19 14:54:40,098 : INFO : worker thread finished; awaiting finish of 0 more threads\n",
            "2021-08-19 14:54:40,099 : INFO : EPOCH - 64 : training on 127 raw words (29 effective words) took 0.0s, 9582 effective words/s\n",
            "2021-08-19 14:54:40,114 : INFO : worker thread finished; awaiting finish of 0 more threads\n",
            "2021-08-19 14:54:40,115 : INFO : EPOCH - 65 : training on 127 raw words (33 effective words) took 0.0s, 7473 effective words/s\n",
            "2021-08-19 14:54:40,123 : INFO : worker thread finished; awaiting finish of 0 more threads\n",
            "2021-08-19 14:54:40,125 : INFO : EPOCH - 66 : training on 127 raw words (34 effective words) took 0.0s, 5334 effective words/s\n",
            "2021-08-19 14:54:40,133 : INFO : worker thread finished; awaiting finish of 0 more threads\n",
            "2021-08-19 14:54:40,135 : INFO : EPOCH - 67 : training on 127 raw words (29 effective words) took 0.0s, 7608 effective words/s\n",
            "2021-08-19 14:54:40,144 : INFO : worker thread finished; awaiting finish of 0 more threads\n",
            "2021-08-19 14:54:40,145 : INFO : EPOCH - 68 : training on 127 raw words (29 effective words) took 0.0s, 7748 effective words/s\n",
            "2021-08-19 14:54:40,153 : INFO : worker thread finished; awaiting finish of 0 more threads\n",
            "2021-08-19 14:54:40,154 : INFO : EPOCH - 69 : training on 127 raw words (32 effective words) took 0.0s, 7477 effective words/s\n",
            "2021-08-19 14:54:40,161 : INFO : worker thread finished; awaiting finish of 0 more threads\n",
            "2021-08-19 14:54:40,162 : INFO : EPOCH - 70 : training on 127 raw words (28 effective words) took 0.0s, 6866 effective words/s\n",
            "2021-08-19 14:54:40,169 : INFO : worker thread finished; awaiting finish of 0 more threads\n",
            "2021-08-19 14:54:40,171 : INFO : EPOCH - 71 : training on 127 raw words (28 effective words) took 0.0s, 6391 effective words/s\n",
            "2021-08-19 14:54:40,181 : INFO : worker thread finished; awaiting finish of 0 more threads\n",
            "2021-08-19 14:54:40,182 : INFO : EPOCH - 72 : training on 127 raw words (33 effective words) took 0.0s, 6632 effective words/s\n",
            "2021-08-19 14:54:40,196 : INFO : worker thread finished; awaiting finish of 0 more threads\n",
            "2021-08-19 14:54:40,200 : INFO : EPOCH - 73 : training on 127 raw words (31 effective words) took 0.0s, 3618 effective words/s\n",
            "2021-08-19 14:54:40,209 : INFO : worker thread finished; awaiting finish of 0 more threads\n",
            "2021-08-19 14:54:40,211 : INFO : EPOCH - 74 : training on 127 raw words (30 effective words) took 0.0s, 7634 effective words/s\n",
            "2021-08-19 14:54:40,219 : INFO : worker thread finished; awaiting finish of 0 more threads\n",
            "2021-08-19 14:54:40,221 : INFO : EPOCH - 75 : training on 127 raw words (27 effective words) took 0.0s, 6114 effective words/s\n",
            "2021-08-19 14:54:40,228 : INFO : worker thread finished; awaiting finish of 0 more threads\n",
            "2021-08-19 14:54:40,229 : INFO : EPOCH - 76 : training on 127 raw words (32 effective words) took 0.0s, 11054 effective words/s\n",
            "2021-08-19 14:54:40,238 : INFO : worker thread finished; awaiting finish of 0 more threads\n",
            "2021-08-19 14:54:40,239 : INFO : EPOCH - 77 : training on 127 raw words (29 effective words) took 0.0s, 9490 effective words/s\n",
            "2021-08-19 14:54:40,247 : INFO : worker thread finished; awaiting finish of 0 more threads\n",
            "2021-08-19 14:54:40,249 : INFO : EPOCH - 78 : training on 127 raw words (33 effective words) took 0.0s, 9872 effective words/s\n",
            "2021-08-19 14:54:40,255 : INFO : worker thread finished; awaiting finish of 0 more threads\n",
            "2021-08-19 14:54:40,257 : INFO : EPOCH - 79 : training on 127 raw words (30 effective words) took 0.0s, 9104 effective words/s\n",
            "2021-08-19 14:54:40,264 : INFO : worker thread finished; awaiting finish of 0 more threads\n",
            "2021-08-19 14:54:40,266 : INFO : EPOCH - 80 : training on 127 raw words (32 effective words) took 0.0s, 11756 effective words/s\n",
            "2021-08-19 14:54:40,275 : INFO : worker thread finished; awaiting finish of 0 more threads\n",
            "2021-08-19 14:54:40,277 : INFO : EPOCH - 81 : training on 127 raw words (36 effective words) took 0.0s, 6451 effective words/s\n",
            "2021-08-19 14:54:40,282 : INFO : worker thread finished; awaiting finish of 0 more threads\n",
            "2021-08-19 14:54:40,284 : INFO : EPOCH - 82 : training on 127 raw words (28 effective words) took 0.0s, 8158 effective words/s\n",
            "2021-08-19 14:54:40,292 : INFO : worker thread finished; awaiting finish of 0 more threads\n",
            "2021-08-19 14:54:40,294 : INFO : EPOCH - 83 : training on 127 raw words (30 effective words) took 0.0s, 9002 effective words/s\n",
            "2021-08-19 14:54:40,302 : INFO : worker thread finished; awaiting finish of 0 more threads\n",
            "2021-08-19 14:54:40,303 : INFO : EPOCH - 84 : training on 127 raw words (28 effective words) took 0.0s, 10146 effective words/s\n",
            "2021-08-19 14:54:40,310 : INFO : worker thread finished; awaiting finish of 0 more threads\n",
            "2021-08-19 14:54:40,312 : INFO : EPOCH - 85 : training on 127 raw words (28 effective words) took 0.0s, 10562 effective words/s\n",
            "2021-08-19 14:54:40,317 : INFO : worker thread finished; awaiting finish of 0 more threads\n",
            "2021-08-19 14:54:40,320 : INFO : EPOCH - 86 : training on 127 raw words (31 effective words) took 0.0s, 6882 effective words/s\n",
            "2021-08-19 14:54:40,331 : INFO : worker thread finished; awaiting finish of 0 more threads\n",
            "2021-08-19 14:54:40,333 : INFO : EPOCH - 87 : training on 127 raw words (29 effective words) took 0.0s, 7149 effective words/s\n",
            "2021-08-19 14:54:40,339 : INFO : worker thread finished; awaiting finish of 0 more threads\n",
            "2021-08-19 14:54:40,341 : INFO : EPOCH - 88 : training on 127 raw words (27 effective words) took 0.0s, 6013 effective words/s\n",
            "2021-08-19 14:54:40,349 : INFO : worker thread finished; awaiting finish of 0 more threads\n",
            "2021-08-19 14:54:40,351 : INFO : EPOCH - 89 : training on 127 raw words (28 effective words) took 0.0s, 4117 effective words/s\n",
            "2021-08-19 14:54:40,359 : INFO : worker thread finished; awaiting finish of 0 more threads\n",
            "2021-08-19 14:54:40,360 : INFO : EPOCH - 90 : training on 127 raw words (29 effective words) took 0.0s, 8916 effective words/s\n",
            "2021-08-19 14:54:40,366 : INFO : worker thread finished; awaiting finish of 0 more threads\n",
            "2021-08-19 14:54:40,368 : INFO : EPOCH - 91 : training on 127 raw words (29 effective words) took 0.0s, 9603 effective words/s\n",
            "2021-08-19 14:54:40,375 : INFO : worker thread finished; awaiting finish of 0 more threads\n",
            "2021-08-19 14:54:40,376 : INFO : EPOCH - 92 : training on 127 raw words (30 effective words) took 0.0s, 8884 effective words/s\n",
            "2021-08-19 14:54:40,385 : INFO : worker thread finished; awaiting finish of 0 more threads\n",
            "2021-08-19 14:54:40,386 : INFO : EPOCH - 93 : training on 127 raw words (32 effective words) took 0.0s, 5917 effective words/s\n",
            "2021-08-19 14:54:40,392 : INFO : worker thread finished; awaiting finish of 0 more threads\n",
            "2021-08-19 14:54:40,393 : INFO : EPOCH - 94 : training on 127 raw words (30 effective words) took 0.0s, 5619 effective words/s\n",
            "2021-08-19 14:54:40,402 : INFO : worker thread finished; awaiting finish of 0 more threads\n",
            "2021-08-19 14:54:40,404 : INFO : EPOCH - 95 : training on 127 raw words (30 effective words) took 0.0s, 6096 effective words/s\n",
            "2021-08-19 14:54:40,412 : INFO : worker thread finished; awaiting finish of 0 more threads\n",
            "2021-08-19 14:54:40,413 : INFO : EPOCH - 96 : training on 127 raw words (30 effective words) took 0.0s, 10376 effective words/s\n",
            "2021-08-19 14:54:40,419 : INFO : worker thread finished; awaiting finish of 0 more threads\n",
            "2021-08-19 14:54:40,421 : INFO : EPOCH - 97 : training on 127 raw words (28 effective words) took 0.0s, 7422 effective words/s\n",
            "2021-08-19 14:54:40,428 : INFO : worker thread finished; awaiting finish of 0 more threads\n",
            "2021-08-19 14:54:40,429 : INFO : EPOCH - 98 : training on 127 raw words (26 effective words) took 0.0s, 7110 effective words/s\n",
            "2021-08-19 14:54:40,440 : INFO : worker thread finished; awaiting finish of 0 more threads\n",
            "2021-08-19 14:54:40,442 : INFO : EPOCH - 99 : training on 127 raw words (30 effective words) took 0.0s, 3363 effective words/s\n",
            "2021-08-19 14:54:40,447 : INFO : worker thread finished; awaiting finish of 0 more threads\n",
            "2021-08-19 14:54:40,449 : INFO : EPOCH - 100 : training on 127 raw words (32 effective words) took 0.0s, 7430 effective words/s\n",
            "2021-08-19 14:54:40,450 : INFO : training on a 12700 raw words (2970 effective words) took 1.0s, 3023 effective words/s\n",
            "2021-08-19 14:54:40,452 : INFO : saving Doc2Vec object under Freelancers, separately None\n",
            "2021-08-19 14:54:40,459 : INFO : saved Freelancers\n"
          ],
          "name": "stderr"
        }
      ]
    },
    {
      "cell_type": "code",
      "metadata": {
        "id": "4CVJkzOFzEax",
        "colab": {
          "base_uri": "https://localhost:8080/"
        },
        "outputId": "465d3ed3-81a2-44a0-8327-1f15e578e859"
      },
      "source": [
        "#input corpus\n",
        "train_corpus = \"/content/freelancers-documents/Freelancers/PHP_Dev_1.txt\"\n",
        "\n",
        "#output model\n",
        "saved_path = \"Freelancers\"\n",
        "\n",
        "#enable logging\n",
        "logging.basicConfig(format='%(asctime)s : %(levelname)s : %(message)s', level=logging.INFO)\n",
        "\n",
        "#train doc2vec model\n",
        "docs = g.doc2vec.TaggedLineDocument(train_corpus)\n",
        "model = g.Doc2Vec(docs, size=vector_size, window=window_size, min_count=min_count, sample=sampling_threshold, workers=worker_count, hs=0, dm=dm, negative=negative_size, dbow_words=1, dm_concat=1, iter=train_epoch)\n",
        "\n",
        "#save model\n",
        "model.save(saved_path)"
      ],
      "execution_count": 72,
      "outputs": [
        {
          "output_type": "stream",
          "text": [
            "/usr/local/lib/python3.7/dist-packages/gensim/models/doc2vec.py:566: UserWarning: The parameter `iter` is deprecated, will be removed in 4.0.0, use `epochs` instead.\n",
            "  warnings.warn(\"The parameter `iter` is deprecated, will be removed in 4.0.0, use `epochs` instead.\")\n",
            "/usr/local/lib/python3.7/dist-packages/gensim/models/doc2vec.py:570: UserWarning: The parameter `size` is deprecated, will be removed in 4.0.0, use `vector_size` instead.\n",
            "  warnings.warn(\"The parameter `size` is deprecated, will be removed in 4.0.0, use `vector_size` instead.\")\n",
            "2021-08-19 14:54:40,478 : INFO : collecting all words and their counts\n",
            "2021-08-19 14:54:40,481 : INFO : PROGRESS: at example #0, processed 0 words (0/s), 0 word types, 0 tags\n",
            "2021-08-19 14:54:40,483 : INFO : collected 71 word types and 24 unique tags from a corpus of 24 examples and 87 words\n",
            "2021-08-19 14:54:40,485 : INFO : Loading a fresh vocabulary\n",
            "2021-08-19 14:54:40,488 : INFO : effective_min_count=1 retains 71 unique words (100% of original 71, drops 0)\n",
            "2021-08-19 14:54:40,491 : INFO : effective_min_count=1 leaves 87 word corpus (100% of original 87, drops 0)\n",
            "2021-08-19 14:54:40,495 : INFO : deleting the raw counts dictionary of 71 items\n",
            "2021-08-19 14:54:40,501 : INFO : sample=1e-05 downsamples 71 most-common words\n",
            "2021-08-19 14:54:40,502 : INFO : downsampling leaves estimated 2 word corpus (2.7% of prior 87)\n",
            "2021-08-19 14:54:40,504 : INFO : estimated required memory for 71 words and 300 dimensions: 234700 bytes\n",
            "2021-08-19 14:54:40,506 : INFO : resetting layer weights\n",
            "2021-08-19 14:54:40,566 : INFO : training model with 1 workers on 72 vocabulary and 300 features, using sg=1 hs=0 sample=1e-05 negative=5 window=15\n",
            "2021-08-19 14:54:40,575 : INFO : worker thread finished; awaiting finish of 0 more threads\n",
            "2021-08-19 14:54:40,577 : INFO : EPOCH - 1 : training on 87 raw words (28 effective words) took 0.0s, 7284 effective words/s\n",
            "2021-08-19 14:54:40,585 : INFO : worker thread finished; awaiting finish of 0 more threads\n",
            "2021-08-19 14:54:40,587 : INFO : EPOCH - 2 : training on 87 raw words (26 effective words) took 0.0s, 6044 effective words/s\n",
            "2021-08-19 14:54:40,594 : INFO : worker thread finished; awaiting finish of 0 more threads\n",
            "2021-08-19 14:54:40,596 : INFO : EPOCH - 3 : training on 87 raw words (26 effective words) took 0.0s, 8375 effective words/s\n",
            "2021-08-19 14:54:40,604 : INFO : worker thread finished; awaiting finish of 0 more threads\n",
            "2021-08-19 14:54:40,605 : INFO : EPOCH - 4 : training on 87 raw words (24 effective words) took 0.0s, 6857 effective words/s\n",
            "2021-08-19 14:54:40,616 : INFO : worker thread finished; awaiting finish of 0 more threads\n",
            "2021-08-19 14:54:40,617 : INFO : EPOCH - 5 : training on 87 raw words (26 effective words) took 0.0s, 9144 effective words/s\n",
            "2021-08-19 14:54:40,625 : INFO : worker thread finished; awaiting finish of 0 more threads\n",
            "2021-08-19 14:54:40,627 : INFO : EPOCH - 6 : training on 87 raw words (25 effective words) took 0.0s, 4506 effective words/s\n",
            "2021-08-19 14:54:40,637 : INFO : worker thread finished; awaiting finish of 0 more threads\n",
            "2021-08-19 14:54:40,638 : INFO : EPOCH - 7 : training on 87 raw words (25 effective words) took 0.0s, 3918 effective words/s\n",
            "2021-08-19 14:54:40,647 : INFO : worker thread finished; awaiting finish of 0 more threads\n",
            "2021-08-19 14:54:40,648 : INFO : EPOCH - 8 : training on 87 raw words (28 effective words) took 0.0s, 11043 effective words/s\n",
            "2021-08-19 14:54:40,656 : INFO : worker thread finished; awaiting finish of 0 more threads\n",
            "2021-08-19 14:54:40,658 : INFO : EPOCH - 9 : training on 87 raw words (24 effective words) took 0.0s, 8988 effective words/s\n",
            "2021-08-19 14:54:40,665 : INFO : worker thread finished; awaiting finish of 0 more threads\n",
            "2021-08-19 14:54:40,667 : INFO : EPOCH - 10 : training on 87 raw words (25 effective words) took 0.0s, 5983 effective words/s\n",
            "2021-08-19 14:54:40,673 : INFO : worker thread finished; awaiting finish of 0 more threads\n",
            "2021-08-19 14:54:40,675 : INFO : EPOCH - 11 : training on 87 raw words (26 effective words) took 0.0s, 9301 effective words/s\n",
            "2021-08-19 14:54:40,683 : INFO : worker thread finished; awaiting finish of 0 more threads\n",
            "2021-08-19 14:54:40,684 : INFO : EPOCH - 12 : training on 87 raw words (26 effective words) took 0.0s, 8160 effective words/s\n",
            "2021-08-19 14:54:40,691 : INFO : worker thread finished; awaiting finish of 0 more threads\n",
            "2021-08-19 14:54:40,693 : INFO : EPOCH - 13 : training on 87 raw words (27 effective words) took 0.0s, 8789 effective words/s\n",
            "2021-08-19 14:54:40,702 : INFO : worker thread finished; awaiting finish of 0 more threads\n",
            "2021-08-19 14:54:40,704 : INFO : EPOCH - 14 : training on 87 raw words (26 effective words) took 0.0s, 4890 effective words/s\n",
            "2021-08-19 14:54:40,714 : INFO : worker thread finished; awaiting finish of 0 more threads\n",
            "2021-08-19 14:54:40,715 : INFO : EPOCH - 15 : training on 87 raw words (28 effective words) took 0.0s, 11655 effective words/s\n",
            "2021-08-19 14:54:40,723 : INFO : worker thread finished; awaiting finish of 0 more threads\n",
            "2021-08-19 14:54:40,725 : INFO : EPOCH - 16 : training on 87 raw words (26 effective words) took 0.0s, 4687 effective words/s\n",
            "2021-08-19 14:54:40,731 : INFO : worker thread finished; awaiting finish of 0 more threads\n",
            "2021-08-19 14:54:40,733 : INFO : EPOCH - 17 : training on 87 raw words (26 effective words) took 0.0s, 6475 effective words/s\n",
            "2021-08-19 14:54:40,738 : INFO : worker thread finished; awaiting finish of 0 more threads\n",
            "2021-08-19 14:54:40,740 : INFO : EPOCH - 18 : training on 87 raw words (24 effective words) took 0.0s, 6087 effective words/s\n",
            "2021-08-19 14:54:40,747 : INFO : worker thread finished; awaiting finish of 0 more threads\n",
            "2021-08-19 14:54:40,748 : INFO : EPOCH - 19 : training on 87 raw words (26 effective words) took 0.0s, 8420 effective words/s\n",
            "2021-08-19 14:54:40,753 : INFO : worker thread finished; awaiting finish of 0 more threads\n",
            "2021-08-19 14:54:40,755 : INFO : EPOCH - 20 : training on 87 raw words (26 effective words) took 0.0s, 6890 effective words/s\n",
            "2021-08-19 14:54:40,765 : INFO : worker thread finished; awaiting finish of 0 more threads\n",
            "2021-08-19 14:54:40,766 : INFO : EPOCH - 21 : training on 87 raw words (26 effective words) took 0.0s, 9149 effective words/s\n",
            "2021-08-19 14:54:40,774 : INFO : worker thread finished; awaiting finish of 0 more threads\n",
            "2021-08-19 14:54:40,776 : INFO : EPOCH - 22 : training on 87 raw words (25 effective words) took 0.0s, 10267 effective words/s\n",
            "2021-08-19 14:54:40,785 : INFO : worker thread finished; awaiting finish of 0 more threads\n",
            "2021-08-19 14:54:40,787 : INFO : EPOCH - 23 : training on 87 raw words (27 effective words) took 0.0s, 10446 effective words/s\n",
            "2021-08-19 14:54:40,796 : INFO : worker thread finished; awaiting finish of 0 more threads\n",
            "2021-08-19 14:54:40,797 : INFO : EPOCH - 24 : training on 87 raw words (26 effective words) took 0.0s, 7594 effective words/s\n",
            "2021-08-19 14:54:40,807 : INFO : worker thread finished; awaiting finish of 0 more threads\n",
            "2021-08-19 14:54:40,808 : INFO : EPOCH - 25 : training on 87 raw words (25 effective words) took 0.0s, 7591 effective words/s\n",
            "2021-08-19 14:54:40,818 : INFO : worker thread finished; awaiting finish of 0 more threads\n",
            "2021-08-19 14:54:40,819 : INFO : EPOCH - 26 : training on 87 raw words (25 effective words) took 0.0s, 7526 effective words/s\n",
            "2021-08-19 14:54:40,828 : INFO : worker thread finished; awaiting finish of 0 more threads\n",
            "2021-08-19 14:54:40,829 : INFO : EPOCH - 27 : training on 87 raw words (24 effective words) took 0.0s, 6504 effective words/s\n",
            "2021-08-19 14:54:40,837 : INFO : worker thread finished; awaiting finish of 0 more threads\n",
            "2021-08-19 14:54:40,838 : INFO : EPOCH - 28 : training on 87 raw words (25 effective words) took 0.0s, 9232 effective words/s\n",
            "2021-08-19 14:54:40,845 : INFO : worker thread finished; awaiting finish of 0 more threads\n",
            "2021-08-19 14:54:40,848 : INFO : EPOCH - 29 : training on 87 raw words (28 effective words) took 0.0s, 5246 effective words/s\n",
            "2021-08-19 14:54:40,856 : INFO : worker thread finished; awaiting finish of 0 more threads\n",
            "2021-08-19 14:54:40,857 : INFO : EPOCH - 30 : training on 87 raw words (27 effective words) took 0.0s, 10693 effective words/s\n",
            "2021-08-19 14:54:40,879 : INFO : worker thread finished; awaiting finish of 0 more threads\n",
            "2021-08-19 14:54:40,881 : INFO : EPOCH - 31 : training on 87 raw words (26 effective words) took 0.0s, 7468 effective words/s\n",
            "2021-08-19 14:54:40,889 : INFO : worker thread finished; awaiting finish of 0 more threads\n",
            "2021-08-19 14:54:40,891 : INFO : EPOCH - 32 : training on 87 raw words (26 effective words) took 0.0s, 5774 effective words/s\n",
            "2021-08-19 14:54:40,898 : INFO : worker thread finished; awaiting finish of 0 more threads\n",
            "2021-08-19 14:54:40,900 : INFO : EPOCH - 33 : training on 87 raw words (27 effective words) took 0.0s, 8125 effective words/s\n",
            "2021-08-19 14:54:40,908 : INFO : worker thread finished; awaiting finish of 0 more threads\n",
            "2021-08-19 14:54:40,910 : INFO : EPOCH - 34 : training on 87 raw words (26 effective words) took 0.0s, 6325 effective words/s\n",
            "2021-08-19 14:54:40,916 : INFO : worker thread finished; awaiting finish of 0 more threads\n",
            "2021-08-19 14:54:40,917 : INFO : EPOCH - 35 : training on 87 raw words (27 effective words) took 0.0s, 5779 effective words/s\n",
            "2021-08-19 14:54:40,928 : INFO : worker thread finished; awaiting finish of 0 more threads\n",
            "2021-08-19 14:54:40,929 : INFO : EPOCH - 36 : training on 87 raw words (25 effective words) took 0.0s, 3676 effective words/s\n",
            "2021-08-19 14:54:40,937 : INFO : worker thread finished; awaiting finish of 0 more threads\n",
            "2021-08-19 14:54:40,940 : INFO : EPOCH - 37 : training on 87 raw words (24 effective words) took 0.0s, 4646 effective words/s\n",
            "2021-08-19 14:54:40,947 : INFO : worker thread finished; awaiting finish of 0 more threads\n",
            "2021-08-19 14:54:40,950 : INFO : EPOCH - 38 : training on 87 raw words (25 effective words) took 0.0s, 6099 effective words/s\n",
            "2021-08-19 14:54:40,956 : INFO : worker thread finished; awaiting finish of 0 more threads\n",
            "2021-08-19 14:54:40,959 : INFO : EPOCH - 39 : training on 87 raw words (25 effective words) took 0.0s, 4712 effective words/s\n",
            "2021-08-19 14:54:40,965 : INFO : worker thread finished; awaiting finish of 0 more threads\n",
            "2021-08-19 14:54:40,967 : INFO : EPOCH - 40 : training on 87 raw words (27 effective words) took 0.0s, 10179 effective words/s\n",
            "2021-08-19 14:54:40,975 : INFO : worker thread finished; awaiting finish of 0 more threads\n",
            "2021-08-19 14:54:40,977 : INFO : EPOCH - 41 : training on 87 raw words (25 effective words) took 0.0s, 7901 effective words/s\n",
            "2021-08-19 14:54:40,983 : INFO : worker thread finished; awaiting finish of 0 more threads\n",
            "2021-08-19 14:54:40,986 : INFO : EPOCH - 42 : training on 87 raw words (26 effective words) took 0.0s, 5230 effective words/s\n",
            "2021-08-19 14:54:40,993 : INFO : worker thread finished; awaiting finish of 0 more threads\n",
            "2021-08-19 14:54:40,995 : INFO : EPOCH - 43 : training on 87 raw words (26 effective words) took 0.0s, 9123 effective words/s\n",
            "2021-08-19 14:54:41,003 : INFO : worker thread finished; awaiting finish of 0 more threads\n",
            "2021-08-19 14:54:41,005 : INFO : EPOCH - 44 : training on 87 raw words (28 effective words) took 0.0s, 5862 effective words/s\n",
            "2021-08-19 14:54:41,013 : INFO : worker thread finished; awaiting finish of 0 more threads\n",
            "2021-08-19 14:54:41,015 : INFO : EPOCH - 45 : training on 87 raw words (25 effective words) took 0.0s, 7151 effective words/s\n",
            "2021-08-19 14:54:41,024 : INFO : worker thread finished; awaiting finish of 0 more threads\n",
            "2021-08-19 14:54:41,026 : INFO : EPOCH - 46 : training on 87 raw words (26 effective words) took 0.0s, 9502 effective words/s\n",
            "2021-08-19 14:54:41,034 : INFO : worker thread finished; awaiting finish of 0 more threads\n",
            "2021-08-19 14:54:41,036 : INFO : EPOCH - 47 : training on 87 raw words (27 effective words) took 0.0s, 4664 effective words/s\n",
            "2021-08-19 14:54:41,044 : INFO : worker thread finished; awaiting finish of 0 more threads\n",
            "2021-08-19 14:54:41,047 : INFO : EPOCH - 48 : training on 87 raw words (26 effective words) took 0.0s, 4480 effective words/s\n",
            "2021-08-19 14:54:41,056 : INFO : worker thread finished; awaiting finish of 0 more threads\n",
            "2021-08-19 14:54:41,059 : INFO : EPOCH - 49 : training on 87 raw words (26 effective words) took 0.0s, 4821 effective words/s\n",
            "2021-08-19 14:54:41,068 : INFO : worker thread finished; awaiting finish of 0 more threads\n",
            "2021-08-19 14:54:41,070 : INFO : EPOCH - 50 : training on 87 raw words (26 effective words) took 0.0s, 6106 effective words/s\n",
            "2021-08-19 14:54:41,075 : INFO : worker thread finished; awaiting finish of 0 more threads\n",
            "2021-08-19 14:54:41,078 : INFO : EPOCH - 51 : training on 87 raw words (27 effective words) took 0.0s, 4995 effective words/s\n",
            "2021-08-19 14:54:41,086 : INFO : worker thread finished; awaiting finish of 0 more threads\n",
            "2021-08-19 14:54:41,088 : INFO : EPOCH - 52 : training on 87 raw words (24 effective words) took 0.0s, 8857 effective words/s\n",
            "2021-08-19 14:54:41,096 : INFO : worker thread finished; awaiting finish of 0 more threads\n",
            "2021-08-19 14:54:41,098 : INFO : EPOCH - 53 : training on 87 raw words (25 effective words) took 0.0s, 3261 effective words/s\n",
            "2021-08-19 14:54:41,110 : INFO : worker thread finished; awaiting finish of 0 more threads\n",
            "2021-08-19 14:54:41,111 : INFO : EPOCH - 54 : training on 87 raw words (29 effective words) took 0.0s, 9989 effective words/s\n",
            "2021-08-19 14:54:41,120 : INFO : worker thread finished; awaiting finish of 0 more threads\n",
            "2021-08-19 14:54:41,121 : INFO : EPOCH - 55 : training on 87 raw words (26 effective words) took 0.0s, 9059 effective words/s\n",
            "2021-08-19 14:54:41,130 : INFO : worker thread finished; awaiting finish of 0 more threads\n",
            "2021-08-19 14:54:41,131 : INFO : EPOCH - 56 : training on 87 raw words (25 effective words) took 0.0s, 17559 effective words/s\n",
            "2021-08-19 14:54:41,144 : INFO : worker thread finished; awaiting finish of 0 more threads\n",
            "2021-08-19 14:54:41,146 : INFO : EPOCH - 57 : training on 87 raw words (27 effective words) took 0.0s, 3968 effective words/s\n",
            "2021-08-19 14:54:41,155 : INFO : worker thread finished; awaiting finish of 0 more threads\n",
            "2021-08-19 14:54:41,157 : INFO : EPOCH - 58 : training on 87 raw words (27 effective words) took 0.0s, 5599 effective words/s\n",
            "2021-08-19 14:54:41,167 : INFO : worker thread finished; awaiting finish of 0 more threads\n",
            "2021-08-19 14:54:41,168 : INFO : EPOCH - 59 : training on 87 raw words (26 effective words) took 0.0s, 5551 effective words/s\n",
            "2021-08-19 14:54:41,177 : INFO : worker thread finished; awaiting finish of 0 more threads\n",
            "2021-08-19 14:54:41,179 : INFO : EPOCH - 60 : training on 87 raw words (27 effective words) took 0.0s, 8954 effective words/s\n",
            "2021-08-19 14:54:41,186 : INFO : worker thread finished; awaiting finish of 0 more threads\n",
            "2021-08-19 14:54:41,188 : INFO : EPOCH - 61 : training on 87 raw words (27 effective words) took 0.0s, 10220 effective words/s\n",
            "2021-08-19 14:54:41,195 : INFO : worker thread finished; awaiting finish of 0 more threads\n",
            "2021-08-19 14:54:41,197 : INFO : EPOCH - 62 : training on 87 raw words (27 effective words) took 0.0s, 7578 effective words/s\n",
            "2021-08-19 14:54:41,213 : INFO : worker thread finished; awaiting finish of 0 more threads\n",
            "2021-08-19 14:54:41,215 : INFO : EPOCH - 63 : training on 87 raw words (28 effective words) took 0.0s, 8773 effective words/s\n",
            "2021-08-19 14:54:41,224 : INFO : worker thread finished; awaiting finish of 0 more threads\n",
            "2021-08-19 14:54:41,226 : INFO : EPOCH - 64 : training on 87 raw words (25 effective words) took 0.0s, 8152 effective words/s\n",
            "2021-08-19 14:54:41,231 : INFO : worker thread finished; awaiting finish of 0 more threads\n",
            "2021-08-19 14:54:41,232 : INFO : EPOCH - 65 : training on 87 raw words (25 effective words) took 0.0s, 7728 effective words/s\n",
            "2021-08-19 14:54:41,239 : INFO : worker thread finished; awaiting finish of 0 more threads\n",
            "2021-08-19 14:54:41,241 : INFO : EPOCH - 66 : training on 87 raw words (26 effective words) took 0.0s, 6482 effective words/s\n",
            "2021-08-19 14:54:41,249 : INFO : worker thread finished; awaiting finish of 0 more threads\n",
            "2021-08-19 14:54:41,251 : INFO : EPOCH - 67 : training on 87 raw words (26 effective words) took 0.0s, 5019 effective words/s\n",
            "2021-08-19 14:54:41,267 : INFO : worker thread finished; awaiting finish of 0 more threads\n",
            "2021-08-19 14:54:41,268 : INFO : EPOCH - 68 : training on 87 raw words (26 effective words) took 0.0s, 8426 effective words/s\n",
            "2021-08-19 14:54:41,276 : INFO : worker thread finished; awaiting finish of 0 more threads\n",
            "2021-08-19 14:54:41,277 : INFO : EPOCH - 69 : training on 87 raw words (25 effective words) took 0.0s, 5058 effective words/s\n",
            "2021-08-19 14:54:41,286 : INFO : worker thread finished; awaiting finish of 0 more threads\n",
            "2021-08-19 14:54:41,288 : INFO : EPOCH - 70 : training on 87 raw words (29 effective words) took 0.0s, 6592 effective words/s\n",
            "2021-08-19 14:54:41,295 : INFO : worker thread finished; awaiting finish of 0 more threads\n",
            "2021-08-19 14:54:41,297 : INFO : EPOCH - 71 : training on 87 raw words (26 effective words) took 0.0s, 9880 effective words/s\n",
            "2021-08-19 14:54:41,303 : INFO : worker thread finished; awaiting finish of 0 more threads\n",
            "2021-08-19 14:54:41,305 : INFO : EPOCH - 72 : training on 87 raw words (26 effective words) took 0.0s, 6000 effective words/s\n",
            "2021-08-19 14:54:41,314 : INFO : worker thread finished; awaiting finish of 0 more threads\n",
            "2021-08-19 14:54:41,316 : INFO : EPOCH - 73 : training on 87 raw words (25 effective words) took 0.0s, 8772 effective words/s\n",
            "2021-08-19 14:54:41,322 : INFO : worker thread finished; awaiting finish of 0 more threads\n",
            "2021-08-19 14:54:41,324 : INFO : EPOCH - 74 : training on 87 raw words (32 effective words) took 0.0s, 5629 effective words/s\n",
            "2021-08-19 14:54:41,333 : INFO : worker thread finished; awaiting finish of 0 more threads\n",
            "2021-08-19 14:54:41,334 : INFO : EPOCH - 75 : training on 87 raw words (27 effective words) took 0.0s, 4031 effective words/s\n",
            "2021-08-19 14:54:41,343 : INFO : worker thread finished; awaiting finish of 0 more threads\n",
            "2021-08-19 14:54:41,346 : INFO : EPOCH - 76 : training on 87 raw words (26 effective words) took 0.0s, 4664 effective words/s\n",
            "2021-08-19 14:54:41,354 : INFO : worker thread finished; awaiting finish of 0 more threads\n",
            "2021-08-19 14:54:41,356 : INFO : EPOCH - 77 : training on 87 raw words (26 effective words) took 0.0s, 5817 effective words/s\n",
            "2021-08-19 14:54:41,363 : INFO : worker thread finished; awaiting finish of 0 more threads\n",
            "2021-08-19 14:54:41,365 : INFO : EPOCH - 78 : training on 87 raw words (25 effective words) took 0.0s, 9275 effective words/s\n",
            "2021-08-19 14:54:41,375 : INFO : worker thread finished; awaiting finish of 0 more threads\n",
            "2021-08-19 14:54:41,377 : INFO : EPOCH - 79 : training on 87 raw words (28 effective words) took 0.0s, 4511 effective words/s\n",
            "2021-08-19 14:54:41,387 : INFO : worker thread finished; awaiting finish of 0 more threads\n",
            "2021-08-19 14:54:41,388 : INFO : EPOCH - 80 : training on 87 raw words (27 effective words) took 0.0s, 6186 effective words/s\n",
            "2021-08-19 14:54:41,396 : INFO : worker thread finished; awaiting finish of 0 more threads\n",
            "2021-08-19 14:54:41,397 : INFO : EPOCH - 81 : training on 87 raw words (31 effective words) took 0.0s, 7437 effective words/s\n",
            "2021-08-19 14:54:41,404 : INFO : worker thread finished; awaiting finish of 0 more threads\n",
            "2021-08-19 14:54:41,406 : INFO : EPOCH - 82 : training on 87 raw words (26 effective words) took 0.0s, 6930 effective words/s\n",
            "2021-08-19 14:54:41,415 : INFO : worker thread finished; awaiting finish of 0 more threads\n",
            "2021-08-19 14:54:41,416 : INFO : EPOCH - 83 : training on 87 raw words (25 effective words) took 0.0s, 4566 effective words/s\n",
            "2021-08-19 14:54:41,422 : INFO : worker thread finished; awaiting finish of 0 more threads\n",
            "2021-08-19 14:54:41,424 : INFO : EPOCH - 84 : training on 87 raw words (26 effective words) took 0.0s, 8052 effective words/s\n",
            "2021-08-19 14:54:41,435 : INFO : worker thread finished; awaiting finish of 0 more threads\n",
            "2021-08-19 14:54:41,437 : INFO : EPOCH - 85 : training on 87 raw words (27 effective words) took 0.0s, 8606 effective words/s\n",
            "2021-08-19 14:54:41,445 : INFO : worker thread finished; awaiting finish of 0 more threads\n",
            "2021-08-19 14:54:41,446 : INFO : EPOCH - 86 : training on 87 raw words (28 effective words) took 0.0s, 9592 effective words/s\n",
            "2021-08-19 14:54:41,454 : INFO : worker thread finished; awaiting finish of 0 more threads\n",
            "2021-08-19 14:54:41,455 : INFO : EPOCH - 87 : training on 87 raw words (26 effective words) took 0.0s, 11575 effective words/s\n",
            "2021-08-19 14:54:41,463 : INFO : worker thread finished; awaiting finish of 0 more threads\n",
            "2021-08-19 14:54:41,464 : INFO : EPOCH - 88 : training on 87 raw words (30 effective words) took 0.0s, 12220 effective words/s\n",
            "2021-08-19 14:54:41,473 : INFO : worker thread finished; awaiting finish of 0 more threads\n",
            "2021-08-19 14:54:41,474 : INFO : EPOCH - 89 : training on 87 raw words (26 effective words) took 0.0s, 10334 effective words/s\n",
            "2021-08-19 14:54:41,481 : INFO : worker thread finished; awaiting finish of 0 more threads\n",
            "2021-08-19 14:54:41,483 : INFO : EPOCH - 90 : training on 87 raw words (27 effective words) took 0.0s, 6239 effective words/s\n",
            "2021-08-19 14:54:41,490 : INFO : worker thread finished; awaiting finish of 0 more threads\n",
            "2021-08-19 14:54:41,492 : INFO : EPOCH - 91 : training on 87 raw words (24 effective words) took 0.0s, 4472 effective words/s\n",
            "2021-08-19 14:54:41,499 : INFO : worker thread finished; awaiting finish of 0 more threads\n",
            "2021-08-19 14:54:41,501 : INFO : EPOCH - 92 : training on 87 raw words (28 effective words) took 0.0s, 6665 effective words/s\n",
            "2021-08-19 14:54:41,510 : INFO : worker thread finished; awaiting finish of 0 more threads\n",
            "2021-08-19 14:54:41,512 : INFO : EPOCH - 93 : training on 87 raw words (29 effective words) took 0.0s, 8771 effective words/s\n",
            "2021-08-19 14:54:41,519 : INFO : worker thread finished; awaiting finish of 0 more threads\n",
            "2021-08-19 14:54:41,521 : INFO : EPOCH - 94 : training on 87 raw words (26 effective words) took 0.0s, 8487 effective words/s\n",
            "2021-08-19 14:54:41,529 : INFO : worker thread finished; awaiting finish of 0 more threads\n",
            "2021-08-19 14:54:41,530 : INFO : EPOCH - 95 : training on 87 raw words (28 effective words) took 0.0s, 10146 effective words/s\n",
            "2021-08-19 14:54:41,538 : INFO : worker thread finished; awaiting finish of 0 more threads\n",
            "2021-08-19 14:54:41,540 : INFO : EPOCH - 96 : training on 87 raw words (25 effective words) took 0.0s, 7072 effective words/s\n",
            "2021-08-19 14:54:41,549 : INFO : worker thread finished; awaiting finish of 0 more threads\n",
            "2021-08-19 14:54:41,550 : INFO : EPOCH - 97 : training on 87 raw words (26 effective words) took 0.0s, 4171 effective words/s\n",
            "2021-08-19 14:54:41,559 : INFO : worker thread finished; awaiting finish of 0 more threads\n",
            "2021-08-19 14:54:41,561 : INFO : EPOCH - 98 : training on 87 raw words (26 effective words) took 0.0s, 9427 effective words/s\n",
            "2021-08-19 14:54:41,568 : INFO : worker thread finished; awaiting finish of 0 more threads\n",
            "2021-08-19 14:54:41,570 : INFO : EPOCH - 99 : training on 87 raw words (26 effective words) took 0.0s, 4740 effective words/s\n",
            "2021-08-19 14:54:41,577 : INFO : worker thread finished; awaiting finish of 0 more threads\n",
            "2021-08-19 14:54:41,579 : INFO : EPOCH - 100 : training on 87 raw words (28 effective words) took 0.0s, 6087 effective words/s\n",
            "2021-08-19 14:54:41,580 : INFO : training on a 8700 raw words (2628 effective words) took 1.0s, 2599 effective words/s\n",
            "2021-08-19 14:54:41,583 : INFO : saving Doc2Vec object under Freelancers, separately None\n",
            "2021-08-19 14:54:41,589 : INFO : saved Freelancers\n"
          ],
          "name": "stderr"
        }
      ]
    },
    {
      "cell_type": "code",
      "metadata": {
        "id": "ziREV_9bzEQX",
        "colab": {
          "base_uri": "https://localhost:8080/"
        },
        "outputId": "307bd973-2504-4bfd-96e9-2568ddc3e8b8"
      },
      "source": [
        "#input corpus\n",
        "train_corpus = \"/content/freelancers-documents/Freelancers/SEO_1.txt\"\n",
        "\n",
        "#output model\n",
        "saved_path = \"Freelancers\"\n",
        "\n",
        "#enable logging\n",
        "logging.basicConfig(format='%(asctime)s : %(levelname)s : %(message)s', level=logging.INFO)\n",
        "\n",
        "#train doc2vec model\n",
        "docs = g.doc2vec.TaggedLineDocument(train_corpus)\n",
        "model = g.Doc2Vec(docs, size=vector_size, window=window_size, min_count=min_count, sample=sampling_threshold, workers=worker_count, hs=0, dm=dm, negative=negative_size, dbow_words=1, dm_concat=1, iter=train_epoch)\n",
        "\n",
        "#save model\n",
        "model.save(saved_path)"
      ],
      "execution_count": 73,
      "outputs": [
        {
          "output_type": "stream",
          "text": [
            "/usr/local/lib/python3.7/dist-packages/gensim/models/doc2vec.py:566: UserWarning: The parameter `iter` is deprecated, will be removed in 4.0.0, use `epochs` instead.\n",
            "  warnings.warn(\"The parameter `iter` is deprecated, will be removed in 4.0.0, use `epochs` instead.\")\n",
            "/usr/local/lib/python3.7/dist-packages/gensim/models/doc2vec.py:570: UserWarning: The parameter `size` is deprecated, will be removed in 4.0.0, use `vector_size` instead.\n",
            "  warnings.warn(\"The parameter `size` is deprecated, will be removed in 4.0.0, use `vector_size` instead.\")\n",
            "2021-08-19 14:54:41,614 : INFO : collecting all words and their counts\n",
            "2021-08-19 14:54:41,616 : INFO : PROGRESS: at example #0, processed 0 words (0/s), 0 word types, 0 tags\n",
            "2021-08-19 14:54:41,619 : INFO : collected 184 word types and 20 unique tags from a corpus of 20 examples and 216 words\n",
            "2021-08-19 14:54:41,621 : INFO : Loading a fresh vocabulary\n",
            "2021-08-19 14:54:41,623 : INFO : effective_min_count=1 retains 184 unique words (100% of original 184, drops 0)\n",
            "2021-08-19 14:54:41,625 : INFO : effective_min_count=1 leaves 216 word corpus (100% of original 216, drops 0)\n",
            "2021-08-19 14:54:41,628 : INFO : deleting the raw counts dictionary of 184 items\n",
            "2021-08-19 14:54:41,630 : INFO : sample=1e-05 downsamples 184 most-common words\n",
            "2021-08-19 14:54:41,632 : INFO : downsampling leaves estimated 9 word corpus (4.4% of prior 216)\n",
            "2021-08-19 14:54:41,634 : INFO : estimated required memory for 184 words and 300 dimensions: 557600 bytes\n",
            "2021-08-19 14:54:41,636 : INFO : resetting layer weights\n",
            "2021-08-19 14:54:41,713 : INFO : training model with 1 workers on 185 vocabulary and 300 features, using sg=1 hs=0 sample=1e-05 negative=5 window=15\n",
            "2021-08-19 14:54:41,721 : INFO : worker thread finished; awaiting finish of 0 more threads\n",
            "2021-08-19 14:54:41,723 : INFO : EPOCH - 1 : training on 216 raw words (30 effective words) took 0.0s, 8696 effective words/s\n",
            "2021-08-19 14:54:41,735 : INFO : worker thread finished; awaiting finish of 0 more threads\n",
            "2021-08-19 14:54:41,739 : INFO : EPOCH - 2 : training on 216 raw words (26 effective words) took 0.0s, 4758 effective words/s\n",
            "2021-08-19 14:54:41,749 : INFO : worker thread finished; awaiting finish of 0 more threads\n",
            "2021-08-19 14:54:41,750 : INFO : EPOCH - 3 : training on 216 raw words (31 effective words) took 0.0s, 10411 effective words/s\n",
            "2021-08-19 14:54:41,759 : INFO : worker thread finished; awaiting finish of 0 more threads\n",
            "2021-08-19 14:54:41,761 : INFO : EPOCH - 4 : training on 216 raw words (29 effective words) took 0.0s, 4360 effective words/s\n",
            "2021-08-19 14:54:41,769 : INFO : worker thread finished; awaiting finish of 0 more threads\n",
            "2021-08-19 14:54:41,771 : INFO : EPOCH - 5 : training on 216 raw words (34 effective words) took 0.0s, 10948 effective words/s\n",
            "2021-08-19 14:54:41,780 : INFO : worker thread finished; awaiting finish of 0 more threads\n",
            "2021-08-19 14:54:41,782 : INFO : EPOCH - 6 : training on 216 raw words (30 effective words) took 0.0s, 8073 effective words/s\n",
            "2021-08-19 14:54:41,789 : INFO : worker thread finished; awaiting finish of 0 more threads\n",
            "2021-08-19 14:54:41,791 : INFO : EPOCH - 7 : training on 216 raw words (29 effective words) took 0.0s, 8898 effective words/s\n",
            "2021-08-19 14:54:41,798 : INFO : worker thread finished; awaiting finish of 0 more threads\n",
            "2021-08-19 14:54:41,800 : INFO : EPOCH - 8 : training on 216 raw words (33 effective words) took 0.0s, 11404 effective words/s\n",
            "2021-08-19 14:54:41,806 : INFO : worker thread finished; awaiting finish of 0 more threads\n",
            "2021-08-19 14:54:41,809 : INFO : EPOCH - 9 : training on 216 raw words (28 effective words) took 0.0s, 5529 effective words/s\n",
            "2021-08-19 14:54:41,815 : INFO : worker thread finished; awaiting finish of 0 more threads\n",
            "2021-08-19 14:54:41,817 : INFO : EPOCH - 10 : training on 216 raw words (22 effective words) took 0.0s, 5074 effective words/s\n",
            "2021-08-19 14:54:41,824 : INFO : worker thread finished; awaiting finish of 0 more threads\n",
            "2021-08-19 14:54:41,826 : INFO : EPOCH - 11 : training on 216 raw words (27 effective words) took 0.0s, 6546 effective words/s\n",
            "2021-08-19 14:54:41,835 : INFO : worker thread finished; awaiting finish of 0 more threads\n",
            "2021-08-19 14:54:41,837 : INFO : EPOCH - 12 : training on 216 raw words (28 effective words) took 0.0s, 8119 effective words/s\n",
            "2021-08-19 14:54:41,845 : INFO : worker thread finished; awaiting finish of 0 more threads\n",
            "2021-08-19 14:54:41,847 : INFO : EPOCH - 13 : training on 216 raw words (28 effective words) took 0.0s, 6458 effective words/s\n",
            "2021-08-19 14:54:41,856 : INFO : worker thread finished; awaiting finish of 0 more threads\n",
            "2021-08-19 14:54:41,857 : INFO : EPOCH - 14 : training on 216 raw words (36 effective words) took 0.0s, 9589 effective words/s\n",
            "2021-08-19 14:54:41,868 : INFO : worker thread finished; awaiting finish of 0 more threads\n",
            "2021-08-19 14:54:41,870 : INFO : EPOCH - 15 : training on 216 raw words (28 effective words) took 0.0s, 5668 effective words/s\n",
            "2021-08-19 14:54:41,876 : INFO : worker thread finished; awaiting finish of 0 more threads\n",
            "2021-08-19 14:54:41,878 : INFO : EPOCH - 16 : training on 216 raw words (28 effective words) took 0.0s, 7361 effective words/s\n",
            "2021-08-19 14:54:41,885 : INFO : worker thread finished; awaiting finish of 0 more threads\n",
            "2021-08-19 14:54:41,887 : INFO : EPOCH - 17 : training on 216 raw words (29 effective words) took 0.0s, 9801 effective words/s\n",
            "2021-08-19 14:54:41,894 : INFO : worker thread finished; awaiting finish of 0 more threads\n",
            "2021-08-19 14:54:41,895 : INFO : EPOCH - 18 : training on 216 raw words (28 effective words) took 0.0s, 9281 effective words/s\n",
            "2021-08-19 14:54:41,902 : INFO : worker thread finished; awaiting finish of 0 more threads\n",
            "2021-08-19 14:54:41,905 : INFO : EPOCH - 19 : training on 216 raw words (30 effective words) took 0.0s, 7745 effective words/s\n",
            "2021-08-19 14:54:41,914 : INFO : worker thread finished; awaiting finish of 0 more threads\n",
            "2021-08-19 14:54:41,916 : INFO : EPOCH - 20 : training on 216 raw words (27 effective words) took 0.0s, 8049 effective words/s\n",
            "2021-08-19 14:54:41,924 : INFO : worker thread finished; awaiting finish of 0 more threads\n",
            "2021-08-19 14:54:41,925 : INFO : EPOCH - 21 : training on 216 raw words (27 effective words) took 0.0s, 10888 effective words/s\n",
            "2021-08-19 14:54:41,932 : INFO : worker thread finished; awaiting finish of 0 more threads\n",
            "2021-08-19 14:54:41,933 : INFO : EPOCH - 22 : training on 216 raw words (30 effective words) took 0.0s, 7267 effective words/s\n",
            "2021-08-19 14:54:41,941 : INFO : worker thread finished; awaiting finish of 0 more threads\n",
            "2021-08-19 14:54:41,943 : INFO : EPOCH - 23 : training on 216 raw words (30 effective words) took 0.0s, 10599 effective words/s\n",
            "2021-08-19 14:54:41,950 : INFO : worker thread finished; awaiting finish of 0 more threads\n",
            "2021-08-19 14:54:41,951 : INFO : EPOCH - 24 : training on 216 raw words (28 effective words) took 0.0s, 10209 effective words/s\n",
            "2021-08-19 14:54:41,958 : INFO : worker thread finished; awaiting finish of 0 more threads\n",
            "2021-08-19 14:54:41,959 : INFO : EPOCH - 25 : training on 216 raw words (23 effective words) took 0.0s, 6252 effective words/s\n",
            "2021-08-19 14:54:41,966 : INFO : worker thread finished; awaiting finish of 0 more threads\n",
            "2021-08-19 14:54:41,968 : INFO : EPOCH - 26 : training on 216 raw words (30 effective words) took 0.0s, 7663 effective words/s\n",
            "2021-08-19 14:54:41,974 : INFO : worker thread finished; awaiting finish of 0 more threads\n",
            "2021-08-19 14:54:41,975 : INFO : EPOCH - 27 : training on 216 raw words (34 effective words) took 0.0s, 6498 effective words/s\n",
            "2021-08-19 14:54:41,983 : INFO : worker thread finished; awaiting finish of 0 more threads\n",
            "2021-08-19 14:54:41,985 : INFO : EPOCH - 28 : training on 216 raw words (26 effective words) took 0.0s, 3489 effective words/s\n",
            "2021-08-19 14:54:41,996 : INFO : worker thread finished; awaiting finish of 0 more threads\n",
            "2021-08-19 14:54:41,998 : INFO : EPOCH - 29 : training on 216 raw words (27 effective words) took 0.0s, 3048 effective words/s\n",
            "2021-08-19 14:54:42,007 : INFO : worker thread finished; awaiting finish of 0 more threads\n",
            "2021-08-19 14:54:42,009 : INFO : EPOCH - 30 : training on 216 raw words (28 effective words) took 0.0s, 5626 effective words/s\n",
            "2021-08-19 14:54:42,015 : INFO : worker thread finished; awaiting finish of 0 more threads\n",
            "2021-08-19 14:54:42,017 : INFO : EPOCH - 31 : training on 216 raw words (30 effective words) took 0.0s, 6615 effective words/s\n",
            "2021-08-19 14:54:42,024 : INFO : worker thread finished; awaiting finish of 0 more threads\n",
            "2021-08-19 14:54:42,026 : INFO : EPOCH - 32 : training on 216 raw words (28 effective words) took 0.0s, 7125 effective words/s\n",
            "2021-08-19 14:54:42,032 : INFO : worker thread finished; awaiting finish of 0 more threads\n",
            "2021-08-19 14:54:42,034 : INFO : EPOCH - 33 : training on 216 raw words (26 effective words) took 0.0s, 7464 effective words/s\n",
            "2021-08-19 14:54:42,040 : INFO : worker thread finished; awaiting finish of 0 more threads\n",
            "2021-08-19 14:54:42,042 : INFO : EPOCH - 34 : training on 216 raw words (27 effective words) took 0.0s, 6173 effective words/s\n",
            "2021-08-19 14:54:42,047 : INFO : worker thread finished; awaiting finish of 0 more threads\n",
            "2021-08-19 14:54:42,049 : INFO : EPOCH - 35 : training on 216 raw words (30 effective words) took 0.0s, 8527 effective words/s\n",
            "2021-08-19 14:54:42,054 : INFO : worker thread finished; awaiting finish of 0 more threads\n",
            "2021-08-19 14:54:42,055 : INFO : EPOCH - 36 : training on 216 raw words (32 effective words) took 0.0s, 9497 effective words/s\n",
            "2021-08-19 14:54:42,060 : INFO : worker thread finished; awaiting finish of 0 more threads\n",
            "2021-08-19 14:54:42,062 : INFO : EPOCH - 37 : training on 216 raw words (27 effective words) took 0.0s, 7097 effective words/s\n",
            "2021-08-19 14:54:42,070 : INFO : worker thread finished; awaiting finish of 0 more threads\n",
            "2021-08-19 14:54:42,073 : INFO : EPOCH - 38 : training on 216 raw words (29 effective words) took 0.0s, 5852 effective words/s\n",
            "2021-08-19 14:54:42,088 : INFO : worker thread finished; awaiting finish of 0 more threads\n",
            "2021-08-19 14:54:42,089 : INFO : EPOCH - 39 : training on 216 raw words (32 effective words) took 0.0s, 8066 effective words/s\n",
            "2021-08-19 14:54:42,099 : INFO : worker thread finished; awaiting finish of 0 more threads\n",
            "2021-08-19 14:54:42,101 : INFO : EPOCH - 40 : training on 216 raw words (36 effective words) took 0.0s, 8120 effective words/s\n",
            "2021-08-19 14:54:42,108 : INFO : worker thread finished; awaiting finish of 0 more threads\n",
            "2021-08-19 14:54:42,110 : INFO : EPOCH - 41 : training on 216 raw words (37 effective words) took 0.0s, 7845 effective words/s\n",
            "2021-08-19 14:54:42,119 : INFO : worker thread finished; awaiting finish of 0 more threads\n",
            "2021-08-19 14:54:42,122 : INFO : EPOCH - 42 : training on 216 raw words (29 effective words) took 0.0s, 6475 effective words/s\n",
            "2021-08-19 14:54:42,130 : INFO : worker thread finished; awaiting finish of 0 more threads\n",
            "2021-08-19 14:54:42,131 : INFO : EPOCH - 43 : training on 216 raw words (33 effective words) took 0.0s, 8977 effective words/s\n",
            "2021-08-19 14:54:42,139 : INFO : worker thread finished; awaiting finish of 0 more threads\n",
            "2021-08-19 14:54:42,141 : INFO : EPOCH - 44 : training on 216 raw words (33 effective words) took 0.0s, 6530 effective words/s\n",
            "2021-08-19 14:54:42,148 : INFO : worker thread finished; awaiting finish of 0 more threads\n",
            "2021-08-19 14:54:42,150 : INFO : EPOCH - 45 : training on 216 raw words (32 effective words) took 0.0s, 7273 effective words/s\n",
            "2021-08-19 14:54:42,157 : INFO : worker thread finished; awaiting finish of 0 more threads\n",
            "2021-08-19 14:54:42,159 : INFO : EPOCH - 46 : training on 216 raw words (29 effective words) took 0.0s, 6721 effective words/s\n",
            "2021-08-19 14:54:42,167 : INFO : worker thread finished; awaiting finish of 0 more threads\n",
            "2021-08-19 14:54:42,169 : INFO : EPOCH - 47 : training on 216 raw words (30 effective words) took 0.0s, 9588 effective words/s\n",
            "2021-08-19 14:54:42,177 : INFO : worker thread finished; awaiting finish of 0 more threads\n",
            "2021-08-19 14:54:42,178 : INFO : EPOCH - 48 : training on 216 raw words (29 effective words) took 0.0s, 8428 effective words/s\n",
            "2021-08-19 14:54:42,184 : INFO : worker thread finished; awaiting finish of 0 more threads\n",
            "2021-08-19 14:54:42,186 : INFO : EPOCH - 49 : training on 216 raw words (30 effective words) took 0.0s, 5318 effective words/s\n",
            "2021-08-19 14:54:42,193 : INFO : worker thread finished; awaiting finish of 0 more threads\n",
            "2021-08-19 14:54:42,194 : INFO : EPOCH - 50 : training on 216 raw words (36 effective words) took 0.0s, 8825 effective words/s\n",
            "2021-08-19 14:54:42,201 : INFO : worker thread finished; awaiting finish of 0 more threads\n",
            "2021-08-19 14:54:42,203 : INFO : EPOCH - 51 : training on 216 raw words (27 effective words) took 0.0s, 6382 effective words/s\n",
            "2021-08-19 14:54:42,209 : INFO : worker thread finished; awaiting finish of 0 more threads\n",
            "2021-08-19 14:54:42,212 : INFO : EPOCH - 52 : training on 216 raw words (29 effective words) took 0.0s, 5763 effective words/s\n",
            "2021-08-19 14:54:42,225 : INFO : worker thread finished; awaiting finish of 0 more threads\n",
            "2021-08-19 14:54:42,228 : INFO : EPOCH - 53 : training on 216 raw words (27 effective words) took 0.0s, 4932 effective words/s\n",
            "2021-08-19 14:54:42,236 : INFO : worker thread finished; awaiting finish of 0 more threads\n",
            "2021-08-19 14:54:42,238 : INFO : EPOCH - 54 : training on 216 raw words (33 effective words) took 0.0s, 10078 effective words/s\n",
            "2021-08-19 14:54:42,246 : INFO : worker thread finished; awaiting finish of 0 more threads\n",
            "2021-08-19 14:54:42,248 : INFO : EPOCH - 55 : training on 216 raw words (27 effective words) took 0.0s, 6942 effective words/s\n",
            "2021-08-19 14:54:42,256 : INFO : worker thread finished; awaiting finish of 0 more threads\n",
            "2021-08-19 14:54:42,258 : INFO : EPOCH - 56 : training on 216 raw words (28 effective words) took 0.0s, 8901 effective words/s\n",
            "2021-08-19 14:54:42,273 : INFO : worker thread finished; awaiting finish of 0 more threads\n",
            "2021-08-19 14:54:42,274 : INFO : EPOCH - 57 : training on 216 raw words (30 effective words) took 0.0s, 6522 effective words/s\n",
            "2021-08-19 14:54:42,281 : INFO : worker thread finished; awaiting finish of 0 more threads\n",
            "2021-08-19 14:54:42,283 : INFO : EPOCH - 58 : training on 216 raw words (29 effective words) took 0.0s, 6290 effective words/s\n",
            "2021-08-19 14:54:42,290 : INFO : worker thread finished; awaiting finish of 0 more threads\n",
            "2021-08-19 14:54:42,292 : INFO : EPOCH - 59 : training on 216 raw words (29 effective words) took 0.0s, 9418 effective words/s\n",
            "2021-08-19 14:54:42,301 : INFO : worker thread finished; awaiting finish of 0 more threads\n",
            "2021-08-19 14:54:42,304 : INFO : EPOCH - 60 : training on 216 raw words (29 effective words) took 0.0s, 3744 effective words/s\n",
            "2021-08-19 14:54:42,316 : INFO : worker thread finished; awaiting finish of 0 more threads\n",
            "2021-08-19 14:54:42,317 : INFO : EPOCH - 61 : training on 216 raw words (34 effective words) took 0.0s, 4965 effective words/s\n",
            "2021-08-19 14:54:42,327 : INFO : worker thread finished; awaiting finish of 0 more threads\n",
            "2021-08-19 14:54:42,329 : INFO : EPOCH - 62 : training on 216 raw words (35 effective words) took 0.0s, 12768 effective words/s\n",
            "2021-08-19 14:54:42,336 : INFO : worker thread finished; awaiting finish of 0 more threads\n",
            "2021-08-19 14:54:42,338 : INFO : EPOCH - 63 : training on 216 raw words (37 effective words) took 0.0s, 11990 effective words/s\n",
            "2021-08-19 14:54:42,346 : INFO : worker thread finished; awaiting finish of 0 more threads\n",
            "2021-08-19 14:54:42,347 : INFO : EPOCH - 64 : training on 216 raw words (30 effective words) took 0.0s, 11730 effective words/s\n",
            "2021-08-19 14:54:42,355 : INFO : worker thread finished; awaiting finish of 0 more threads\n",
            "2021-08-19 14:54:42,356 : INFO : EPOCH - 65 : training on 216 raw words (28 effective words) took 0.0s, 5082 effective words/s\n",
            "2021-08-19 14:54:42,365 : INFO : worker thread finished; awaiting finish of 0 more threads\n",
            "2021-08-19 14:54:42,367 : INFO : EPOCH - 66 : training on 216 raw words (28 effective words) took 0.0s, 5671 effective words/s\n",
            "2021-08-19 14:54:42,373 : INFO : worker thread finished; awaiting finish of 0 more threads\n",
            "2021-08-19 14:54:42,375 : INFO : EPOCH - 67 : training on 216 raw words (28 effective words) took 0.0s, 11007 effective words/s\n",
            "2021-08-19 14:54:42,383 : INFO : worker thread finished; awaiting finish of 0 more threads\n",
            "2021-08-19 14:54:42,384 : INFO : EPOCH - 68 : training on 216 raw words (29 effective words) took 0.0s, 11641 effective words/s\n",
            "2021-08-19 14:54:42,392 : INFO : worker thread finished; awaiting finish of 0 more threads\n",
            "2021-08-19 14:54:42,393 : INFO : EPOCH - 69 : training on 216 raw words (26 effective words) took 0.0s, 7761 effective words/s\n",
            "2021-08-19 14:54:42,399 : INFO : worker thread finished; awaiting finish of 0 more threads\n",
            "2021-08-19 14:54:42,401 : INFO : EPOCH - 70 : training on 216 raw words (30 effective words) took 0.0s, 7361 effective words/s\n",
            "2021-08-19 14:54:42,407 : INFO : worker thread finished; awaiting finish of 0 more threads\n",
            "2021-08-19 14:54:42,409 : INFO : EPOCH - 71 : training on 216 raw words (30 effective words) took 0.0s, 7662 effective words/s\n",
            "2021-08-19 14:54:42,415 : INFO : worker thread finished; awaiting finish of 0 more threads\n",
            "2021-08-19 14:54:42,418 : INFO : EPOCH - 72 : training on 216 raw words (31 effective words) took 0.0s, 6462 effective words/s\n",
            "2021-08-19 14:54:42,427 : INFO : worker thread finished; awaiting finish of 0 more threads\n",
            "2021-08-19 14:54:42,429 : INFO : EPOCH - 73 : training on 216 raw words (32 effective words) took 0.0s, 8583 effective words/s\n",
            "2021-08-19 14:54:42,437 : INFO : worker thread finished; awaiting finish of 0 more threads\n",
            "2021-08-19 14:54:42,439 : INFO : EPOCH - 74 : training on 216 raw words (32 effective words) took 0.0s, 4458 effective words/s\n",
            "2021-08-19 14:54:42,445 : INFO : worker thread finished; awaiting finish of 0 more threads\n",
            "2021-08-19 14:54:42,446 : INFO : EPOCH - 75 : training on 216 raw words (24 effective words) took 0.0s, 7040 effective words/s\n",
            "2021-08-19 14:54:42,453 : INFO : worker thread finished; awaiting finish of 0 more threads\n",
            "2021-08-19 14:54:42,456 : INFO : EPOCH - 76 : training on 216 raw words (28 effective words) took 0.0s, 6337 effective words/s\n",
            "2021-08-19 14:54:42,463 : INFO : worker thread finished; awaiting finish of 0 more threads\n",
            "2021-08-19 14:54:42,465 : INFO : EPOCH - 77 : training on 216 raw words (28 effective words) took 0.0s, 6066 effective words/s\n",
            "2021-08-19 14:54:42,473 : INFO : worker thread finished; awaiting finish of 0 more threads\n",
            "2021-08-19 14:54:42,475 : INFO : EPOCH - 78 : training on 216 raw words (27 effective words) took 0.0s, 6449 effective words/s\n",
            "2021-08-19 14:54:42,481 : INFO : worker thread finished; awaiting finish of 0 more threads\n",
            "2021-08-19 14:54:42,483 : INFO : EPOCH - 79 : training on 216 raw words (27 effective words) took 0.0s, 6129 effective words/s\n",
            "2021-08-19 14:54:42,489 : INFO : worker thread finished; awaiting finish of 0 more threads\n",
            "2021-08-19 14:54:42,491 : INFO : EPOCH - 80 : training on 216 raw words (31 effective words) took 0.0s, 7099 effective words/s\n",
            "2021-08-19 14:54:42,499 : INFO : worker thread finished; awaiting finish of 0 more threads\n",
            "2021-08-19 14:54:42,501 : INFO : EPOCH - 81 : training on 216 raw words (28 effective words) took 0.0s, 5910 effective words/s\n",
            "2021-08-19 14:54:42,518 : INFO : worker thread finished; awaiting finish of 0 more threads\n",
            "2021-08-19 14:54:42,519 : INFO : EPOCH - 82 : training on 216 raw words (35 effective words) took 0.0s, 3425 effective words/s\n",
            "2021-08-19 14:54:42,531 : INFO : worker thread finished; awaiting finish of 0 more threads\n",
            "2021-08-19 14:54:42,532 : INFO : EPOCH - 83 : training on 216 raw words (23 effective words) took 0.0s, 7354 effective words/s\n",
            "2021-08-19 14:54:42,542 : INFO : worker thread finished; awaiting finish of 0 more threads\n",
            "2021-08-19 14:54:42,544 : INFO : EPOCH - 84 : training on 216 raw words (31 effective words) took 0.0s, 9109 effective words/s\n",
            "2021-08-19 14:54:42,554 : INFO : worker thread finished; awaiting finish of 0 more threads\n",
            "2021-08-19 14:54:42,556 : INFO : EPOCH - 85 : training on 216 raw words (33 effective words) took 0.0s, 7833 effective words/s\n",
            "2021-08-19 14:54:42,569 : INFO : worker thread finished; awaiting finish of 0 more threads\n",
            "2021-08-19 14:54:42,572 : INFO : EPOCH - 86 : training on 216 raw words (35 effective words) took 0.0s, 7532 effective words/s\n",
            "2021-08-19 14:54:42,577 : INFO : worker thread finished; awaiting finish of 0 more threads\n",
            "2021-08-19 14:54:42,580 : INFO : EPOCH - 87 : training on 216 raw words (29 effective words) took 0.0s, 6764 effective words/s\n",
            "2021-08-19 14:54:42,604 : INFO : worker thread finished; awaiting finish of 0 more threads\n",
            "2021-08-19 14:54:42,606 : INFO : EPOCH - 88 : training on 216 raw words (34 effective words) took 0.0s, 6152 effective words/s\n",
            "2021-08-19 14:54:42,615 : INFO : worker thread finished; awaiting finish of 0 more threads\n",
            "2021-08-19 14:54:42,617 : INFO : EPOCH - 89 : training on 216 raw words (30 effective words) took 0.0s, 8310 effective words/s\n",
            "2021-08-19 14:54:42,625 : INFO : worker thread finished; awaiting finish of 0 more threads\n",
            "2021-08-19 14:54:42,627 : INFO : EPOCH - 90 : training on 216 raw words (34 effective words) took 0.0s, 9053 effective words/s\n",
            "2021-08-19 14:54:42,635 : INFO : worker thread finished; awaiting finish of 0 more threads\n",
            "2021-08-19 14:54:42,636 : INFO : EPOCH - 91 : training on 216 raw words (31 effective words) took 0.0s, 8786 effective words/s\n",
            "2021-08-19 14:54:42,644 : INFO : worker thread finished; awaiting finish of 0 more threads\n",
            "2021-08-19 14:54:42,646 : INFO : EPOCH - 92 : training on 216 raw words (25 effective words) took 0.0s, 8475 effective words/s\n",
            "2021-08-19 14:54:42,652 : INFO : worker thread finished; awaiting finish of 0 more threads\n",
            "2021-08-19 14:54:42,656 : INFO : EPOCH - 93 : training on 216 raw words (28 effective words) took 0.0s, 5600 effective words/s\n",
            "2021-08-19 14:54:42,662 : INFO : worker thread finished; awaiting finish of 0 more threads\n",
            "2021-08-19 14:54:42,665 : INFO : EPOCH - 94 : training on 216 raw words (30 effective words) took 0.0s, 6045 effective words/s\n",
            "2021-08-19 14:54:42,672 : INFO : worker thread finished; awaiting finish of 0 more threads\n",
            "2021-08-19 14:54:42,673 : INFO : EPOCH - 95 : training on 216 raw words (32 effective words) took 0.0s, 8378 effective words/s\n",
            "2021-08-19 14:54:42,679 : INFO : worker thread finished; awaiting finish of 0 more threads\n",
            "2021-08-19 14:54:42,682 : INFO : EPOCH - 96 : training on 216 raw words (27 effective words) took 0.0s, 6284 effective words/s\n",
            "2021-08-19 14:54:42,689 : INFO : worker thread finished; awaiting finish of 0 more threads\n",
            "2021-08-19 14:54:42,691 : INFO : EPOCH - 97 : training on 216 raw words (35 effective words) took 0.0s, 8462 effective words/s\n",
            "2021-08-19 14:54:42,697 : INFO : worker thread finished; awaiting finish of 0 more threads\n",
            "2021-08-19 14:54:42,699 : INFO : EPOCH - 98 : training on 216 raw words (22 effective words) took 0.0s, 4933 effective words/s\n",
            "2021-08-19 14:54:42,712 : INFO : worker thread finished; awaiting finish of 0 more threads\n",
            "2021-08-19 14:54:42,714 : INFO : EPOCH - 99 : training on 216 raw words (30 effective words) took 0.0s, 10894 effective words/s\n",
            "2021-08-19 14:54:42,721 : INFO : worker thread finished; awaiting finish of 0 more threads\n",
            "2021-08-19 14:54:42,723 : INFO : EPOCH - 100 : training on 216 raw words (26 effective words) took 0.0s, 4065 effective words/s\n",
            "2021-08-19 14:54:42,724 : INFO : training on a 21600 raw words (2960 effective words) took 1.0s, 2932 effective words/s\n",
            "2021-08-19 14:54:42,729 : INFO : saving Doc2Vec object under Freelancers, separately None\n",
            "2021-08-19 14:54:42,740 : INFO : saved Freelancers\n"
          ],
          "name": "stderr"
        }
      ]
    },
    {
      "cell_type": "code",
      "metadata": {
        "id": "p1p-x-bpzDsj",
        "colab": {
          "base_uri": "https://localhost:8080/"
        },
        "outputId": "5760fd04-67be-4b45-919d-eaec7ba2a7ca"
      },
      "source": [
        "#input corpus\n",
        "train_corpus = \"/content/freelancers-documents/Freelancers/WordPress_Dev_1.txt\"\n",
        "\n",
        "#output model\n",
        "saved_path = \"Freelancers\"\n",
        "\n",
        "#enable logging\n",
        "logging.basicConfig(format='%(asctime)s : %(levelname)s : %(message)s', level=logging.INFO)\n",
        "\n",
        "#train doc2vec model\n",
        "docs = g.doc2vec.TaggedLineDocument(train_corpus)\n",
        "model = g.Doc2Vec(docs, size=vector_size, window=window_size, min_count=min_count, sample=sampling_threshold, workers=worker_count, hs=0, dm=dm, negative=negative_size, dbow_words=1, dm_concat=1, iter=train_epoch)\n",
        "\n",
        "#save model\n",
        "model.save(saved_path)"
      ],
      "execution_count": 74,
      "outputs": [
        {
          "output_type": "stream",
          "text": [
            "/usr/local/lib/python3.7/dist-packages/gensim/models/doc2vec.py:566: UserWarning: The parameter `iter` is deprecated, will be removed in 4.0.0, use `epochs` instead.\n",
            "  warnings.warn(\"The parameter `iter` is deprecated, will be removed in 4.0.0, use `epochs` instead.\")\n",
            "/usr/local/lib/python3.7/dist-packages/gensim/models/doc2vec.py:570: UserWarning: The parameter `size` is deprecated, will be removed in 4.0.0, use `vector_size` instead.\n",
            "  warnings.warn(\"The parameter `size` is deprecated, will be removed in 4.0.0, use `vector_size` instead.\")\n",
            "2021-08-19 14:54:42,762 : INFO : collecting all words and their counts\n",
            "2021-08-19 14:54:42,765 : INFO : PROGRESS: at example #0, processed 0 words (0/s), 0 word types, 0 tags\n",
            "2021-08-19 14:54:42,767 : INFO : collected 109 word types and 15 unique tags from a corpus of 15 examples and 121 words\n",
            "2021-08-19 14:54:42,768 : INFO : Loading a fresh vocabulary\n",
            "2021-08-19 14:54:42,770 : INFO : effective_min_count=1 retains 109 unique words (100% of original 109, drops 0)\n",
            "2021-08-19 14:54:42,775 : INFO : effective_min_count=1 leaves 121 word corpus (100% of original 121, drops 0)\n",
            "2021-08-19 14:54:42,779 : INFO : deleting the raw counts dictionary of 109 items\n",
            "2021-08-19 14:54:42,781 : INFO : sample=1e-05 downsamples 109 most-common words\n",
            "2021-08-19 14:54:42,783 : INFO : downsampling leaves estimated 4 word corpus (3.4% of prior 121)\n",
            "2021-08-19 14:54:42,786 : INFO : estimated required memory for 109 words and 300 dimensions: 334100 bytes\n",
            "2021-08-19 14:54:42,789 : INFO : resetting layer weights\n",
            "2021-08-19 14:54:42,845 : INFO : training model with 1 workers on 110 vocabulary and 300 features, using sg=1 hs=0 sample=1e-05 negative=5 window=15\n",
            "2021-08-19 14:54:42,850 : INFO : worker thread finished; awaiting finish of 0 more threads\n",
            "2021-08-19 14:54:42,852 : INFO : EPOCH - 1 : training on 121 raw words (21 effective words) took 0.0s, 5652 effective words/s\n",
            "2021-08-19 14:54:42,859 : INFO : worker thread finished; awaiting finish of 0 more threads\n",
            "2021-08-19 14:54:42,860 : INFO : EPOCH - 2 : training on 121 raw words (19 effective words) took 0.0s, 5727 effective words/s\n",
            "2021-08-19 14:54:42,866 : INFO : worker thread finished; awaiting finish of 0 more threads\n",
            "2021-08-19 14:54:42,868 : INFO : EPOCH - 3 : training on 121 raw words (19 effective words) took 0.0s, 5657 effective words/s\n",
            "2021-08-19 14:54:42,874 : INFO : worker thread finished; awaiting finish of 0 more threads\n",
            "2021-08-19 14:54:42,875 : INFO : EPOCH - 4 : training on 121 raw words (19 effective words) took 0.0s, 7009 effective words/s\n",
            "2021-08-19 14:54:42,883 : INFO : worker thread finished; awaiting finish of 0 more threads\n",
            "2021-08-19 14:54:42,885 : INFO : EPOCH - 5 : training on 121 raw words (17 effective words) took 0.0s, 3387 effective words/s\n",
            "2021-08-19 14:54:42,893 : INFO : worker thread finished; awaiting finish of 0 more threads\n",
            "2021-08-19 14:54:42,894 : INFO : EPOCH - 6 : training on 121 raw words (22 effective words) took 0.0s, 7934 effective words/s\n",
            "2021-08-19 14:54:42,901 : INFO : worker thread finished; awaiting finish of 0 more threads\n",
            "2021-08-19 14:54:42,903 : INFO : EPOCH - 7 : training on 121 raw words (15 effective words) took 0.0s, 5732 effective words/s\n",
            "2021-08-19 14:54:42,910 : INFO : worker thread finished; awaiting finish of 0 more threads\n",
            "2021-08-19 14:54:42,911 : INFO : EPOCH - 8 : training on 121 raw words (23 effective words) took 0.0s, 7127 effective words/s\n",
            "2021-08-19 14:54:42,924 : INFO : worker thread finished; awaiting finish of 0 more threads\n",
            "2021-08-19 14:54:42,927 : INFO : EPOCH - 9 : training on 121 raw words (19 effective words) took 0.0s, 2708 effective words/s\n",
            "2021-08-19 14:54:42,936 : INFO : worker thread finished; awaiting finish of 0 more threads\n",
            "2021-08-19 14:54:42,937 : INFO : EPOCH - 10 : training on 121 raw words (20 effective words) took 0.0s, 6734 effective words/s\n",
            "2021-08-19 14:54:42,941 : INFO : worker thread finished; awaiting finish of 0 more threads\n",
            "2021-08-19 14:54:42,942 : INFO : EPOCH - 11 : training on 121 raw words (22 effective words) took 0.0s, 8880 effective words/s\n",
            "2021-08-19 14:54:42,951 : INFO : worker thread finished; awaiting finish of 0 more threads\n",
            "2021-08-19 14:54:42,952 : INFO : EPOCH - 12 : training on 121 raw words (17 effective words) took 0.0s, 7432 effective words/s\n",
            "2021-08-19 14:54:42,960 : INFO : worker thread finished; awaiting finish of 0 more threads\n",
            "2021-08-19 14:54:42,961 : INFO : EPOCH - 13 : training on 121 raw words (20 effective words) took 0.0s, 9387 effective words/s\n",
            "2021-08-19 14:54:42,967 : INFO : worker thread finished; awaiting finish of 0 more threads\n",
            "2021-08-19 14:54:42,969 : INFO : EPOCH - 14 : training on 121 raw words (18 effective words) took 0.0s, 3724 effective words/s\n",
            "2021-08-19 14:54:42,976 : INFO : worker thread finished; awaiting finish of 0 more threads\n",
            "2021-08-19 14:54:42,978 : INFO : EPOCH - 15 : training on 121 raw words (16 effective words) took 0.0s, 3738 effective words/s\n",
            "2021-08-19 14:54:42,986 : INFO : worker thread finished; awaiting finish of 0 more threads\n",
            "2021-08-19 14:54:42,987 : INFO : EPOCH - 16 : training on 121 raw words (16 effective words) took 0.0s, 7146 effective words/s\n",
            "2021-08-19 14:54:42,994 : INFO : worker thread finished; awaiting finish of 0 more threads\n",
            "2021-08-19 14:54:42,995 : INFO : EPOCH - 17 : training on 121 raw words (18 effective words) took 0.0s, 7967 effective words/s\n",
            "2021-08-19 14:54:43,003 : INFO : worker thread finished; awaiting finish of 0 more threads\n",
            "2021-08-19 14:54:43,004 : INFO : EPOCH - 18 : training on 121 raw words (18 effective words) took 0.0s, 7246 effective words/s\n",
            "2021-08-19 14:54:43,011 : INFO : worker thread finished; awaiting finish of 0 more threads\n",
            "2021-08-19 14:54:43,013 : INFO : EPOCH - 19 : training on 121 raw words (20 effective words) took 0.0s, 8972 effective words/s\n",
            "2021-08-19 14:54:43,021 : INFO : worker thread finished; awaiting finish of 0 more threads\n",
            "2021-08-19 14:54:43,022 : INFO : EPOCH - 20 : training on 121 raw words (20 effective words) took 0.0s, 8040 effective words/s\n",
            "2021-08-19 14:54:43,032 : INFO : worker thread finished; awaiting finish of 0 more threads\n",
            "2021-08-19 14:54:43,035 : INFO : EPOCH - 21 : training on 121 raw words (19 effective words) took 0.0s, 3682 effective words/s\n",
            "2021-08-19 14:54:43,042 : INFO : worker thread finished; awaiting finish of 0 more threads\n",
            "2021-08-19 14:54:43,043 : INFO : EPOCH - 22 : training on 121 raw words (17 effective words) took 0.0s, 7385 effective words/s\n",
            "2021-08-19 14:54:43,051 : INFO : worker thread finished; awaiting finish of 0 more threads\n",
            "2021-08-19 14:54:43,053 : INFO : EPOCH - 23 : training on 121 raw words (17 effective words) took 0.0s, 6366 effective words/s\n",
            "2021-08-19 14:54:43,059 : INFO : worker thread finished; awaiting finish of 0 more threads\n",
            "2021-08-19 14:54:43,061 : INFO : EPOCH - 24 : training on 121 raw words (18 effective words) took 0.0s, 4593 effective words/s\n",
            "2021-08-19 14:54:43,067 : INFO : worker thread finished; awaiting finish of 0 more threads\n",
            "2021-08-19 14:54:43,068 : INFO : EPOCH - 25 : training on 121 raw words (21 effective words) took 0.0s, 5720 effective words/s\n",
            "2021-08-19 14:54:43,076 : INFO : worker thread finished; awaiting finish of 0 more threads\n",
            "2021-08-19 14:54:43,079 : INFO : EPOCH - 26 : training on 121 raw words (17 effective words) took 0.0s, 3021 effective words/s\n",
            "2021-08-19 14:54:43,087 : INFO : worker thread finished; awaiting finish of 0 more threads\n",
            "2021-08-19 14:54:43,088 : INFO : EPOCH - 27 : training on 121 raw words (18 effective words) took 0.0s, 5380 effective words/s\n",
            "2021-08-19 14:54:43,096 : INFO : worker thread finished; awaiting finish of 0 more threads\n",
            "2021-08-19 14:54:43,108 : INFO : EPOCH - 28 : training on 121 raw words (19 effective words) took 0.0s, 1249 effective words/s\n",
            "2021-08-19 14:54:43,115 : INFO : worker thread finished; awaiting finish of 0 more threads\n",
            "2021-08-19 14:54:43,118 : INFO : EPOCH - 29 : training on 121 raw words (19 effective words) took 0.0s, 4088 effective words/s\n",
            "2021-08-19 14:54:43,124 : INFO : worker thread finished; awaiting finish of 0 more threads\n",
            "2021-08-19 14:54:43,126 : INFO : EPOCH - 30 : training on 121 raw words (19 effective words) took 0.0s, 5597 effective words/s\n",
            "2021-08-19 14:54:43,132 : INFO : worker thread finished; awaiting finish of 0 more threads\n",
            "2021-08-19 14:54:43,134 : INFO : EPOCH - 31 : training on 121 raw words (20 effective words) took 0.0s, 5490 effective words/s\n",
            "2021-08-19 14:54:43,141 : INFO : worker thread finished; awaiting finish of 0 more threads\n",
            "2021-08-19 14:54:43,142 : INFO : EPOCH - 32 : training on 121 raw words (19 effective words) took 0.0s, 6351 effective words/s\n",
            "2021-08-19 14:54:43,148 : INFO : worker thread finished; awaiting finish of 0 more threads\n",
            "2021-08-19 14:54:43,150 : INFO : EPOCH - 33 : training on 121 raw words (17 effective words) took 0.0s, 3714 effective words/s\n",
            "2021-08-19 14:54:43,160 : INFO : worker thread finished; awaiting finish of 0 more threads\n",
            "2021-08-19 14:54:43,162 : INFO : EPOCH - 34 : training on 121 raw words (21 effective words) took 0.0s, 7212 effective words/s\n",
            "2021-08-19 14:54:43,171 : INFO : worker thread finished; awaiting finish of 0 more threads\n",
            "2021-08-19 14:54:43,174 : INFO : EPOCH - 35 : training on 121 raw words (19 effective words) took 0.0s, 3391 effective words/s\n",
            "2021-08-19 14:54:43,180 : INFO : worker thread finished; awaiting finish of 0 more threads\n",
            "2021-08-19 14:54:43,182 : INFO : EPOCH - 36 : training on 121 raw words (19 effective words) took 0.0s, 4117 effective words/s\n",
            "2021-08-19 14:54:43,190 : INFO : worker thread finished; awaiting finish of 0 more threads\n",
            "2021-08-19 14:54:43,192 : INFO : EPOCH - 37 : training on 121 raw words (19 effective words) took 0.0s, 4466 effective words/s\n",
            "2021-08-19 14:54:43,199 : INFO : worker thread finished; awaiting finish of 0 more threads\n",
            "2021-08-19 14:54:43,202 : INFO : EPOCH - 38 : training on 121 raw words (18 effective words) took 0.0s, 4313 effective words/s\n",
            "2021-08-19 14:54:43,208 : INFO : worker thread finished; awaiting finish of 0 more threads\n",
            "2021-08-19 14:54:43,211 : INFO : EPOCH - 39 : training on 121 raw words (19 effective words) took 0.0s, 4593 effective words/s\n",
            "2021-08-19 14:54:43,221 : INFO : worker thread finished; awaiting finish of 0 more threads\n",
            "2021-08-19 14:54:43,223 : INFO : EPOCH - 40 : training on 121 raw words (16 effective words) took 0.0s, 3036 effective words/s\n",
            "2021-08-19 14:54:43,229 : INFO : worker thread finished; awaiting finish of 0 more threads\n",
            "2021-08-19 14:54:43,232 : INFO : EPOCH - 41 : training on 121 raw words (17 effective words) took 0.0s, 3385 effective words/s\n",
            "2021-08-19 14:54:43,236 : INFO : worker thread finished; awaiting finish of 0 more threads\n",
            "2021-08-19 14:54:43,239 : INFO : EPOCH - 42 : training on 121 raw words (18 effective words) took 0.0s, 4271 effective words/s\n",
            "2021-08-19 14:54:43,244 : INFO : worker thread finished; awaiting finish of 0 more threads\n",
            "2021-08-19 14:54:43,250 : INFO : EPOCH - 43 : training on 121 raw words (17 effective words) took 0.0s, 2161 effective words/s\n",
            "2021-08-19 14:54:43,262 : INFO : worker thread finished; awaiting finish of 0 more threads\n",
            "2021-08-19 14:54:43,264 : INFO : EPOCH - 44 : training on 121 raw words (18 effective words) took 0.0s, 3242 effective words/s\n",
            "2021-08-19 14:54:43,271 : INFO : worker thread finished; awaiting finish of 0 more threads\n",
            "2021-08-19 14:54:43,274 : INFO : EPOCH - 45 : training on 121 raw words (19 effective words) took 0.0s, 3914 effective words/s\n",
            "2021-08-19 14:54:43,283 : INFO : worker thread finished; awaiting finish of 0 more threads\n",
            "2021-08-19 14:54:43,284 : INFO : EPOCH - 46 : training on 121 raw words (20 effective words) took 0.0s, 8343 effective words/s\n",
            "2021-08-19 14:54:43,295 : INFO : worker thread finished; awaiting finish of 0 more threads\n",
            "2021-08-19 14:54:43,296 : INFO : EPOCH - 47 : training on 121 raw words (21 effective words) took 0.0s, 8481 effective words/s\n",
            "2021-08-19 14:54:43,303 : INFO : worker thread finished; awaiting finish of 0 more threads\n",
            "2021-08-19 14:54:43,305 : INFO : EPOCH - 48 : training on 121 raw words (18 effective words) took 0.0s, 6914 effective words/s\n",
            "2021-08-19 14:54:43,313 : INFO : worker thread finished; awaiting finish of 0 more threads\n",
            "2021-08-19 14:54:43,315 : INFO : EPOCH - 49 : training on 121 raw words (18 effective words) took 0.0s, 5252 effective words/s\n",
            "2021-08-19 14:54:43,323 : INFO : worker thread finished; awaiting finish of 0 more threads\n",
            "2021-08-19 14:54:43,325 : INFO : EPOCH - 50 : training on 121 raw words (19 effective words) took 0.0s, 3716 effective words/s\n",
            "2021-08-19 14:54:43,330 : INFO : worker thread finished; awaiting finish of 0 more threads\n",
            "2021-08-19 14:54:43,331 : INFO : EPOCH - 51 : training on 121 raw words (20 effective words) took 0.0s, 4659 effective words/s\n",
            "2021-08-19 14:54:43,338 : INFO : worker thread finished; awaiting finish of 0 more threads\n",
            "2021-08-19 14:54:43,341 : INFO : EPOCH - 52 : training on 121 raw words (19 effective words) took 0.0s, 4022 effective words/s\n",
            "2021-08-19 14:54:43,347 : INFO : worker thread finished; awaiting finish of 0 more threads\n",
            "2021-08-19 14:54:43,352 : INFO : EPOCH - 53 : training on 121 raw words (19 effective words) took 0.0s, 2750 effective words/s\n",
            "2021-08-19 14:54:43,359 : INFO : worker thread finished; awaiting finish of 0 more threads\n",
            "2021-08-19 14:54:43,360 : INFO : EPOCH - 54 : training on 121 raw words (18 effective words) took 0.0s, 3980 effective words/s\n",
            "2021-08-19 14:54:43,368 : INFO : worker thread finished; awaiting finish of 0 more threads\n",
            "2021-08-19 14:54:43,370 : INFO : EPOCH - 55 : training on 121 raw words (18 effective words) took 0.0s, 5577 effective words/s\n",
            "2021-08-19 14:54:43,378 : INFO : worker thread finished; awaiting finish of 0 more threads\n",
            "2021-08-19 14:54:43,379 : INFO : EPOCH - 56 : training on 121 raw words (19 effective words) took 0.0s, 7021 effective words/s\n",
            "2021-08-19 14:54:43,385 : INFO : worker thread finished; awaiting finish of 0 more threads\n",
            "2021-08-19 14:54:43,387 : INFO : EPOCH - 57 : training on 121 raw words (16 effective words) took 0.0s, 6227 effective words/s\n",
            "2021-08-19 14:54:43,394 : INFO : worker thread finished; awaiting finish of 0 more threads\n",
            "2021-08-19 14:54:43,396 : INFO : EPOCH - 58 : training on 121 raw words (17 effective words) took 0.0s, 5979 effective words/s\n",
            "2021-08-19 14:54:43,404 : INFO : worker thread finished; awaiting finish of 0 more threads\n",
            "2021-08-19 14:54:43,407 : INFO : EPOCH - 59 : training on 121 raw words (19 effective words) took 0.0s, 4145 effective words/s\n",
            "2021-08-19 14:54:43,412 : INFO : worker thread finished; awaiting finish of 0 more threads\n",
            "2021-08-19 14:54:43,413 : INFO : EPOCH - 60 : training on 121 raw words (23 effective words) took 0.0s, 11974 effective words/s\n",
            "2021-08-19 14:54:43,421 : INFO : worker thread finished; awaiting finish of 0 more threads\n",
            "2021-08-19 14:54:43,422 : INFO : EPOCH - 61 : training on 121 raw words (19 effective words) took 0.0s, 8598 effective words/s\n",
            "2021-08-19 14:54:43,427 : INFO : worker thread finished; awaiting finish of 0 more threads\n",
            "2021-08-19 14:54:43,433 : INFO : EPOCH - 62 : training on 121 raw words (18 effective words) took 0.0s, 1937 effective words/s\n",
            "2021-08-19 14:54:43,444 : INFO : worker thread finished; awaiting finish of 0 more threads\n",
            "2021-08-19 14:54:43,450 : INFO : EPOCH - 63 : training on 121 raw words (21 effective words) took 0.0s, 2390 effective words/s\n",
            "2021-08-19 14:54:43,455 : INFO : worker thread finished; awaiting finish of 0 more threads\n",
            "2021-08-19 14:54:43,456 : INFO : EPOCH - 64 : training on 121 raw words (23 effective words) took 0.0s, 10296 effective words/s\n",
            "2021-08-19 14:54:43,467 : INFO : worker thread finished; awaiting finish of 0 more threads\n",
            "2021-08-19 14:54:43,469 : INFO : EPOCH - 65 : training on 121 raw words (23 effective words) took 0.0s, 2905 effective words/s\n",
            "2021-08-19 14:54:43,473 : INFO : worker thread finished; awaiting finish of 0 more threads\n",
            "2021-08-19 14:54:43,477 : INFO : EPOCH - 66 : training on 121 raw words (20 effective words) took 0.0s, 4093 effective words/s\n",
            "2021-08-19 14:54:43,483 : INFO : worker thread finished; awaiting finish of 0 more threads\n",
            "2021-08-19 14:54:43,484 : INFO : EPOCH - 67 : training on 121 raw words (19 effective words) took 0.0s, 4453 effective words/s\n",
            "2021-08-19 14:54:43,491 : INFO : worker thread finished; awaiting finish of 0 more threads\n",
            "2021-08-19 14:54:43,495 : INFO : EPOCH - 68 : training on 121 raw words (19 effective words) took 0.0s, 3724 effective words/s\n",
            "2021-08-19 14:54:43,503 : INFO : worker thread finished; awaiting finish of 0 more threads\n",
            "2021-08-19 14:54:43,505 : INFO : EPOCH - 69 : training on 121 raw words (20 effective words) took 0.0s, 4605 effective words/s\n",
            "2021-08-19 14:54:43,515 : INFO : worker thread finished; awaiting finish of 0 more threads\n",
            "2021-08-19 14:54:43,516 : INFO : EPOCH - 70 : training on 121 raw words (19 effective words) took 0.0s, 4818 effective words/s\n",
            "2021-08-19 14:54:43,534 : INFO : worker thread finished; awaiting finish of 0 more threads\n",
            "2021-08-19 14:54:43,536 : INFO : EPOCH - 71 : training on 121 raw words (17 effective words) took 0.0s, 1175 effective words/s\n",
            "2021-08-19 14:54:43,543 : INFO : worker thread finished; awaiting finish of 0 more threads\n",
            "2021-08-19 14:54:43,544 : INFO : EPOCH - 72 : training on 121 raw words (21 effective words) took 0.0s, 5258 effective words/s\n",
            "2021-08-19 14:54:43,555 : INFO : worker thread finished; awaiting finish of 0 more threads\n",
            "2021-08-19 14:54:43,557 : INFO : EPOCH - 73 : training on 121 raw words (20 effective words) took 0.0s, 3066 effective words/s\n",
            "2021-08-19 14:54:43,566 : INFO : worker thread finished; awaiting finish of 0 more threads\n",
            "2021-08-19 14:54:43,568 : INFO : EPOCH - 74 : training on 121 raw words (16 effective words) took 0.0s, 3728 effective words/s\n",
            "2021-08-19 14:54:43,574 : INFO : worker thread finished; awaiting finish of 0 more threads\n",
            "2021-08-19 14:54:43,576 : INFO : EPOCH - 75 : training on 121 raw words (20 effective words) took 0.0s, 5070 effective words/s\n",
            "2021-08-19 14:54:43,580 : INFO : worker thread finished; awaiting finish of 0 more threads\n",
            "2021-08-19 14:54:43,583 : INFO : EPOCH - 76 : training on 121 raw words (22 effective words) took 0.0s, 5305 effective words/s\n",
            "2021-08-19 14:54:43,590 : INFO : worker thread finished; awaiting finish of 0 more threads\n",
            "2021-08-19 14:54:43,592 : INFO : EPOCH - 77 : training on 121 raw words (20 effective words) took 0.0s, 4308 effective words/s\n",
            "2021-08-19 14:54:43,598 : INFO : worker thread finished; awaiting finish of 0 more threads\n",
            "2021-08-19 14:54:43,599 : INFO : EPOCH - 78 : training on 121 raw words (19 effective words) took 0.0s, 10680 effective words/s\n",
            "2021-08-19 14:54:43,605 : INFO : worker thread finished; awaiting finish of 0 more threads\n",
            "2021-08-19 14:54:43,608 : INFO : EPOCH - 79 : training on 121 raw words (20 effective words) took 0.0s, 4664 effective words/s\n",
            "2021-08-19 14:54:43,614 : INFO : worker thread finished; awaiting finish of 0 more threads\n",
            "2021-08-19 14:54:43,616 : INFO : EPOCH - 80 : training on 121 raw words (18 effective words) took 0.0s, 5541 effective words/s\n",
            "2021-08-19 14:54:43,620 : INFO : worker thread finished; awaiting finish of 0 more threads\n",
            "2021-08-19 14:54:43,623 : INFO : EPOCH - 81 : training on 121 raw words (17 effective words) took 0.0s, 4085 effective words/s\n",
            "2021-08-19 14:54:43,631 : INFO : worker thread finished; awaiting finish of 0 more threads\n",
            "2021-08-19 14:54:43,632 : INFO : EPOCH - 82 : training on 121 raw words (18 effective words) took 0.0s, 6399 effective words/s\n",
            "2021-08-19 14:54:43,638 : INFO : worker thread finished; awaiting finish of 0 more threads\n",
            "2021-08-19 14:54:43,640 : INFO : EPOCH - 83 : training on 121 raw words (17 effective words) took 0.0s, 3329 effective words/s\n",
            "2021-08-19 14:54:43,647 : INFO : worker thread finished; awaiting finish of 0 more threads\n",
            "2021-08-19 14:54:43,649 : INFO : EPOCH - 84 : training on 121 raw words (17 effective words) took 0.0s, 5018 effective words/s\n",
            "2021-08-19 14:54:43,658 : INFO : worker thread finished; awaiting finish of 0 more threads\n",
            "2021-08-19 14:54:43,659 : INFO : EPOCH - 85 : training on 121 raw words (20 effective words) took 0.0s, 9867 effective words/s\n",
            "2021-08-19 14:54:43,664 : INFO : worker thread finished; awaiting finish of 0 more threads\n",
            "2021-08-19 14:54:43,667 : INFO : EPOCH - 86 : training on 121 raw words (18 effective words) took 0.0s, 4490 effective words/s\n",
            "2021-08-19 14:54:43,674 : INFO : worker thread finished; awaiting finish of 0 more threads\n",
            "2021-08-19 14:54:43,676 : INFO : EPOCH - 87 : training on 121 raw words (20 effective words) took 0.0s, 6489 effective words/s\n",
            "2021-08-19 14:54:43,684 : INFO : worker thread finished; awaiting finish of 0 more threads\n",
            "2021-08-19 14:54:43,686 : INFO : EPOCH - 88 : training on 121 raw words (19 effective words) took 0.0s, 6160 effective words/s\n",
            "2021-08-19 14:54:43,692 : INFO : worker thread finished; awaiting finish of 0 more threads\n",
            "2021-08-19 14:54:43,694 : INFO : EPOCH - 89 : training on 121 raw words (20 effective words) took 0.0s, 4360 effective words/s\n",
            "2021-08-19 14:54:43,699 : INFO : worker thread finished; awaiting finish of 0 more threads\n",
            "2021-08-19 14:54:43,701 : INFO : EPOCH - 90 : training on 121 raw words (15 effective words) took 0.0s, 4311 effective words/s\n",
            "2021-08-19 14:54:43,709 : INFO : worker thread finished; awaiting finish of 0 more threads\n",
            "2021-08-19 14:54:43,711 : INFO : EPOCH - 91 : training on 121 raw words (20 effective words) took 0.0s, 6590 effective words/s\n",
            "2021-08-19 14:54:43,720 : INFO : worker thread finished; awaiting finish of 0 more threads\n",
            "2021-08-19 14:54:43,722 : INFO : EPOCH - 92 : training on 121 raw words (17 effective words) took 0.0s, 2476 effective words/s\n",
            "2021-08-19 14:54:43,727 : INFO : worker thread finished; awaiting finish of 0 more threads\n",
            "2021-08-19 14:54:43,730 : INFO : EPOCH - 93 : training on 121 raw words (18 effective words) took 0.0s, 4408 effective words/s\n",
            "2021-08-19 14:54:43,737 : INFO : worker thread finished; awaiting finish of 0 more threads\n",
            "2021-08-19 14:54:43,739 : INFO : EPOCH - 94 : training on 121 raw words (19 effective words) took 0.0s, 3218 effective words/s\n",
            "2021-08-19 14:54:43,745 : INFO : worker thread finished; awaiting finish of 0 more threads\n",
            "2021-08-19 14:54:43,747 : INFO : EPOCH - 95 : training on 121 raw words (17 effective words) took 0.0s, 3861 effective words/s\n",
            "2021-08-19 14:54:43,752 : INFO : worker thread finished; awaiting finish of 0 more threads\n",
            "2021-08-19 14:54:43,754 : INFO : EPOCH - 96 : training on 121 raw words (18 effective words) took 0.0s, 5764 effective words/s\n",
            "2021-08-19 14:54:43,759 : INFO : worker thread finished; awaiting finish of 0 more threads\n",
            "2021-08-19 14:54:43,762 : INFO : EPOCH - 97 : training on 121 raw words (17 effective words) took 0.0s, 3825 effective words/s\n",
            "2021-08-19 14:54:43,767 : INFO : worker thread finished; awaiting finish of 0 more threads\n",
            "2021-08-19 14:54:43,769 : INFO : EPOCH - 98 : training on 121 raw words (20 effective words) took 0.0s, 5500 effective words/s\n",
            "2021-08-19 14:54:43,779 : INFO : worker thread finished; awaiting finish of 0 more threads\n",
            "2021-08-19 14:54:43,781 : INFO : EPOCH - 99 : training on 121 raw words (18 effective words) took 0.0s, 5948 effective words/s\n",
            "2021-08-19 14:54:43,786 : INFO : worker thread finished; awaiting finish of 0 more threads\n",
            "2021-08-19 14:54:43,789 : INFO : EPOCH - 100 : training on 121 raw words (19 effective words) took 0.0s, 4387 effective words/s\n",
            "2021-08-19 14:54:43,790 : INFO : training on a 12100 raw words (1881 effective words) took 0.9s, 1993 effective words/s\n",
            "2021-08-19 14:54:43,792 : INFO : saving Doc2Vec object under Freelancers, separately None\n",
            "2021-08-19 14:54:43,803 : INFO : saved Freelancers\n"
          ],
          "name": "stderr"
        }
      ]
    },
    {
      "cell_type": "code",
      "metadata": {
        "id": "YBfydXSpwTU-",
        "colab": {
          "base_uri": "https://localhost:8080/"
        },
        "outputId": "66bd5305-4cf2-4b66-cc71-d652c2484d6c"
      },
      "source": [
        "#input corpus\n",
        "train_corpus = \"/content/freelancers-documents/Freelancers/ios_Dev_1.txt\"\n",
        "\n",
        "#output model\n",
        "saved_path = \"Freelancers\"\n",
        "\n",
        "#enable logging\n",
        "logging.basicConfig(format='%(asctime)s : %(levelname)s : %(message)s', level=logging.INFO)\n",
        "\n",
        "#train doc2vec model\n",
        "docs = g.doc2vec.TaggedLineDocument(train_corpus)\n",
        "model = g.Doc2Vec(docs, size=vector_size, window=window_size, min_count=min_count, sample=sampling_threshold, workers=worker_count, hs=0, dm=dm, negative=negative_size, dbow_words=1, dm_concat=1, iter=train_epoch)\n",
        "\n",
        "#save model\n",
        "model.save(saved_path)"
      ],
      "execution_count": 75,
      "outputs": [
        {
          "output_type": "stream",
          "text": [
            "/usr/local/lib/python3.7/dist-packages/gensim/models/doc2vec.py:566: UserWarning: The parameter `iter` is deprecated, will be removed in 4.0.0, use `epochs` instead.\n",
            "  warnings.warn(\"The parameter `iter` is deprecated, will be removed in 4.0.0, use `epochs` instead.\")\n",
            "/usr/local/lib/python3.7/dist-packages/gensim/models/doc2vec.py:570: UserWarning: The parameter `size` is deprecated, will be removed in 4.0.0, use `vector_size` instead.\n",
            "  warnings.warn(\"The parameter `size` is deprecated, will be removed in 4.0.0, use `vector_size` instead.\")\n",
            "2021-08-19 14:54:43,820 : INFO : collecting all words and their counts\n",
            "2021-08-19 14:54:43,823 : INFO : PROGRESS: at example #0, processed 0 words (0/s), 0 word types, 0 tags\n",
            "2021-08-19 14:54:43,824 : INFO : collected 48 word types and 19 unique tags from a corpus of 19 examples and 62 words\n",
            "2021-08-19 14:54:43,828 : INFO : Loading a fresh vocabulary\n",
            "2021-08-19 14:54:43,830 : INFO : effective_min_count=1 retains 48 unique words (100% of original 48, drops 0)\n",
            "2021-08-19 14:54:43,831 : INFO : effective_min_count=1 leaves 62 word corpus (100% of original 62, drops 0)\n",
            "2021-08-19 14:54:43,835 : INFO : deleting the raw counts dictionary of 48 items\n",
            "2021-08-19 14:54:43,838 : INFO : sample=1e-05 downsamples 48 most-common words\n",
            "2021-08-19 14:54:43,840 : INFO : downsampling leaves estimated 1 word corpus (2.2% of prior 62)\n",
            "2021-08-19 14:54:43,842 : INFO : estimated required memory for 48 words and 300 dimensions: 162000 bytes\n",
            "2021-08-19 14:54:43,843 : INFO : resetting layer weights\n",
            "2021-08-19 14:54:43,880 : INFO : training model with 1 workers on 49 vocabulary and 300 features, using sg=1 hs=0 sample=1e-05 negative=5 window=15\n",
            "2021-08-19 14:54:43,885 : INFO : worker thread finished; awaiting finish of 0 more threads\n",
            "2021-08-19 14:54:43,887 : INFO : EPOCH - 1 : training on 62 raw words (22 effective words) took 0.0s, 5204 effective words/s\n",
            "2021-08-19 14:54:43,892 : INFO : worker thread finished; awaiting finish of 0 more threads\n",
            "2021-08-19 14:54:43,894 : INFO : EPOCH - 2 : training on 62 raw words (22 effective words) took 0.0s, 6066 effective words/s\n",
            "2021-08-19 14:54:43,902 : INFO : worker thread finished; awaiting finish of 0 more threads\n",
            "2021-08-19 14:54:43,904 : INFO : EPOCH - 3 : training on 62 raw words (19 effective words) took 0.0s, 6430 effective words/s\n",
            "2021-08-19 14:54:43,912 : INFO : worker thread finished; awaiting finish of 0 more threads\n",
            "2021-08-19 14:54:43,914 : INFO : EPOCH - 4 : training on 62 raw words (19 effective words) took 0.0s, 4287 effective words/s\n",
            "2021-08-19 14:54:43,919 : INFO : worker thread finished; awaiting finish of 0 more threads\n",
            "2021-08-19 14:54:43,921 : INFO : EPOCH - 5 : training on 62 raw words (19 effective words) took 0.0s, 5297 effective words/s\n",
            "2021-08-19 14:54:43,931 : INFO : worker thread finished; awaiting finish of 0 more threads\n",
            "2021-08-19 14:54:43,932 : INFO : EPOCH - 6 : training on 62 raw words (19 effective words) took 0.0s, 7444 effective words/s\n",
            "2021-08-19 14:54:43,941 : INFO : worker thread finished; awaiting finish of 0 more threads\n",
            "2021-08-19 14:54:43,942 : INFO : EPOCH - 7 : training on 62 raw words (20 effective words) took 0.0s, 7422 effective words/s\n",
            "2021-08-19 14:54:43,949 : INFO : worker thread finished; awaiting finish of 0 more threads\n",
            "2021-08-19 14:54:43,950 : INFO : EPOCH - 8 : training on 62 raw words (19 effective words) took 0.0s, 7572 effective words/s\n",
            "2021-08-19 14:54:43,960 : INFO : worker thread finished; awaiting finish of 0 more threads\n",
            "2021-08-19 14:54:43,961 : INFO : EPOCH - 9 : training on 62 raw words (21 effective words) took 0.0s, 10012 effective words/s\n",
            "2021-08-19 14:54:43,968 : INFO : worker thread finished; awaiting finish of 0 more threads\n",
            "2021-08-19 14:54:43,970 : INFO : EPOCH - 10 : training on 62 raw words (20 effective words) took 0.0s, 8189 effective words/s\n",
            "2021-08-19 14:54:43,977 : INFO : worker thread finished; awaiting finish of 0 more threads\n",
            "2021-08-19 14:54:43,978 : INFO : EPOCH - 11 : training on 62 raw words (19 effective words) took 0.0s, 8879 effective words/s\n",
            "2021-08-19 14:54:43,984 : INFO : worker thread finished; awaiting finish of 0 more threads\n",
            "2021-08-19 14:54:43,986 : INFO : EPOCH - 12 : training on 62 raw words (21 effective words) took 0.0s, 7717 effective words/s\n",
            "2021-08-19 14:54:43,998 : INFO : worker thread finished; awaiting finish of 0 more threads\n",
            "2021-08-19 14:54:43,999 : INFO : EPOCH - 13 : training on 62 raw words (20 effective words) took 0.0s, 7743 effective words/s\n",
            "2021-08-19 14:54:44,005 : INFO : worker thread finished; awaiting finish of 0 more threads\n",
            "2021-08-19 14:54:44,008 : INFO : EPOCH - 14 : training on 62 raw words (20 effective words) took 0.0s, 4460 effective words/s\n",
            "2021-08-19 14:54:44,013 : INFO : worker thread finished; awaiting finish of 0 more threads\n",
            "2021-08-19 14:54:44,015 : INFO : EPOCH - 15 : training on 62 raw words (20 effective words) took 0.0s, 6477 effective words/s\n",
            "2021-08-19 14:54:44,022 : INFO : worker thread finished; awaiting finish of 0 more threads\n",
            "2021-08-19 14:54:44,024 : INFO : EPOCH - 16 : training on 62 raw words (21 effective words) took 0.0s, 5595 effective words/s\n",
            "2021-08-19 14:54:44,032 : INFO : worker thread finished; awaiting finish of 0 more threads\n",
            "2021-08-19 14:54:44,033 : INFO : EPOCH - 17 : training on 62 raw words (23 effective words) took 0.0s, 7996 effective words/s\n",
            "2021-08-19 14:54:44,039 : INFO : worker thread finished; awaiting finish of 0 more threads\n",
            "2021-08-19 14:54:44,041 : INFO : EPOCH - 18 : training on 62 raw words (19 effective words) took 0.0s, 6486 effective words/s\n",
            "2021-08-19 14:54:44,049 : INFO : worker thread finished; awaiting finish of 0 more threads\n",
            "2021-08-19 14:54:44,050 : INFO : EPOCH - 19 : training on 62 raw words (19 effective words) took 0.0s, 8290 effective words/s\n",
            "2021-08-19 14:54:44,058 : INFO : worker thread finished; awaiting finish of 0 more threads\n",
            "2021-08-19 14:54:44,059 : INFO : EPOCH - 20 : training on 62 raw words (20 effective words) took 0.0s, 4946 effective words/s\n",
            "2021-08-19 14:54:44,065 : INFO : worker thread finished; awaiting finish of 0 more threads\n",
            "2021-08-19 14:54:44,067 : INFO : EPOCH - 21 : training on 62 raw words (19 effective words) took 0.0s, 8728 effective words/s\n",
            "2021-08-19 14:54:44,074 : INFO : worker thread finished; awaiting finish of 0 more threads\n",
            "2021-08-19 14:54:44,076 : INFO : EPOCH - 22 : training on 62 raw words (21 effective words) took 0.0s, 4275 effective words/s\n",
            "2021-08-19 14:54:44,083 : INFO : worker thread finished; awaiting finish of 0 more threads\n",
            "2021-08-19 14:54:44,084 : INFO : EPOCH - 23 : training on 62 raw words (19 effective words) took 0.0s, 4387 effective words/s\n",
            "2021-08-19 14:54:44,090 : INFO : worker thread finished; awaiting finish of 0 more threads\n",
            "2021-08-19 14:54:44,092 : INFO : EPOCH - 24 : training on 62 raw words (19 effective words) took 0.0s, 5953 effective words/s\n",
            "2021-08-19 14:54:44,099 : INFO : worker thread finished; awaiting finish of 0 more threads\n",
            "2021-08-19 14:54:44,100 : INFO : EPOCH - 25 : training on 62 raw words (19 effective words) took 0.0s, 8897 effective words/s\n",
            "2021-08-19 14:54:44,107 : INFO : worker thread finished; awaiting finish of 0 more threads\n",
            "2021-08-19 14:54:44,109 : INFO : EPOCH - 26 : training on 62 raw words (20 effective words) took 0.0s, 3634 effective words/s\n",
            "2021-08-19 14:54:44,114 : INFO : worker thread finished; awaiting finish of 0 more threads\n",
            "2021-08-19 14:54:44,115 : INFO : EPOCH - 27 : training on 62 raw words (21 effective words) took 0.0s, 6638 effective words/s\n",
            "2021-08-19 14:54:44,124 : INFO : worker thread finished; awaiting finish of 0 more threads\n",
            "2021-08-19 14:54:44,125 : INFO : EPOCH - 28 : training on 62 raw words (20 effective words) took 0.0s, 3270 effective words/s\n",
            "2021-08-19 14:54:44,137 : INFO : worker thread finished; awaiting finish of 0 more threads\n",
            "2021-08-19 14:54:44,139 : INFO : EPOCH - 29 : training on 62 raw words (22 effective words) took 0.0s, 7656 effective words/s\n",
            "2021-08-19 14:54:44,145 : INFO : worker thread finished; awaiting finish of 0 more threads\n",
            "2021-08-19 14:54:44,146 : INFO : EPOCH - 30 : training on 62 raw words (20 effective words) took 0.0s, 5445 effective words/s\n",
            "2021-08-19 14:54:44,154 : INFO : worker thread finished; awaiting finish of 0 more threads\n",
            "2021-08-19 14:54:44,157 : INFO : EPOCH - 31 : training on 62 raw words (21 effective words) took 0.0s, 4390 effective words/s\n",
            "2021-08-19 14:54:44,166 : INFO : worker thread finished; awaiting finish of 0 more threads\n",
            "2021-08-19 14:54:44,167 : INFO : EPOCH - 32 : training on 62 raw words (19 effective words) took 0.0s, 4794 effective words/s\n",
            "2021-08-19 14:54:44,173 : INFO : worker thread finished; awaiting finish of 0 more threads\n",
            "2021-08-19 14:54:44,175 : INFO : EPOCH - 33 : training on 62 raw words (21 effective words) took 0.0s, 6677 effective words/s\n",
            "2021-08-19 14:54:44,183 : INFO : worker thread finished; awaiting finish of 0 more threads\n",
            "2021-08-19 14:54:44,186 : INFO : EPOCH - 34 : training on 62 raw words (20 effective words) took 0.0s, 2272 effective words/s\n",
            "2021-08-19 14:54:44,191 : INFO : worker thread finished; awaiting finish of 0 more threads\n",
            "2021-08-19 14:54:44,197 : INFO : EPOCH - 35 : training on 62 raw words (19 effective words) took 0.0s, 2551 effective words/s\n",
            "2021-08-19 14:54:44,202 : INFO : worker thread finished; awaiting finish of 0 more threads\n",
            "2021-08-19 14:54:44,204 : INFO : EPOCH - 36 : training on 62 raw words (20 effective words) took 0.0s, 5889 effective words/s\n",
            "2021-08-19 14:54:44,210 : INFO : worker thread finished; awaiting finish of 0 more threads\n",
            "2021-08-19 14:54:44,212 : INFO : EPOCH - 37 : training on 62 raw words (23 effective words) took 0.0s, 5738 effective words/s\n",
            "2021-08-19 14:54:44,221 : INFO : worker thread finished; awaiting finish of 0 more threads\n",
            "2021-08-19 14:54:44,223 : INFO : EPOCH - 38 : training on 62 raw words (20 effective words) took 0.0s, 7785 effective words/s\n",
            "2021-08-19 14:54:44,230 : INFO : worker thread finished; awaiting finish of 0 more threads\n",
            "2021-08-19 14:54:44,231 : INFO : EPOCH - 39 : training on 62 raw words (24 effective words) took 0.0s, 8955 effective words/s\n",
            "2021-08-19 14:54:44,237 : INFO : worker thread finished; awaiting finish of 0 more threads\n",
            "2021-08-19 14:54:44,238 : INFO : EPOCH - 40 : training on 62 raw words (20 effective words) took 0.0s, 5434 effective words/s\n",
            "2021-08-19 14:54:44,245 : INFO : worker thread finished; awaiting finish of 0 more threads\n",
            "2021-08-19 14:54:44,247 : INFO : EPOCH - 41 : training on 62 raw words (19 effective words) took 0.0s, 4575 effective words/s\n",
            "2021-08-19 14:54:44,253 : INFO : worker thread finished; awaiting finish of 0 more threads\n",
            "2021-08-19 14:54:44,254 : INFO : EPOCH - 42 : training on 62 raw words (22 effective words) took 0.0s, 6266 effective words/s\n",
            "2021-08-19 14:54:44,269 : INFO : worker thread finished; awaiting finish of 0 more threads\n",
            "2021-08-19 14:54:44,271 : INFO : EPOCH - 43 : training on 62 raw words (19 effective words) took 0.0s, 3906 effective words/s\n",
            "2021-08-19 14:54:44,279 : INFO : worker thread finished; awaiting finish of 0 more threads\n",
            "2021-08-19 14:54:44,281 : INFO : EPOCH - 44 : training on 62 raw words (21 effective words) took 0.0s, 4930 effective words/s\n",
            "2021-08-19 14:54:44,287 : INFO : worker thread finished; awaiting finish of 0 more threads\n",
            "2021-08-19 14:54:44,289 : INFO : EPOCH - 45 : training on 62 raw words (19 effective words) took 0.0s, 5006 effective words/s\n",
            "2021-08-19 14:54:44,296 : INFO : worker thread finished; awaiting finish of 0 more threads\n",
            "2021-08-19 14:54:44,298 : INFO : EPOCH - 46 : training on 62 raw words (19 effective words) took 0.0s, 5902 effective words/s\n",
            "2021-08-19 14:54:44,305 : INFO : worker thread finished; awaiting finish of 0 more threads\n",
            "2021-08-19 14:54:44,306 : INFO : EPOCH - 47 : training on 62 raw words (19 effective words) took 0.0s, 7168 effective words/s\n",
            "2021-08-19 14:54:44,311 : INFO : worker thread finished; awaiting finish of 0 more threads\n",
            "2021-08-19 14:54:44,312 : INFO : EPOCH - 48 : training on 62 raw words (20 effective words) took 0.0s, 5777 effective words/s\n",
            "2021-08-19 14:54:44,318 : INFO : worker thread finished; awaiting finish of 0 more threads\n",
            "2021-08-19 14:54:44,319 : INFO : EPOCH - 49 : training on 62 raw words (19 effective words) took 0.0s, 5728 effective words/s\n",
            "2021-08-19 14:54:44,326 : INFO : worker thread finished; awaiting finish of 0 more threads\n",
            "2021-08-19 14:54:44,327 : INFO : EPOCH - 50 : training on 62 raw words (20 effective words) took 0.0s, 5904 effective words/s\n",
            "2021-08-19 14:54:44,336 : INFO : worker thread finished; awaiting finish of 0 more threads\n",
            "2021-08-19 14:54:44,338 : INFO : EPOCH - 51 : training on 62 raw words (22 effective words) took 0.0s, 4203 effective words/s\n",
            "2021-08-19 14:54:44,345 : INFO : worker thread finished; awaiting finish of 0 more threads\n",
            "2021-08-19 14:54:44,347 : INFO : EPOCH - 52 : training on 62 raw words (20 effective words) took 0.0s, 5840 effective words/s\n",
            "2021-08-19 14:54:44,354 : INFO : worker thread finished; awaiting finish of 0 more threads\n",
            "2021-08-19 14:54:44,356 : INFO : EPOCH - 53 : training on 62 raw words (20 effective words) took 0.0s, 7600 effective words/s\n",
            "2021-08-19 14:54:44,361 : INFO : worker thread finished; awaiting finish of 0 more threads\n",
            "2021-08-19 14:54:44,362 : INFO : EPOCH - 54 : training on 62 raw words (20 effective words) took 0.0s, 6658 effective words/s\n",
            "2021-08-19 14:54:44,370 : INFO : worker thread finished; awaiting finish of 0 more threads\n",
            "2021-08-19 14:54:44,372 : INFO : EPOCH - 55 : training on 62 raw words (21 effective words) took 0.0s, 6394 effective words/s\n",
            "2021-08-19 14:54:44,380 : INFO : worker thread finished; awaiting finish of 0 more threads\n",
            "2021-08-19 14:54:44,381 : INFO : EPOCH - 56 : training on 62 raw words (19 effective words) took 0.0s, 5713 effective words/s\n",
            "2021-08-19 14:54:44,387 : INFO : worker thread finished; awaiting finish of 0 more threads\n",
            "2021-08-19 14:54:44,388 : INFO : EPOCH - 57 : training on 62 raw words (23 effective words) took 0.0s, 8489 effective words/s\n",
            "2021-08-19 14:54:44,396 : INFO : worker thread finished; awaiting finish of 0 more threads\n",
            "2021-08-19 14:54:44,398 : INFO : EPOCH - 58 : training on 62 raw words (20 effective words) took 0.0s, 6342 effective words/s\n",
            "2021-08-19 14:54:44,406 : INFO : worker thread finished; awaiting finish of 0 more threads\n",
            "2021-08-19 14:54:44,407 : INFO : EPOCH - 59 : training on 62 raw words (20 effective words) took 0.0s, 3676 effective words/s\n",
            "2021-08-19 14:54:44,413 : INFO : worker thread finished; awaiting finish of 0 more threads\n",
            "2021-08-19 14:54:44,413 : INFO : EPOCH - 60 : training on 62 raw words (21 effective words) took 0.0s, 7228 effective words/s\n",
            "2021-08-19 14:54:44,426 : INFO : worker thread finished; awaiting finish of 0 more threads\n",
            "2021-08-19 14:54:44,427 : INFO : EPOCH - 61 : training on 62 raw words (19 effective words) took 0.0s, 2452 effective words/s\n",
            "2021-08-19 14:54:44,434 : INFO : worker thread finished; awaiting finish of 0 more threads\n",
            "2021-08-19 14:54:44,436 : INFO : EPOCH - 62 : training on 62 raw words (20 effective words) took 0.0s, 4201 effective words/s\n",
            "2021-08-19 14:54:44,442 : INFO : worker thread finished; awaiting finish of 0 more threads\n",
            "2021-08-19 14:54:44,444 : INFO : EPOCH - 63 : training on 62 raw words (24 effective words) took 0.0s, 5811 effective words/s\n",
            "2021-08-19 14:54:44,451 : INFO : worker thread finished; awaiting finish of 0 more threads\n",
            "2021-08-19 14:54:44,452 : INFO : EPOCH - 64 : training on 62 raw words (19 effective words) took 0.0s, 9054 effective words/s\n",
            "2021-08-19 14:54:44,459 : INFO : worker thread finished; awaiting finish of 0 more threads\n",
            "2021-08-19 14:54:44,461 : INFO : EPOCH - 65 : training on 62 raw words (19 effective words) took 0.0s, 7192 effective words/s\n",
            "2021-08-19 14:54:44,467 : INFO : worker thread finished; awaiting finish of 0 more threads\n",
            "2021-08-19 14:54:44,468 : INFO : EPOCH - 66 : training on 62 raw words (21 effective words) took 0.0s, 6970 effective words/s\n",
            "2021-08-19 14:54:44,475 : INFO : worker thread finished; awaiting finish of 0 more threads\n",
            "2021-08-19 14:54:44,477 : INFO : EPOCH - 67 : training on 62 raw words (21 effective words) took 0.0s, 9938 effective words/s\n",
            "2021-08-19 14:54:44,485 : INFO : worker thread finished; awaiting finish of 0 more threads\n",
            "2021-08-19 14:54:44,486 : INFO : EPOCH - 68 : training on 62 raw words (19 effective words) took 0.0s, 3709 effective words/s\n",
            "2021-08-19 14:54:44,492 : INFO : worker thread finished; awaiting finish of 0 more threads\n",
            "2021-08-19 14:54:44,493 : INFO : EPOCH - 69 : training on 62 raw words (23 effective words) took 0.0s, 7884 effective words/s\n",
            "2021-08-19 14:54:44,500 : INFO : worker thread finished; awaiting finish of 0 more threads\n",
            "2021-08-19 14:54:44,501 : INFO : EPOCH - 70 : training on 62 raw words (19 effective words) took 0.0s, 9233 effective words/s\n",
            "2021-08-19 14:54:44,509 : INFO : worker thread finished; awaiting finish of 0 more threads\n",
            "2021-08-19 14:54:44,510 : INFO : EPOCH - 71 : training on 62 raw words (20 effective words) took 0.0s, 4048 effective words/s\n",
            "2021-08-19 14:54:44,516 : INFO : worker thread finished; awaiting finish of 0 more threads\n",
            "2021-08-19 14:54:44,517 : INFO : EPOCH - 72 : training on 62 raw words (21 effective words) took 0.0s, 7539 effective words/s\n",
            "2021-08-19 14:54:44,526 : INFO : worker thread finished; awaiting finish of 0 more threads\n",
            "2021-08-19 14:54:44,527 : INFO : EPOCH - 73 : training on 62 raw words (21 effective words) took 0.0s, 9557 effective words/s\n",
            "2021-08-19 14:54:44,533 : INFO : worker thread finished; awaiting finish of 0 more threads\n",
            "2021-08-19 14:54:44,536 : INFO : EPOCH - 74 : training on 62 raw words (21 effective words) took 0.0s, 4786 effective words/s\n",
            "2021-08-19 14:54:44,541 : INFO : worker thread finished; awaiting finish of 0 more threads\n",
            "2021-08-19 14:54:44,542 : INFO : EPOCH - 75 : training on 62 raw words (20 effective words) took 0.0s, 8217 effective words/s\n",
            "2021-08-19 14:54:44,549 : INFO : worker thread finished; awaiting finish of 0 more threads\n",
            "2021-08-19 14:54:44,551 : INFO : EPOCH - 76 : training on 62 raw words (21 effective words) took 0.0s, 4201 effective words/s\n",
            "2021-08-19 14:54:44,561 : INFO : worker thread finished; awaiting finish of 0 more threads\n",
            "2021-08-19 14:54:44,562 : INFO : EPOCH - 77 : training on 62 raw words (20 effective words) took 0.0s, 6380 effective words/s\n",
            "2021-08-19 14:54:44,573 : INFO : worker thread finished; awaiting finish of 0 more threads\n",
            "2021-08-19 14:54:44,575 : INFO : EPOCH - 78 : training on 62 raw words (19 effective words) took 0.0s, 4330 effective words/s\n",
            "2021-08-19 14:54:44,584 : INFO : worker thread finished; awaiting finish of 0 more threads\n",
            "2021-08-19 14:54:44,586 : INFO : EPOCH - 79 : training on 62 raw words (21 effective words) took 0.0s, 6095 effective words/s\n",
            "2021-08-19 14:54:44,592 : INFO : worker thread finished; awaiting finish of 0 more threads\n",
            "2021-08-19 14:54:44,593 : INFO : EPOCH - 80 : training on 62 raw words (20 effective words) took 0.0s, 7791 effective words/s\n",
            "2021-08-19 14:54:44,601 : INFO : worker thread finished; awaiting finish of 0 more threads\n",
            "2021-08-19 14:54:44,602 : INFO : EPOCH - 81 : training on 62 raw words (19 effective words) took 0.0s, 7289 effective words/s\n",
            "2021-08-19 14:54:44,608 : INFO : worker thread finished; awaiting finish of 0 more threads\n",
            "2021-08-19 14:54:44,611 : INFO : EPOCH - 82 : training on 62 raw words (20 effective words) took 0.0s, 3719 effective words/s\n",
            "2021-08-19 14:54:44,617 : INFO : worker thread finished; awaiting finish of 0 more threads\n",
            "2021-08-19 14:54:44,619 : INFO : EPOCH - 83 : training on 62 raw words (20 effective words) took 0.0s, 6280 effective words/s\n",
            "2021-08-19 14:54:44,626 : INFO : worker thread finished; awaiting finish of 0 more threads\n",
            "2021-08-19 14:54:44,628 : INFO : EPOCH - 84 : training on 62 raw words (19 effective words) took 0.0s, 5991 effective words/s\n",
            "2021-08-19 14:54:44,635 : INFO : worker thread finished; awaiting finish of 0 more threads\n",
            "2021-08-19 14:54:44,637 : INFO : EPOCH - 85 : training on 62 raw words (23 effective words) took 0.0s, 7336 effective words/s\n",
            "2021-08-19 14:54:44,652 : INFO : worker thread finished; awaiting finish of 0 more threads\n",
            "2021-08-19 14:54:44,654 : INFO : EPOCH - 86 : training on 62 raw words (19 effective words) took 0.0s, 5228 effective words/s\n",
            "2021-08-19 14:54:44,662 : INFO : worker thread finished; awaiting finish of 0 more threads\n",
            "2021-08-19 14:54:44,663 : INFO : EPOCH - 87 : training on 62 raw words (19 effective words) took 0.0s, 7257 effective words/s\n",
            "2021-08-19 14:54:44,671 : INFO : worker thread finished; awaiting finish of 0 more threads\n",
            "2021-08-19 14:54:44,672 : INFO : EPOCH - 88 : training on 62 raw words (19 effective words) took 0.0s, 3660 effective words/s\n",
            "2021-08-19 14:54:44,679 : INFO : worker thread finished; awaiting finish of 0 more threads\n",
            "2021-08-19 14:54:44,680 : INFO : EPOCH - 89 : training on 62 raw words (20 effective words) took 0.0s, 5132 effective words/s\n",
            "2021-08-19 14:54:44,691 : INFO : worker thread finished; awaiting finish of 0 more threads\n",
            "2021-08-19 14:54:44,692 : INFO : EPOCH - 90 : training on 62 raw words (20 effective words) took 0.0s, 2284 effective words/s\n",
            "2021-08-19 14:54:44,699 : INFO : worker thread finished; awaiting finish of 0 more threads\n",
            "2021-08-19 14:54:44,702 : INFO : EPOCH - 91 : training on 62 raw words (20 effective words) took 0.0s, 4186 effective words/s\n",
            "2021-08-19 14:54:44,708 : INFO : worker thread finished; awaiting finish of 0 more threads\n",
            "2021-08-19 14:54:44,708 : INFO : EPOCH - 92 : training on 62 raw words (20 effective words) took 0.0s, 4881 effective words/s\n",
            "2021-08-19 14:54:44,714 : INFO : worker thread finished; awaiting finish of 0 more threads\n",
            "2021-08-19 14:54:44,717 : INFO : EPOCH - 93 : training on 62 raw words (19 effective words) took 0.0s, 4373 effective words/s\n",
            "2021-08-19 14:54:44,724 : INFO : worker thread finished; awaiting finish of 0 more threads\n",
            "2021-08-19 14:54:44,725 : INFO : EPOCH - 94 : training on 62 raw words (20 effective words) took 0.0s, 6256 effective words/s\n",
            "2021-08-19 14:54:44,731 : INFO : worker thread finished; awaiting finish of 0 more threads\n",
            "2021-08-19 14:54:44,732 : INFO : EPOCH - 95 : training on 62 raw words (20 effective words) took 0.0s, 9465 effective words/s\n",
            "2021-08-19 14:54:44,742 : INFO : worker thread finished; awaiting finish of 0 more threads\n",
            "2021-08-19 14:54:44,745 : INFO : EPOCH - 96 : training on 62 raw words (22 effective words) took 0.0s, 3731 effective words/s\n",
            "2021-08-19 14:54:44,753 : INFO : worker thread finished; awaiting finish of 0 more threads\n",
            "2021-08-19 14:54:44,754 : INFO : EPOCH - 97 : training on 62 raw words (19 effective words) took 0.0s, 3495 effective words/s\n",
            "2021-08-19 14:54:44,760 : INFO : worker thread finished; awaiting finish of 0 more threads\n",
            "2021-08-19 14:54:44,762 : INFO : EPOCH - 98 : training on 62 raw words (22 effective words) took 0.0s, 5723 effective words/s\n",
            "2021-08-19 14:54:44,771 : INFO : worker thread finished; awaiting finish of 0 more threads\n",
            "2021-08-19 14:54:44,772 : INFO : EPOCH - 99 : training on 62 raw words (20 effective words) took 0.0s, 5248 effective words/s\n",
            "2021-08-19 14:54:44,778 : INFO : worker thread finished; awaiting finish of 0 more threads\n",
            "2021-08-19 14:54:44,780 : INFO : EPOCH - 100 : training on 62 raw words (20 effective words) took 0.0s, 4210 effective words/s\n",
            "2021-08-19 14:54:44,784 : INFO : training on a 6200 raw words (2020 effective words) took 0.9s, 2238 effective words/s\n",
            "2021-08-19 14:54:44,786 : INFO : saving Doc2Vec object under Freelancers, separately None\n",
            "2021-08-19 14:54:44,794 : INFO : saved Freelancers\n"
          ],
          "name": "stderr"
        }
      ]
    },
    {
      "cell_type": "markdown",
      "metadata": {
        "id": "nztkKcDBnogL"
      },
      "source": [
        "### Classification using Naive Bayes Method"
      ]
    },
    {
      "cell_type": "code",
      "metadata": {
        "id": "C2ptASS8dUWT"
      },
      "source": [
        "import numpy as np\n",
        "import pandas as pd\n",
        "import os\n",
        "import matplotlib\n",
        "import matplotlib.pyplot as plt\n",
        "from sklearn.feature_extraction.text import CountVectorizer\n",
        "from sklearn.model_selection import train_test_split\n",
        "from sklearn.naive_bayes import MultinomialNB\n",
        "from sklearn.metrics import accuracy_score\n",
        "from sklearn.metrics import confusion_matrix\n",
        "from sklearn.feature_extraction.text import ENGLISH_STOP_WORDS as esw"
      ],
      "execution_count": 76,
      "outputs": []
    },
    {
      "cell_type": "code",
      "metadata": {
        "id": "ADdrE8LYfUPf"
      },
      "source": [
        "dir = r\"/content/freelancers-documents/Freelancers/Android Developer\"\n",
        "os.chdir(dir)\n",
        "Android_docu = []\n",
        "\n",
        "for file in os.listdir(dir):\n",
        "    with open(file, \"r\", encoding=\"utf-8\", errors='ignore') as input:\n",
        "        for string in input:\n",
        "            Android_docu.append(string)"
      ],
      "execution_count": 77,
      "outputs": []
    },
    {
      "cell_type": "code",
      "metadata": {
        "id": "v35aPPj4fUMT",
        "colab": {
          "base_uri": "https://localhost:8080/"
        },
        "outputId": "b11a7069-c86b-4c8c-ce8b-73d75edecb0e"
      },
      "source": [
        "len(Android_docu)"
      ],
      "execution_count": 78,
      "outputs": [
        {
          "output_type": "execute_result",
          "data": {
            "text/plain": [
              "72053"
            ]
          },
          "metadata": {},
          "execution_count": 78
        }
      ]
    },
    {
      "cell_type": "code",
      "metadata": {
        "id": "wgCa3Q3He-xh"
      },
      "source": [
        "dir = r\"/content/freelancers-documents/Freelancers/Content Writer\"\n",
        "os.chdir(dir)\n",
        "Content_docu = []\n",
        "\n",
        "for file in os.listdir(dir):\n",
        "    with open(file, \"r\", encoding=\"utf-8\", errors='ignore') as input:\n",
        "        for string in input:\n",
        "            Content_docu.append(string)"
      ],
      "execution_count": 79,
      "outputs": []
    },
    {
      "cell_type": "code",
      "metadata": {
        "id": "q3LSDq8ngZ5f",
        "colab": {
          "base_uri": "https://localhost:8080/"
        },
        "outputId": "58598a0a-9c6c-496b-de21-e4fbedb44b98"
      },
      "source": [
        "len(Content_docu)"
      ],
      "execution_count": 80,
      "outputs": [
        {
          "output_type": "execute_result",
          "data": {
            "text/plain": [
              "43166"
            ]
          },
          "metadata": {},
          "execution_count": 80
        }
      ]
    },
    {
      "cell_type": "code",
      "metadata": {
        "id": "I4ekHUO_gvt0"
      },
      "source": [
        "dir = r\"/content/freelancers-documents/Freelancers/Data Entry\"\n",
        "os.chdir(dir)\n",
        "DataEntry_docu = []\n",
        "\n",
        "for file in os.listdir(dir):\n",
        "    with open(file, \"r\", encoding=\"utf-8\", errors='ignore') as input:\n",
        "        for string in input:\n",
        "            DataEntry_docu.append(string)"
      ],
      "execution_count": 81,
      "outputs": []
    },
    {
      "cell_type": "code",
      "metadata": {
        "id": "MPcXwTqzhGvb",
        "colab": {
          "base_uri": "https://localhost:8080/"
        },
        "outputId": "6db05a25-a5a8-485d-db35-576613156be9"
      },
      "source": [
        "len(DataEntry_docu)"
      ],
      "execution_count": 82,
      "outputs": [
        {
          "output_type": "execute_result",
          "data": {
            "text/plain": [
              "16996"
            ]
          },
          "metadata": {},
          "execution_count": 82
        }
      ]
    },
    {
      "cell_type": "code",
      "metadata": {
        "id": "i9WFCgCKgvom"
      },
      "source": [
        "dir = r\"/content/freelancers-documents/Freelancers/Graphic Designers\"\n",
        "os.chdir(dir)\n",
        "Graphic_docu = []\n",
        "\n",
        "for file in os.listdir(dir):\n",
        "    with open(file, \"r\", encoding=\"utf-8\", errors='ignore') as input:\n",
        "        for string in input:\n",
        "            Graphic_docu.append(string)"
      ],
      "execution_count": 83,
      "outputs": []
    },
    {
      "cell_type": "code",
      "metadata": {
        "id": "AWtINBG8hHMH",
        "colab": {
          "base_uri": "https://localhost:8080/"
        },
        "outputId": "bb465de2-945f-449b-d118-f50cb429f8f0"
      },
      "source": [
        "len(Graphic_docu)"
      ],
      "execution_count": 84,
      "outputs": [
        {
          "output_type": "execute_result",
          "data": {
            "text/plain": [
              "193150"
            ]
          },
          "metadata": {},
          "execution_count": 84
        }
      ]
    },
    {
      "cell_type": "code",
      "metadata": {
        "id": "Fb3bI4jzgvkt"
      },
      "source": [
        "dir = r\"/content/freelancers-documents/Freelancers/Logo Designer\"\n",
        "os.chdir(dir)\n",
        "Logo_docu = []\n",
        "\n",
        "for file in os.listdir(dir):\n",
        "    with open(file, \"r\", encoding=\"utf-8\", errors='ignore') as input:\n",
        "        for string in input:\n",
        "            Logo_docu.append(string)"
      ],
      "execution_count": 85,
      "outputs": []
    },
    {
      "cell_type": "code",
      "metadata": {
        "id": "MoBde0PWhHrx",
        "colab": {
          "base_uri": "https://localhost:8080/"
        },
        "outputId": "c3674205-2465-4b5f-f048-b34163cc9f4f"
      },
      "source": [
        "len(Logo_docu)"
      ],
      "execution_count": 86,
      "outputs": [
        {
          "output_type": "execute_result",
          "data": {
            "text/plain": [
              "208921"
            ]
          },
          "metadata": {},
          "execution_count": 86
        }
      ]
    },
    {
      "cell_type": "code",
      "metadata": {
        "id": "u5iiEJrVgZz1"
      },
      "source": [
        "dir = r\"/content/freelancers-documents/Freelancers/Microsoft Excel\"\n",
        "os.chdir(dir)\n",
        "Excel_docu = []\n",
        "\n",
        "for file in os.listdir(dir):\n",
        "    with open(file, \"r\", encoding=\"utf-8\", errors='ignore') as input:\n",
        "        for string in input:\n",
        "            Excel_docu.append(string)"
      ],
      "execution_count": 87,
      "outputs": []
    },
    {
      "cell_type": "code",
      "metadata": {
        "id": "uTqDTO2xhIJ0",
        "colab": {
          "base_uri": "https://localhost:8080/"
        },
        "outputId": "6efbde46-35bc-4055-f368-66a1b42d4fd0"
      },
      "source": [
        "len(Excel_docu)"
      ],
      "execution_count": 88,
      "outputs": [
        {
          "output_type": "execute_result",
          "data": {
            "text/plain": [
              "12118"
            ]
          },
          "metadata": {},
          "execution_count": 88
        }
      ]
    },
    {
      "cell_type": "code",
      "metadata": {
        "id": "3KgOEm0fgZtq"
      },
      "source": [
        "dir = r\"/content/freelancers-documents/Freelancers/PHP Dev\"\n",
        "os.chdir(dir)\n",
        "PHP_docu = []\n",
        "\n",
        "for file in os.listdir(dir):\n",
        "    with open(file, \"r\", encoding=\"utf-8\", errors='ignore') as input:\n",
        "        for string in input:\n",
        "            PHP_docu.append(string)"
      ],
      "execution_count": 89,
      "outputs": []
    },
    {
      "cell_type": "code",
      "metadata": {
        "id": "7nExDqlThJFt",
        "colab": {
          "base_uri": "https://localhost:8080/"
        },
        "outputId": "d7e8554e-e58e-4aa9-bb87-c752bf29c83b"
      },
      "source": [
        "len(PHP_docu)"
      ],
      "execution_count": 90,
      "outputs": [
        {
          "output_type": "execute_result",
          "data": {
            "text/plain": [
              "73952"
            ]
          },
          "metadata": {},
          "execution_count": 90
        }
      ]
    },
    {
      "cell_type": "code",
      "metadata": {
        "id": "tXr3T4HbdUSu"
      },
      "source": [
        "dir = r\"/content/freelancers-documents/Freelancers/SEO\"\n",
        "os.chdir(dir)\n",
        "SEO_docu = []\n",
        "\n",
        "for file in os.listdir(dir):\n",
        "    with open(file, \"r\", encoding=\"utf-8\", errors='ignore') as input:\n",
        "        for string in input:\n",
        "            SEO_docu.append(string)"
      ],
      "execution_count": 91,
      "outputs": []
    },
    {
      "cell_type": "code",
      "metadata": {
        "id": "605RtZClhJjA",
        "colab": {
          "base_uri": "https://localhost:8080/"
        },
        "outputId": "6c01140b-6d42-4c12-8349-7db22bb322cf"
      },
      "source": [
        "len(SEO_docu)"
      ],
      "execution_count": 92,
      "outputs": [
        {
          "output_type": "execute_result",
          "data": {
            "text/plain": [
              "83272"
            ]
          },
          "metadata": {},
          "execution_count": 92
        }
      ]
    },
    {
      "cell_type": "code",
      "metadata": {
        "id": "Nm8kvBqndUPi"
      },
      "source": [
        "dir = r\"/content/freelancers-documents/Freelancers/WordPress\"\n",
        "os.chdir(dir)\n",
        "WordPress_docu = []\n",
        "\n",
        "for file in os.listdir(dir):\n",
        "    with open(file, \"r\", encoding=\"utf-8\", errors='ignore') as input:\n",
        "        for string in input:\n",
        "            WordPress_docu.append(string)"
      ],
      "execution_count": 93,
      "outputs": []
    },
    {
      "cell_type": "code",
      "metadata": {
        "id": "ZOGZ8S5qhKDO",
        "colab": {
          "base_uri": "https://localhost:8080/"
        },
        "outputId": "70dbe76c-a340-4ddf-9152-36acabf13e30"
      },
      "source": [
        "len(WordPress_docu)"
      ],
      "execution_count": 94,
      "outputs": [
        {
          "output_type": "execute_result",
          "data": {
            "text/plain": [
              "207929"
            ]
          },
          "metadata": {},
          "execution_count": 94
        }
      ]
    },
    {
      "cell_type": "code",
      "metadata": {
        "id": "37ydAcJ3hCDm"
      },
      "source": [
        "dir = r\"/content/freelancers-documents/Freelancers/ios Dev\"\n",
        "os.chdir(dir)\n",
        "ios_docu = []\n",
        "\n",
        "for file in os.listdir(dir):\n",
        "    with open(file, \"r\", encoding=\"utf-8\", errors='ignore') as input:\n",
        "        for string in input:\n",
        "            ios_docu.append(string)"
      ],
      "execution_count": 95,
      "outputs": []
    },
    {
      "cell_type": "code",
      "metadata": {
        "id": "rl2XzU40hKlf",
        "colab": {
          "base_uri": "https://localhost:8080/"
        },
        "outputId": "27995ab5-9844-4e0e-eb35-c2aacbe29f66"
      },
      "source": [
        "len(ios_docu)"
      ],
      "execution_count": 96,
      "outputs": [
        {
          "output_type": "execute_result",
          "data": {
            "text/plain": [
              "46737"
            ]
          },
          "metadata": {},
          "execution_count": 96
        }
      ]
    },
    {
      "cell_type": "markdown",
      "metadata": {
        "id": "ooMQ4WRbn1tF"
      },
      "source": [
        "#### Labelling"
      ]
    },
    {
      "cell_type": "code",
      "metadata": {
        "id": "h-l5rcM4iViX"
      },
      "source": [
        "corpus = Android_docu + Content_docu + DataEntry_docu + Graphic_docu + Logo_docu + Excel_docu + PHP_docu + SEO_docu + WordPress_docu + ios_docu\n",
        "label = 72053 * [\"AD\"] + 43166 * [\"CW\"] + 16996 * [\"DE\"] + 193150 * [\"GD\"] + 208921 * [\"LD\"] + 12118 * [\"ME\"] + 73952 * [\"PHP\"] + 83272 * [\"SEO\"] + 207929 * [\"WP\"] + 46737 * [\"ios\"] "
      ],
      "execution_count": 97,
      "outputs": []
    },
    {
      "cell_type": "markdown",
      "metadata": {
        "id": "mJedFkmkn5tM"
      },
      "source": [
        "## Spliting the dataset into training and test set"
      ]
    },
    {
      "cell_type": "code",
      "metadata": {
        "id": "m9CdcOx1iVeQ"
      },
      "source": [
        "corpus_train, corpus_test, label_train, label_test = train_test_split(corpus, label, test_size=0.2)"
      ],
      "execution_count": 98,
      "outputs": []
    },
    {
      "cell_type": "markdown",
      "metadata": {
        "id": "xAyOM05aoBfd"
      },
      "source": [
        "#### Building term matrices"
      ]
    },
    {
      "cell_type": "code",
      "metadata": {
        "id": "aZdo1EbqkMeU"
      },
      "source": [
        "vectorizer = CountVectorizer(tokenizer=str.split, stop_words=esw)\n",
        "corpus_train_mat = vectorizer.fit_transform(corpus_train)\n",
        "corpus_test_mat = vectorizer.transform(corpus_test)"
      ],
      "execution_count": 99,
      "outputs": []
    },
    {
      "cell_type": "markdown",
      "metadata": {
        "id": "eN8gpUnjoIQk"
      },
      "source": [
        "## Building Naive Bayes Classifier"
      ]
    },
    {
      "cell_type": "code",
      "metadata": {
        "id": "SYy04gwtkMVE"
      },
      "source": [
        "def fit_NBclassifier(trainset, trainlabel):\n",
        "    nbclassifier = MultinomialNB()\n",
        "    nbclassifier.fit(trainset, trainlabel)\n",
        "    return nbclassifier\n",
        "NB_clf = fit_NBclassifier(corpus_train_mat, label_train)\n",
        "label_predicted = NB_clf.predict(corpus_test_mat)"
      ],
      "execution_count": 104,
      "outputs": []
    },
    {
      "cell_type": "markdown",
      "metadata": {
        "id": "E0NXzH5nohh8"
      },
      "source": [
        "## Predicting a label of the documents in the test set using the trained classifier"
      ]
    },
    {
      "cell_type": "code",
      "metadata": {
        "id": "fjIjMaiwiVYE",
        "colab": {
          "base_uri": "https://localhost:8080/"
        },
        "outputId": "7c6f393d-465d-48e4-9681-ce2725274835"
      },
      "source": [
        "accuracy = accuracy_score(label_test, label_predicted) # accuracy rate of the classifier\n",
        "accuracy "
      ],
      "execution_count": 105,
      "outputs": [
        {
          "output_type": "execute_result",
          "data": {
            "text/plain": [
              "0.2706108244329773"
            ]
          },
          "metadata": {},
          "execution_count": 105
        }
      ]
    },
    {
      "cell_type": "markdown",
      "metadata": {
        "id": "NIrYjjPqo0Xw"
      },
      "source": [
        "### Visualizing a heat map of confusion matrix to evaluate the quality of the output of the classifier "
      ]
    },
    {
      "cell_type": "code",
      "metadata": {
        "id": "_qis_quZiVLk",
        "colab": {
          "base_uri": "https://localhost:8080/",
          "height": 295
        },
        "outputId": "8da1f258-868f-40da-908d-eea4556dda19"
      },
      "source": [
        "conf_mat = confusion_matrix(label_test, label_predicted)\n",
        "labels = sorted(set(label_predicted))\n",
        "\n",
        "plt.figure()\n",
        "plt.title(\"Heat Map Confusion Matrix\")\n",
        "plt.imshow(conf_mat, interpolation=\"nearest\", cmap=plt.cm.Reds)\n",
        "plt.xticks(np.arange(len(labels)), labels)\n",
        "plt.yticks(np.arange(len(labels)), labels)\n",
        "plt.xlabel(\"Predicted Label\")\n",
        "plt.ylabel(\"True Label\")\n",
        "plt.colorbar()\n",
        "plt.show()"
      ],
      "execution_count": 106,
      "outputs": [
        {
          "output_type": "display_data",
          "data": {
            "image/png": "[encoded data removed]",
            "text/plain": [
              "<Figure size 432x288 with 2 Axes>"
            ]
          },
          "metadata": {
            "needs_background": "light"
          }
        }
      ]
    }
  ]
}